{
 "cells": [
  {
   "cell_type": "code",
   "execution_count": null,
   "id": "ea558a96-6e2c-452e-ba61-13fdf2642a34",
   "metadata": {},
   "outputs": [],
   "source": [
    "import os\n",
    "import random\n",
    "import pandas as pd\n",
    "import numpy as np\n",
    "import matplotlib.pyplot as plt\n",
    "plt.style.use(\"ggplot\")\n",
    "from tqdm import tqdm_notebook, tnrange\n",
    "from itertools import chain\n",
    "from skimage.io import imread, imshow, concatenate_images\n",
    "from skimage.transform import resize\n",
    "from skimage.morphology import label\n",
    "from sklearn.model_selection import train_test_split\n",
    "import tensorflow as tf\n",
    "from tensorflow.keras.models import Model, load_model\n",
    "from tensorflow.keras.layers import Input, BatchNormalization, Activation, Dense, Dropout\n",
    "from tensorflow.keras.layers import Lambda, RepeatVector, Reshape\n",
    "from tensorflow.keras.layers import Conv2D, Conv2DTranspose\n",
    "from tensorflow.keras.layers import MaxPooling2D, GlobalMaxPool2D\n",
    "from tensorflow.keras.layers import concatenate, add\n",
    "from tensorflow.keras.callbacks import EarlyStopping, ModelCheckpoint, ReduceLROnPlateau\n",
    "from tensorflow.keras.optimizers import Adam\n",
    "from tensorflow.keras.losses import binary_crossentropy\n",
    "from tensorflow.keras.preprocessing.image import ImageDataGenerator, array_to_img, img_to_array, load_img\n",
    "from tensorflow.keras import backend as K \n",
    "import h5py"
   ]
  },
  {
   "cell_type": "code",
   "execution_count": null,
   "id": "88f6be14-625b-45e8-99cc-0b39364169a7",
   "metadata": {},
   "outputs": [],
   "source": [
    "\n",
    "preds_test1 = model.predict(y, verbose=1)\n",
    "preds_test_t1 = (preds_test1 > 0.1).astype(np.uint8)\n",
    "\n",
    "#model.load_weights('weight-TV-UNet.h5')\n",
    "preds_test2 = model.predict(y, verbose=1)\n",
    "preds_test_t2 = (preds_test2 > 0.3).astype(np.uint8)\n",
    "\n",
    "no_pred = 5\n",
    "rand_indx = np.random.randint(1, y.shape[0], no_pred)\n",
    "print(rand_indx)\n",
    "\n",
    "def plot_sample(X, y, binary_preds1, binary_preds2):\n",
    "    fig, axs = plt.subplots(5, 4, figsize=(50, 50),sharex='all')\n",
    "    i = 0\n",
    "\n",
    "    for ix in rand_indx:\n",
    "      l = 1\n",
    "\n",
    "      axs[i,0].imshow(X[ix, ..., 0], cmap='gray')\n",
    "      axs[0,0].set_title('Original CT Images',fontweight=\"bold\", size=40)\n",
    "\n",
    "      axs[i,1].imshow(y[ix,:,:,l].squeeze(),cmap='gray')\n",
    "      axs[0,1].set_title('Ground-Truth Mask',fontweight=\"bold\", size=40)\n",
    "\n",
    "      axs[i,2].imshow(binary_preds1[ix,:,:,l].squeeze(),cmap='gray', vmin=0, vmax=1)\n",
    "      axs[0,2].set_title('Predicted Mask \\n with BCE loss',fontweight=\"bold\", size=40)\n",
    "      \n",
    "      axs[i,3].imshow(binary_preds2[ix,:,:,l].squeeze(),cmap='gray', vmin=0, vmax=1)\n",
    "      axs[0,3].set_title('Predicted Masks \\n with BCE+TV Loss',fontweight=\"bold\", size=40);\n",
    "      \n",
    "      i += 1\n",
    "      \n",
    "      plt.rcParams[\"axes.grid\"] = False\n",
    "      plt.subplots_adjust(wspace=-0.5, hspace=0.1)\n",
    "    plt.savefig(\"true_pred_dataset2.png\")\n",
    "\n",
    "plot_sample(y, label_test, preds_test_t1, preds_test_t2)"
   ]
  },
  {
   "cell_type": "code",
   "execution_count": null,
   "id": "2a323419-5549-4098-8dd4-a19660840c34",
   "metadata": {},
   "outputs": [],
   "source": []
  }
 ],
 "metadata": {
  "kernelspec": {
   "display_name": "Python 3 (ipykernel)",
   "language": "python",
   "name": "python3"
  },
  "language_info": {
   "codemirror_mode": {
    "name": "ipython",
    "version": 3
   },
   "file_extension": ".py",
   "mimetype": "text/x-python",
   "name": "python",
   "nbconvert_exporter": "python",
   "pygments_lexer": "ipython3",
   "version": "3.9.6"
  }
 },
 "nbformat": 4,
 "nbformat_minor": 5
}
