{
 "cells": [
  {
   "cell_type": "code",
   "execution_count": 1,
   "id": "db343ccc-465d-4ad1-a46a-8bc4313e5e1b",
   "metadata": {},
   "outputs": [],
   "source": [
    "import os\n",
    "import sys\n",
    "import  time\n",
    "import random\n",
    "import numpy as np\n",
    "from tqdm import tqdm\n",
    "from PIL import Image\n",
    "import tensorflow as tf\n",
    "from skimage.io import imread\n",
    "from keras import backend as K\n",
    "import matplotlib.pyplot as plt\n",
    "plt.style.use(\"ggplot\")\n",
    "from skimage.transform import resize\n",
    "from sklearn.model_selection import train_test_split\n",
    "from tensorflow.keras.layers import Input\n",
    "from tensorflow.keras.callbacks import EarlyStopping, ModelCheckpoint, ReduceLROnPlateau\n",
    "from tensorflow.keras.optimizers import Adam\n",
    "from tensorflow.keras.losses import binary_crossentropy\n",
    "from tensorflow.keras.preprocessing.image import  img_to_array\n",
    "from tensorflow.keras.models import Model\n",
    "from tensorflow.keras.layers import  BatchNormalization, Activation, Dropout\n",
    "from tensorflow.keras.layers import Conv2D, Conv2DTranspose\n",
    "from tensorflow.keras.layers import MaxPooling2D\n",
    "from tensorflow.keras.layers import concatenate\n",
    "from TV_UNET import get_unet, TV_bin_loss\n",
    "from tensorflow.keras.metrics import Recall, Precision"
   ]
  },
  {
   "cell_type": "code",
   "execution_count": 2,
   "id": "0583192d-864c-414d-b1bc-9a68f0d4f8a6",
   "metadata": {},
   "outputs": [
    {
     "name": "stdout",
     "output_type": "stream",
     "text": [
      "/data/jwd/main/040/914/40914875/working/jupyter/covid_ct_segmentation/COVID-CT-Segmentation/Dataset2/\n",
      "No. of Images =  1405\n"
     ]
    },
    {
     "name": "stderr",
     "output_type": "stream",
     "text": [
      "  0%|          | 0/1405 [00:00<?, ?it/s]"
     ]
    },
    {
     "name": "stdout",
     "output_type": "stream",
     "text": [
      "/data/jwd/main/040/914/40914875/working/jupyter/covid_ct_segmentation/COVID-CT-Segmentation/Dataset2/LungInfection-train/Pseudo-label/GT/Data-1_coronacases_org_009_14\n",
      "/data/jwd/main/040/914/40914875/working/jupyter/covid_ct_segmentation/COVID-CT-Segmentation/Dataset2/LungInfection-train/Pseudo-label/GT/Data-1_coronacases_org_009_10\n"
     ]
    },
    {
     "name": "stderr",
     "output_type": "stream",
     "text": [
      "  0%|          | 5/1405 [00:00<01:59, 11.73it/s]"
     ]
    },
    {
     "name": "stdout",
     "output_type": "stream",
     "text": [
      "/data/jwd/main/040/914/40914875/working/jupyter/covid_ct_segmentation/COVID-CT-Segmentation/Dataset2/LungInfection-train/Pseudo-label/GT/Data-1_coronacases_org_003_39\n",
      "/data/jwd/main/040/914/40914875/working/jupyter/covid_ct_segmentation/COVID-CT-Segmentation/Dataset2/LungInfection-train/Pseudo-label/GT/Data-1_coronacases_org_008_105\n",
      "/data/jwd/main/040/914/40914875/working/jupyter/covid_ct_segmentation/COVID-CT-Segmentation/Dataset2/LungInfection-train/Pseudo-label/GT/Data-1_coronacases_org_007_78\n",
      "/data/jwd/main/040/914/40914875/working/jupyter/covid_ct_segmentation/COVID-CT-Segmentation/Dataset2/LungInfection-train/Pseudo-label/GT/Data-1_coronacases_org_006_62\n",
      "/data/jwd/main/040/914/40914875/working/jupyter/covid_ct_segmentation/COVID-CT-Segmentation/Dataset2/LungInfection-train/Pseudo-label/GT/Data-1_coronacases_org_002_8\n"
     ]
    },
    {
     "name": "stderr",
     "output_type": "stream",
     "text": [
      "  1%|          | 10/1405 [00:00<01:22, 16.99it/s]"
     ]
    },
    {
     "name": "stdout",
     "output_type": "stream",
     "text": [
      "/data/jwd/main/040/914/40914875/working/jupyter/covid_ct_segmentation/COVID-CT-Segmentation/Dataset2/LungInfection-train/Pseudo-label/GT/Data-1_coronacases_org_007_103\n",
      "/data/jwd/main/040/914/40914875/working/jupyter/covid_ct_segmentation/COVID-CT-Segmentation/Dataset2/LungInfection-train/Pseudo-label/GT/Data-1_coronacases_org_002_41\n",
      "/data/jwd/main/040/914/40914875/working/jupyter/covid_ct_segmentation/COVID-CT-Segmentation/Dataset2/LungInfection-train/Pseudo-label/GT/Data-1_radiopaedia_org_covid-19-pneumonia-14_85914_0-dcm_28\n",
      "/data/jwd/main/040/914/40914875/working/jupyter/covid_ct_segmentation/COVID-CT-Segmentation/Dataset2/LungInfection-train/Pseudo-label/GT/Data-1_coronacases_org_002_14\n",
      "/data/jwd/main/040/914/40914875/working/jupyter/covid_ct_segmentation/COVID-CT-Segmentation/Dataset2/LungInfection-train/Pseudo-label/GT/Data-1_coronacases_org_010_83\n"
     ]
    },
    {
     "name": "stderr",
     "output_type": "stream",
     "text": [
      "  1%|          | 16/1405 [00:01<01:24, 16.42it/s]"
     ]
    },
    {
     "name": "stdout",
     "output_type": "stream",
     "text": [
      "/data/jwd/main/040/914/40914875/working/jupyter/covid_ct_segmentation/COVID-CT-Segmentation/Dataset2/LungInfection-train/Pseudo-label/GT/Data-1_radiopaedia_org_covid-19-pneumonia-10_85902_3-dcm_175\n",
      "/data/jwd/main/040/914/40914875/working/jupyter/covid_ct_segmentation/COVID-CT-Segmentation/Dataset2/LungInfection-train/Pseudo-label/GT/Data-1_coronacases_org_005_25\n",
      "/data/jwd/main/040/914/40914875/working/jupyter/covid_ct_segmentation/COVID-CT-Segmentation/Dataset2/LungInfection-train/Pseudo-label/GT/Data-1_coronacases_org_007_6\n",
      "/data/jwd/main/040/914/40914875/working/jupyter/covid_ct_segmentation/COVID-CT-Segmentation/Dataset2/LungInfection-train/Pseudo-label/GT/Data-1_coronacases_org_005_79\n"
     ]
    },
    {
     "name": "stderr",
     "output_type": "stream",
     "text": [
      "  1%|▏         | 20/1405 [00:01<01:18, 17.56it/s]"
     ]
    },
    {
     "name": "stdout",
     "output_type": "stream",
     "text": [
      "/data/jwd/main/040/914/40914875/working/jupyter/covid_ct_segmentation/COVID-CT-Segmentation/Dataset2/LungInfection-train/Pseudo-label/GT/Data-1_coronacases_org_001_59\n",
      "/data/jwd/main/040/914/40914875/working/jupyter/covid_ct_segmentation/COVID-CT-Segmentation/Dataset2/LungInfection-train/Pseudo-label/GT/Data-1_coronacases_org_009_99\n",
      "/data/jwd/main/040/914/40914875/working/jupyter/covid_ct_segmentation/COVID-CT-Segmentation/Dataset2/LungInfection-train/Pseudo-label/GT/Data-1_coronacases_org_002_27\n",
      "/data/jwd/main/040/914/40914875/working/jupyter/covid_ct_segmentation/COVID-CT-Segmentation/Dataset2/LungInfection-train/Pseudo-label/GT/Data-1_coronacases_org_008_18\n"
     ]
    },
    {
     "name": "stderr",
     "output_type": "stream",
     "text": [
      "  2%|▏         | 23/1405 [00:01<01:08, 20.17it/s]"
     ]
    },
    {
     "name": "stdout",
     "output_type": "stream",
     "text": [
      "/data/jwd/main/040/914/40914875/working/jupyter/covid_ct_segmentation/COVID-CT-Segmentation/Dataset2/LungInfection-train/Pseudo-label/GT/Data-1_coronacases_org_008_139\n",
      "/data/jwd/main/040/914/40914875/working/jupyter/covid_ct_segmentation/COVID-CT-Segmentation/Dataset2/LungInfection-train/Pseudo-label/GT/Data-1_coronacases_org_007_10\n",
      "/data/jwd/main/040/914/40914875/working/jupyter/covid_ct_segmentation/COVID-CT-Segmentation/Dataset2/LungInfection-train/Pseudo-label/GT/Data-1_coronacases_org_003_63\n",
      "/data/jwd/main/040/914/40914875/working/jupyter/covid_ct_segmentation/COVID-CT-Segmentation/Dataset2/LungInfection-train/Pseudo-label/GT/Data-1_coronacases_org_003_2\n",
      "/data/jwd/main/040/914/40914875/working/jupyter/covid_ct_segmentation/COVID-CT-Segmentation/Dataset2/LungInfection-train/Pseudo-label/GT/Data-1_coronacases_org_010_79\n"
     ]
    },
    {
     "name": "stderr",
     "output_type": "stream",
     "text": [
      "  2%|▏         | 28/1405 [00:01<01:15, 18.30it/s]"
     ]
    },
    {
     "name": "stdout",
     "output_type": "stream",
     "text": [
      "/data/jwd/main/040/914/40914875/working/jupyter/covid_ct_segmentation/COVID-CT-Segmentation/Dataset2/LungInfection-train/Pseudo-label/GT/Data-1_coronacases_org_001_10\n",
      "/data/jwd/main/040/914/40914875/working/jupyter/covid_ct_segmentation/COVID-CT-Segmentation/Dataset2/LungInfection-train/Pseudo-label/GT/Data-1_coronacases_org_002_22\n",
      "/data/jwd/main/040/914/40914875/working/jupyter/covid_ct_segmentation/COVID-CT-Segmentation/Dataset2/LungInfection-train/Pseudo-label/GT/Data-1_coronacases_org_006_3\n",
      "/data/jwd/main/040/914/40914875/working/jupyter/covid_ct_segmentation/COVID-CT-Segmentation/Dataset2/LungInfection-train/Pseudo-label/GT/Data-1_coronacases_org_007_73\n"
     ]
    },
    {
     "name": "stderr",
     "output_type": "stream",
     "text": [
      "  2%|▏         | 32/1405 [00:01<01:00, 22.66it/s]"
     ]
    },
    {
     "name": "stdout",
     "output_type": "stream",
     "text": [
      "/data/jwd/main/040/914/40914875/working/jupyter/covid_ct_segmentation/COVID-CT-Segmentation/Dataset2/LungInfection-train/Pseudo-label/GT/Data-1_radiopaedia_org_covid-19-pneumonia-40_86625_0-dcm_13\n",
      "/data/jwd/main/040/914/40914875/working/jupyter/covid_ct_segmentation/COVID-CT-Segmentation/Dataset2/LungInfection-train/Pseudo-label/GT/Data-1_coronacases_org_009_52\n",
      "/data/jwd/main/040/914/40914875/working/jupyter/covid_ct_segmentation/COVID-CT-Segmentation/Dataset2/LungInfection-train/Pseudo-label/GT/Data-1_radiopaedia_org_covid-19-pneumonia-10_85902_1-dcm_19\n",
      "/data/jwd/main/040/914/40914875/working/jupyter/covid_ct_segmentation/COVID-CT-Segmentation/Dataset2/LungInfection-train/Pseudo-label/GT/Data-1_coronacases_org_009_41\n",
      "/data/jwd/main/040/914/40914875/working/jupyter/covid_ct_segmentation/COVID-CT-Segmentation/Dataset2/LungInfection-train/Pseudo-label/GT/Data-1_coronacases_org_002_71\n"
     ]
    },
    {
     "name": "stderr",
     "output_type": "stream",
     "text": [
      "  2%|▏         | 35/1405 [00:01<01:07, 20.44it/s]"
     ]
    },
    {
     "name": "stdout",
     "output_type": "stream",
     "text": [
      "/data/jwd/main/040/914/40914875/working/jupyter/covid_ct_segmentation/COVID-CT-Segmentation/Dataset2/LungInfection-train/Pseudo-label/GT/Data-1_radiopaedia_org_covid-19-pneumonia-27_86410_0-dcm_18\n",
      "/data/jwd/main/040/914/40914875/working/jupyter/covid_ct_segmentation/COVID-CT-Segmentation/Dataset2/LungInfection-train/Pseudo-label/GT/Data-1_coronacases_org_008_76\n",
      "/data/jwd/main/040/914/40914875/working/jupyter/covid_ct_segmentation/COVID-CT-Segmentation/Dataset2/LungInfection-train/Pseudo-label/GT/Data-1_radiopaedia_org_covid-19-pneumonia-10_85902_1-dcm_9\n"
     ]
    },
    {
     "name": "stderr",
     "output_type": "stream",
     "text": [
      "  3%|▎         | 40/1405 [00:02<01:25, 16.02it/s]"
     ]
    },
    {
     "name": "stdout",
     "output_type": "stream",
     "text": [
      "/data/jwd/main/040/914/40914875/working/jupyter/covid_ct_segmentation/COVID-CT-Segmentation/Dataset2/LungInfection-train/Pseudo-label/GT/Data-1_coronacases_org_008_41\n",
      "/data/jwd/main/040/914/40914875/working/jupyter/covid_ct_segmentation/COVID-CT-Segmentation/Dataset2/LungInfection-train/Pseudo-label/GT/Data-1_radiopaedia_org_covid-19-pneumonia-10_85902_3-dcm_53\n",
      "/data/jwd/main/040/914/40914875/working/jupyter/covid_ct_segmentation/COVID-CT-Segmentation/Dataset2/LungInfection-train/Pseudo-label/GT/Data-1_coronacases_org_005_123\n",
      "/data/jwd/main/040/914/40914875/working/jupyter/covid_ct_segmentation/COVID-CT-Segmentation/Dataset2/LungInfection-train/Pseudo-label/GT/Data-1_coronacases_org_008_104\n"
     ]
    },
    {
     "name": "stderr",
     "output_type": "stream",
     "text": [
      "  3%|▎         | 44/1405 [00:02<01:19, 17.21it/s]"
     ]
    },
    {
     "name": "stdout",
     "output_type": "stream",
     "text": [
      "/data/jwd/main/040/914/40914875/working/jupyter/covid_ct_segmentation/COVID-CT-Segmentation/Dataset2/LungInfection-train/Pseudo-label/GT/Data-1_coronacases_org_007_83\n",
      "/data/jwd/main/040/914/40914875/working/jupyter/covid_ct_segmentation/COVID-CT-Segmentation/Dataset2/LungInfection-train/Pseudo-label/GT/Data-1_coronacases_org_004_74\n",
      "/data/jwd/main/040/914/40914875/working/jupyter/covid_ct_segmentation/COVID-CT-Segmentation/Dataset2/LungInfection-train/Pseudo-label/GT/Data-1_coronacases_org_004_54\n",
      "/data/jwd/main/040/914/40914875/working/jupyter/covid_ct_segmentation/COVID-CT-Segmentation/Dataset2/LungInfection-train/Pseudo-label/GT/Data-1_coronacases_org_004_66\n"
     ]
    },
    {
     "name": "stderr",
     "output_type": "stream",
     "text": [
      "  3%|▎         | 48/1405 [00:02<01:17, 17.60it/s]"
     ]
    },
    {
     "name": "stdout",
     "output_type": "stream",
     "text": [
      "/data/jwd/main/040/914/40914875/working/jupyter/covid_ct_segmentation/COVID-CT-Segmentation/Dataset2/LungInfection-train/Pseudo-label/GT/Data-1_coronacases_org_008_16\n",
      "/data/jwd/main/040/914/40914875/working/jupyter/covid_ct_segmentation/COVID-CT-Segmentation/Dataset2/LungInfection-train/Pseudo-label/GT/Data-1_coronacases_org_003_14\n",
      "/data/jwd/main/040/914/40914875/working/jupyter/covid_ct_segmentation/COVID-CT-Segmentation/Dataset2/LungInfection-train/Pseudo-label/GT/Data-1_radiopaedia_org_covid-19-pneumonia-10_85902_3-dcm_108\n",
      "/data/jwd/main/040/914/40914875/working/jupyter/covid_ct_segmentation/COVID-CT-Segmentation/Dataset2/LungInfection-train/Pseudo-label/GT/Data-1_coronacases_org_005_149\n"
     ]
    },
    {
     "name": "stderr",
     "output_type": "stream",
     "text": [
      "  4%|▍         | 53/1405 [00:03<01:16, 17.78it/s]"
     ]
    },
    {
     "name": "stdout",
     "output_type": "stream",
     "text": [
      "/data/jwd/main/040/914/40914875/working/jupyter/covid_ct_segmentation/COVID-CT-Segmentation/Dataset2/LungInfection-train/Pseudo-label/GT/Data-1_coronacases_org_008_47\n",
      "/data/jwd/main/040/914/40914875/working/jupyter/covid_ct_segmentation/COVID-CT-Segmentation/Dataset2/LungInfection-train/Pseudo-label/GT/Data-1_radiopaedia_org_covid-19-pneumonia-10_85902_3-dcm_95\n",
      "/data/jwd/main/040/914/40914875/working/jupyter/covid_ct_segmentation/COVID-CT-Segmentation/Dataset2/LungInfection-train/Pseudo-label/GT/Data-1_coronacases_org_007_5\n",
      "/data/jwd/main/040/914/40914875/working/jupyter/covid_ct_segmentation/COVID-CT-Segmentation/Dataset2/LungInfection-train/Pseudo-label/GT/Data-1_coronacases_org_007_100\n",
      "/data/jwd/main/040/914/40914875/working/jupyter/covid_ct_segmentation/COVID-CT-Segmentation/Dataset2/LungInfection-train/Pseudo-label/GT/Data-1_coronacases_org_006_49\n",
      "/data/jwd/main/040/914/40914875/working/jupyter/covid_ct_segmentation/COVID-CT-Segmentation/Dataset2/LungInfection-train/Pseudo-label/GT/Data-1_coronacases_org_001_25\n"
     ]
    },
    {
     "name": "stderr",
     "output_type": "stream",
     "text": [
      "  4%|▍         | 59/1405 [00:03<01:12, 18.49it/s]"
     ]
    },
    {
     "name": "stdout",
     "output_type": "stream",
     "text": [
      "/data/jwd/main/040/914/40914875/working/jupyter/covid_ct_segmentation/COVID-CT-Segmentation/Dataset2/LungInfection-train/Pseudo-label/GT/Data-1_radiopaedia_org_covid-19-pneumonia-10_85902_3-dcm_40\n",
      "/data/jwd/main/040/914/40914875/working/jupyter/covid_ct_segmentation/COVID-CT-Segmentation/Dataset2/LungInfection-train/Pseudo-label/GT/Data-1_radiopaedia_org_covid-19-pneumonia-4_85506_1-dcm_8\n",
      "/data/jwd/main/040/914/40914875/working/jupyter/covid_ct_segmentation/COVID-CT-Segmentation/Dataset2/LungInfection-train/Pseudo-label/GT/Data-1_radiopaedia_org_covid-19-pneumonia-10_85902_3-dcm_18\n",
      "/data/jwd/main/040/914/40914875/working/jupyter/covid_ct_segmentation/COVID-CT-Segmentation/Dataset2/LungInfection-train/Pseudo-label/GT/Data-1_radiopaedia_org_covid-19-pneumonia-10_85902_3-dcm_62\n"
     ]
    },
    {
     "name": "stderr",
     "output_type": "stream",
     "text": [
      "  4%|▍         | 62/1405 [00:03<01:04, 20.76it/s]"
     ]
    },
    {
     "name": "stdout",
     "output_type": "stream",
     "text": [
      "/data/jwd/main/040/914/40914875/working/jupyter/covid_ct_segmentation/COVID-CT-Segmentation/Dataset2/LungInfection-train/Pseudo-label/GT/Data-1_coronacases_org_005_30\n",
      "/data/jwd/main/040/914/40914875/working/jupyter/covid_ct_segmentation/COVID-CT-Segmentation/Dataset2/LungInfection-train/Pseudo-label/GT/Data-1_coronacases_org_005_133\n",
      "/data/jwd/main/040/914/40914875/working/jupyter/covid_ct_segmentation/COVID-CT-Segmentation/Dataset2/LungInfection-train/Pseudo-label/GT/Data-1_coronacases_org_002_34\n",
      "/data/jwd/main/040/914/40914875/working/jupyter/covid_ct_segmentation/COVID-CT-Segmentation/Dataset2/LungInfection-train/Pseudo-label/GT/Data-1_coronacases_org_005_52\n",
      "/data/jwd/main/040/914/40914875/working/jupyter/covid_ct_segmentation/COVID-CT-Segmentation/Dataset2/LungInfection-train/Pseudo-label/GT/Data-1_coronacases_org_009_44\n"
     ]
    },
    {
     "name": "stderr",
     "output_type": "stream",
     "text": [
      "  5%|▍         | 68/1405 [00:03<01:04, 20.60it/s]"
     ]
    },
    {
     "name": "stdout",
     "output_type": "stream",
     "text": [
      "/data/jwd/main/040/914/40914875/working/jupyter/covid_ct_segmentation/COVID-CT-Segmentation/Dataset2/LungInfection-train/Pseudo-label/GT/Data-1_radiopaedia_org_covid-19-pneumonia-10_85902_3-dcm_206\n",
      "/data/jwd/main/040/914/40914875/working/jupyter/covid_ct_segmentation/COVID-CT-Segmentation/Dataset2/LungInfection-train/Pseudo-label/GT/Data-1_radiopaedia_org_covid-19-pneumonia-10_85902_3-dcm_148\n",
      "/data/jwd/main/040/914/40914875/working/jupyter/covid_ct_segmentation/COVID-CT-Segmentation/Dataset2/LungInfection-train/Pseudo-label/GT/Data-1_coronacases_org_003_54\n",
      "/data/jwd/main/040/914/40914875/working/jupyter/covid_ct_segmentation/COVID-CT-Segmentation/Dataset2/LungInfection-train/Pseudo-label/GT/Data-1_coronacases_org_008_40\n"
     ]
    },
    {
     "name": "stderr",
     "output_type": "stream",
     "text": [
      "  5%|▌         | 71/1405 [00:03<01:01, 21.81it/s]"
     ]
    },
    {
     "name": "stdout",
     "output_type": "stream",
     "text": [
      "/data/jwd/main/040/914/40914875/working/jupyter/covid_ct_segmentation/COVID-CT-Segmentation/Dataset2/LungInfection-train/Pseudo-label/GT/Data-1_coronacases_org_009_92\n",
      "/data/jwd/main/040/914/40914875/working/jupyter/covid_ct_segmentation/COVID-CT-Segmentation/Dataset2/LungInfection-train/Pseudo-label/GT/Data-1_coronacases_org_009_112\n",
      "/data/jwd/main/040/914/40914875/working/jupyter/covid_ct_segmentation/COVID-CT-Segmentation/Dataset2/LungInfection-train/Pseudo-label/GT/Data-1_coronacases_org_001_88\n",
      "/data/jwd/main/040/914/40914875/working/jupyter/covid_ct_segmentation/COVID-CT-Segmentation/Dataset2/LungInfection-train/Pseudo-label/GT/Data-1_coronacases_org_006_45\n",
      "/data/jwd/main/040/914/40914875/working/jupyter/covid_ct_segmentation/COVID-CT-Segmentation/Dataset2/LungInfection-train/Pseudo-label/GT/Data-1_radiopaedia_org_covid-19-pneumonia-14_85914_0-dcm_64\n",
      "/data/jwd/main/040/914/40914875/working/jupyter/covid_ct_segmentation/COVID-CT-Segmentation/Dataset2/LungInfection-train/Pseudo-label/GT/Data-1_coronacases_org_003_55\n"
     ]
    },
    {
     "name": "stderr",
     "output_type": "stream",
     "text": [
      "  6%|▌         | 78/1405 [00:04<01:06, 20.00it/s]"
     ]
    },
    {
     "name": "stdout",
     "output_type": "stream",
     "text": [
      "/data/jwd/main/040/914/40914875/working/jupyter/covid_ct_segmentation/COVID-CT-Segmentation/Dataset2/LungInfection-train/Pseudo-label/GT/Data-1_radiopaedia_org_covid-19-pneumonia-10_85902_3-dcm_87\n",
      "/data/jwd/main/040/914/40914875/working/jupyter/covid_ct_segmentation/COVID-CT-Segmentation/Dataset2/LungInfection-train/Pseudo-label/GT/Data-1_coronacases_org_010_61\n",
      "/data/jwd/main/040/914/40914875/working/jupyter/covid_ct_segmentation/COVID-CT-Segmentation/Dataset2/LungInfection-train/Pseudo-label/GT/Data-1_radiopaedia_org_covid-19-pneumonia-7_85703_0-dcm_19\n",
      "/data/jwd/main/040/914/40914875/working/jupyter/covid_ct_segmentation/COVID-CT-Segmentation/Dataset2/LungInfection-train/Pseudo-label/GT/Data-1_coronacases_org_003_31\n"
     ]
    },
    {
     "name": "stderr",
     "output_type": "stream",
     "text": [
      "  6%|▌         | 82/1405 [00:04<00:57, 23.19it/s]"
     ]
    },
    {
     "name": "stdout",
     "output_type": "stream",
     "text": [
      "/data/jwd/main/040/914/40914875/working/jupyter/covid_ct_segmentation/COVID-CT-Segmentation/Dataset2/LungInfection-train/Pseudo-label/GT/Data-1_radiopaedia_org_covid-19-pneumonia-29_86490_1-dcm_17\n",
      "/data/jwd/main/040/914/40914875/working/jupyter/covid_ct_segmentation/COVID-CT-Segmentation/Dataset2/LungInfection-train/Pseudo-label/GT/Data-1_coronacases_org_010_72\n",
      "/data/jwd/main/040/914/40914875/working/jupyter/covid_ct_segmentation/COVID-CT-Segmentation/Dataset2/LungInfection-train/Pseudo-label/GT/Data-1_coronacases_org_008_96\n",
      "/data/jwd/main/040/914/40914875/working/jupyter/covid_ct_segmentation/COVID-CT-Segmentation/Dataset2/LungInfection-train/Pseudo-label/GT/Data-1_radiopaedia_org_covid-19-pneumonia-10_85902_3-dcm_116\n",
      "/data/jwd/main/040/914/40914875/working/jupyter/covid_ct_segmentation/COVID-CT-Segmentation/Dataset2/LungInfection-train/Pseudo-label/GT/Data-1_radiopaedia_org_covid-19-pneumonia-14_85914_0-dcm_20\n",
      "/data/jwd/main/040/914/40914875/working/jupyter/covid_ct_segmentation/COVID-CT-Segmentation/Dataset2/LungInfection-train/Pseudo-label/GT/Data-1_coronacases_org_005_138\n"
     ]
    },
    {
     "name": "stderr",
     "output_type": "stream",
     "text": [
      "  6%|▋         | 88/1405 [00:04<00:51, 25.71it/s]"
     ]
    },
    {
     "name": "stdout",
     "output_type": "stream",
     "text": [
      "/data/jwd/main/040/914/40914875/working/jupyter/covid_ct_segmentation/COVID-CT-Segmentation/Dataset2/LungInfection-train/Pseudo-label/GT/Data-1_radiopaedia_org_covid-19-pneumonia-10_85902_3-dcm_21\n",
      "/data/jwd/main/040/914/40914875/working/jupyter/covid_ct_segmentation/COVID-CT-Segmentation/Dataset2/LungInfection-train/Pseudo-label/GT/Data-1_radiopaedia_org_covid-19-pneumonia-40_86625_0-dcm_26\n",
      "/data/jwd/main/040/914/40914875/working/jupyter/covid_ct_segmentation/COVID-CT-Segmentation/Dataset2/LungInfection-train/Pseudo-label/GT/Data-1_radiopaedia_org_covid-19-pneumonia-29_86490_1-dcm_3\n",
      "/data/jwd/main/040/914/40914875/working/jupyter/covid_ct_segmentation/COVID-CT-Segmentation/Dataset2/LungInfection-train/Pseudo-label/GT/Data-1_radiopaedia_org_covid-19-pneumonia-27_86410_0-dcm_13\n",
      "/data/jwd/main/040/914/40914875/working/jupyter/covid_ct_segmentation/COVID-CT-Segmentation/Dataset2/LungInfection-train/Pseudo-label/GT/Data-1_coronacases_org_008_93\n",
      "/data/jwd/main/040/914/40914875/working/jupyter/covid_ct_segmentation/COVID-CT-Segmentation/Dataset2/LungInfection-train/Pseudo-label/GT/Data-1_coronacases_org_008_125\n",
      "/data/jwd/main/040/914/40914875/working/jupyter/covid_ct_segmentation/COVID-CT-Segmentation/Dataset2/LungInfection-train/Pseudo-label/GT/Data-1_coronacases_org_008_82\n"
     ]
    },
    {
     "name": "stderr",
     "output_type": "stream",
     "text": [
      "  7%|▋         | 92/1405 [00:04<00:44, 29.20it/s]"
     ]
    },
    {
     "name": "stdout",
     "output_type": "stream",
     "text": [
      "/data/jwd/main/040/914/40914875/working/jupyter/covid_ct_segmentation/COVID-CT-Segmentation/Dataset2/LungInfection-train/Pseudo-label/GT/Data-1_coronacases_org_010_96\n",
      "/data/jwd/main/040/914/40914875/working/jupyter/covid_ct_segmentation/COVID-CT-Segmentation/Dataset2/LungInfection-train/Pseudo-label/GT/Data-1_coronacases_org_006_74\n",
      "/data/jwd/main/040/914/40914875/working/jupyter/covid_ct_segmentation/COVID-CT-Segmentation/Dataset2/LungInfection-train/Pseudo-label/GT/Data-1_coronacases_org_003_61\n",
      "/data/jwd/main/040/914/40914875/working/jupyter/covid_ct_segmentation/COVID-CT-Segmentation/Dataset2/LungInfection-train/Pseudo-label/GT/Data-1_coronacases_org_004_27\n"
     ]
    },
    {
     "name": "stderr",
     "output_type": "stream",
     "text": [
      "  7%|▋         | 100/1405 [00:05<00:53, 24.52it/s]"
     ]
    },
    {
     "name": "stdout",
     "output_type": "stream",
     "text": [
      "/data/jwd/main/040/914/40914875/working/jupyter/covid_ct_segmentation/COVID-CT-Segmentation/Dataset2/LungInfection-train/Pseudo-label/GT/Data-1_radiopaedia_org_covid-19-pneumonia-10_85902_3-dcm_127\n",
      "/data/jwd/main/040/914/40914875/working/jupyter/covid_ct_segmentation/COVID-CT-Segmentation/Dataset2/LungInfection-train/Pseudo-label/GT/Data-1_coronacases_org_010_62\n",
      "/data/jwd/main/040/914/40914875/working/jupyter/covid_ct_segmentation/COVID-CT-Segmentation/Dataset2/LungInfection-train/Pseudo-label/GT/Data-1_coronacases_org_007_60\n",
      "/data/jwd/main/040/914/40914875/working/jupyter/covid_ct_segmentation/COVID-CT-Segmentation/Dataset2/LungInfection-train/Pseudo-label/GT/Data-1_coronacases_org_001_22\n",
      "/data/jwd/main/040/914/40914875/working/jupyter/covid_ct_segmentation/COVID-CT-Segmentation/Dataset2/LungInfection-train/Pseudo-label/GT/Data-1_radiopaedia_org_covid-19-pneumonia-7_85703_0-dcm_14\n",
      "/data/jwd/main/040/914/40914875/working/jupyter/covid_ct_segmentation/COVID-CT-Segmentation/Dataset2/LungInfection-train/Pseudo-label/GT/Data-1_coronacases_org_002_37\n"
     ]
    },
    {
     "name": "stderr",
     "output_type": "stream",
     "text": [
      "  8%|▊         | 107/1405 [00:05<00:46, 28.05it/s]"
     ]
    },
    {
     "name": "stdout",
     "output_type": "stream",
     "text": [
      "/data/jwd/main/040/914/40914875/working/jupyter/covid_ct_segmentation/COVID-CT-Segmentation/Dataset2/LungInfection-train/Pseudo-label/GT/Data-1_coronacases_org_005_96\n",
      "/data/jwd/main/040/914/40914875/working/jupyter/covid_ct_segmentation/COVID-CT-Segmentation/Dataset2/LungInfection-train/Pseudo-label/GT/Data-1_coronacases_org_005_118\n",
      "/data/jwd/main/040/914/40914875/working/jupyter/covid_ct_segmentation/COVID-CT-Segmentation/Dataset2/LungInfection-train/Pseudo-label/GT/Data-1_coronacases_org_004_87\n",
      "/data/jwd/main/040/914/40914875/working/jupyter/covid_ct_segmentation/COVID-CT-Segmentation/Dataset2/LungInfection-train/Pseudo-label/GT/Data-1_coronacases_org_001_7\n",
      "/data/jwd/main/040/914/40914875/working/jupyter/covid_ct_segmentation/COVID-CT-Segmentation/Dataset2/LungInfection-train/Pseudo-label/GT/Data-1_radiopaedia_org_covid-19-pneumonia-10_85902_3-dcm_122\n",
      "/data/jwd/main/040/914/40914875/working/jupyter/covid_ct_segmentation/COVID-CT-Segmentation/Dataset2/LungInfection-train/Pseudo-label/GT/Data-1_coronacases_org_009_113\n",
      "/data/jwd/main/040/914/40914875/working/jupyter/covid_ct_segmentation/COVID-CT-Segmentation/Dataset2/LungInfection-train/Pseudo-label/GT/Data-1_coronacases_org_006_26\n"
     ]
    },
    {
     "name": "stderr",
     "output_type": "stream",
     "text": [
      "  8%|▊         | 114/1405 [00:05<00:48, 26.62it/s]"
     ]
    },
    {
     "name": "stdout",
     "output_type": "stream",
     "text": [
      "/data/jwd/main/040/914/40914875/working/jupyter/covid_ct_segmentation/COVID-CT-Segmentation/Dataset2/LungInfection-train/Pseudo-label/GT/Data-1_coronacases_org_005_10\n",
      "/data/jwd/main/040/914/40914875/working/jupyter/covid_ct_segmentation/COVID-CT-Segmentation/Dataset2/LungInfection-train/Pseudo-label/GT/Data-1_coronacases_org_006_18\n",
      "/data/jwd/main/040/914/40914875/working/jupyter/covid_ct_segmentation/COVID-CT-Segmentation/Dataset2/LungInfection-train/Pseudo-label/GT/Data-1_coronacases_org_006_79\n",
      "/data/jwd/main/040/914/40914875/working/jupyter/covid_ct_segmentation/COVID-CT-Segmentation/Dataset2/LungInfection-train/Pseudo-label/GT/Data-1_radiopaedia_org_covid-19-pneumonia-10_85902_1-dcm_8\n",
      "/data/jwd/main/040/914/40914875/working/jupyter/covid_ct_segmentation/COVID-CT-Segmentation/Dataset2/LungInfection-train/Pseudo-label/GT/Data-1_radiopaedia_org_covid-19-pneumonia-10_85902_3-dcm_91\n",
      "/data/jwd/main/040/914/40914875/working/jupyter/covid_ct_segmentation/COVID-CT-Segmentation/Dataset2/LungInfection-train/Pseudo-label/GT/Data-1_coronacases_org_002_72\n",
      "/data/jwd/main/040/914/40914875/working/jupyter/covid_ct_segmentation/COVID-CT-Segmentation/Dataset2/LungInfection-train/Pseudo-label/GT/Data-1_coronacases_org_006_13\n"
     ]
    },
    {
     "name": "stderr",
     "output_type": "stream",
     "text": [
      "  8%|▊         | 118/1405 [00:05<00:44, 28.92it/s]"
     ]
    },
    {
     "name": "stdout",
     "output_type": "stream",
     "text": [
      "/data/jwd/main/040/914/40914875/working/jupyter/covid_ct_segmentation/COVID-CT-Segmentation/Dataset2/LungInfection-train/Pseudo-label/GT/Data-1_coronacases_org_009_11\n",
      "/data/jwd/main/040/914/40914875/working/jupyter/covid_ct_segmentation/COVID-CT-Segmentation/Dataset2/LungInfection-train/Pseudo-label/GT/Data-1_coronacases_org_006_30\n",
      "/data/jwd/main/040/914/40914875/working/jupyter/covid_ct_segmentation/COVID-CT-Segmentation/Dataset2/LungInfection-train/Pseudo-label/GT/Data-1_radiopaedia_org_covid-19-pneumonia-10_85902_3-dcm_51\n",
      "/data/jwd/main/040/914/40914875/working/jupyter/covid_ct_segmentation/COVID-CT-Segmentation/Dataset2/LungInfection-train/Pseudo-label/GT/Data-1_radiopaedia_org_covid-19-pneumonia-10_85902_3-dcm_185\n",
      "/data/jwd/main/040/914/40914875/working/jupyter/covid_ct_segmentation/COVID-CT-Segmentation/Dataset2/LungInfection-train/Pseudo-label/GT/Data-1_coronacases_org_009_56\n",
      "/data/jwd/main/040/914/40914875/working/jupyter/covid_ct_segmentation/COVID-CT-Segmentation/Dataset2/LungInfection-train/Pseudo-label/GT/Data-1_coronacases_org_005_156\n",
      "/data/jwd/main/040/914/40914875/working/jupyter/covid_ct_segmentation/COVID-CT-Segmentation/Dataset2/LungInfection-train/Pseudo-label/GT/Data-1_coronacases_org_001_53\n"
     ]
    },
    {
     "name": "stderr",
     "output_type": "stream",
     "text": [
      "  9%|▉         | 127/1405 [00:05<00:43, 29.11it/s]"
     ]
    },
    {
     "name": "stdout",
     "output_type": "stream",
     "text": [
      "/data/jwd/main/040/914/40914875/working/jupyter/covid_ct_segmentation/COVID-CT-Segmentation/Dataset2/LungInfection-train/Pseudo-label/GT/Data-1_radiopaedia_org_covid-19-pneumonia-10_85902_3-dcm_170\n",
      "/data/jwd/main/040/914/40914875/working/jupyter/covid_ct_segmentation/COVID-CT-Segmentation/Dataset2/LungInfection-train/Pseudo-label/GT/Data-1_coronacases_org_005_18\n",
      "/data/jwd/main/040/914/40914875/working/jupyter/covid_ct_segmentation/COVID-CT-Segmentation/Dataset2/LungInfection-train/Pseudo-label/GT/Data-1_coronacases_org_010_94\n",
      "/data/jwd/main/040/914/40914875/working/jupyter/covid_ct_segmentation/COVID-CT-Segmentation/Dataset2/LungInfection-train/Pseudo-label/GT/Data-1_radiopaedia_org_covid-19-pneumonia-36_86526_0-dcm_27\n",
      "/data/jwd/main/040/914/40914875/working/jupyter/covid_ct_segmentation/COVID-CT-Segmentation/Dataset2/LungInfection-train/Pseudo-label/GT/Data-1_radiopaedia_org_covid-19-pneumonia-10_85902_3-dcm_179\n",
      "/data/jwd/main/040/914/40914875/working/jupyter/covid_ct_segmentation/COVID-CT-Segmentation/Dataset2/LungInfection-train/Pseudo-label/GT/Data-1_coronacases_org_007_40\n",
      "/data/jwd/main/040/914/40914875/working/jupyter/covid_ct_segmentation/COVID-CT-Segmentation/Dataset2/LungInfection-train/Pseudo-label/GT/Data-1_coronacases_org_004_47\n",
      "/data/jwd/main/040/914/40914875/working/jupyter/covid_ct_segmentation/COVID-CT-Segmentation/Dataset2/LungInfection-train/Pseudo-label/GT/Data-1_coronacases_org_006_21\n",
      "/data/jwd/main/040/914/40914875/working/jupyter/covid_ct_segmentation/COVID-CT-Segmentation/Dataset2/LungInfection-train/Pseudo-label/GT/Data-1_coronacases_org_010_104\n"
     ]
    },
    {
     "name": "stderr",
     "output_type": "stream",
     "text": [
      " 10%|▉         | 134/1405 [00:06<01:07, 18.83it/s]"
     ]
    },
    {
     "name": "stdout",
     "output_type": "stream",
     "text": [
      "/data/jwd/main/040/914/40914875/working/jupyter/covid_ct_segmentation/COVID-CT-Segmentation/Dataset2/LungInfection-train/Pseudo-label/GT/Data-1_coronacases_org_010_90\n",
      "/data/jwd/main/040/914/40914875/working/jupyter/covid_ct_segmentation/COVID-CT-Segmentation/Dataset2/LungInfection-train/Pseudo-label/GT/Data-1_coronacases_org_004_61\n",
      "/data/jwd/main/040/914/40914875/working/jupyter/covid_ct_segmentation/COVID-CT-Segmentation/Dataset2/LungInfection-train/Pseudo-label/GT/Data-1_radiopaedia_org_covid-19-pneumonia-10_85902_3-dcm_136\n"
     ]
    },
    {
     "name": "stderr",
     "output_type": "stream",
     "text": [
      " 10%|▉         | 137/1405 [00:06<01:11, 17.71it/s]"
     ]
    },
    {
     "name": "stdout",
     "output_type": "stream",
     "text": [
      "/data/jwd/main/040/914/40914875/working/jupyter/covid_ct_segmentation/COVID-CT-Segmentation/Dataset2/LungInfection-train/Pseudo-label/GT/Data-1_coronacases_org_009_69\n",
      "/data/jwd/main/040/914/40914875/working/jupyter/covid_ct_segmentation/COVID-CT-Segmentation/Dataset2/LungInfection-train/Pseudo-label/GT/Data-1_radiopaedia_org_covid-19-pneumonia-10_85902_3-dcm_61\n",
      "/data/jwd/main/040/914/40914875/working/jupyter/covid_ct_segmentation/COVID-CT-Segmentation/Dataset2/LungInfection-train/Pseudo-label/GT/Data-1_coronacases_org_005_157\n",
      "/data/jwd/main/040/914/40914875/working/jupyter/covid_ct_segmentation/COVID-CT-Segmentation/Dataset2/LungInfection-train/Pseudo-label/GT/Data-1_coronacases_org_005_11\n"
     ]
    },
    {
     "name": "stderr",
     "output_type": "stream",
     "text": [
      " 10%|█         | 143/1405 [00:06<00:58, 21.74it/s]"
     ]
    },
    {
     "name": "stdout",
     "output_type": "stream",
     "text": [
      "/data/jwd/main/040/914/40914875/working/jupyter/covid_ct_segmentation/COVID-CT-Segmentation/Dataset2/LungInfection-train/Pseudo-label/GT/Data-1_coronacases_org_004_132\n",
      "/data/jwd/main/040/914/40914875/working/jupyter/covid_ct_segmentation/COVID-CT-Segmentation/Dataset2/LungInfection-train/Pseudo-label/GT/Data-1_radiopaedia_org_covid-19-pneumonia-4_85506_1-dcm_2\n",
      "/data/jwd/main/040/914/40914875/working/jupyter/covid_ct_segmentation/COVID-CT-Segmentation/Dataset2/LungInfection-train/Pseudo-label/GT/Data-1_radiopaedia_org_covid-19-pneumonia-10_85902_3-dcm_189\n",
      "/data/jwd/main/040/914/40914875/working/jupyter/covid_ct_segmentation/COVID-CT-Segmentation/Dataset2/LungInfection-train/Pseudo-label/GT/Data-1_coronacases_org_008_100\n",
      "/data/jwd/main/040/914/40914875/working/jupyter/covid_ct_segmentation/COVID-CT-Segmentation/Dataset2/LungInfection-train/Pseudo-label/GT/Data-1_coronacases_org_004_9\n",
      "/data/jwd/main/040/914/40914875/working/jupyter/covid_ct_segmentation/COVID-CT-Segmentation/Dataset2/LungInfection-train/Pseudo-label/GT/Data-1_coronacases_org_010_40\n"
     ]
    },
    {
     "name": "stderr",
     "output_type": "stream",
     "text": [
      " 10%|█         | 146/1405 [00:06<00:55, 22.83it/s]"
     ]
    },
    {
     "name": "stdout",
     "output_type": "stream",
     "text": [
      "/data/jwd/main/040/914/40914875/working/jupyter/covid_ct_segmentation/COVID-CT-Segmentation/Dataset2/LungInfection-train/Pseudo-label/GT/Data-1_coronacases_org_001_26\n",
      "/data/jwd/main/040/914/40914875/working/jupyter/covid_ct_segmentation/COVID-CT-Segmentation/Dataset2/LungInfection-train/Pseudo-label/GT/Data-1_radiopaedia_org_covid-19-pneumonia-40_86625_0-dcm_18\n",
      "/data/jwd/main/040/914/40914875/working/jupyter/covid_ct_segmentation/COVID-CT-Segmentation/Dataset2/LungInfection-train/Pseudo-label/GT/Data-1_radiopaedia_org_covid-19-pneumonia-27_86410_0-dcm_17\n",
      "/data/jwd/main/040/914/40914875/working/jupyter/covid_ct_segmentation/COVID-CT-Segmentation/Dataset2/LungInfection-train/Pseudo-label/GT/Data-1_radiopaedia_org_covid-19-pneumonia-10_85902_3-dcm_119\n"
     ]
    },
    {
     "name": "stderr",
     "output_type": "stream",
     "text": [
      " 11%|█         | 149/1405 [00:07<01:03, 19.76it/s]"
     ]
    },
    {
     "name": "stdout",
     "output_type": "stream",
     "text": [
      "/data/jwd/main/040/914/40914875/working/jupyter/covid_ct_segmentation/COVID-CT-Segmentation/Dataset2/LungInfection-train/Pseudo-label/GT/Data-1_coronacases_org_005_3\n",
      "/data/jwd/main/040/914/40914875/working/jupyter/covid_ct_segmentation/COVID-CT-Segmentation/Dataset2/LungInfection-train/Pseudo-label/GT/Data-1_radiopaedia_org_covid-19-pneumonia-4_85506_1-dcm_13\n",
      "/data/jwd/main/040/914/40914875/working/jupyter/covid_ct_segmentation/COVID-CT-Segmentation/Dataset2/LungInfection-train/Pseudo-label/GT/Data-1_coronacases_org_010_99\n",
      "/data/jwd/main/040/914/40914875/working/jupyter/covid_ct_segmentation/COVID-CT-Segmentation/Dataset2/LungInfection-train/Pseudo-label/GT/Data-1_coronacases_org_007_16\n"
     ]
    },
    {
     "name": "stderr",
     "output_type": "stream",
     "text": [
      " 11%|█         | 154/1405 [00:07<01:18, 15.96it/s]"
     ]
    },
    {
     "name": "stdout",
     "output_type": "stream",
     "text": [
      "/data/jwd/main/040/914/40914875/working/jupyter/covid_ct_segmentation/COVID-CT-Segmentation/Dataset2/LungInfection-train/Pseudo-label/GT/Data-1_coronacases_org_004_90\n",
      "/data/jwd/main/040/914/40914875/working/jupyter/covid_ct_segmentation/COVID-CT-Segmentation/Dataset2/LungInfection-train/Pseudo-label/GT/Data-1_coronacases_org_004_15\n",
      "/data/jwd/main/040/914/40914875/working/jupyter/covid_ct_segmentation/COVID-CT-Segmentation/Dataset2/LungInfection-train/Pseudo-label/GT/Data-1_coronacases_org_004_48\n",
      "/data/jwd/main/040/914/40914875/working/jupyter/covid_ct_segmentation/COVID-CT-Segmentation/Dataset2/LungInfection-train/Pseudo-label/GT/Data-1_coronacases_org_003_52\n"
     ]
    },
    {
     "name": "stderr",
     "output_type": "stream",
     "text": [
      " 11%|█▏        | 160/1405 [00:07<01:02, 19.94it/s]"
     ]
    },
    {
     "name": "stdout",
     "output_type": "stream",
     "text": [
      "/data/jwd/main/040/914/40914875/working/jupyter/covid_ct_segmentation/COVID-CT-Segmentation/Dataset2/LungInfection-train/Pseudo-label/GT/Data-1_coronacases_org_008_102\n",
      "/data/jwd/main/040/914/40914875/working/jupyter/covid_ct_segmentation/COVID-CT-Segmentation/Dataset2/LungInfection-train/Pseudo-label/GT/Data-1_radiopaedia_org_covid-19-pneumonia-10_85902_3-dcm_100\n",
      "/data/jwd/main/040/914/40914875/working/jupyter/covid_ct_segmentation/COVID-CT-Segmentation/Dataset2/LungInfection-train/Pseudo-label/GT/Data-1_coronacases_org_005_160\n",
      "/data/jwd/main/040/914/40914875/working/jupyter/covid_ct_segmentation/COVID-CT-Segmentation/Dataset2/LungInfection-train/Pseudo-label/GT/Data-1_coronacases_org_008_31\n",
      "/data/jwd/main/040/914/40914875/working/jupyter/covid_ct_segmentation/COVID-CT-Segmentation/Dataset2/LungInfection-train/Pseudo-label/GT/Data-1_coronacases_org_004_102\n"
     ]
    },
    {
     "name": "stderr",
     "output_type": "stream",
     "text": [
      " 12%|█▏        | 166/1405 [00:08<00:59, 20.87it/s]"
     ]
    },
    {
     "name": "stdout",
     "output_type": "stream",
     "text": [
      "/data/jwd/main/040/914/40914875/working/jupyter/covid_ct_segmentation/COVID-CT-Segmentation/Dataset2/LungInfection-train/Pseudo-label/GT/Data-1_coronacases_org_001_98\n",
      "/data/jwd/main/040/914/40914875/working/jupyter/covid_ct_segmentation/COVID-CT-Segmentation/Dataset2/LungInfection-train/Pseudo-label/GT/Data-1_coronacases_org_004_89\n",
      "/data/jwd/main/040/914/40914875/working/jupyter/covid_ct_segmentation/COVID-CT-Segmentation/Dataset2/LungInfection-train/Pseudo-label/GT/Data-1_radiopaedia_org_covid-19-pneumonia-10_85902_3-dcm_191\n",
      "/data/jwd/main/040/914/40914875/working/jupyter/covid_ct_segmentation/COVID-CT-Segmentation/Dataset2/LungInfection-train/Pseudo-label/GT/Data-1_coronacases_org_006_65\n",
      "/data/jwd/main/040/914/40914875/working/jupyter/covid_ct_segmentation/COVID-CT-Segmentation/Dataset2/LungInfection-train/Pseudo-label/GT/Data-1_radiopaedia_org_covid-19-pneumonia-36_86526_0-dcm_24\n"
     ]
    },
    {
     "name": "stderr",
     "output_type": "stream",
     "text": [
      " 12%|█▏        | 169/1405 [00:08<01:04, 19.06it/s]"
     ]
    },
    {
     "name": "stdout",
     "output_type": "stream",
     "text": [
      "/data/jwd/main/040/914/40914875/working/jupyter/covid_ct_segmentation/COVID-CT-Segmentation/Dataset2/LungInfection-train/Pseudo-label/GT/Data-1_coronacases_org_004_68\n",
      "/data/jwd/main/040/914/40914875/working/jupyter/covid_ct_segmentation/COVID-CT-Segmentation/Dataset2/LungInfection-train/Pseudo-label/GT/Data-1_coronacases_org_010_86\n",
      "/data/jwd/main/040/914/40914875/working/jupyter/covid_ct_segmentation/COVID-CT-Segmentation/Dataset2/LungInfection-train/Pseudo-label/GT/Data-1_coronacases_org_009_28\n",
      "/data/jwd/main/040/914/40914875/working/jupyter/covid_ct_segmentation/COVID-CT-Segmentation/Dataset2/LungInfection-train/Pseudo-label/GT/Data-1_coronacases_org_007_17\n",
      "/data/jwd/main/040/914/40914875/working/jupyter/covid_ct_segmentation/COVID-CT-Segmentation/Dataset2/LungInfection-train/Pseudo-label/GT/Data-1_coronacases_org_008_6\n"
     ]
    },
    {
     "name": "stderr",
     "output_type": "stream",
     "text": [
      " 12%|█▏        | 174/1405 [00:08<01:07, 18.34it/s]"
     ]
    },
    {
     "name": "stdout",
     "output_type": "stream",
     "text": [
      "/data/jwd/main/040/914/40914875/working/jupyter/covid_ct_segmentation/COVID-CT-Segmentation/Dataset2/LungInfection-train/Pseudo-label/GT/Data-1_coronacases_org_008_21\n",
      "/data/jwd/main/040/914/40914875/working/jupyter/covid_ct_segmentation/COVID-CT-Segmentation/Dataset2/LungInfection-train/Pseudo-label/GT/Data-1_coronacases_org_005_59\n",
      "/data/jwd/main/040/914/40914875/working/jupyter/covid_ct_segmentation/COVID-CT-Segmentation/Dataset2/LungInfection-train/Pseudo-label/GT/Data-1_coronacases_org_002_76\n",
      "/data/jwd/main/040/914/40914875/working/jupyter/covid_ct_segmentation/COVID-CT-Segmentation/Dataset2/LungInfection-train/Pseudo-label/GT/Data-1_coronacases_org_008_116\n"
     ]
    },
    {
     "name": "stderr",
     "output_type": "stream",
     "text": [
      " 13%|█▎        | 179/1405 [00:08<00:58, 20.94it/s]"
     ]
    },
    {
     "name": "stdout",
     "output_type": "stream",
     "text": [
      "/data/jwd/main/040/914/40914875/working/jupyter/covid_ct_segmentation/COVID-CT-Segmentation/Dataset2/LungInfection-train/Pseudo-label/GT/Data-1_coronacases_org_006_17\n",
      "/data/jwd/main/040/914/40914875/working/jupyter/covid_ct_segmentation/COVID-CT-Segmentation/Dataset2/LungInfection-train/Pseudo-label/GT/Data-1_radiopaedia_org_covid-19-pneumonia-10_85902_3-dcm_124\n",
      "/data/jwd/main/040/914/40914875/working/jupyter/covid_ct_segmentation/COVID-CT-Segmentation/Dataset2/LungInfection-train/Pseudo-label/GT/Data-1_coronacases_org_008_141\n",
      "/data/jwd/main/040/914/40914875/working/jupyter/covid_ct_segmentation/COVID-CT-Segmentation/Dataset2/LungInfection-train/Pseudo-label/GT/Data-1_coronacases_org_006_64\n",
      "/data/jwd/main/040/914/40914875/working/jupyter/covid_ct_segmentation/COVID-CT-Segmentation/Dataset2/LungInfection-train/Pseudo-label/GT/Data-1_radiopaedia_org_covid-19-pneumonia-10_85902_3-dcm_76\n"
     ]
    },
    {
     "name": "stderr",
     "output_type": "stream",
     "text": [
      " 13%|█▎        | 182/1405 [00:08<00:55, 21.97it/s]"
     ]
    },
    {
     "name": "stdout",
     "output_type": "stream",
     "text": [
      "/data/jwd/main/040/914/40914875/working/jupyter/covid_ct_segmentation/COVID-CT-Segmentation/Dataset2/LungInfection-train/Pseudo-label/GT/Data-1_coronacases_org_003_56\n",
      "/data/jwd/main/040/914/40914875/working/jupyter/covid_ct_segmentation/COVID-CT-Segmentation/Dataset2/LungInfection-train/Pseudo-label/GT/Data-1_radiopaedia_org_covid-19-pneumonia-40_86625_0-dcm_38\n",
      "/data/jwd/main/040/914/40914875/working/jupyter/covid_ct_segmentation/COVID-CT-Segmentation/Dataset2/LungInfection-train/Pseudo-label/GT/Data-1_coronacases_org_004_56\n",
      "/data/jwd/main/040/914/40914875/working/jupyter/covid_ct_segmentation/COVID-CT-Segmentation/Dataset2/LungInfection-train/Pseudo-label/GT/Data-1_coronacases_org_003_62\n"
     ]
    },
    {
     "name": "stderr",
     "output_type": "stream",
     "text": [
      " 13%|█▎        | 188/1405 [00:09<01:20, 15.07it/s]"
     ]
    },
    {
     "name": "stdout",
     "output_type": "stream",
     "text": [
      "/data/jwd/main/040/914/40914875/working/jupyter/covid_ct_segmentation/COVID-CT-Segmentation/Dataset2/LungInfection-train/Pseudo-label/GT/Data-1_coronacases_org_004_55\n",
      "/data/jwd/main/040/914/40914875/working/jupyter/covid_ct_segmentation/COVID-CT-Segmentation/Dataset2/LungInfection-train/Pseudo-label/GT/Data-1_radiopaedia_org_covid-19-pneumonia-7_85703_0-dcm_4\n",
      "/data/jwd/main/040/914/40914875/working/jupyter/covid_ct_segmentation/COVID-CT-Segmentation/Dataset2/LungInfection-train/Pseudo-label/GT/Data-1_coronacases_org_008_119\n",
      "/data/jwd/main/040/914/40914875/working/jupyter/covid_ct_segmentation/COVID-CT-Segmentation/Dataset2/LungInfection-train/Pseudo-label/GT/Data-1_coronacases_org_007_8\n",
      "/data/jwd/main/040/914/40914875/working/jupyter/covid_ct_segmentation/COVID-CT-Segmentation/Dataset2/LungInfection-train/Pseudo-label/GT/Data-1_coronacases_org_007_19\n",
      "/data/jwd/main/040/914/40914875/working/jupyter/covid_ct_segmentation/COVID-CT-Segmentation/Dataset2/LungInfection-train/Pseudo-label/GT/Data-1_coronacases_org_007_108\n"
     ]
    },
    {
     "name": "stderr",
     "output_type": "stream",
     "text": [
      " 14%|█▍        | 194/1405 [00:09<01:02, 19.38it/s]"
     ]
    },
    {
     "name": "stdout",
     "output_type": "stream",
     "text": [
      "/data/jwd/main/040/914/40914875/working/jupyter/covid_ct_segmentation/COVID-CT-Segmentation/Dataset2/LungInfection-train/Pseudo-label/GT/Data-1_coronacases_org_006_69\n",
      "/data/jwd/main/040/914/40914875/working/jupyter/covid_ct_segmentation/COVID-CT-Segmentation/Dataset2/LungInfection-train/Pseudo-label/GT/Data-1_radiopaedia_org_covid-19-pneumonia-36_86526_0-dcm_30\n",
      "/data/jwd/main/040/914/40914875/working/jupyter/covid_ct_segmentation/COVID-CT-Segmentation/Dataset2/LungInfection-train/Pseudo-label/GT/Data-1_coronacases_org_002_16\n",
      "/data/jwd/main/040/914/40914875/working/jupyter/covid_ct_segmentation/COVID-CT-Segmentation/Dataset2/LungInfection-train/Pseudo-label/GT/Data-1_coronacases_org_008_54\n"
     ]
    },
    {
     "name": "stderr",
     "output_type": "stream",
     "text": [
      " 14%|█▍        | 197/1405 [00:09<01:03, 18.88it/s]"
     ]
    },
    {
     "name": "stdout",
     "output_type": "stream",
     "text": [
      "/data/jwd/main/040/914/40914875/working/jupyter/covid_ct_segmentation/COVID-CT-Segmentation/Dataset2/LungInfection-train/Pseudo-label/GT/Data-1_radiopaedia_org_covid-19-pneumonia-4_85506_1-dcm_1\n",
      "/data/jwd/main/040/914/40914875/working/jupyter/covid_ct_segmentation/COVID-CT-Segmentation/Dataset2/LungInfection-train/Pseudo-label/GT/Data-1_coronacases_org_001_80\n",
      "/data/jwd/main/040/914/40914875/working/jupyter/covid_ct_segmentation/COVID-CT-Segmentation/Dataset2/LungInfection-train/Pseudo-label/GT/Data-1_coronacases_org_006_19\n",
      "/data/jwd/main/040/914/40914875/working/jupyter/covid_ct_segmentation/COVID-CT-Segmentation/Dataset2/LungInfection-train/Pseudo-label/GT/Data-1_coronacases_org_002_19\n",
      "/data/jwd/main/040/914/40914875/working/jupyter/covid_ct_segmentation/COVID-CT-Segmentation/Dataset2/LungInfection-train/Pseudo-label/GT/Data-1_coronacases_org_004_95\n",
      "/data/jwd/main/040/914/40914875/working/jupyter/covid_ct_segmentation/COVID-CT-Segmentation/Dataset2/LungInfection-train/Pseudo-label/GT/Data-1_coronacases_org_004_22\n"
     ]
    },
    {
     "name": "stderr",
     "output_type": "stream",
     "text": [
      " 14%|█▍        | 203/1405 [00:10<00:53, 22.51it/s]"
     ]
    },
    {
     "name": "stdout",
     "output_type": "stream",
     "text": [
      "/data/jwd/main/040/914/40914875/working/jupyter/covid_ct_segmentation/COVID-CT-Segmentation/Dataset2/LungInfection-train/Pseudo-label/GT/Data-1_coronacases_org_010_41\n",
      "/data/jwd/main/040/914/40914875/working/jupyter/covid_ct_segmentation/COVID-CT-Segmentation/Dataset2/LungInfection-train/Pseudo-label/GT/Data-1_radiopaedia_org_covid-19-pneumonia-10_85902_3-dcm_24\n",
      "/data/jwd/main/040/914/40914875/working/jupyter/covid_ct_segmentation/COVID-CT-Segmentation/Dataset2/LungInfection-train/Pseudo-label/GT/Data-1_coronacases_org_005_165\n",
      "/data/jwd/main/040/914/40914875/working/jupyter/covid_ct_segmentation/COVID-CT-Segmentation/Dataset2/LungInfection-train/Pseudo-label/GT/Data-1_coronacases_org_007_35\n",
      "/data/jwd/main/040/914/40914875/working/jupyter/covid_ct_segmentation/COVID-CT-Segmentation/Dataset2/LungInfection-train/Pseudo-label/GT/Data-1_coronacases_org_009_73\n",
      "/data/jwd/main/040/914/40914875/working/jupyter/covid_ct_segmentation/COVID-CT-Segmentation/Dataset2/LungInfection-train/Pseudo-label/GT/Data-1_radiopaedia_org_covid-19-pneumonia-10_85902_1-dcm_5\n"
     ]
    },
    {
     "name": "stderr",
     "output_type": "stream",
     "text": [
      " 15%|█▍        | 209/1405 [00:10<00:57, 20.84it/s]"
     ]
    },
    {
     "name": "stdout",
     "output_type": "stream",
     "text": [
      "/data/jwd/main/040/914/40914875/working/jupyter/covid_ct_segmentation/COVID-CT-Segmentation/Dataset2/LungInfection-train/Pseudo-label/GT/Data-1_coronacases_org_009_102\n",
      "/data/jwd/main/040/914/40914875/working/jupyter/covid_ct_segmentation/COVID-CT-Segmentation/Dataset2/LungInfection-train/Pseudo-label/GT/Data-1_radiopaedia_org_covid-19-pneumonia-14_85914_0-dcm_12\n",
      "/data/jwd/main/040/914/40914875/working/jupyter/covid_ct_segmentation/COVID-CT-Segmentation/Dataset2/LungInfection-train/Pseudo-label/GT/Data-1_radiopaedia_org_covid-19-pneumonia-10_85902_3-dcm_14\n",
      "/data/jwd/main/040/914/40914875/working/jupyter/covid_ct_segmentation/COVID-CT-Segmentation/Dataset2/LungInfection-train/Pseudo-label/GT/Data-1_radiopaedia_org_covid-19-pneumonia-7_85703_0-dcm_9\n",
      "/data/jwd/main/040/914/40914875/working/jupyter/covid_ct_segmentation/COVID-CT-Segmentation/Dataset2/LungInfection-train/Pseudo-label/GT/Data-1_coronacases_org_009_13\n"
     ]
    },
    {
     "name": "stderr",
     "output_type": "stream",
     "text": [
      " 15%|█▌        | 215/1405 [00:10<00:56, 20.91it/s]"
     ]
    },
    {
     "name": "stdout",
     "output_type": "stream",
     "text": [
      "/data/jwd/main/040/914/40914875/working/jupyter/covid_ct_segmentation/COVID-CT-Segmentation/Dataset2/LungInfection-train/Pseudo-label/GT/Data-1_radiopaedia_org_covid-19-pneumonia-10_85902_1-dcm_11\n",
      "/data/jwd/main/040/914/40914875/working/jupyter/covid_ct_segmentation/COVID-CT-Segmentation/Dataset2/LungInfection-train/Pseudo-label/GT/Data-1_coronacases_org_008_11\n",
      "/data/jwd/main/040/914/40914875/working/jupyter/covid_ct_segmentation/COVID-CT-Segmentation/Dataset2/LungInfection-train/Pseudo-label/GT/Data-1_radiopaedia_org_covid-19-pneumonia-14_85914_0-dcm_32\n",
      "/data/jwd/main/040/914/40914875/working/jupyter/covid_ct_segmentation/COVID-CT-Segmentation/Dataset2/LungInfection-train/Pseudo-label/GT/Data-1_radiopaedia_org_covid-19-pneumonia-10_85902_3-dcm_160\n",
      "/data/jwd/main/040/914/40914875/working/jupyter/covid_ct_segmentation/COVID-CT-Segmentation/Dataset2/LungInfection-train/Pseudo-label/GT/Data-1_coronacases_org_007_1\n"
     ]
    },
    {
     "name": "stderr",
     "output_type": "stream",
     "text": [
      " 16%|█▌        | 224/1405 [00:10<00:38, 30.39it/s]"
     ]
    },
    {
     "name": "stdout",
     "output_type": "stream",
     "text": [
      "/data/jwd/main/040/914/40914875/working/jupyter/covid_ct_segmentation/COVID-CT-Segmentation/Dataset2/LungInfection-train/Pseudo-label/GT/Data-1_radiopaedia_org_covid-19-pneumonia-29_86491_1-dcm_4\n",
      "/data/jwd/main/040/914/40914875/working/jupyter/covid_ct_segmentation/COVID-CT-Segmentation/Dataset2/LungInfection-train/Pseudo-label/GT/Data-1_coronacases_org_007_26\n",
      "/data/jwd/main/040/914/40914875/working/jupyter/covid_ct_segmentation/COVID-CT-Segmentation/Dataset2/LungInfection-train/Pseudo-label/GT/Data-1_coronacases_org_005_92\n",
      "/data/jwd/main/040/914/40914875/working/jupyter/covid_ct_segmentation/COVID-CT-Segmentation/Dataset2/LungInfection-train/Pseudo-label/GT/Data-1_coronacases_org_001_83\n",
      "/data/jwd/main/040/914/40914875/working/jupyter/covid_ct_segmentation/COVID-CT-Segmentation/Dataset2/LungInfection-train/Pseudo-label/GT/Data-1_coronacases_org_008_120\n",
      "/data/jwd/main/040/914/40914875/working/jupyter/covid_ct_segmentation/COVID-CT-Segmentation/Dataset2/LungInfection-train/Pseudo-label/GT/Data-1_coronacases_org_006_28\n",
      "/data/jwd/main/040/914/40914875/working/jupyter/covid_ct_segmentation/COVID-CT-Segmentation/Dataset2/LungInfection-train/Pseudo-label/GT/Data-1_coronacases_org_010_110\n",
      "/data/jwd/main/040/914/40914875/working/jupyter/covid_ct_segmentation/COVID-CT-Segmentation/Dataset2/LungInfection-train/Pseudo-label/GT/Data-1_coronacases_org_010_20\n"
     ]
    },
    {
     "name": "stderr",
     "output_type": "stream",
     "text": [
      " 16%|█▌        | 228/1405 [00:11<00:43, 27.08it/s]"
     ]
    },
    {
     "name": "stdout",
     "output_type": "stream",
     "text": [
      "/data/jwd/main/040/914/40914875/working/jupyter/covid_ct_segmentation/COVID-CT-Segmentation/Dataset2/LungInfection-train/Pseudo-label/GT/Data-1_coronacases_org_004_12\n",
      "/data/jwd/main/040/914/40914875/working/jupyter/covid_ct_segmentation/COVID-CT-Segmentation/Dataset2/LungInfection-train/Pseudo-label/GT/Data-1_coronacases_org_001_34\n",
      "/data/jwd/main/040/914/40914875/working/jupyter/covid_ct_segmentation/COVID-CT-Segmentation/Dataset2/LungInfection-train/Pseudo-label/GT/Data-1_coronacases_org_005_14\n",
      "/data/jwd/main/040/914/40914875/working/jupyter/covid_ct_segmentation/COVID-CT-Segmentation/Dataset2/LungInfection-train/Pseudo-label/GT/Data-1_coronacases_org_004_137\n",
      "/data/jwd/main/040/914/40914875/working/jupyter/covid_ct_segmentation/COVID-CT-Segmentation/Dataset2/LungInfection-train/Pseudo-label/GT/Data-1_coronacases_org_008_3\n",
      "/data/jwd/main/040/914/40914875/working/jupyter/covid_ct_segmentation/COVID-CT-Segmentation/Dataset2/LungInfection-train/Pseudo-label/GT/Data-1_radiopaedia_org_covid-19-pneumonia-29_86491_1-dcm_3\n"
     ]
    },
    {
     "name": "stderr",
     "output_type": "stream",
     "text": [
      " 17%|█▋        | 235/1405 [00:11<00:39, 29.54it/s]"
     ]
    },
    {
     "name": "stdout",
     "output_type": "stream",
     "text": [
      "/data/jwd/main/040/914/40914875/working/jupyter/covid_ct_segmentation/COVID-CT-Segmentation/Dataset2/LungInfection-train/Pseudo-label/GT/Data-1_radiopaedia_org_covid-19-pneumonia-10_85902_3-dcm_133\n",
      "/data/jwd/main/040/914/40914875/working/jupyter/covid_ct_segmentation/COVID-CT-Segmentation/Dataset2/LungInfection-train/Pseudo-label/GT/Data-1_coronacases_org_002_29\n",
      "/data/jwd/main/040/914/40914875/working/jupyter/covid_ct_segmentation/COVID-CT-Segmentation/Dataset2/LungInfection-train/Pseudo-label/GT/Data-1_radiopaedia_org_covid-19-pneumonia-7_85703_0-dcm_13\n",
      "/data/jwd/main/040/914/40914875/working/jupyter/covid_ct_segmentation/COVID-CT-Segmentation/Dataset2/LungInfection-train/Pseudo-label/GT/Data-1_radiopaedia_org_covid-19-pneumonia-36_86526_0-dcm_11\n",
      "/data/jwd/main/040/914/40914875/working/jupyter/covid_ct_segmentation/COVID-CT-Segmentation/Dataset2/LungInfection-train/Pseudo-label/GT/Data-1_radiopaedia_org_covid-19-pneumonia-10_85902_3-dcm_68\n",
      "/data/jwd/main/040/914/40914875/working/jupyter/covid_ct_segmentation/COVID-CT-Segmentation/Dataset2/LungInfection-train/Pseudo-label/GT/Data-1_radiopaedia_org_covid-19-pneumonia-10_85902_3-dcm_113\n",
      "/data/jwd/main/040/914/40914875/working/jupyter/covid_ct_segmentation/COVID-CT-Segmentation/Dataset2/LungInfection-train/Pseudo-label/GT/Data-1_coronacases_org_010_26\n"
     ]
    },
    {
     "name": "stderr",
     "output_type": "stream",
     "text": [
      " 17%|█▋        | 243/1405 [00:11<00:41, 27.81it/s]"
     ]
    },
    {
     "name": "stdout",
     "output_type": "stream",
     "text": [
      "/data/jwd/main/040/914/40914875/working/jupyter/covid_ct_segmentation/COVID-CT-Segmentation/Dataset2/LungInfection-train/Pseudo-label/GT/Data-1_coronacases_org_005_93\n",
      "/data/jwd/main/040/914/40914875/working/jupyter/covid_ct_segmentation/COVID-CT-Segmentation/Dataset2/LungInfection-train/Pseudo-label/GT/Data-1_coronacases_org_010_108\n",
      "/data/jwd/main/040/914/40914875/working/jupyter/covid_ct_segmentation/COVID-CT-Segmentation/Dataset2/LungInfection-train/Pseudo-label/GT/Data-1_radiopaedia_org_covid-19-pneumonia-10_85902_3-dcm_67\n",
      "/data/jwd/main/040/914/40914875/working/jupyter/covid_ct_segmentation/COVID-CT-Segmentation/Dataset2/LungInfection-train/Pseudo-label/GT/Data-1_radiopaedia_org_covid-19-pneumonia-14_85914_0-dcm_48\n",
      "/data/jwd/main/040/914/40914875/working/jupyter/covid_ct_segmentation/COVID-CT-Segmentation/Dataset2/LungInfection-train/Pseudo-label/GT/Data-1_radiopaedia_org_covid-19-pneumonia-40_86625_0-dcm_37\n",
      "/data/jwd/main/040/914/40914875/working/jupyter/covid_ct_segmentation/COVID-CT-Segmentation/Dataset2/LungInfection-train/Pseudo-label/GT/Data-1_coronacases_org_008_75\n"
     ]
    },
    {
     "name": "stderr",
     "output_type": "stream",
     "text": [
      " 18%|█▊        | 250/1405 [00:11<00:37, 30.78it/s]"
     ]
    },
    {
     "name": "stdout",
     "output_type": "stream",
     "text": [
      "/data/jwd/main/040/914/40914875/working/jupyter/covid_ct_segmentation/COVID-CT-Segmentation/Dataset2/LungInfection-train/Pseudo-label/GT/Data-1_radiopaedia_org_covid-19-pneumonia-14_85914_0-dcm_13\n",
      "/data/jwd/main/040/914/40914875/working/jupyter/covid_ct_segmentation/COVID-CT-Segmentation/Dataset2/LungInfection-train/Pseudo-label/GT/Data-1_coronacases_org_008_111\n",
      "/data/jwd/main/040/914/40914875/working/jupyter/covid_ct_segmentation/COVID-CT-Segmentation/Dataset2/LungInfection-train/Pseudo-label/GT/Data-1_radiopaedia_org_covid-19-pneumonia-10_85902_3-dcm_81\n",
      "/data/jwd/main/040/914/40914875/working/jupyter/covid_ct_segmentation/COVID-CT-Segmentation/Dataset2/LungInfection-train/Pseudo-label/GT/Data-1_coronacases_org_009_101\n",
      "/data/jwd/main/040/914/40914875/working/jupyter/covid_ct_segmentation/COVID-CT-Segmentation/Dataset2/LungInfection-train/Pseudo-label/GT/Data-1_coronacases_org_008_38\n",
      "/data/jwd/main/040/914/40914875/working/jupyter/covid_ct_segmentation/COVID-CT-Segmentation/Dataset2/LungInfection-train/Pseudo-label/GT/Data-1_coronacases_org_008_66\n",
      "/data/jwd/main/040/914/40914875/working/jupyter/covid_ct_segmentation/COVID-CT-Segmentation/Dataset2/LungInfection-train/Pseudo-label/GT/Data-1_coronacases_org_007_30\n"
     ]
    },
    {
     "name": "stderr",
     "output_type": "stream",
     "text": [
      " 18%|█▊        | 254/1405 [00:11<00:35, 32.34it/s]"
     ]
    },
    {
     "name": "stdout",
     "output_type": "stream",
     "text": [
      "/data/jwd/main/040/914/40914875/working/jupyter/covid_ct_segmentation/COVID-CT-Segmentation/Dataset2/LungInfection-train/Pseudo-label/GT/Data-1_coronacases_org_003_44\n",
      "/data/jwd/main/040/914/40914875/working/jupyter/covid_ct_segmentation/COVID-CT-Segmentation/Dataset2/LungInfection-train/Pseudo-label/GT/Data-1_coronacases_org_009_22\n",
      "/data/jwd/main/040/914/40914875/working/jupyter/covid_ct_segmentation/COVID-CT-Segmentation/Dataset2/LungInfection-train/Pseudo-label/GT/Data-1_coronacases_org_008_95\n",
      "/data/jwd/main/040/914/40914875/working/jupyter/covid_ct_segmentation/COVID-CT-Segmentation/Dataset2/LungInfection-train/Pseudo-label/GT/Data-1_coronacases_org_003_11\n",
      "/data/jwd/main/040/914/40914875/working/jupyter/covid_ct_segmentation/COVID-CT-Segmentation/Dataset2/LungInfection-train/Pseudo-label/GT/Data-1_coronacases_org_005_131\n",
      "/data/jwd/main/040/914/40914875/working/jupyter/covid_ct_segmentation/COVID-CT-Segmentation/Dataset2/LungInfection-train/Pseudo-label/GT/Data-1_coronacases_org_006_47\n",
      "/data/jwd/main/040/914/40914875/working/jupyter/covid_ct_segmentation/COVID-CT-Segmentation/Dataset2/LungInfection-train/Pseudo-label/GT/Data-1_coronacases_org_002_60\n"
     ]
    },
    {
     "name": "stderr",
     "output_type": "stream",
     "text": [
      " 19%|█▊        | 262/1405 [00:12<00:37, 30.46it/s]"
     ]
    },
    {
     "name": "stdout",
     "output_type": "stream",
     "text": [
      "/data/jwd/main/040/914/40914875/working/jupyter/covid_ct_segmentation/COVID-CT-Segmentation/Dataset2/LungInfection-train/Pseudo-label/GT/Data-1_coronacases_org_002_51\n",
      "/data/jwd/main/040/914/40914875/working/jupyter/covid_ct_segmentation/COVID-CT-Segmentation/Dataset2/LungInfection-train/Pseudo-label/GT/Data-1_coronacases_org_010_81\n",
      "/data/jwd/main/040/914/40914875/working/jupyter/covid_ct_segmentation/COVID-CT-Segmentation/Dataset2/LungInfection-train/Pseudo-label/GT/Data-1_radiopaedia_org_covid-19-pneumonia-36_86526_0-dcm_35\n",
      "/data/jwd/main/040/914/40914875/working/jupyter/covid_ct_segmentation/COVID-CT-Segmentation/Dataset2/LungInfection-train/Pseudo-label/GT/Data-1_radiopaedia_org_covid-19-pneumonia-29_86491_1-dcm_13\n",
      "/data/jwd/main/040/914/40914875/working/jupyter/covid_ct_segmentation/COVID-CT-Segmentation/Dataset2/LungInfection-train/Pseudo-label/GT/Data-1_radiopaedia_org_covid-19-pneumonia-10_85902_3-dcm_158\n"
     ]
    },
    {
     "name": "stderr",
     "output_type": "stream",
     "text": [
      " 19%|█▉        | 266/1405 [00:12<00:42, 26.99it/s]"
     ]
    },
    {
     "name": "stdout",
     "output_type": "stream",
     "text": [
      "/data/jwd/main/040/914/40914875/working/jupyter/covid_ct_segmentation/COVID-CT-Segmentation/Dataset2/LungInfection-train/Pseudo-label/GT/Data-1_radiopaedia_org_covid-19-pneumonia-10_85902_3-dcm_64\n",
      "/data/jwd/main/040/914/40914875/working/jupyter/covid_ct_segmentation/COVID-CT-Segmentation/Dataset2/LungInfection-train/Pseudo-label/GT/Data-1_radiopaedia_org_covid-19-pneumonia-10_85902_3-dcm_172\n",
      "/data/jwd/main/040/914/40914875/working/jupyter/covid_ct_segmentation/COVID-CT-Segmentation/Dataset2/LungInfection-train/Pseudo-label/GT/Data-1_radiopaedia_org_covid-19-pneumonia-40_86625_0-dcm_23\n",
      "/data/jwd/main/040/914/40914875/working/jupyter/covid_ct_segmentation/COVID-CT-Segmentation/Dataset2/LungInfection-train/Pseudo-label/GT/Data-1_radiopaedia_org_covid-19-pneumonia-14_85914_0-dcm_23\n",
      "/data/jwd/main/040/914/40914875/working/jupyter/covid_ct_segmentation/COVID-CT-Segmentation/Dataset2/LungInfection-train/Pseudo-label/GT/Data-1_radiopaedia_org_covid-19-pneumonia-10_85902_3-dcm_39\n",
      "/data/jwd/main/040/914/40914875/working/jupyter/covid_ct_segmentation/COVID-CT-Segmentation/Dataset2/LungInfection-train/Pseudo-label/GT/Data-1_coronacases_org_009_58\n"
     ]
    },
    {
     "name": "stderr",
     "output_type": "stream",
     "text": [
      " 19%|█▉        | 273/1405 [00:12<00:38, 29.23it/s]"
     ]
    },
    {
     "name": "stdout",
     "output_type": "stream",
     "text": [
      "/data/jwd/main/040/914/40914875/working/jupyter/covid_ct_segmentation/COVID-CT-Segmentation/Dataset2/LungInfection-train/Pseudo-label/GT/Data-1_coronacases_org_008_98\n",
      "/data/jwd/main/040/914/40914875/working/jupyter/covid_ct_segmentation/COVID-CT-Segmentation/Dataset2/LungInfection-train/Pseudo-label/GT/Data-1_radiopaedia_org_covid-19-pneumonia-10_85902_1-dcm_6\n",
      "/data/jwd/main/040/914/40914875/working/jupyter/covid_ct_segmentation/COVID-CT-Segmentation/Dataset2/LungInfection-train/Pseudo-label/GT/Data-1_coronacases_org_006_15\n",
      "/data/jwd/main/040/914/40914875/working/jupyter/covid_ct_segmentation/COVID-CT-Segmentation/Dataset2/LungInfection-train/Pseudo-label/GT/Data-1_coronacases_org_005_66\n",
      "/data/jwd/main/040/914/40914875/working/jupyter/covid_ct_segmentation/COVID-CT-Segmentation/Dataset2/LungInfection-train/Pseudo-label/GT/Data-1_radiopaedia_org_covid-19-pneumonia-10_85902_3-dcm_169\n",
      "/data/jwd/main/040/914/40914875/working/jupyter/covid_ct_segmentation/COVID-CT-Segmentation/Dataset2/LungInfection-train/Pseudo-label/GT/Data-1_coronacases_org_006_31\n",
      "/data/jwd/main/040/914/40914875/working/jupyter/covid_ct_segmentation/COVID-CT-Segmentation/Dataset2/LungInfection-train/Pseudo-label/GT/Data-1_radiopaedia_org_covid-19-pneumonia-14_85914_0-dcm_43\n"
     ]
    },
    {
     "name": "stderr",
     "output_type": "stream",
     "text": [
      " 20%|██        | 281/1405 [00:12<00:38, 29.57it/s]"
     ]
    },
    {
     "name": "stdout",
     "output_type": "stream",
     "text": [
      "/data/jwd/main/040/914/40914875/working/jupyter/covid_ct_segmentation/COVID-CT-Segmentation/Dataset2/LungInfection-train/Pseudo-label/GT/Data-1_coronacases_org_008_86\n",
      "/data/jwd/main/040/914/40914875/working/jupyter/covid_ct_segmentation/COVID-CT-Segmentation/Dataset2/LungInfection-train/Pseudo-label/GT/Data-1_coronacases_org_004_73\n",
      "/data/jwd/main/040/914/40914875/working/jupyter/covid_ct_segmentation/COVID-CT-Segmentation/Dataset2/LungInfection-train/Pseudo-label/GT/Data-1_coronacases_org_006_32\n",
      "/data/jwd/main/040/914/40914875/working/jupyter/covid_ct_segmentation/COVID-CT-Segmentation/Dataset2/LungInfection-train/Pseudo-label/GT/Data-1_coronacases_org_004_128\n",
      "/data/jwd/main/040/914/40914875/working/jupyter/covid_ct_segmentation/COVID-CT-Segmentation/Dataset2/LungInfection-train/Pseudo-label/GT/Data-1_coronacases_org_009_93\n",
      "/data/jwd/main/040/914/40914875/working/jupyter/covid_ct_segmentation/COVID-CT-Segmentation/Dataset2/LungInfection-train/Pseudo-label/GT/Data-1_radiopaedia_org_covid-19-pneumonia-40_86625_0-dcm_8\n",
      "/data/jwd/main/040/914/40914875/working/jupyter/covid_ct_segmentation/COVID-CT-Segmentation/Dataset2/LungInfection-train/Pseudo-label/GT/Data-1_radiopaedia_org_covid-19-pneumonia-10_85902_3-dcm_112\n"
     ]
    },
    {
     "name": "stderr",
     "output_type": "stream",
     "text": [
      " 20%|██        | 285/1405 [00:13<00:43, 25.93it/s]"
     ]
    },
    {
     "name": "stdout",
     "output_type": "stream",
     "text": [
      "/data/jwd/main/040/914/40914875/working/jupyter/covid_ct_segmentation/COVID-CT-Segmentation/Dataset2/LungInfection-train/Pseudo-label/GT/Data-1_radiopaedia_org_covid-19-pneumonia-10_85902_3-dcm_132\n",
      "/data/jwd/main/040/914/40914875/working/jupyter/covid_ct_segmentation/COVID-CT-Segmentation/Dataset2/LungInfection-train/Pseudo-label/GT/Data-1_coronacases_org_007_90\n",
      "/data/jwd/main/040/914/40914875/working/jupyter/covid_ct_segmentation/COVID-CT-Segmentation/Dataset2/LungInfection-train/Pseudo-label/GT/Data-1_coronacases_org_007_87\n",
      "/data/jwd/main/040/914/40914875/working/jupyter/covid_ct_segmentation/COVID-CT-Segmentation/Dataset2/LungInfection-train/Pseudo-label/GT/Data-1_coronacases_org_005_21\n"
     ]
    },
    {
     "name": "stderr",
     "output_type": "stream",
     "text": [
      " 20%|██        | 288/1405 [00:13<00:51, 21.64it/s]"
     ]
    },
    {
     "name": "stdout",
     "output_type": "stream",
     "text": [
      "/data/jwd/main/040/914/40914875/working/jupyter/covid_ct_segmentation/COVID-CT-Segmentation/Dataset2/LungInfection-train/Pseudo-label/GT/Data-1_coronacases_org_001_44\n",
      "/data/jwd/main/040/914/40914875/working/jupyter/covid_ct_segmentation/COVID-CT-Segmentation/Dataset2/LungInfection-train/Pseudo-label/GT/Data-1_coronacases_org_009_78\n",
      "/data/jwd/main/040/914/40914875/working/jupyter/covid_ct_segmentation/COVID-CT-Segmentation/Dataset2/LungInfection-train/Pseudo-label/GT/Data-1_radiopaedia_org_covid-19-pneumonia-29_86491_1-dcm_20\n"
     ]
    },
    {
     "name": "stderr",
     "output_type": "stream",
     "text": [
      " 21%|██        | 291/1405 [00:13<00:58, 19.03it/s]"
     ]
    },
    {
     "name": "stdout",
     "output_type": "stream",
     "text": [
      "/data/jwd/main/040/914/40914875/working/jupyter/covid_ct_segmentation/COVID-CT-Segmentation/Dataset2/LungInfection-train/Pseudo-label/GT/Data-1_radiopaedia_org_covid-19-pneumonia-10_85902_3-dcm_80\n",
      "/data/jwd/main/040/914/40914875/working/jupyter/covid_ct_segmentation/COVID-CT-Segmentation/Dataset2/LungInfection-train/Pseudo-label/GT/Data-1_radiopaedia_org_covid-19-pneumonia-10_85902_3-dcm_7\n",
      "/data/jwd/main/040/914/40914875/working/jupyter/covid_ct_segmentation/COVID-CT-Segmentation/Dataset2/LungInfection-train/Pseudo-label/GT/Data-1_coronacases_org_010_74\n",
      "/data/jwd/main/040/914/40914875/working/jupyter/covid_ct_segmentation/COVID-CT-Segmentation/Dataset2/LungInfection-train/Pseudo-label/GT/Data-1_coronacases_org_008_19\n"
     ]
    },
    {
     "name": "stderr",
     "output_type": "stream",
     "text": [
      " 21%|██        | 296/1405 [00:13<01:00, 18.33it/s]"
     ]
    },
    {
     "name": "stdout",
     "output_type": "stream",
     "text": [
      "/data/jwd/main/040/914/40914875/working/jupyter/covid_ct_segmentation/COVID-CT-Segmentation/Dataset2/LungInfection-train/Pseudo-label/GT/Data-1_coronacases_org_002_6\n",
      "/data/jwd/main/040/914/40914875/working/jupyter/covid_ct_segmentation/COVID-CT-Segmentation/Dataset2/LungInfection-train/Pseudo-label/GT/Data-1_coronacases_org_008_20\n",
      "/data/jwd/main/040/914/40914875/working/jupyter/covid_ct_segmentation/COVID-CT-Segmentation/Dataset2/LungInfection-train/Pseudo-label/GT/Data-1_coronacases_org_005_145\n",
      "/data/jwd/main/040/914/40914875/working/jupyter/covid_ct_segmentation/COVID-CT-Segmentation/Dataset2/LungInfection-train/Pseudo-label/GT/Data-1_radiopaedia_org_covid-19-pneumonia-10_85902_1-dcm_13\n",
      "/data/jwd/main/040/914/40914875/working/jupyter/covid_ct_segmentation/COVID-CT-Segmentation/Dataset2/LungInfection-train/Pseudo-label/GT/Data-1_radiopaedia_org_covid-19-pneumonia-10_85902_3-dcm_55\n"
     ]
    },
    {
     "name": "stderr",
     "output_type": "stream",
     "text": [
      " 22%|██▏       | 303/1405 [00:13<00:44, 24.92it/s]"
     ]
    },
    {
     "name": "stdout",
     "output_type": "stream",
     "text": [
      "/data/jwd/main/040/914/40914875/working/jupyter/covid_ct_segmentation/COVID-CT-Segmentation/Dataset2/LungInfection-train/Pseudo-label/GT/Data-1_coronacases_org_004_72\n",
      "/data/jwd/main/040/914/40914875/working/jupyter/covid_ct_segmentation/COVID-CT-Segmentation/Dataset2/LungInfection-train/Pseudo-label/GT/Data-1_coronacases_org_010_95\n",
      "/data/jwd/main/040/914/40914875/working/jupyter/covid_ct_segmentation/COVID-CT-Segmentation/Dataset2/LungInfection-train/Pseudo-label/GT/Data-1_radiopaedia_org_covid-19-pneumonia-14_85914_0-dcm_39\n",
      "/data/jwd/main/040/914/40914875/working/jupyter/covid_ct_segmentation/COVID-CT-Segmentation/Dataset2/LungInfection-train/Pseudo-label/GT/Data-1_coronacases_org_010_67\n",
      "/data/jwd/main/040/914/40914875/working/jupyter/covid_ct_segmentation/COVID-CT-Segmentation/Dataset2/LungInfection-train/Pseudo-label/GT/Data-1_coronacases_org_008_61\n",
      "/data/jwd/main/040/914/40914875/working/jupyter/covid_ct_segmentation/COVID-CT-Segmentation/Dataset2/LungInfection-train/Pseudo-label/GT/Data-1_coronacases_org_005_110\n",
      "/data/jwd/main/040/914/40914875/working/jupyter/covid_ct_segmentation/COVID-CT-Segmentation/Dataset2/LungInfection-train/Pseudo-label/GT/Data-1_coronacases_org_010_49\n"
     ]
    },
    {
     "name": "stderr",
     "output_type": "stream",
     "text": [
      " 22%|██▏       | 310/1405 [00:14<00:43, 25.24it/s]"
     ]
    },
    {
     "name": "stdout",
     "output_type": "stream",
     "text": [
      "/data/jwd/main/040/914/40914875/working/jupyter/covid_ct_segmentation/COVID-CT-Segmentation/Dataset2/LungInfection-train/Pseudo-label/GT/Data-1_coronacases_org_007_74\n",
      "/data/jwd/main/040/914/40914875/working/jupyter/covid_ct_segmentation/COVID-CT-Segmentation/Dataset2/LungInfection-train/Pseudo-label/GT/Data-1_coronacases_org_007_110\n",
      "/data/jwd/main/040/914/40914875/working/jupyter/covid_ct_segmentation/COVID-CT-Segmentation/Dataset2/LungInfection-train/Pseudo-label/GT/Data-1_radiopaedia_org_covid-19-pneumonia-14_85914_0-dcm_22\n",
      "/data/jwd/main/040/914/40914875/working/jupyter/covid_ct_segmentation/COVID-CT-Segmentation/Dataset2/LungInfection-train/Pseudo-label/GT/Data-1_coronacases_org_006_61\n",
      "/data/jwd/main/040/914/40914875/working/jupyter/covid_ct_segmentation/COVID-CT-Segmentation/Dataset2/LungInfection-train/Pseudo-label/GT/Data-1_radiopaedia_org_covid-19-pneumonia-10_85902_3-dcm_197\n",
      "/data/jwd/main/040/914/40914875/working/jupyter/covid_ct_segmentation/COVID-CT-Segmentation/Dataset2/LungInfection-train/Pseudo-label/GT/Data-1_coronacases_org_006_39\n"
     ]
    },
    {
     "name": "stderr",
     "output_type": "stream",
     "text": [
      " 22%|██▏       | 316/1405 [00:14<00:40, 26.65it/s]"
     ]
    },
    {
     "name": "stdout",
     "output_type": "stream",
     "text": [
      "/data/jwd/main/040/914/40914875/working/jupyter/covid_ct_segmentation/COVID-CT-Segmentation/Dataset2/LungInfection-train/Pseudo-label/GT/Data-1_radiopaedia_org_covid-19-pneumonia-10_85902_3-dcm_174\n",
      "/data/jwd/main/040/914/40914875/working/jupyter/covid_ct_segmentation/COVID-CT-Segmentation/Dataset2/LungInfection-train/Pseudo-label/GT/Data-1_coronacases_org_010_1\n",
      "/data/jwd/main/040/914/40914875/working/jupyter/covid_ct_segmentation/COVID-CT-Segmentation/Dataset2/LungInfection-train/Pseudo-label/GT/Data-1_coronacases_org_008_39\n",
      "/data/jwd/main/040/914/40914875/working/jupyter/covid_ct_segmentation/COVID-CT-Segmentation/Dataset2/LungInfection-train/Pseudo-label/GT/Data-1_radiopaedia_org_covid-19-pneumonia-14_85914_0-dcm_53\n",
      "/data/jwd/main/040/914/40914875/working/jupyter/covid_ct_segmentation/COVID-CT-Segmentation/Dataset2/LungInfection-train/Pseudo-label/GT/Data-1_coronacases_org_005_113\n"
     ]
    },
    {
     "name": "stderr",
     "output_type": "stream",
     "text": [
      " 23%|██▎       | 319/1405 [00:14<00:39, 27.38it/s]"
     ]
    },
    {
     "name": "stdout",
     "output_type": "stream",
     "text": [
      "/data/jwd/main/040/914/40914875/working/jupyter/covid_ct_segmentation/COVID-CT-Segmentation/Dataset2/LungInfection-train/Pseudo-label/GT/Data-1_coronacases_org_004_79\n",
      "/data/jwd/main/040/914/40914875/working/jupyter/covid_ct_segmentation/COVID-CT-Segmentation/Dataset2/LungInfection-train/Pseudo-label/GT/Data-1_coronacases_org_010_71\n",
      "/data/jwd/main/040/914/40914875/working/jupyter/covid_ct_segmentation/COVID-CT-Segmentation/Dataset2/LungInfection-train/Pseudo-label/GT/Data-1_coronacases_org_007_113\n",
      "/data/jwd/main/040/914/40914875/working/jupyter/covid_ct_segmentation/COVID-CT-Segmentation/Dataset2/LungInfection-train/Pseudo-label/GT/Data-1_radiopaedia_org_covid-19-pneumonia-4_85506_1-dcm_7\n",
      "/data/jwd/main/040/914/40914875/working/jupyter/covid_ct_segmentation/COVID-CT-Segmentation/Dataset2/LungInfection-train/Pseudo-label/GT/Data-1_coronacases_org_005_9\n"
     ]
    },
    {
     "name": "stderr",
     "output_type": "stream",
     "text": [
      " 23%|██▎       | 325/1405 [00:14<00:44, 24.22it/s]"
     ]
    },
    {
     "name": "stdout",
     "output_type": "stream",
     "text": [
      "/data/jwd/main/040/914/40914875/working/jupyter/covid_ct_segmentation/COVID-CT-Segmentation/Dataset2/LungInfection-train/Pseudo-label/GT/Data-1_coronacases_org_005_124\n",
      "/data/jwd/main/040/914/40914875/working/jupyter/covid_ct_segmentation/COVID-CT-Segmentation/Dataset2/LungInfection-train/Pseudo-label/GT/Data-1_coronacases_org_009_1\n",
      "/data/jwd/main/040/914/40914875/working/jupyter/covid_ct_segmentation/COVID-CT-Segmentation/Dataset2/LungInfection-train/Pseudo-label/GT/Data-1_coronacases_org_007_27\n",
      "/data/jwd/main/040/914/40914875/working/jupyter/covid_ct_segmentation/COVID-CT-Segmentation/Dataset2/LungInfection-train/Pseudo-label/GT/Data-1_coronacases_org_005_76\n",
      "/data/jwd/main/040/914/40914875/working/jupyter/covid_ct_segmentation/COVID-CT-Segmentation/Dataset2/LungInfection-train/Pseudo-label/GT/Data-1_radiopaedia_org_covid-19-pneumonia-10_85902_3-dcm_78\n"
     ]
    },
    {
     "name": "stderr",
     "output_type": "stream",
     "text": [
      " 24%|██▎       | 331/1405 [00:15<00:40, 26.21it/s]"
     ]
    },
    {
     "name": "stdout",
     "output_type": "stream",
     "text": [
      "/data/jwd/main/040/914/40914875/working/jupyter/covid_ct_segmentation/COVID-CT-Segmentation/Dataset2/LungInfection-train/Pseudo-label/GT/Data-1_coronacases_org_004_62\n",
      "/data/jwd/main/040/914/40914875/working/jupyter/covid_ct_segmentation/COVID-CT-Segmentation/Dataset2/LungInfection-train/Pseudo-label/GT/Data-1_coronacases_org_003_68\n",
      "/data/jwd/main/040/914/40914875/working/jupyter/covid_ct_segmentation/COVID-CT-Segmentation/Dataset2/LungInfection-train/Pseudo-label/GT/Data-1_coronacases_org_004_91\n",
      "/data/jwd/main/040/914/40914875/working/jupyter/covid_ct_segmentation/COVID-CT-Segmentation/Dataset2/LungInfection-train/Pseudo-label/GT/Data-1_radiopaedia_org_covid-19-pneumonia-14_85914_0-dcm_56\n",
      "/data/jwd/main/040/914/40914875/working/jupyter/covid_ct_segmentation/COVID-CT-Segmentation/Dataset2/LungInfection-train/Pseudo-label/GT/Data-1_radiopaedia_org_covid-19-pneumonia-40_86625_0-dcm_33\n",
      "/data/jwd/main/040/914/40914875/working/jupyter/covid_ct_segmentation/COVID-CT-Segmentation/Dataset2/LungInfection-train/Pseudo-label/GT/Data-1_coronacases_org_007_45\n"
     ]
    },
    {
     "name": "stderr",
     "output_type": "stream",
     "text": [
      " 24%|██▍       | 338/1405 [00:15<00:35, 29.81it/s]"
     ]
    },
    {
     "name": "stdout",
     "output_type": "stream",
     "text": [
      "/data/jwd/main/040/914/40914875/working/jupyter/covid_ct_segmentation/COVID-CT-Segmentation/Dataset2/LungInfection-train/Pseudo-label/GT/Data-1_coronacases_org_004_125\n",
      "/data/jwd/main/040/914/40914875/working/jupyter/covid_ct_segmentation/COVID-CT-Segmentation/Dataset2/LungInfection-train/Pseudo-label/GT/Data-1_radiopaedia_org_covid-19-pneumonia-10_85902_3-dcm_23\n",
      "/data/jwd/main/040/914/40914875/working/jupyter/covid_ct_segmentation/COVID-CT-Segmentation/Dataset2/LungInfection-train/Pseudo-label/GT/Data-1_coronacases_org_010_7\n",
      "/data/jwd/main/040/914/40914875/working/jupyter/covid_ct_segmentation/COVID-CT-Segmentation/Dataset2/LungInfection-train/Pseudo-label/GT/Data-1_radiopaedia_org_covid-19-pneumonia-29_86490_1-dcm_5\n",
      "/data/jwd/main/040/914/40914875/working/jupyter/covid_ct_segmentation/COVID-CT-Segmentation/Dataset2/LungInfection-train/Pseudo-label/GT/Data-1_radiopaedia_org_covid-19-pneumonia-29_86490_1-dcm_14\n",
      "/data/jwd/main/040/914/40914875/working/jupyter/covid_ct_segmentation/COVID-CT-Segmentation/Dataset2/LungInfection-train/Pseudo-label/GT/Data-1_radiopaedia_org_covid-19-pneumonia-10_85902_1-dcm_12\n",
      "/data/jwd/main/040/914/40914875/working/jupyter/covid_ct_segmentation/COVID-CT-Segmentation/Dataset2/LungInfection-train/Pseudo-label/GT/Data-1_coronacases_org_004_96\n"
     ]
    },
    {
     "name": "stderr",
     "output_type": "stream",
     "text": [
      " 25%|██▍       | 346/1405 [00:15<00:35, 30.13it/s]"
     ]
    },
    {
     "name": "stdout",
     "output_type": "stream",
     "text": [
      "/data/jwd/main/040/914/40914875/working/jupyter/covid_ct_segmentation/COVID-CT-Segmentation/Dataset2/LungInfection-train/Pseudo-label/GT/Data-1_coronacases_org_007_84\n",
      "/data/jwd/main/040/914/40914875/working/jupyter/covid_ct_segmentation/COVID-CT-Segmentation/Dataset2/LungInfection-train/Pseudo-label/GT/Data-1_radiopaedia_org_covid-19-pneumonia-10_85902_3-dcm_47\n",
      "/data/jwd/main/040/914/40914875/working/jupyter/covid_ct_segmentation/COVID-CT-Segmentation/Dataset2/LungInfection-train/Pseudo-label/GT/Data-1_coronacases_org_006_27\n",
      "/data/jwd/main/040/914/40914875/working/jupyter/covid_ct_segmentation/COVID-CT-Segmentation/Dataset2/LungInfection-train/Pseudo-label/GT/Data-1_coronacases_org_003_27\n",
      "/data/jwd/main/040/914/40914875/working/jupyter/covid_ct_segmentation/COVID-CT-Segmentation/Dataset2/LungInfection-train/Pseudo-label/GT/Data-1_coronacases_org_002_15\n",
      "/data/jwd/main/040/914/40914875/working/jupyter/covid_ct_segmentation/COVID-CT-Segmentation/Dataset2/LungInfection-train/Pseudo-label/GT/Data-1_coronacases_org_010_75\n",
      "/data/jwd/main/040/914/40914875/working/jupyter/covid_ct_segmentation/COVID-CT-Segmentation/Dataset2/LungInfection-train/Pseudo-label/GT/Data-1_coronacases_org_005_162\n",
      "/data/jwd/main/040/914/40914875/working/jupyter/covid_ct_segmentation/COVID-CT-Segmentation/Dataset2/LungInfection-train/Pseudo-label/GT/Data-1_radiopaedia_org_covid-19-pneumonia-10_85902_3-dcm_159\n"
     ]
    },
    {
     "name": "stderr",
     "output_type": "stream",
     "text": [
      " 25%|██▌       | 354/1405 [00:15<00:31, 33.78it/s]"
     ]
    },
    {
     "name": "stdout",
     "output_type": "stream",
     "text": [
      "/data/jwd/main/040/914/40914875/working/jupyter/covid_ct_segmentation/COVID-CT-Segmentation/Dataset2/LungInfection-train/Pseudo-label/GT/Data-1_coronacases_org_001_76\n",
      "/data/jwd/main/040/914/40914875/working/jupyter/covid_ct_segmentation/COVID-CT-Segmentation/Dataset2/LungInfection-train/Pseudo-label/GT/Data-1_coronacases_org_007_48\n",
      "/data/jwd/main/040/914/40914875/working/jupyter/covid_ct_segmentation/COVID-CT-Segmentation/Dataset2/LungInfection-train/Pseudo-label/GT/Data-1_coronacases_org_009_104\n",
      "/data/jwd/main/040/914/40914875/working/jupyter/covid_ct_segmentation/COVID-CT-Segmentation/Dataset2/LungInfection-train/Pseudo-label/GT/Data-1_coronacases_org_008_124\n",
      "/data/jwd/main/040/914/40914875/working/jupyter/covid_ct_segmentation/COVID-CT-Segmentation/Dataset2/LungInfection-train/Pseudo-label/GT/Data-1_radiopaedia_org_covid-19-pneumonia-29_86491_1-dcm_1\n",
      "/data/jwd/main/040/914/40914875/working/jupyter/covid_ct_segmentation/COVID-CT-Segmentation/Dataset2/LungInfection-train/Pseudo-label/GT/Data-1_coronacases_org_009_63\n",
      "/data/jwd/main/040/914/40914875/working/jupyter/covid_ct_segmentation/COVID-CT-Segmentation/Dataset2/LungInfection-train/Pseudo-label/GT/Data-1_coronacases_org_001_78\n"
     ]
    },
    {
     "name": "stderr",
     "output_type": "stream",
     "text": [
      " 25%|██▌       | 358/1405 [00:15<00:30, 34.86it/s]"
     ]
    },
    {
     "name": "stdout",
     "output_type": "stream",
     "text": [
      "/data/jwd/main/040/914/40914875/working/jupyter/covid_ct_segmentation/COVID-CT-Segmentation/Dataset2/LungInfection-train/Pseudo-label/GT/Data-1_radiopaedia_org_covid-19-pneumonia-14_85914_0-dcm_61\n",
      "/data/jwd/main/040/914/40914875/working/jupyter/covid_ct_segmentation/COVID-CT-Segmentation/Dataset2/LungInfection-train/Pseudo-label/GT/Data-1_coronacases_org_003_58\n",
      "/data/jwd/main/040/914/40914875/working/jupyter/covid_ct_segmentation/COVID-CT-Segmentation/Dataset2/LungInfection-train/Pseudo-label/GT/Data-1_radiopaedia_org_covid-19-pneumonia-29_86491_1-dcm_15\n",
      "/data/jwd/main/040/914/40914875/working/jupyter/covid_ct_segmentation/COVID-CT-Segmentation/Dataset2/LungInfection-train/Pseudo-label/GT/Data-1_coronacases_org_001_33\n",
      "/data/jwd/main/040/914/40914875/working/jupyter/covid_ct_segmentation/COVID-CT-Segmentation/Dataset2/LungInfection-train/Pseudo-label/GT/Data-1_coronacases_org_002_44\n",
      "/data/jwd/main/040/914/40914875/working/jupyter/covid_ct_segmentation/COVID-CT-Segmentation/Dataset2/LungInfection-train/Pseudo-label/GT/Data-1_radiopaedia_org_covid-19-pneumonia-10_85902_3-dcm_157\n",
      "/data/jwd/main/040/914/40914875/working/jupyter/covid_ct_segmentation/COVID-CT-Segmentation/Dataset2/LungInfection-train/Pseudo-label/GT/Data-1_coronacases_org_001_5\n",
      "/data/jwd/main/040/914/40914875/working/jupyter/covid_ct_segmentation/COVID-CT-Segmentation/Dataset2/LungInfection-train/Pseudo-label/GT/Data-1_coronacases_org_007_66\n"
     ]
    },
    {
     "name": "stderr",
     "output_type": "stream",
     "text": [
      " 26%|██▌       | 366/1405 [00:16<00:34, 30.33it/s]"
     ]
    },
    {
     "name": "stdout",
     "output_type": "stream",
     "text": [
      "/data/jwd/main/040/914/40914875/working/jupyter/covid_ct_segmentation/COVID-CT-Segmentation/Dataset2/LungInfection-train/Pseudo-label/GT/Data-1_radiopaedia_org_covid-19-pneumonia-10_85902_1-dcm_4\n",
      "/data/jwd/main/040/914/40914875/working/jupyter/covid_ct_segmentation/COVID-CT-Segmentation/Dataset2/LungInfection-train/Pseudo-label/GT/Data-1_coronacases_org_008_2\n",
      "/data/jwd/main/040/914/40914875/working/jupyter/covid_ct_segmentation/COVID-CT-Segmentation/Dataset2/LungInfection-train/Pseudo-label/GT/Data-1_coronacases_org_001_71\n",
      "/data/jwd/main/040/914/40914875/working/jupyter/covid_ct_segmentation/COVID-CT-Segmentation/Dataset2/LungInfection-train/Pseudo-label/GT/Data-1_coronacases_org_008_37\n",
      "/data/jwd/main/040/914/40914875/working/jupyter/covid_ct_segmentation/COVID-CT-Segmentation/Dataset2/LungInfection-train/Pseudo-label/GT/Data-1_coronacases_org_005_72\n",
      "/data/jwd/main/040/914/40914875/working/jupyter/covid_ct_segmentation/COVID-CT-Segmentation/Dataset2/LungInfection-train/Pseudo-label/GT/Data-1_coronacases_org_001_92\n",
      "/data/jwd/main/040/914/40914875/working/jupyter/covid_ct_segmentation/COVID-CT-Segmentation/Dataset2/LungInfection-train/Pseudo-label/GT/Data-1_coronacases_org_008_7\n"
     ]
    },
    {
     "name": "stderr",
     "output_type": "stream",
     "text": [
      " 27%|██▋       | 374/1405 [00:16<00:30, 33.30it/s]"
     ]
    },
    {
     "name": "stdout",
     "output_type": "stream",
     "text": [
      "/data/jwd/main/040/914/40914875/working/jupyter/covid_ct_segmentation/COVID-CT-Segmentation/Dataset2/LungInfection-train/Pseudo-label/GT/Data-1_coronacases_org_009_39\n",
      "/data/jwd/main/040/914/40914875/working/jupyter/covid_ct_segmentation/COVID-CT-Segmentation/Dataset2/LungInfection-train/Pseudo-label/GT/Data-1_coronacases_org_007_102\n",
      "/data/jwd/main/040/914/40914875/working/jupyter/covid_ct_segmentation/COVID-CT-Segmentation/Dataset2/LungInfection-train/Pseudo-label/GT/Data-1_coronacases_org_005_88\n",
      "/data/jwd/main/040/914/40914875/working/jupyter/covid_ct_segmentation/COVID-CT-Segmentation/Dataset2/LungInfection-train/Pseudo-label/GT/Data-1_coronacases_org_004_101\n",
      "/data/jwd/main/040/914/40914875/working/jupyter/covid_ct_segmentation/COVID-CT-Segmentation/Dataset2/LungInfection-train/Pseudo-label/GT/Data-1_radiopaedia_org_covid-19-pneumonia-10_85902_3-dcm_135\n",
      "/data/jwd/main/040/914/40914875/working/jupyter/covid_ct_segmentation/COVID-CT-Segmentation/Dataset2/LungInfection-train/Pseudo-label/GT/Data-1_coronacases_org_005_99\n",
      "/data/jwd/main/040/914/40914875/working/jupyter/covid_ct_segmentation/COVID-CT-Segmentation/Dataset2/LungInfection-train/Pseudo-label/GT/Data-1_radiopaedia_org_covid-19-pneumonia-10_85902_3-dcm_121\n"
     ]
    },
    {
     "name": "stderr",
     "output_type": "stream",
     "text": [
      " 27%|██▋       | 378/1405 [00:16<00:36, 28.05it/s]"
     ]
    },
    {
     "name": "stdout",
     "output_type": "stream",
     "text": [
      "/data/jwd/main/040/914/40914875/working/jupyter/covid_ct_segmentation/COVID-CT-Segmentation/Dataset2/LungInfection-train/Pseudo-label/GT/Data-1_coronacases_org_004_28\n",
      "/data/jwd/main/040/914/40914875/working/jupyter/covid_ct_segmentation/COVID-CT-Segmentation/Dataset2/LungInfection-train/Pseudo-label/GT/Data-1_coronacases_org_008_70\n",
      "/data/jwd/main/040/914/40914875/working/jupyter/covid_ct_segmentation/COVID-CT-Segmentation/Dataset2/LungInfection-train/Pseudo-label/GT/Data-1_coronacases_org_006_77\n",
      "/data/jwd/main/040/914/40914875/working/jupyter/covid_ct_segmentation/COVID-CT-Segmentation/Dataset2/LungInfection-train/Pseudo-label/GT/Data-1_coronacases_org_010_34\n"
     ]
    },
    {
     "name": "stderr",
     "output_type": "stream",
     "text": [
      " 27%|██▋       | 385/1405 [00:16<00:39, 25.78it/s]"
     ]
    },
    {
     "name": "stdout",
     "output_type": "stream",
     "text": [
      "/data/jwd/main/040/914/40914875/working/jupyter/covid_ct_segmentation/COVID-CT-Segmentation/Dataset2/LungInfection-train/Pseudo-label/GT/Data-1_coronacases_org_002_30\n",
      "/data/jwd/main/040/914/40914875/working/jupyter/covid_ct_segmentation/COVID-CT-Segmentation/Dataset2/LungInfection-train/Pseudo-label/GT/Data-1_coronacases_org_005_13\n",
      "/data/jwd/main/040/914/40914875/working/jupyter/covid_ct_segmentation/COVID-CT-Segmentation/Dataset2/LungInfection-train/Pseudo-label/GT/Data-1_radiopaedia_org_covid-19-pneumonia-10_85902_3-dcm_26\n",
      "/data/jwd/main/040/914/40914875/working/jupyter/covid_ct_segmentation/COVID-CT-Segmentation/Dataset2/LungInfection-train/Pseudo-label/GT/Data-1_coronacases_org_009_48\n",
      "/data/jwd/main/040/914/40914875/working/jupyter/covid_ct_segmentation/COVID-CT-Segmentation/Dataset2/LungInfection-train/Pseudo-label/GT/Data-1_radiopaedia_org_covid-19-pneumonia-27_86410_0-dcm_12\n"
     ]
    },
    {
     "name": "stderr",
     "output_type": "stream",
     "text": [
      " 28%|██▊       | 388/1405 [00:16<00:38, 26.21it/s]"
     ]
    },
    {
     "name": "stdout",
     "output_type": "stream",
     "text": [
      "/data/jwd/main/040/914/40914875/working/jupyter/covid_ct_segmentation/COVID-CT-Segmentation/Dataset2/LungInfection-train/Pseudo-label/GT/Data-1_radiopaedia_org_covid-19-pneumonia-36_86526_0-dcm_19\n",
      "/data/jwd/main/040/914/40914875/working/jupyter/covid_ct_segmentation/COVID-CT-Segmentation/Dataset2/LungInfection-train/Pseudo-label/GT/Data-1_coronacases_org_007_59\n",
      "/data/jwd/main/040/914/40914875/working/jupyter/covid_ct_segmentation/COVID-CT-Segmentation/Dataset2/LungInfection-train/Pseudo-label/GT/Data-1_coronacases_org_009_16\n",
      "/data/jwd/main/040/914/40914875/working/jupyter/covid_ct_segmentation/COVID-CT-Segmentation/Dataset2/LungInfection-train/Pseudo-label/GT/Data-1_coronacases_org_004_21\n",
      "/data/jwd/main/040/914/40914875/working/jupyter/covid_ct_segmentation/COVID-CT-Segmentation/Dataset2/LungInfection-train/Pseudo-label/GT/Data-1_coronacases_org_004_17\n"
     ]
    },
    {
     "name": "stderr",
     "output_type": "stream",
     "text": [
      " 28%|██▊       | 391/1405 [00:17<00:44, 22.96it/s]"
     ]
    },
    {
     "name": "stdout",
     "output_type": "stream",
     "text": [
      "/data/jwd/main/040/914/40914875/working/jupyter/covid_ct_segmentation/COVID-CT-Segmentation/Dataset2/LungInfection-train/Pseudo-label/GT/Data-1_radiopaedia_org_covid-19-pneumonia-10_85902_3-dcm_139\n",
      "/data/jwd/main/040/914/40914875/working/jupyter/covid_ct_segmentation/COVID-CT-Segmentation/Dataset2/LungInfection-train/Pseudo-label/GT/Data-1_coronacases_org_004_104\n",
      "/data/jwd/main/040/914/40914875/working/jupyter/covid_ct_segmentation/COVID-CT-Segmentation/Dataset2/LungInfection-train/Pseudo-label/GT/Data-1_radiopaedia_org_covid-19-pneumonia-40_86625_0-dcm_29\n",
      "/data/jwd/main/040/914/40914875/working/jupyter/covid_ct_segmentation/COVID-CT-Segmentation/Dataset2/LungInfection-train/Pseudo-label/GT/Data-1_coronacases_org_004_37\n"
     ]
    },
    {
     "name": "stderr",
     "output_type": "stream",
     "text": [
      " 28%|██▊       | 397/1405 [00:17<00:46, 21.74it/s]"
     ]
    },
    {
     "name": "stdout",
     "output_type": "stream",
     "text": [
      "/data/jwd/main/040/914/40914875/working/jupyter/covid_ct_segmentation/COVID-CT-Segmentation/Dataset2/LungInfection-train/Pseudo-label/GT/Data-1_coronacases_org_009_79\n",
      "/data/jwd/main/040/914/40914875/working/jupyter/covid_ct_segmentation/COVID-CT-Segmentation/Dataset2/LungInfection-train/Pseudo-label/GT/Data-1_coronacases_org_009_30\n",
      "/data/jwd/main/040/914/40914875/working/jupyter/covid_ct_segmentation/COVID-CT-Segmentation/Dataset2/LungInfection-train/Pseudo-label/GT/Data-1_coronacases_org_004_26\n",
      "/data/jwd/main/040/914/40914875/working/jupyter/covid_ct_segmentation/COVID-CT-Segmentation/Dataset2/LungInfection-train/Pseudo-label/GT/Data-1_coronacases_org_002_23\n",
      "/data/jwd/main/040/914/40914875/working/jupyter/covid_ct_segmentation/COVID-CT-Segmentation/Dataset2/LungInfection-train/Pseudo-label/GT/Data-1_coronacases_org_008_28\n"
     ]
    },
    {
     "name": "stderr",
     "output_type": "stream",
     "text": [
      " 29%|██▊       | 403/1405 [00:17<00:46, 21.45it/s]"
     ]
    },
    {
     "name": "stdout",
     "output_type": "stream",
     "text": [
      "/data/jwd/main/040/914/40914875/working/jupyter/covid_ct_segmentation/COVID-CT-Segmentation/Dataset2/LungInfection-train/Pseudo-label/GT/Data-1_coronacases_org_008_52\n",
      "/data/jwd/main/040/914/40914875/working/jupyter/covid_ct_segmentation/COVID-CT-Segmentation/Dataset2/LungInfection-train/Pseudo-label/GT/Data-1_coronacases_org_008_92\n",
      "/data/jwd/main/040/914/40914875/working/jupyter/covid_ct_segmentation/COVID-CT-Segmentation/Dataset2/LungInfection-train/Pseudo-label/GT/Data-1_radiopaedia_org_covid-19-pneumonia-7_85703_0-dcm_21\n",
      "/data/jwd/main/040/914/40914875/working/jupyter/covid_ct_segmentation/COVID-CT-Segmentation/Dataset2/LungInfection-train/Pseudo-label/GT/Data-1_coronacases_org_001_19\n",
      "/data/jwd/main/040/914/40914875/working/jupyter/covid_ct_segmentation/COVID-CT-Segmentation/Dataset2/LungInfection-train/Pseudo-label/GT/Data-1_coronacases_org_003_43\n"
     ]
    },
    {
     "name": "stderr",
     "output_type": "stream",
     "text": [
      " 29%|██▉       | 409/1405 [00:17<00:40, 24.40it/s]"
     ]
    },
    {
     "name": "stdout",
     "output_type": "stream",
     "text": [
      "/data/jwd/main/040/914/40914875/working/jupyter/covid_ct_segmentation/COVID-CT-Segmentation/Dataset2/LungInfection-train/Pseudo-label/GT/Data-1_coronacases_org_004_46\n",
      "/data/jwd/main/040/914/40914875/working/jupyter/covid_ct_segmentation/COVID-CT-Segmentation/Dataset2/LungInfection-train/Pseudo-label/GT/Data-1_coronacases_org_007_92\n",
      "/data/jwd/main/040/914/40914875/working/jupyter/covid_ct_segmentation/COVID-CT-Segmentation/Dataset2/LungInfection-train/Pseudo-label/GT/Data-1_radiopaedia_org_covid-19-pneumonia-10_85902_3-dcm_202\n",
      "/data/jwd/main/040/914/40914875/working/jupyter/covid_ct_segmentation/COVID-CT-Segmentation/Dataset2/LungInfection-train/Pseudo-label/GT/Data-1_coronacases_org_002_68\n",
      "/data/jwd/main/040/914/40914875/working/jupyter/covid_ct_segmentation/COVID-CT-Segmentation/Dataset2/LungInfection-train/Pseudo-label/GT/Data-1_coronacases_org_002_25\n",
      "/data/jwd/main/040/914/40914875/working/jupyter/covid_ct_segmentation/COVID-CT-Segmentation/Dataset2/LungInfection-train/Pseudo-label/GT/Data-1_coronacases_org_005_61\n"
     ]
    },
    {
     "name": "stderr",
     "output_type": "stream",
     "text": [
      " 29%|██▉       | 412/1405 [00:18<00:46, 21.58it/s]"
     ]
    },
    {
     "name": "stdout",
     "output_type": "stream",
     "text": [
      "/data/jwd/main/040/914/40914875/working/jupyter/covid_ct_segmentation/COVID-CT-Segmentation/Dataset2/LungInfection-train/Pseudo-label/GT/Data-1_radiopaedia_org_covid-19-pneumonia-14_85914_0-dcm_44\n",
      "/data/jwd/main/040/914/40914875/working/jupyter/covid_ct_segmentation/COVID-CT-Segmentation/Dataset2/LungInfection-train/Pseudo-label/GT/Data-1_radiopaedia_org_covid-19-pneumonia-10_85902_1-dcm_10\n",
      "/data/jwd/main/040/914/40914875/working/jupyter/covid_ct_segmentation/COVID-CT-Segmentation/Dataset2/LungInfection-train/Pseudo-label/GT/Data-1_coronacases_org_005_112\n",
      "/data/jwd/main/040/914/40914875/working/jupyter/covid_ct_segmentation/COVID-CT-Segmentation/Dataset2/LungInfection-train/Pseudo-label/GT/Data-1_coronacases_org_004_49\n",
      "/data/jwd/main/040/914/40914875/working/jupyter/covid_ct_segmentation/COVID-CT-Segmentation/Dataset2/LungInfection-train/Pseudo-label/GT/Data-1_coronacases_org_004_4\n"
     ]
    },
    {
     "name": "stderr",
     "output_type": "stream",
     "text": [
      " 30%|██▉       | 418/1405 [00:18<00:50, 19.64it/s]"
     ]
    },
    {
     "name": "stdout",
     "output_type": "stream",
     "text": [
      "/data/jwd/main/040/914/40914875/working/jupyter/covid_ct_segmentation/COVID-CT-Segmentation/Dataset2/LungInfection-train/Pseudo-label/GT/Data-1_coronacases_org_002_49\n",
      "/data/jwd/main/040/914/40914875/working/jupyter/covid_ct_segmentation/COVID-CT-Segmentation/Dataset2/LungInfection-train/Pseudo-label/GT/Data-1_radiopaedia_org_covid-19-pneumonia-4_85506_1-dcm_9\n",
      "/data/jwd/main/040/914/40914875/working/jupyter/covid_ct_segmentation/COVID-CT-Segmentation/Dataset2/LungInfection-train/Pseudo-label/GT/Data-1_radiopaedia_org_covid-19-pneumonia-36_86526_0-dcm_33\n",
      "/data/jwd/main/040/914/40914875/working/jupyter/covid_ct_segmentation/COVID-CT-Segmentation/Dataset2/LungInfection-train/Pseudo-label/GT/Data-1_coronacases_org_001_41\n"
     ]
    },
    {
     "name": "stderr",
     "output_type": "stream",
     "text": [
      " 30%|██▉       | 421/1405 [00:18<00:46, 21.16it/s]"
     ]
    },
    {
     "name": "stdout",
     "output_type": "stream",
     "text": [
      "/data/jwd/main/040/914/40914875/working/jupyter/covid_ct_segmentation/COVID-CT-Segmentation/Dataset2/LungInfection-train/Pseudo-label/GT/Data-1_coronacases_org_010_63\n",
      "/data/jwd/main/040/914/40914875/working/jupyter/covid_ct_segmentation/COVID-CT-Segmentation/Dataset2/LungInfection-train/Pseudo-label/GT/Data-1_coronacases_org_005_148\n",
      "/data/jwd/main/040/914/40914875/working/jupyter/covid_ct_segmentation/COVID-CT-Segmentation/Dataset2/LungInfection-train/Pseudo-label/GT/Data-1_coronacases_org_009_18\n",
      "/data/jwd/main/040/914/40914875/working/jupyter/covid_ct_segmentation/COVID-CT-Segmentation/Dataset2/LungInfection-train/Pseudo-label/GT/Data-1_coronacases_org_009_23\n",
      "/data/jwd/main/040/914/40914875/working/jupyter/covid_ct_segmentation/COVID-CT-Segmentation/Dataset2/LungInfection-train/Pseudo-label/GT/Data-1_coronacases_org_004_53\n"
     ]
    },
    {
     "name": "stderr",
     "output_type": "stream",
     "text": [
      " 30%|███       | 427/1405 [00:18<00:53, 18.17it/s]"
     ]
    },
    {
     "name": "stdout",
     "output_type": "stream",
     "text": [
      "/data/jwd/main/040/914/40914875/working/jupyter/covid_ct_segmentation/COVID-CT-Segmentation/Dataset2/LungInfection-train/Pseudo-label/GT/Data-1_coronacases_org_010_85\n",
      "/data/jwd/main/040/914/40914875/working/jupyter/covid_ct_segmentation/COVID-CT-Segmentation/Dataset2/LungInfection-train/Pseudo-label/GT/Data-1_coronacases_org_005_139\n",
      "/data/jwd/main/040/914/40914875/working/jupyter/covid_ct_segmentation/COVID-CT-Segmentation/Dataset2/LungInfection-train/Pseudo-label/GT/Data-1_coronacases_org_005_23\n",
      "/data/jwd/main/040/914/40914875/working/jupyter/covid_ct_segmentation/COVID-CT-Segmentation/Dataset2/LungInfection-train/Pseudo-label/GT/Data-1_coronacases_org_006_6\n"
     ]
    },
    {
     "name": "stderr",
     "output_type": "stream",
     "text": [
      " 31%|███       | 431/1405 [00:19<00:52, 18.38it/s]"
     ]
    },
    {
     "name": "stdout",
     "output_type": "stream",
     "text": [
      "/data/jwd/main/040/914/40914875/working/jupyter/covid_ct_segmentation/COVID-CT-Segmentation/Dataset2/LungInfection-train/Pseudo-label/GT/Data-1_coronacases_org_005_117\n",
      "/data/jwd/main/040/914/40914875/working/jupyter/covid_ct_segmentation/COVID-CT-Segmentation/Dataset2/LungInfection-train/Pseudo-label/GT/Data-1_radiopaedia_org_covid-19-pneumonia-40_86625_0-dcm_17\n",
      "/data/jwd/main/040/914/40914875/working/jupyter/covid_ct_segmentation/COVID-CT-Segmentation/Dataset2/LungInfection-train/Pseudo-label/GT/Data-1_coronacases_org_009_96\n",
      "/data/jwd/main/040/914/40914875/working/jupyter/covid_ct_segmentation/COVID-CT-Segmentation/Dataset2/LungInfection-train/Pseudo-label/GT/Data-1_radiopaedia_org_covid-19-pneumonia-14_85914_0-dcm_19\n"
     ]
    },
    {
     "name": "stderr",
     "output_type": "stream",
     "text": [
      " 31%|███       | 437/1405 [00:19<00:41, 23.57it/s]"
     ]
    },
    {
     "name": "stdout",
     "output_type": "stream",
     "text": [
      "/data/jwd/main/040/914/40914875/working/jupyter/covid_ct_segmentation/COVID-CT-Segmentation/Dataset2/LungInfection-train/Pseudo-label/GT/Data-1_coronacases_org_008_115\n",
      "/data/jwd/main/040/914/40914875/working/jupyter/covid_ct_segmentation/COVID-CT-Segmentation/Dataset2/LungInfection-train/Pseudo-label/GT/Data-1_coronacases_org_007_18\n",
      "/data/jwd/main/040/914/40914875/working/jupyter/covid_ct_segmentation/COVID-CT-Segmentation/Dataset2/LungInfection-train/Pseudo-label/GT/Data-1_coronacases_org_009_88\n",
      "/data/jwd/main/040/914/40914875/working/jupyter/covid_ct_segmentation/COVID-CT-Segmentation/Dataset2/LungInfection-train/Pseudo-label/GT/Data-1_coronacases_org_008_65\n",
      "/data/jwd/main/040/914/40914875/working/jupyter/covid_ct_segmentation/COVID-CT-Segmentation/Dataset2/LungInfection-train/Pseudo-label/GT/Data-1_coronacases_org_005_95\n",
      "/data/jwd/main/040/914/40914875/working/jupyter/covid_ct_segmentation/COVID-CT-Segmentation/Dataset2/LungInfection-train/Pseudo-label/GT/Data-1_radiopaedia_org_covid-19-pneumonia-27_86410_0-dcm_21\n",
      "/data/jwd/main/040/914/40914875/working/jupyter/covid_ct_segmentation/COVID-CT-Segmentation/Dataset2/LungInfection-train/Pseudo-label/GT/Data-1_coronacases_org_005_134\n"
     ]
    },
    {
     "name": "stderr",
     "output_type": "stream",
     "text": [
      " 32%|███▏      | 445/1405 [00:19<00:36, 26.62it/s]"
     ]
    },
    {
     "name": "stdout",
     "output_type": "stream",
     "text": [
      "/data/jwd/main/040/914/40914875/working/jupyter/covid_ct_segmentation/COVID-CT-Segmentation/Dataset2/LungInfection-train/Pseudo-label/GT/Data-1_radiopaedia_org_covid-19-pneumonia-14_85914_0-dcm_9\n",
      "/data/jwd/main/040/914/40914875/working/jupyter/covid_ct_segmentation/COVID-CT-Segmentation/Dataset2/LungInfection-train/Pseudo-label/GT/Data-1_radiopaedia_org_covid-19-pneumonia-40_86625_0-dcm_2\n",
      "/data/jwd/main/040/914/40914875/working/jupyter/covid_ct_segmentation/COVID-CT-Segmentation/Dataset2/LungInfection-train/Pseudo-label/GT/Data-1_coronacases_org_009_106\n",
      "/data/jwd/main/040/914/40914875/working/jupyter/covid_ct_segmentation/COVID-CT-Segmentation/Dataset2/LungInfection-train/Pseudo-label/GT/Data-1_coronacases_org_005_114\n",
      "/data/jwd/main/040/914/40914875/working/jupyter/covid_ct_segmentation/COVID-CT-Segmentation/Dataset2/LungInfection-train/Pseudo-label/GT/Data-1_coronacases_org_001_70\n",
      "/data/jwd/main/040/914/40914875/working/jupyter/covid_ct_segmentation/COVID-CT-Segmentation/Dataset2/LungInfection-train/Pseudo-label/GT/Data-1_radiopaedia_org_covid-19-pneumonia-14_85914_0-dcm_40\n",
      "/data/jwd/main/040/914/40914875/working/jupyter/covid_ct_segmentation/COVID-CT-Segmentation/Dataset2/LungInfection-train/Pseudo-label/GT/Data-1_coronacases_org_010_45\n"
     ]
    },
    {
     "name": "stderr",
     "output_type": "stream",
     "text": [
      " 32%|███▏      | 451/1405 [00:19<00:34, 27.44it/s]"
     ]
    },
    {
     "name": "stdout",
     "output_type": "stream",
     "text": [
      "/data/jwd/main/040/914/40914875/working/jupyter/covid_ct_segmentation/COVID-CT-Segmentation/Dataset2/LungInfection-train/Pseudo-label/GT/Data-1_coronacases_org_010_109\n",
      "/data/jwd/main/040/914/40914875/working/jupyter/covid_ct_segmentation/COVID-CT-Segmentation/Dataset2/LungInfection-train/Pseudo-label/GT/Data-1_coronacases_org_005_143\n",
      "/data/jwd/main/040/914/40914875/working/jupyter/covid_ct_segmentation/COVID-CT-Segmentation/Dataset2/LungInfection-train/Pseudo-label/GT/Data-1_coronacases_org_008_80\n",
      "/data/jwd/main/040/914/40914875/working/jupyter/covid_ct_segmentation/COVID-CT-Segmentation/Dataset2/LungInfection-train/Pseudo-label/GT/Data-1_coronacases_org_005_103\n",
      "/data/jwd/main/040/914/40914875/working/jupyter/covid_ct_segmentation/COVID-CT-Segmentation/Dataset2/LungInfection-train/Pseudo-label/GT/Data-1_coronacases_org_006_37\n",
      "/data/jwd/main/040/914/40914875/working/jupyter/covid_ct_segmentation/COVID-CT-Segmentation/Dataset2/LungInfection-train/Pseudo-label/GT/Data-1_coronacases_org_008_51\n"
     ]
    },
    {
     "name": "stderr",
     "output_type": "stream",
     "text": [
      " 33%|███▎      | 458/1405 [00:20<00:35, 26.72it/s]"
     ]
    },
    {
     "name": "stdout",
     "output_type": "stream",
     "text": [
      "/data/jwd/main/040/914/40914875/working/jupyter/covid_ct_segmentation/COVID-CT-Segmentation/Dataset2/LungInfection-train/Pseudo-label/GT/Data-1_coronacases_org_005_68\n",
      "/data/jwd/main/040/914/40914875/working/jupyter/covid_ct_segmentation/COVID-CT-Segmentation/Dataset2/LungInfection-train/Pseudo-label/GT/Data-1_radiopaedia_org_covid-19-pneumonia-29_86491_1-dcm_6\n",
      "/data/jwd/main/040/914/40914875/working/jupyter/covid_ct_segmentation/COVID-CT-Segmentation/Dataset2/LungInfection-train/Pseudo-label/GT/Data-1_coronacases_org_005_105\n",
      "/data/jwd/main/040/914/40914875/working/jupyter/covid_ct_segmentation/COVID-CT-Segmentation/Dataset2/LungInfection-train/Pseudo-label/GT/Data-1_radiopaedia_org_covid-19-pneumonia-29_86490_1-dcm_8\n",
      "/data/jwd/main/040/914/40914875/working/jupyter/covid_ct_segmentation/COVID-CT-Segmentation/Dataset2/LungInfection-train/Pseudo-label/GT/Data-1_coronacases_org_007_97\n",
      "/data/jwd/main/040/914/40914875/working/jupyter/covid_ct_segmentation/COVID-CT-Segmentation/Dataset2/LungInfection-train/Pseudo-label/GT/Data-1_radiopaedia_org_covid-19-pneumonia-10_85902_3-dcm_93\n"
     ]
    },
    {
     "name": "stderr",
     "output_type": "stream",
     "text": [
      " 33%|███▎      | 464/1405 [00:20<00:33, 27.75it/s]"
     ]
    },
    {
     "name": "stdout",
     "output_type": "stream",
     "text": [
      "/data/jwd/main/040/914/40914875/working/jupyter/covid_ct_segmentation/COVID-CT-Segmentation/Dataset2/LungInfection-train/Pseudo-label/GT/Data-1_coronacases_org_004_33\n",
      "/data/jwd/main/040/914/40914875/working/jupyter/covid_ct_segmentation/COVID-CT-Segmentation/Dataset2/LungInfection-train/Pseudo-label/GT/Data-1_radiopaedia_org_covid-19-pneumonia-10_85902_3-dcm_184\n",
      "/data/jwd/main/040/914/40914875/working/jupyter/covid_ct_segmentation/COVID-CT-Segmentation/Dataset2/LungInfection-train/Pseudo-label/GT/Data-1_coronacases_org_007_29\n",
      "/data/jwd/main/040/914/40914875/working/jupyter/covid_ct_segmentation/COVID-CT-Segmentation/Dataset2/LungInfection-train/Pseudo-label/GT/Data-1_radiopaedia_org_covid-19-pneumonia-14_85914_0-dcm_55\n",
      "/data/jwd/main/040/914/40914875/working/jupyter/covid_ct_segmentation/COVID-CT-Segmentation/Dataset2/LungInfection-train/Pseudo-label/GT/Data-1_radiopaedia_org_covid-19-pneumonia-4_85506_1-dcm_4\n",
      "/data/jwd/main/040/914/40914875/working/jupyter/covid_ct_segmentation/COVID-CT-Segmentation/Dataset2/LungInfection-train/Pseudo-label/GT/Data-1_radiopaedia_org_covid-19-pneumonia-29_86491_1-dcm_16\n"
     ]
    },
    {
     "name": "stderr",
     "output_type": "stream",
     "text": [
      " 34%|███▎      | 471/1405 [00:20<00:30, 31.03it/s]"
     ]
    },
    {
     "name": "stdout",
     "output_type": "stream",
     "text": [
      "/data/jwd/main/040/914/40914875/working/jupyter/covid_ct_segmentation/COVID-CT-Segmentation/Dataset2/LungInfection-train/Pseudo-label/GT/Data-1_radiopaedia_org_covid-19-pneumonia-10_85902_3-dcm_195\n",
      "/data/jwd/main/040/914/40914875/working/jupyter/covid_ct_segmentation/COVID-CT-Segmentation/Dataset2/LungInfection-train/Pseudo-label/GT/Data-1_coronacases_org_008_63\n",
      "/data/jwd/main/040/914/40914875/working/jupyter/covid_ct_segmentation/COVID-CT-Segmentation/Dataset2/LungInfection-train/Pseudo-label/GT/Data-1_coronacases_org_002_35\n",
      "/data/jwd/main/040/914/40914875/working/jupyter/covid_ct_segmentation/COVID-CT-Segmentation/Dataset2/LungInfection-train/Pseudo-label/GT/Data-1_coronacases_org_001_12\n",
      "/data/jwd/main/040/914/40914875/working/jupyter/covid_ct_segmentation/COVID-CT-Segmentation/Dataset2/LungInfection-train/Pseudo-label/GT/Data-1_coronacases_org_003_30\n",
      "/data/jwd/main/040/914/40914875/working/jupyter/covid_ct_segmentation/COVID-CT-Segmentation/Dataset2/LungInfection-train/Pseudo-label/GT/Data-1_coronacases_org_005_147\n",
      "/data/jwd/main/040/914/40914875/working/jupyter/covid_ct_segmentation/COVID-CT-Segmentation/Dataset2/LungInfection-train/Pseudo-label/GT/Data-1_coronacases_org_005_6\n"
     ]
    },
    {
     "name": "stderr",
     "output_type": "stream",
     "text": [
      " 34%|███▍      | 475/1405 [00:20<00:34, 27.33it/s]"
     ]
    },
    {
     "name": "stdout",
     "output_type": "stream",
     "text": [
      "/data/jwd/main/040/914/40914875/working/jupyter/covid_ct_segmentation/COVID-CT-Segmentation/Dataset2/LungInfection-train/Pseudo-label/GT/Data-1_coronacases_org_002_7\n",
      "/data/jwd/main/040/914/40914875/working/jupyter/covid_ct_segmentation/COVID-CT-Segmentation/Dataset2/LungInfection-train/Pseudo-label/GT/Data-1_radiopaedia_org_covid-19-pneumonia-10_85902_3-dcm_44\n",
      "/data/jwd/main/040/914/40914875/working/jupyter/covid_ct_segmentation/COVID-CT-Segmentation/Dataset2/LungInfection-train/Pseudo-label/GT/Data-1_coronacases_org_001_66\n",
      "/data/jwd/main/040/914/40914875/working/jupyter/covid_ct_segmentation/COVID-CT-Segmentation/Dataset2/LungInfection-train/Pseudo-label/GT/Data-1_coronacases_org_003_48\n",
      "/data/jwd/main/040/914/40914875/working/jupyter/covid_ct_segmentation/COVID-CT-Segmentation/Dataset2/LungInfection-train/Pseudo-label/GT/Data-1_coronacases_org_008_17\n",
      "/data/jwd/main/040/914/40914875/working/jupyter/covid_ct_segmentation/COVID-CT-Segmentation/Dataset2/LungInfection-train/Pseudo-label/GT/Data-1_coronacases_org_004_126\n"
     ]
    },
    {
     "name": "stderr",
     "output_type": "stream",
     "text": [
      " 34%|███▍      | 481/1405 [00:20<00:33, 27.79it/s]"
     ]
    },
    {
     "name": "stdout",
     "output_type": "stream",
     "text": [
      "/data/jwd/main/040/914/40914875/working/jupyter/covid_ct_segmentation/COVID-CT-Segmentation/Dataset2/LungInfection-train/Pseudo-label/GT/Data-1_coronacases_org_002_54\n",
      "/data/jwd/main/040/914/40914875/working/jupyter/covid_ct_segmentation/COVID-CT-Segmentation/Dataset2/LungInfection-train/Pseudo-label/GT/Data-1_radiopaedia_org_covid-19-pneumonia-36_86526_0-dcm_23\n",
      "/data/jwd/main/040/914/40914875/working/jupyter/covid_ct_segmentation/COVID-CT-Segmentation/Dataset2/LungInfection-train/Pseudo-label/GT/Data-1_radiopaedia_org_covid-19-pneumonia-27_86410_0-dcm_25\n",
      "/data/jwd/main/040/914/40914875/working/jupyter/covid_ct_segmentation/COVID-CT-Segmentation/Dataset2/LungInfection-train/Pseudo-label/GT/Data-1_radiopaedia_org_covid-19-pneumonia-36_86526_0-dcm_6\n",
      "/data/jwd/main/040/914/40914875/working/jupyter/covid_ct_segmentation/COVID-CT-Segmentation/Dataset2/LungInfection-train/Pseudo-label/GT/Data-1_coronacases_org_005_38\n",
      "/data/jwd/main/040/914/40914875/working/jupyter/covid_ct_segmentation/COVID-CT-Segmentation/Dataset2/LungInfection-train/Pseudo-label/GT/Data-1_coronacases_org_005_75\n",
      "/data/jwd/main/040/914/40914875/working/jupyter/covid_ct_segmentation/COVID-CT-Segmentation/Dataset2/LungInfection-train/Pseudo-label/GT/Data-1_coronacases_org_010_70\n"
     ]
    },
    {
     "name": "stderr",
     "output_type": "stream",
     "text": [
      " 35%|███▍      | 489/1405 [00:21<00:33, 27.16it/s]"
     ]
    },
    {
     "name": "stdout",
     "output_type": "stream",
     "text": [
      "/data/jwd/main/040/914/40914875/working/jupyter/covid_ct_segmentation/COVID-CT-Segmentation/Dataset2/LungInfection-train/Pseudo-label/GT/Data-1_coronacases_org_010_46\n",
      "/data/jwd/main/040/914/40914875/working/jupyter/covid_ct_segmentation/COVID-CT-Segmentation/Dataset2/LungInfection-train/Pseudo-label/GT/Data-1_radiopaedia_org_covid-19-pneumonia-10_85902_3-dcm_38\n",
      "/data/jwd/main/040/914/40914875/working/jupyter/covid_ct_segmentation/COVID-CT-Segmentation/Dataset2/LungInfection-train/Pseudo-label/GT/Data-1_radiopaedia_org_covid-19-pneumonia-10_85902_3-dcm_151\n",
      "/data/jwd/main/040/914/40914875/working/jupyter/covid_ct_segmentation/COVID-CT-Segmentation/Dataset2/LungInfection-train/Pseudo-label/GT/Data-1_coronacases_org_007_3\n",
      "/data/jwd/main/040/914/40914875/working/jupyter/covid_ct_segmentation/COVID-CT-Segmentation/Dataset2/LungInfection-train/Pseudo-label/GT/Data-1_coronacases_org_007_111\n",
      "/data/jwd/main/040/914/40914875/working/jupyter/covid_ct_segmentation/COVID-CT-Segmentation/Dataset2/LungInfection-train/Pseudo-label/GT/Data-1_coronacases_org_005_86\n"
     ]
    },
    {
     "name": "stderr",
     "output_type": "stream",
     "text": [
      " 35%|███▌      | 493/1405 [00:21<00:31, 29.39it/s]"
     ]
    },
    {
     "name": "stdout",
     "output_type": "stream",
     "text": [
      "/data/jwd/main/040/914/40914875/working/jupyter/covid_ct_segmentation/COVID-CT-Segmentation/Dataset2/LungInfection-train/Pseudo-label/GT/Data-1_coronacases_org_008_106\n",
      "/data/jwd/main/040/914/40914875/working/jupyter/covid_ct_segmentation/COVID-CT-Segmentation/Dataset2/LungInfection-train/Pseudo-label/GT/Data-1_coronacases_org_002_73\n",
      "/data/jwd/main/040/914/40914875/working/jupyter/covid_ct_segmentation/COVID-CT-Segmentation/Dataset2/LungInfection-train/Pseudo-label/GT/Data-1_radiopaedia_org_covid-19-pneumonia-10_85902_3-dcm_50\n",
      "/data/jwd/main/040/914/40914875/working/jupyter/covid_ct_segmentation/COVID-CT-Segmentation/Dataset2/LungInfection-train/Pseudo-label/GT/Data-1_radiopaedia_org_covid-19-pneumonia-14_85914_0-dcm_30\n",
      "/data/jwd/main/040/914/40914875/working/jupyter/covid_ct_segmentation/COVID-CT-Segmentation/Dataset2/LungInfection-train/Pseudo-label/GT/Data-1_coronacases_org_006_73\n",
      "/data/jwd/main/040/914/40914875/working/jupyter/covid_ct_segmentation/COVID-CT-Segmentation/Dataset2/LungInfection-train/Pseudo-label/GT/Data-1_coronacases_org_005_77\n",
      "/data/jwd/main/040/914/40914875/working/jupyter/covid_ct_segmentation/COVID-CT-Segmentation/Dataset2/LungInfection-train/Pseudo-label/GT/Data-1_coronacases_org_007_15\n"
     ]
    },
    {
     "name": "stderr",
     "output_type": "stream",
     "text": [
      " 36%|███▌      | 500/1405 [00:21<00:33, 27.24it/s]"
     ]
    },
    {
     "name": "stdout",
     "output_type": "stream",
     "text": [
      "/data/jwd/main/040/914/40914875/working/jupyter/covid_ct_segmentation/COVID-CT-Segmentation/Dataset2/LungInfection-train/Pseudo-label/GT/Data-1_coronacases_org_002_70\n",
      "/data/jwd/main/040/914/40914875/working/jupyter/covid_ct_segmentation/COVID-CT-Segmentation/Dataset2/LungInfection-train/Pseudo-label/GT/Data-1_coronacases_org_004_70\n",
      "/data/jwd/main/040/914/40914875/working/jupyter/covid_ct_segmentation/COVID-CT-Segmentation/Dataset2/LungInfection-train/Pseudo-label/GT/Data-1_coronacases_org_010_24\n",
      "/data/jwd/main/040/914/40914875/working/jupyter/covid_ct_segmentation/COVID-CT-Segmentation/Dataset2/LungInfection-train/Pseudo-label/GT/Data-1_radiopaedia_org_covid-19-pneumonia-10_85902_3-dcm_199\n",
      "/data/jwd/main/040/914/40914875/working/jupyter/covid_ct_segmentation/COVID-CT-Segmentation/Dataset2/LungInfection-train/Pseudo-label/GT/Data-1_radiopaedia_org_covid-19-pneumonia-10_85902_3-dcm_194\n",
      "/data/jwd/main/040/914/40914875/working/jupyter/covid_ct_segmentation/COVID-CT-Segmentation/Dataset2/LungInfection-train/Pseudo-label/GT/Data-1_coronacases_org_010_23\n",
      "/data/jwd/main/040/914/40914875/working/jupyter/covid_ct_segmentation/COVID-CT-Segmentation/Dataset2/LungInfection-train/Pseudo-label/GT/Data-1_coronacases_org_005_33\n"
     ]
    },
    {
     "name": "stderr",
     "output_type": "stream",
     "text": [
      " 36%|███▌      | 508/1405 [00:21<00:29, 30.58it/s]"
     ]
    },
    {
     "name": "stdout",
     "output_type": "stream",
     "text": [
      "/data/jwd/main/040/914/40914875/working/jupyter/covid_ct_segmentation/COVID-CT-Segmentation/Dataset2/LungInfection-train/Pseudo-label/GT/Data-1_radiopaedia_org_covid-19-pneumonia-27_86410_0-dcm_34\n",
      "/data/jwd/main/040/914/40914875/working/jupyter/covid_ct_segmentation/COVID-CT-Segmentation/Dataset2/LungInfection-train/Pseudo-label/GT/Data-1_radiopaedia_org_covid-19-pneumonia-10_85902_3-dcm_168\n",
      "/data/jwd/main/040/914/40914875/working/jupyter/covid_ct_segmentation/COVID-CT-Segmentation/Dataset2/LungInfection-train/Pseudo-label/GT/Data-1_coronacases_org_009_105\n",
      "/data/jwd/main/040/914/40914875/working/jupyter/covid_ct_segmentation/COVID-CT-Segmentation/Dataset2/LungInfection-train/Pseudo-label/GT/Data-1_coronacases_org_006_55\n",
      "/data/jwd/main/040/914/40914875/working/jupyter/covid_ct_segmentation/COVID-CT-Segmentation/Dataset2/LungInfection-train/Pseudo-label/GT/Data-1_coronacases_org_004_121\n",
      "/data/jwd/main/040/914/40914875/working/jupyter/covid_ct_segmentation/COVID-CT-Segmentation/Dataset2/LungInfection-train/Pseudo-label/GT/Data-1_coronacases_org_008_32\n"
     ]
    },
    {
     "name": "stderr",
     "output_type": "stream",
     "text": [
      " 37%|███▋      | 515/1405 [00:22<00:32, 27.38it/s]"
     ]
    },
    {
     "name": "stdout",
     "output_type": "stream",
     "text": [
      "/data/jwd/main/040/914/40914875/working/jupyter/covid_ct_segmentation/COVID-CT-Segmentation/Dataset2/LungInfection-train/Pseudo-label/GT/Data-1_coronacases_org_004_29\n",
      "/data/jwd/main/040/914/40914875/working/jupyter/covid_ct_segmentation/COVID-CT-Segmentation/Dataset2/LungInfection-train/Pseudo-label/GT/Data-1_coronacases_org_009_100\n",
      "/data/jwd/main/040/914/40914875/working/jupyter/covid_ct_segmentation/COVID-CT-Segmentation/Dataset2/LungInfection-train/Pseudo-label/GT/Data-1_coronacases_org_005_63\n",
      "/data/jwd/main/040/914/40914875/working/jupyter/covid_ct_segmentation/COVID-CT-Segmentation/Dataset2/LungInfection-train/Pseudo-label/GT/Data-1_coronacases_org_009_3\n",
      "/data/jwd/main/040/914/40914875/working/jupyter/covid_ct_segmentation/COVID-CT-Segmentation/Dataset2/LungInfection-train/Pseudo-label/GT/Data-1_coronacases_org_009_84\n"
     ]
    },
    {
     "name": "stderr",
     "output_type": "stream",
     "text": [
      " 37%|███▋      | 518/1405 [00:22<00:40, 21.91it/s]"
     ]
    },
    {
     "name": "stdout",
     "output_type": "stream",
     "text": [
      "/data/jwd/main/040/914/40914875/working/jupyter/covid_ct_segmentation/COVID-CT-Segmentation/Dataset2/LungInfection-train/Pseudo-label/GT/Data-1_coronacases_org_007_88\n",
      "/data/jwd/main/040/914/40914875/working/jupyter/covid_ct_segmentation/COVID-CT-Segmentation/Dataset2/LungInfection-train/Pseudo-label/GT/Data-1_coronacases_org_010_55\n",
      "/data/jwd/main/040/914/40914875/working/jupyter/covid_ct_segmentation/COVID-CT-Segmentation/Dataset2/LungInfection-train/Pseudo-label/GT/Data-1_coronacases_org_010_31\n",
      "/data/jwd/main/040/914/40914875/working/jupyter/covid_ct_segmentation/COVID-CT-Segmentation/Dataset2/LungInfection-train/Pseudo-label/GT/Data-1_coronacases_org_004_115\n"
     ]
    },
    {
     "name": "stderr",
     "output_type": "stream",
     "text": [
      " 37%|███▋      | 521/1405 [00:22<00:44, 19.68it/s]"
     ]
    },
    {
     "name": "stdout",
     "output_type": "stream",
     "text": [
      "/data/jwd/main/040/914/40914875/working/jupyter/covid_ct_segmentation/COVID-CT-Segmentation/Dataset2/LungInfection-train/Pseudo-label/GT/Data-1_coronacases_org_002_63\n",
      "/data/jwd/main/040/914/40914875/working/jupyter/covid_ct_segmentation/COVID-CT-Segmentation/Dataset2/LungInfection-train/Pseudo-label/GT/Data-1_radiopaedia_org_covid-19-pneumonia-36_86526_0-dcm_31\n",
      "/data/jwd/main/040/914/40914875/working/jupyter/covid_ct_segmentation/COVID-CT-Segmentation/Dataset2/LungInfection-train/Pseudo-label/GT/Data-1_coronacases_org_008_140\n",
      "/data/jwd/main/040/914/40914875/working/jupyter/covid_ct_segmentation/COVID-CT-Segmentation/Dataset2/LungInfection-train/Pseudo-label/GT/Data-1_coronacases_org_001_63\n",
      "/data/jwd/main/040/914/40914875/working/jupyter/covid_ct_segmentation/COVID-CT-Segmentation/Dataset2/LungInfection-train/Pseudo-label/GT/Data-1_coronacases_org_010_32\n",
      "/data/jwd/main/040/914/40914875/working/jupyter/covid_ct_segmentation/COVID-CT-Segmentation/Dataset2/LungInfection-train/Pseudo-label/GT/Data-1_radiopaedia_org_covid-19-pneumonia-10_85902_3-dcm_103\n"
     ]
    },
    {
     "name": "stderr",
     "output_type": "stream",
     "text": [
      " 38%|███▊      | 528/1405 [00:22<00:40, 21.63it/s]"
     ]
    },
    {
     "name": "stdout",
     "output_type": "stream",
     "text": [
      "/data/jwd/main/040/914/40914875/working/jupyter/covid_ct_segmentation/COVID-CT-Segmentation/Dataset2/LungInfection-train/Pseudo-label/GT/Data-1_coronacases_org_008_136\n",
      "/data/jwd/main/040/914/40914875/working/jupyter/covid_ct_segmentation/COVID-CT-Segmentation/Dataset2/LungInfection-train/Pseudo-label/GT/Data-1_coronacases_org_010_107\n",
      "/data/jwd/main/040/914/40914875/working/jupyter/covid_ct_segmentation/COVID-CT-Segmentation/Dataset2/LungInfection-train/Pseudo-label/GT/Data-1_radiopaedia_org_covid-19-pneumonia-40_86625_0-dcm_22\n",
      "/data/jwd/main/040/914/40914875/working/jupyter/covid_ct_segmentation/COVID-CT-Segmentation/Dataset2/LungInfection-train/Pseudo-label/GT/Data-1_coronacases_org_002_65\n",
      "/data/jwd/main/040/914/40914875/working/jupyter/covid_ct_segmentation/COVID-CT-Segmentation/Dataset2/LungInfection-train/Pseudo-label/GT/Data-1_coronacases_org_005_126\n"
     ]
    },
    {
     "name": "stderr",
     "output_type": "stream",
     "text": [
      " 38%|███▊      | 534/1405 [00:23<00:41, 20.91it/s]"
     ]
    },
    {
     "name": "stdout",
     "output_type": "stream",
     "text": [
      "/data/jwd/main/040/914/40914875/working/jupyter/covid_ct_segmentation/COVID-CT-Segmentation/Dataset2/LungInfection-train/Pseudo-label/GT/Data-1_coronacases_org_005_1\n",
      "/data/jwd/main/040/914/40914875/working/jupyter/covid_ct_segmentation/COVID-CT-Segmentation/Dataset2/LungInfection-train/Pseudo-label/GT/Data-1_coronacases_org_007_28\n",
      "/data/jwd/main/040/914/40914875/working/jupyter/covid_ct_segmentation/COVID-CT-Segmentation/Dataset2/LungInfection-train/Pseudo-label/GT/Data-1_radiopaedia_org_covid-19-pneumonia-10_85902_3-dcm_162\n",
      "/data/jwd/main/040/914/40914875/working/jupyter/covid_ct_segmentation/COVID-CT-Segmentation/Dataset2/LungInfection-train/Pseudo-label/GT/Data-1_coronacases_org_001_81\n"
     ]
    },
    {
     "name": "stderr",
     "output_type": "stream",
     "text": [
      " 38%|███▊      | 537/1405 [00:23<00:46, 18.71it/s]"
     ]
    },
    {
     "name": "stdout",
     "output_type": "stream",
     "text": [
      "/data/jwd/main/040/914/40914875/working/jupyter/covid_ct_segmentation/COVID-CT-Segmentation/Dataset2/LungInfection-train/Pseudo-label/GT/Data-1_radiopaedia_org_covid-19-pneumonia-36_86526_0-dcm_36\n",
      "/data/jwd/main/040/914/40914875/working/jupyter/covid_ct_segmentation/COVID-CT-Segmentation/Dataset2/LungInfection-train/Pseudo-label/GT/Data-1_coronacases_org_010_73\n",
      "/data/jwd/main/040/914/40914875/working/jupyter/covid_ct_segmentation/COVID-CT-Segmentation/Dataset2/LungInfection-train/Pseudo-label/GT/Data-1_radiopaedia_org_covid-19-pneumonia-10_85902_3-dcm_187\n",
      "/data/jwd/main/040/914/40914875/working/jupyter/covid_ct_segmentation/COVID-CT-Segmentation/Dataset2/LungInfection-train/Pseudo-label/GT/Data-1_coronacases_org_001_17\n"
     ]
    },
    {
     "name": "stderr",
     "output_type": "stream",
     "text": [
      " 38%|███▊      | 540/1405 [00:23<00:49, 17.44it/s]"
     ]
    },
    {
     "name": "stdout",
     "output_type": "stream",
     "text": [
      "/data/jwd/main/040/914/40914875/working/jupyter/covid_ct_segmentation/COVID-CT-Segmentation/Dataset2/LungInfection-train/Pseudo-label/GT/Data-1_coronacases_org_007_50\n",
      "/data/jwd/main/040/914/40914875/working/jupyter/covid_ct_segmentation/COVID-CT-Segmentation/Dataset2/LungInfection-train/Pseudo-label/GT/Data-1_radiopaedia_org_covid-19-pneumonia-7_85703_0-dcm_12\n",
      "/data/jwd/main/040/914/40914875/working/jupyter/covid_ct_segmentation/COVID-CT-Segmentation/Dataset2/LungInfection-train/Pseudo-label/GT/Data-1_coronacases_org_001_51\n",
      "/data/jwd/main/040/914/40914875/working/jupyter/covid_ct_segmentation/COVID-CT-Segmentation/Dataset2/LungInfection-train/Pseudo-label/GT/Data-1_coronacases_org_004_60\n",
      "/data/jwd/main/040/914/40914875/working/jupyter/covid_ct_segmentation/COVID-CT-Segmentation/Dataset2/LungInfection-train/Pseudo-label/GT/Data-1_radiopaedia_org_covid-19-pneumonia-10_85902_3-dcm_129\n"
     ]
    },
    {
     "name": "stderr",
     "output_type": "stream",
     "text": [
      " 39%|███▉      | 546/1405 [00:23<00:46, 18.38it/s]"
     ]
    },
    {
     "name": "stdout",
     "output_type": "stream",
     "text": [
      "/data/jwd/main/040/914/40914875/working/jupyter/covid_ct_segmentation/COVID-CT-Segmentation/Dataset2/LungInfection-train/Pseudo-label/GT/Data-1_radiopaedia_org_covid-19-pneumonia-10_85902_3-dcm_120\n",
      "/data/jwd/main/040/914/40914875/working/jupyter/covid_ct_segmentation/COVID-CT-Segmentation/Dataset2/LungInfection-train/Pseudo-label/GT/Data-1_radiopaedia_org_covid-19-pneumonia-36_86526_0-dcm_15\n",
      "/data/jwd/main/040/914/40914875/working/jupyter/covid_ct_segmentation/COVID-CT-Segmentation/Dataset2/LungInfection-train/Pseudo-label/GT/Data-1_coronacases_org_004_114\n",
      "/data/jwd/main/040/914/40914875/working/jupyter/covid_ct_segmentation/COVID-CT-Segmentation/Dataset2/LungInfection-train/Pseudo-label/GT/Data-1_coronacases_org_010_19\n",
      "/data/jwd/main/040/914/40914875/working/jupyter/covid_ct_segmentation/COVID-CT-Segmentation/Dataset2/LungInfection-train/Pseudo-label/GT/Data-1_coronacases_org_007_38\n"
     ]
    },
    {
     "name": "stderr",
     "output_type": "stream",
     "text": [
      " 39%|███▉      | 552/1405 [00:24<00:45, 18.95it/s]"
     ]
    },
    {
     "name": "stdout",
     "output_type": "stream",
     "text": [
      "/data/jwd/main/040/914/40914875/working/jupyter/covid_ct_segmentation/COVID-CT-Segmentation/Dataset2/LungInfection-train/Pseudo-label/GT/Data-1_coronacases_org_010_17\n",
      "/data/jwd/main/040/914/40914875/working/jupyter/covid_ct_segmentation/COVID-CT-Segmentation/Dataset2/LungInfection-train/Pseudo-label/GT/Data-1_coronacases_org_007_21\n",
      "/data/jwd/main/040/914/40914875/working/jupyter/covid_ct_segmentation/COVID-CT-Segmentation/Dataset2/LungInfection-train/Pseudo-label/GT/Data-1_radiopaedia_org_covid-19-pneumonia-7_85703_0-dcm_20\n",
      "/data/jwd/main/040/914/40914875/working/jupyter/covid_ct_segmentation/COVID-CT-Segmentation/Dataset2/LungInfection-train/Pseudo-label/GT/Data-1_coronacases_org_009_31\n",
      "/data/jwd/main/040/914/40914875/working/jupyter/covid_ct_segmentation/COVID-CT-Segmentation/Dataset2/LungInfection-train/Pseudo-label/GT/Data-1_coronacases_org_006_8\n"
     ]
    },
    {
     "name": "stderr",
     "output_type": "stream",
     "text": [
      " 40%|███▉      | 555/1405 [00:24<00:41, 20.39it/s]"
     ]
    },
    {
     "name": "stdout",
     "output_type": "stream",
     "text": [
      "/data/jwd/main/040/914/40914875/working/jupyter/covid_ct_segmentation/COVID-CT-Segmentation/Dataset2/LungInfection-train/Pseudo-label/GT/Data-1_radiopaedia_org_covid-19-pneumonia-10_85902_3-dcm_20\n",
      "/data/jwd/main/040/914/40914875/working/jupyter/covid_ct_segmentation/COVID-CT-Segmentation/Dataset2/LungInfection-train/Pseudo-label/GT/Data-1_radiopaedia_org_covid-19-pneumonia-36_86526_0-dcm_14\n",
      "/data/jwd/main/040/914/40914875/working/jupyter/covid_ct_segmentation/COVID-CT-Segmentation/Dataset2/LungInfection-train/Pseudo-label/GT/Data-1_radiopaedia_org_covid-19-pneumonia-10_85902_3-dcm_137\n",
      "/data/jwd/main/040/914/40914875/working/jupyter/covid_ct_segmentation/COVID-CT-Segmentation/Dataset2/LungInfection-train/Pseudo-label/GT/Data-1_coronacases_org_009_83\n",
      "/data/jwd/main/040/914/40914875/working/jupyter/covid_ct_segmentation/COVID-CT-Segmentation/Dataset2/LungInfection-train/Pseudo-label/GT/Data-1_coronacases_org_009_45\n"
     ]
    },
    {
     "name": "stderr",
     "output_type": "stream",
     "text": [
      " 40%|███▉      | 561/1405 [00:24<00:40, 20.74it/s]"
     ]
    },
    {
     "name": "stdout",
     "output_type": "stream",
     "text": [
      "/data/jwd/main/040/914/40914875/working/jupyter/covid_ct_segmentation/COVID-CT-Segmentation/Dataset2/LungInfection-train/Pseudo-label/GT/Data-1_radiopaedia_org_covid-19-pneumonia-10_85902_3-dcm_101\n",
      "/data/jwd/main/040/914/40914875/working/jupyter/covid_ct_segmentation/COVID-CT-Segmentation/Dataset2/LungInfection-train/Pseudo-label/GT/Data-1_radiopaedia_org_covid-19-pneumonia-29_86491_1-dcm_14\n",
      "/data/jwd/main/040/914/40914875/working/jupyter/covid_ct_segmentation/COVID-CT-Segmentation/Dataset2/LungInfection-train/Pseudo-label/GT/Data-1_radiopaedia_org_covid-19-pneumonia-10_85902_3-dcm_98\n",
      "/data/jwd/main/040/914/40914875/working/jupyter/covid_ct_segmentation/COVID-CT-Segmentation/Dataset2/LungInfection-train/Pseudo-label/GT/Data-1_coronacases_org_009_95\n",
      "/data/jwd/main/040/914/40914875/working/jupyter/covid_ct_segmentation/COVID-CT-Segmentation/Dataset2/LungInfection-train/Pseudo-label/GT/Data-1_radiopaedia_org_covid-19-pneumonia-10_85902_3-dcm_8\n"
     ]
    },
    {
     "name": "stderr",
     "output_type": "stream",
     "text": [
      " 40%|████      | 567/1405 [00:24<00:40, 20.72it/s]"
     ]
    },
    {
     "name": "stdout",
     "output_type": "stream",
     "text": [
      "/data/jwd/main/040/914/40914875/working/jupyter/covid_ct_segmentation/COVID-CT-Segmentation/Dataset2/LungInfection-train/Pseudo-label/GT/Data-1_coronacases_org_009_5\n",
      "/data/jwd/main/040/914/40914875/working/jupyter/covid_ct_segmentation/COVID-CT-Segmentation/Dataset2/LungInfection-train/Pseudo-label/GT/Data-1_coronacases_org_006_44\n",
      "/data/jwd/main/040/914/40914875/working/jupyter/covid_ct_segmentation/COVID-CT-Segmentation/Dataset2/LungInfection-train/Pseudo-label/GT/Data-1_coronacases_org_002_28\n",
      "/data/jwd/main/040/914/40914875/working/jupyter/covid_ct_segmentation/COVID-CT-Segmentation/Dataset2/LungInfection-train/Pseudo-label/GT/Data-1_radiopaedia_org_covid-19-pneumonia-29_86491_1-dcm_17\n",
      "/data/jwd/main/040/914/40914875/working/jupyter/covid_ct_segmentation/COVID-CT-Segmentation/Dataset2/LungInfection-train/Pseudo-label/GT/Data-1_coronacases_org_007_96\n",
      "/data/jwd/main/040/914/40914875/working/jupyter/covid_ct_segmentation/COVID-CT-Segmentation/Dataset2/LungInfection-train/Pseudo-label/GT/Data-1_coronacases_org_006_41\n"
     ]
    },
    {
     "name": "stderr",
     "output_type": "stream",
     "text": [
      " 41%|████      | 574/1405 [00:25<00:32, 25.52it/s]"
     ]
    },
    {
     "name": "stdout",
     "output_type": "stream",
     "text": [
      "/data/jwd/main/040/914/40914875/working/jupyter/covid_ct_segmentation/COVID-CT-Segmentation/Dataset2/LungInfection-train/Pseudo-label/GT/Data-1_radiopaedia_org_covid-19-pneumonia-14_85914_0-dcm_29\n",
      "/data/jwd/main/040/914/40914875/working/jupyter/covid_ct_segmentation/COVID-CT-Segmentation/Dataset2/LungInfection-train/Pseudo-label/GT/Data-1_coronacases_org_002_12\n",
      "/data/jwd/main/040/914/40914875/working/jupyter/covid_ct_segmentation/COVID-CT-Segmentation/Dataset2/LungInfection-train/Pseudo-label/GT/Data-1_coronacases_org_008_46\n",
      "/data/jwd/main/040/914/40914875/working/jupyter/covid_ct_segmentation/COVID-CT-Segmentation/Dataset2/LungInfection-train/Pseudo-label/GT/Data-1_coronacases_org_001_84\n",
      "/data/jwd/main/040/914/40914875/working/jupyter/covid_ct_segmentation/COVID-CT-Segmentation/Dataset2/LungInfection-train/Pseudo-label/GT/Data-1_radiopaedia_org_covid-19-pneumonia-29_86490_1-dcm_10\n",
      "/data/jwd/main/040/914/40914875/working/jupyter/covid_ct_segmentation/COVID-CT-Segmentation/Dataset2/LungInfection-train/Pseudo-label/GT/Data-1_radiopaedia_org_covid-19-pneumonia-10_85902_3-dcm_17\n"
     ]
    },
    {
     "name": "stderr",
     "output_type": "stream",
     "text": [
      " 41%|████      | 577/1405 [00:25<00:37, 21.99it/s]"
     ]
    },
    {
     "name": "stdout",
     "output_type": "stream",
     "text": [
      "/data/jwd/main/040/914/40914875/working/jupyter/covid_ct_segmentation/COVID-CT-Segmentation/Dataset2/LungInfection-train/Pseudo-label/GT/Data-1_coronacases_org_009_54\n",
      "/data/jwd/main/040/914/40914875/working/jupyter/covid_ct_segmentation/COVID-CT-Segmentation/Dataset2/LungInfection-train/Pseudo-label/GT/Data-1_coronacases_org_004_1\n",
      "/data/jwd/main/040/914/40914875/working/jupyter/covid_ct_segmentation/COVID-CT-Segmentation/Dataset2/LungInfection-train/Pseudo-label/GT/Data-1_coronacases_org_006_43\n",
      "/data/jwd/main/040/914/40914875/working/jupyter/covid_ct_segmentation/COVID-CT-Segmentation/Dataset2/LungInfection-train/Pseudo-label/GT/Data-1_radiopaedia_org_covid-19-pneumonia-10_85902_3-dcm_42\n",
      "/data/jwd/main/040/914/40914875/working/jupyter/covid_ct_segmentation/COVID-CT-Segmentation/Dataset2/LungInfection-train/Pseudo-label/GT/Data-1_coronacases_org_002_57\n",
      "/data/jwd/main/040/914/40914875/working/jupyter/covid_ct_segmentation/COVID-CT-Segmentation/Dataset2/LungInfection-train/Pseudo-label/GT/Data-1_coronacases_org_010_50\n"
     ]
    },
    {
     "name": "stderr",
     "output_type": "stream",
     "text": [
      " 42%|████▏     | 585/1405 [00:25<00:28, 28.45it/s]"
     ]
    },
    {
     "name": "stdout",
     "output_type": "stream",
     "text": [
      "/data/jwd/main/040/914/40914875/working/jupyter/covid_ct_segmentation/COVID-CT-Segmentation/Dataset2/LungInfection-train/Pseudo-label/GT/Data-1_coronacases_org_009_108\n",
      "/data/jwd/main/040/914/40914875/working/jupyter/covid_ct_segmentation/COVID-CT-Segmentation/Dataset2/LungInfection-train/Pseudo-label/GT/Data-1_coronacases_org_008_87\n",
      "/data/jwd/main/040/914/40914875/working/jupyter/covid_ct_segmentation/COVID-CT-Segmentation/Dataset2/LungInfection-train/Pseudo-label/GT/Data-1_coronacases_org_005_119\n",
      "/data/jwd/main/040/914/40914875/working/jupyter/covid_ct_segmentation/COVID-CT-Segmentation/Dataset2/LungInfection-train/Pseudo-label/GT/Data-1_coronacases_org_008_69\n",
      "/data/jwd/main/040/914/40914875/working/jupyter/covid_ct_segmentation/COVID-CT-Segmentation/Dataset2/LungInfection-train/Pseudo-label/GT/Data-1_radiopaedia_org_covid-19-pneumonia-14_85914_0-dcm_60\n",
      "/data/jwd/main/040/914/40914875/working/jupyter/covid_ct_segmentation/COVID-CT-Segmentation/Dataset2/LungInfection-train/Pseudo-label/GT/Data-1_coronacases_org_010_89\n",
      "/data/jwd/main/040/914/40914875/working/jupyter/covid_ct_segmentation/COVID-CT-Segmentation/Dataset2/LungInfection-train/Pseudo-label/GT/Data-1_coronacases_org_005_80\n"
     ]
    },
    {
     "name": "stderr",
     "output_type": "stream",
     "text": [
      " 42%|████▏     | 593/1405 [00:25<00:30, 26.97it/s]"
     ]
    },
    {
     "name": "stdout",
     "output_type": "stream",
     "text": [
      "/data/jwd/main/040/914/40914875/working/jupyter/covid_ct_segmentation/COVID-CT-Segmentation/Dataset2/LungInfection-train/Pseudo-label/GT/Data-1_radiopaedia_org_covid-19-pneumonia-10_85902_3-dcm_125\n",
      "/data/jwd/main/040/914/40914875/working/jupyter/covid_ct_segmentation/COVID-CT-Segmentation/Dataset2/LungInfection-train/Pseudo-label/GT/Data-1_coronacases_org_010_14\n",
      "/data/jwd/main/040/914/40914875/working/jupyter/covid_ct_segmentation/COVID-CT-Segmentation/Dataset2/LungInfection-train/Pseudo-label/GT/Data-1_radiopaedia_org_covid-19-pneumonia-10_85902_3-dcm_149\n",
      "/data/jwd/main/040/914/40914875/working/jupyter/covid_ct_segmentation/COVID-CT-Segmentation/Dataset2/LungInfection-train/Pseudo-label/GT/Data-1_coronacases_org_004_143\n",
      "/data/jwd/main/040/914/40914875/working/jupyter/covid_ct_segmentation/COVID-CT-Segmentation/Dataset2/LungInfection-train/Pseudo-label/GT/Data-1_coronacases_org_005_78\n",
      "/data/jwd/main/040/914/40914875/working/jupyter/covid_ct_segmentation/COVID-CT-Segmentation/Dataset2/LungInfection-train/Pseudo-label/GT/Data-1_radiopaedia_org_covid-19-pneumonia-10_85902_3-dcm_31\n"
     ]
    },
    {
     "name": "stderr",
     "output_type": "stream",
     "text": [
      " 43%|████▎     | 600/1405 [00:25<00:26, 30.12it/s]"
     ]
    },
    {
     "name": "stdout",
     "output_type": "stream",
     "text": [
      "/data/jwd/main/040/914/40914875/working/jupyter/covid_ct_segmentation/COVID-CT-Segmentation/Dataset2/LungInfection-train/Pseudo-label/GT/Data-1_coronacases_org_001_8\n",
      "/data/jwd/main/040/914/40914875/working/jupyter/covid_ct_segmentation/COVID-CT-Segmentation/Dataset2/LungInfection-train/Pseudo-label/GT/Data-1_radiopaedia_org_covid-19-pneumonia-10_85902_3-dcm_180\n",
      "/data/jwd/main/040/914/40914875/working/jupyter/covid_ct_segmentation/COVID-CT-Segmentation/Dataset2/LungInfection-train/Pseudo-label/GT/Data-1_coronacases_org_010_28\n",
      "/data/jwd/main/040/914/40914875/working/jupyter/covid_ct_segmentation/COVID-CT-Segmentation/Dataset2/LungInfection-train/Pseudo-label/GT/Data-1_radiopaedia_org_covid-19-pneumonia-36_86526_0-dcm_32\n",
      "/data/jwd/main/040/914/40914875/working/jupyter/covid_ct_segmentation/COVID-CT-Segmentation/Dataset2/LungInfection-train/Pseudo-label/GT/Data-1_radiopaedia_org_covid-19-pneumonia-10_85902_3-dcm_165\n",
      "/data/jwd/main/040/914/40914875/working/jupyter/covid_ct_segmentation/COVID-CT-Segmentation/Dataset2/LungInfection-train/Pseudo-label/GT/Data-1_coronacases_org_009_49\n",
      "/data/jwd/main/040/914/40914875/working/jupyter/covid_ct_segmentation/COVID-CT-Segmentation/Dataset2/LungInfection-train/Pseudo-label/GT/Data-1_radiopaedia_org_covid-19-pneumonia-27_86410_0-dcm_15\n"
     ]
    },
    {
     "name": "stderr",
     "output_type": "stream",
     "text": [
      " 43%|████▎     | 608/1405 [00:26<00:27, 28.88it/s]"
     ]
    },
    {
     "name": "stdout",
     "output_type": "stream",
     "text": [
      "/data/jwd/main/040/914/40914875/working/jupyter/covid_ct_segmentation/COVID-CT-Segmentation/Dataset2/LungInfection-train/Pseudo-label/GT/Data-1_coronacases_org_010_35\n",
      "/data/jwd/main/040/914/40914875/working/jupyter/covid_ct_segmentation/COVID-CT-Segmentation/Dataset2/LungInfection-train/Pseudo-label/GT/Data-1_coronacases_org_010_106\n",
      "/data/jwd/main/040/914/40914875/working/jupyter/covid_ct_segmentation/COVID-CT-Segmentation/Dataset2/LungInfection-train/Pseudo-label/GT/Data-1_coronacases_org_008_23\n",
      "/data/jwd/main/040/914/40914875/working/jupyter/covid_ct_segmentation/COVID-CT-Segmentation/Dataset2/LungInfection-train/Pseudo-label/GT/Data-1_coronacases_org_010_56\n",
      "/data/jwd/main/040/914/40914875/working/jupyter/covid_ct_segmentation/COVID-CT-Segmentation/Dataset2/LungInfection-train/Pseudo-label/GT/Data-1_coronacases_org_003_16\n",
      "/data/jwd/main/040/914/40914875/working/jupyter/covid_ct_segmentation/COVID-CT-Segmentation/Dataset2/LungInfection-train/Pseudo-label/GT/Data-1_coronacases_org_003_45\n",
      "/data/jwd/main/040/914/40914875/working/jupyter/covid_ct_segmentation/COVID-CT-Segmentation/Dataset2/LungInfection-train/Pseudo-label/GT/Data-1_coronacases_org_001_42\n"
     ]
    },
    {
     "name": "stderr",
     "output_type": "stream",
     "text": [
      " 44%|████▎     | 612/1405 [00:26<00:25, 30.69it/s]"
     ]
    },
    {
     "name": "stdout",
     "output_type": "stream",
     "text": [
      "/data/jwd/main/040/914/40914875/working/jupyter/covid_ct_segmentation/COVID-CT-Segmentation/Dataset2/LungInfection-train/Pseudo-label/GT/Data-1_radiopaedia_org_covid-19-pneumonia-10_85902_3-dcm_52\n",
      "/data/jwd/main/040/914/40914875/working/jupyter/covid_ct_segmentation/COVID-CT-Segmentation/Dataset2/LungInfection-train/Pseudo-label/GT/Data-1_radiopaedia_org_covid-19-pneumonia-10_85902_3-dcm_45\n",
      "/data/jwd/main/040/914/40914875/working/jupyter/covid_ct_segmentation/COVID-CT-Segmentation/Dataset2/LungInfection-train/Pseudo-label/GT/Data-1_coronacases_org_001_24\n",
      "/data/jwd/main/040/914/40914875/working/jupyter/covid_ct_segmentation/COVID-CT-Segmentation/Dataset2/LungInfection-train/Pseudo-label/GT/Data-1_radiopaedia_org_covid-19-pneumonia-40_86625_0-dcm_19\n",
      "/data/jwd/main/040/914/40914875/working/jupyter/covid_ct_segmentation/COVID-CT-Segmentation/Dataset2/LungInfection-train/Pseudo-label/GT/Data-1_coronacases_org_006_16\n",
      "/data/jwd/main/040/914/40914875/working/jupyter/covid_ct_segmentation/COVID-CT-Segmentation/Dataset2/LungInfection-train/Pseudo-label/GT/Data-1_coronacases_org_005_107\n"
     ]
    },
    {
     "name": "stderr",
     "output_type": "stream",
     "text": [
      " 44%|████▍     | 616/1405 [00:26<00:24, 31.74it/s]"
     ]
    },
    {
     "name": "stdout",
     "output_type": "stream",
     "text": [
      "/data/jwd/main/040/914/40914875/working/jupyter/covid_ct_segmentation/COVID-CT-Segmentation/Dataset2/LungInfection-train/Pseudo-label/GT/Data-1_radiopaedia_org_covid-19-pneumonia-10_85902_3-dcm_90\n",
      "/data/jwd/main/040/914/40914875/working/jupyter/covid_ct_segmentation/COVID-CT-Segmentation/Dataset2/LungInfection-train/Pseudo-label/GT/Data-1_coronacases_org_007_104\n",
      "/data/jwd/main/040/914/40914875/working/jupyter/covid_ct_segmentation/COVID-CT-Segmentation/Dataset2/LungInfection-train/Pseudo-label/GT/Data-1_coronacases_org_006_20\n",
      "/data/jwd/main/040/914/40914875/working/jupyter/covid_ct_segmentation/COVID-CT-Segmentation/Dataset2/LungInfection-train/Pseudo-label/GT/Data-1_radiopaedia_org_covid-19-pneumonia-10_85902_3-dcm_48\n",
      "/data/jwd/main/040/914/40914875/working/jupyter/covid_ct_segmentation/COVID-CT-Segmentation/Dataset2/LungInfection-train/Pseudo-label/GT/Data-1_coronacases_org_004_50\n"
     ]
    },
    {
     "name": "stderr",
     "output_type": "stream",
     "text": [
      " 44%|████▍     | 623/1405 [00:26<00:31, 24.84it/s]"
     ]
    },
    {
     "name": "stdout",
     "output_type": "stream",
     "text": [
      "/data/jwd/main/040/914/40914875/working/jupyter/covid_ct_segmentation/COVID-CT-Segmentation/Dataset2/LungInfection-train/Pseudo-label/GT/Data-1_coronacases_org_005_146\n",
      "/data/jwd/main/040/914/40914875/working/jupyter/covid_ct_segmentation/COVID-CT-Segmentation/Dataset2/LungInfection-train/Pseudo-label/GT/Data-1_coronacases_org_008_113\n",
      "/data/jwd/main/040/914/40914875/working/jupyter/covid_ct_segmentation/COVID-CT-Segmentation/Dataset2/LungInfection-train/Pseudo-label/GT/Data-1_coronacases_org_005_84\n",
      "/data/jwd/main/040/914/40914875/working/jupyter/covid_ct_segmentation/COVID-CT-Segmentation/Dataset2/LungInfection-train/Pseudo-label/GT/Data-1_coronacases_org_005_4\n"
     ]
    },
    {
     "name": "stderr",
     "output_type": "stream",
     "text": [
      " 45%|████▍     | 626/1405 [00:27<00:37, 20.77it/s]"
     ]
    },
    {
     "name": "stdout",
     "output_type": "stream",
     "text": [
      "/data/jwd/main/040/914/40914875/working/jupyter/covid_ct_segmentation/COVID-CT-Segmentation/Dataset2/LungInfection-train/Pseudo-label/GT/Data-1_coronacases_org_005_161\n",
      "/data/jwd/main/040/914/40914875/working/jupyter/covid_ct_segmentation/COVID-CT-Segmentation/Dataset2/LungInfection-train/Pseudo-label/GT/Data-1_coronacases_org_002_50\n",
      "/data/jwd/main/040/914/40914875/working/jupyter/covid_ct_segmentation/COVID-CT-Segmentation/Dataset2/LungInfection-train/Pseudo-label/GT/Data-1_radiopaedia_org_covid-19-pneumonia-10_85902_3-dcm_43\n",
      "/data/jwd/main/040/914/40914875/working/jupyter/covid_ct_segmentation/COVID-CT-Segmentation/Dataset2/LungInfection-train/Pseudo-label/GT/Data-1_radiopaedia_org_covid-19-pneumonia-27_86410_0-dcm_2\n"
     ]
    },
    {
     "name": "stderr",
     "output_type": "stream",
     "text": [
      " 45%|████▍     | 629/1405 [00:27<00:41, 18.81it/s]"
     ]
    },
    {
     "name": "stdout",
     "output_type": "stream",
     "text": [
      "/data/jwd/main/040/914/40914875/working/jupyter/covid_ct_segmentation/COVID-CT-Segmentation/Dataset2/LungInfection-train/Pseudo-label/GT/Data-1_coronacases_org_005_91\n",
      "/data/jwd/main/040/914/40914875/working/jupyter/covid_ct_segmentation/COVID-CT-Segmentation/Dataset2/LungInfection-train/Pseudo-label/GT/Data-1_coronacases_org_005_151\n",
      "/data/jwd/main/040/914/40914875/working/jupyter/covid_ct_segmentation/COVID-CT-Segmentation/Dataset2/LungInfection-train/Pseudo-label/GT/Data-1_radiopaedia_org_covid-19-pneumonia-29_86491_1-dcm_11\n",
      "/data/jwd/main/040/914/40914875/working/jupyter/covid_ct_segmentation/COVID-CT-Segmentation/Dataset2/LungInfection-train/Pseudo-label/GT/Data-1_coronacases_org_004_122\n",
      "/data/jwd/main/040/914/40914875/working/jupyter/covid_ct_segmentation/COVID-CT-Segmentation/Dataset2/LungInfection-train/Pseudo-label/GT/Data-1_coronacases_org_005_158\n"
     ]
    },
    {
     "name": "stderr",
     "output_type": "stream",
     "text": [
      " 45%|████▌     | 635/1405 [00:27<00:40, 19.12it/s]"
     ]
    },
    {
     "name": "stdout",
     "output_type": "stream",
     "text": [
      "/data/jwd/main/040/914/40914875/working/jupyter/covid_ct_segmentation/COVID-CT-Segmentation/Dataset2/LungInfection-train/Pseudo-label/GT/Data-1_coronacases_org_004_75\n",
      "/data/jwd/main/040/914/40914875/working/jupyter/covid_ct_segmentation/COVID-CT-Segmentation/Dataset2/LungInfection-train/Pseudo-label/GT/Data-1_coronacases_org_004_127\n",
      "/data/jwd/main/040/914/40914875/working/jupyter/covid_ct_segmentation/COVID-CT-Segmentation/Dataset2/LungInfection-train/Pseudo-label/GT/Data-1_coronacases_org_010_77\n",
      "/data/jwd/main/040/914/40914875/working/jupyter/covid_ct_segmentation/COVID-CT-Segmentation/Dataset2/LungInfection-train/Pseudo-label/GT/Data-1_coronacases_org_008_89\n",
      "/data/jwd/main/040/914/40914875/working/jupyter/covid_ct_segmentation/COVID-CT-Segmentation/Dataset2/LungInfection-train/Pseudo-label/GT/Data-1_coronacases_org_005_97\n"
     ]
    },
    {
     "name": "stderr",
     "output_type": "stream",
     "text": [
      " 46%|████▌     | 641/1405 [00:27<00:33, 22.52it/s]"
     ]
    },
    {
     "name": "stdout",
     "output_type": "stream",
     "text": [
      "/data/jwd/main/040/914/40914875/working/jupyter/covid_ct_segmentation/COVID-CT-Segmentation/Dataset2/LungInfection-train/Pseudo-label/GT/Data-1_coronacases_org_007_53\n",
      "/data/jwd/main/040/914/40914875/working/jupyter/covid_ct_segmentation/COVID-CT-Segmentation/Dataset2/LungInfection-train/Pseudo-label/GT/Data-1_coronacases_org_008_74\n",
      "/data/jwd/main/040/914/40914875/working/jupyter/covid_ct_segmentation/COVID-CT-Segmentation/Dataset2/LungInfection-train/Pseudo-label/GT/Data-1_coronacases_org_001_28\n",
      "/data/jwd/main/040/914/40914875/working/jupyter/covid_ct_segmentation/COVID-CT-Segmentation/Dataset2/LungInfection-train/Pseudo-label/GT/Data-1_radiopaedia_org_covid-19-pneumonia-27_86410_0-dcm_10\n",
      "/data/jwd/main/040/914/40914875/working/jupyter/covid_ct_segmentation/COVID-CT-Segmentation/Dataset2/LungInfection-train/Pseudo-label/GT/Data-1_coronacases_org_009_114\n",
      "/data/jwd/main/040/914/40914875/working/jupyter/covid_ct_segmentation/COVID-CT-Segmentation/Dataset2/LungInfection-train/Pseudo-label/GT/Data-1_radiopaedia_org_covid-19-pneumonia-10_85902_3-dcm_19\n"
     ]
    },
    {
     "name": "stderr",
     "output_type": "stream",
     "text": [
      " 46%|████▌     | 647/1405 [00:28<00:35, 21.37it/s]"
     ]
    },
    {
     "name": "stdout",
     "output_type": "stream",
     "text": [
      "/data/jwd/main/040/914/40914875/working/jupyter/covid_ct_segmentation/COVID-CT-Segmentation/Dataset2/LungInfection-train/Pseudo-label/GT/Data-1_coronacases_org_004_44\n",
      "/data/jwd/main/040/914/40914875/working/jupyter/covid_ct_segmentation/COVID-CT-Segmentation/Dataset2/LungInfection-train/Pseudo-label/GT/Data-1_radiopaedia_org_covid-19-pneumonia-29_86490_1-dcm_19\n",
      "/data/jwd/main/040/914/40914875/working/jupyter/covid_ct_segmentation/COVID-CT-Segmentation/Dataset2/LungInfection-train/Pseudo-label/GT/Data-1_radiopaedia_org_covid-19-pneumonia-14_85914_0-dcm_41\n",
      "/data/jwd/main/040/914/40914875/working/jupyter/covid_ct_segmentation/COVID-CT-Segmentation/Dataset2/LungInfection-train/Pseudo-label/GT/Data-1_coronacases_org_004_78\n",
      "/data/jwd/main/040/914/40914875/working/jupyter/covid_ct_segmentation/COVID-CT-Segmentation/Dataset2/LungInfection-train/Pseudo-label/GT/Data-1_coronacases_org_002_69\n"
     ]
    },
    {
     "name": "stderr",
     "output_type": "stream",
     "text": [
      " 47%|████▋     | 654/1405 [00:28<00:28, 26.33it/s]"
     ]
    },
    {
     "name": "stdout",
     "output_type": "stream",
     "text": [
      "/data/jwd/main/040/914/40914875/working/jupyter/covid_ct_segmentation/COVID-CT-Segmentation/Dataset2/LungInfection-train/Pseudo-label/GT/Data-1_coronacases_org_002_56\n",
      "/data/jwd/main/040/914/40914875/working/jupyter/covid_ct_segmentation/COVID-CT-Segmentation/Dataset2/LungInfection-train/Pseudo-label/GT/Data-1_coronacases_org_007_31\n",
      "/data/jwd/main/040/914/40914875/working/jupyter/covid_ct_segmentation/COVID-CT-Segmentation/Dataset2/LungInfection-train/Pseudo-label/GT/Data-1_coronacases_org_006_67\n",
      "/data/jwd/main/040/914/40914875/working/jupyter/covid_ct_segmentation/COVID-CT-Segmentation/Dataset2/LungInfection-train/Pseudo-label/GT/Data-1_radiopaedia_org_covid-19-pneumonia-10_85902_3-dcm_164\n",
      "/data/jwd/main/040/914/40914875/working/jupyter/covid_ct_segmentation/COVID-CT-Segmentation/Dataset2/LungInfection-train/Pseudo-label/GT/Data-1_coronacases_org_006_78\n",
      "/data/jwd/main/040/914/40914875/working/jupyter/covid_ct_segmentation/COVID-CT-Segmentation/Dataset2/LungInfection-train/Pseudo-label/GT/Data-1_coronacases_org_005_83\n",
      "/data/jwd/main/040/914/40914875/working/jupyter/covid_ct_segmentation/COVID-CT-Segmentation/Dataset2/LungInfection-train/Pseudo-label/GT/Data-1_coronacases_org_004_103\n"
     ]
    },
    {
     "name": "stderr",
     "output_type": "stream",
     "text": [
      " 47%|████▋     | 660/1405 [00:28<00:26, 27.60it/s]"
     ]
    },
    {
     "name": "stdout",
     "output_type": "stream",
     "text": [
      "/data/jwd/main/040/914/40914875/working/jupyter/covid_ct_segmentation/COVID-CT-Segmentation/Dataset2/LungInfection-train/Pseudo-label/GT/Data-1_radiopaedia_org_covid-19-pneumonia-29_86491_1-dcm_18\n",
      "/data/jwd/main/040/914/40914875/working/jupyter/covid_ct_segmentation/COVID-CT-Segmentation/Dataset2/LungInfection-train/Pseudo-label/GT/Data-1_coronacases_org_008_133\n",
      "/data/jwd/main/040/914/40914875/working/jupyter/covid_ct_segmentation/COVID-CT-Segmentation/Dataset2/LungInfection-train/Pseudo-label/GT/Data-1_coronacases_org_008_57\n",
      "/data/jwd/main/040/914/40914875/working/jupyter/covid_ct_segmentation/COVID-CT-Segmentation/Dataset2/LungInfection-train/Pseudo-label/GT/Data-1_coronacases_org_007_49\n",
      "/data/jwd/main/040/914/40914875/working/jupyter/covid_ct_segmentation/COVID-CT-Segmentation/Dataset2/LungInfection-train/Pseudo-label/GT/Data-1_coronacases_org_002_58\n",
      "/data/jwd/main/040/914/40914875/working/jupyter/covid_ct_segmentation/COVID-CT-Segmentation/Dataset2/LungInfection-train/Pseudo-label/GT/Data-1_coronacases_org_005_73\n"
     ]
    },
    {
     "name": "stderr",
     "output_type": "stream",
     "text": [
      " 47%|████▋     | 667/1405 [00:28<00:28, 26.00it/s]"
     ]
    },
    {
     "name": "stdout",
     "output_type": "stream",
     "text": [
      "/data/jwd/main/040/914/40914875/working/jupyter/covid_ct_segmentation/COVID-CT-Segmentation/Dataset2/LungInfection-train/Pseudo-label/GT/Data-1_radiopaedia_org_covid-19-pneumonia-40_86625_0-dcm_1\n",
      "/data/jwd/main/040/914/40914875/working/jupyter/covid_ct_segmentation/COVID-CT-Segmentation/Dataset2/LungInfection-train/Pseudo-label/GT/Data-1_coronacases_org_003_24\n",
      "/data/jwd/main/040/914/40914875/working/jupyter/covid_ct_segmentation/COVID-CT-Segmentation/Dataset2/LungInfection-train/Pseudo-label/GT/Data-1_radiopaedia_org_covid-19-pneumonia-10_85902_3-dcm_83\n",
      "/data/jwd/main/040/914/40914875/working/jupyter/covid_ct_segmentation/COVID-CT-Segmentation/Dataset2/LungInfection-train/Pseudo-label/GT/Data-1_coronacases_org_005_57\n",
      "/data/jwd/main/040/914/40914875/working/jupyter/covid_ct_segmentation/COVID-CT-Segmentation/Dataset2/LungInfection-train/Pseudo-label/GT/Data-1_coronacases_org_001_6\n",
      "/data/jwd/main/040/914/40914875/working/jupyter/covid_ct_segmentation/COVID-CT-Segmentation/Dataset2/LungInfection-train/Pseudo-label/GT/Data-1_radiopaedia_org_covid-19-pneumonia-7_85703_0-dcm_16\n",
      "/data/jwd/main/040/914/40914875/working/jupyter/covid_ct_segmentation/COVID-CT-Segmentation/Dataset2/LungInfection-train/Pseudo-label/GT/Data-1_radiopaedia_org_covid-19-pneumonia-14_85914_0-dcm_6\n",
      "/data/jwd/main/040/914/40914875/working/jupyter/covid_ct_segmentation/COVID-CT-Segmentation/Dataset2/LungInfection-train/Pseudo-label/GT/Data-1_coronacases_org_009_59\n"
     ]
    },
    {
     "name": "stderr",
     "output_type": "stream",
     "text": [
      " 48%|████▊     | 675/1405 [00:28<00:23, 31.38it/s]"
     ]
    },
    {
     "name": "stdout",
     "output_type": "stream",
     "text": [
      "/data/jwd/main/040/914/40914875/working/jupyter/covid_ct_segmentation/COVID-CT-Segmentation/Dataset2/LungInfection-train/Pseudo-label/GT/Data-1_coronacases_org_001_89\n",
      "/data/jwd/main/040/914/40914875/working/jupyter/covid_ct_segmentation/COVID-CT-Segmentation/Dataset2/LungInfection-train/Pseudo-label/GT/Data-1_radiopaedia_org_covid-19-pneumonia-10_85902_1-dcm_18\n",
      "/data/jwd/main/040/914/40914875/working/jupyter/covid_ct_segmentation/COVID-CT-Segmentation/Dataset2/LungInfection-train/Pseudo-label/GT/Data-1_coronacases_org_007_51\n",
      "/data/jwd/main/040/914/40914875/working/jupyter/covid_ct_segmentation/COVID-CT-Segmentation/Dataset2/LungInfection-train/Pseudo-label/GT/Data-1_coronacases_org_005_28\n",
      "/data/jwd/main/040/914/40914875/working/jupyter/covid_ct_segmentation/COVID-CT-Segmentation/Dataset2/LungInfection-train/Pseudo-label/GT/Data-1_radiopaedia_org_covid-19-pneumonia-10_85902_3-dcm_97\n",
      "/data/jwd/main/040/914/40914875/working/jupyter/covid_ct_segmentation/COVID-CT-Segmentation/Dataset2/LungInfection-train/Pseudo-label/GT/Data-1_coronacases_org_003_22\n",
      "/data/jwd/main/040/914/40914875/working/jupyter/covid_ct_segmentation/COVID-CT-Segmentation/Dataset2/LungInfection-train/Pseudo-label/GT/Data-1_coronacases_org_004_129\n",
      "/data/jwd/main/040/914/40914875/working/jupyter/covid_ct_segmentation/COVID-CT-Segmentation/Dataset2/LungInfection-train/Pseudo-label/GT/Data-1_coronacases_org_001_31\n"
     ]
    },
    {
     "name": "stderr",
     "output_type": "stream",
     "text": [
      " 49%|████▊     | 683/1405 [00:29<00:21, 33.24it/s]"
     ]
    },
    {
     "name": "stdout",
     "output_type": "stream",
     "text": [
      "/data/jwd/main/040/914/40914875/working/jupyter/covid_ct_segmentation/COVID-CT-Segmentation/Dataset2/LungInfection-train/Pseudo-label/GT/Data-1_radiopaedia_org_covid-19-pneumonia-10_85902_3-dcm_4\n",
      "/data/jwd/main/040/914/40914875/working/jupyter/covid_ct_segmentation/COVID-CT-Segmentation/Dataset2/LungInfection-train/Pseudo-label/GT/Data-1_coronacases_org_001_1\n",
      "/data/jwd/main/040/914/40914875/working/jupyter/covid_ct_segmentation/COVID-CT-Segmentation/Dataset2/LungInfection-train/Pseudo-label/GT/Data-1_radiopaedia_org_covid-19-pneumonia-14_85914_0-dcm_16\n",
      "/data/jwd/main/040/914/40914875/working/jupyter/covid_ct_segmentation/COVID-CT-Segmentation/Dataset2/LungInfection-train/Pseudo-label/GT/Data-1_radiopaedia_org_covid-19-pneumonia-7_85703_0-dcm_23\n",
      "/data/jwd/main/040/914/40914875/working/jupyter/covid_ct_segmentation/COVID-CT-Segmentation/Dataset2/LungInfection-train/Pseudo-label/GT/Data-1_radiopaedia_org_covid-19-pneumonia-7_85703_0-dcm_22\n",
      "/data/jwd/main/040/914/40914875/working/jupyter/covid_ct_segmentation/COVID-CT-Segmentation/Dataset2/LungInfection-train/Pseudo-label/GT/Data-1_coronacases_org_007_43\n"
     ]
    },
    {
     "name": "stderr",
     "output_type": "stream",
     "text": [
      " 49%|████▉     | 687/1405 [00:29<00:24, 29.63it/s]"
     ]
    },
    {
     "name": "stdout",
     "output_type": "stream",
     "text": [
      "/data/jwd/main/040/914/40914875/working/jupyter/covid_ct_segmentation/COVID-CT-Segmentation/Dataset2/LungInfection-train/Pseudo-label/GT/Data-1_coronacases_org_003_13\n",
      "/data/jwd/main/040/914/40914875/working/jupyter/covid_ct_segmentation/COVID-CT-Segmentation/Dataset2/LungInfection-train/Pseudo-label/GT/Data-1_coronacases_org_009_76\n",
      "/data/jwd/main/040/914/40914875/working/jupyter/covid_ct_segmentation/COVID-CT-Segmentation/Dataset2/LungInfection-train/Pseudo-label/GT/Data-1_radiopaedia_org_covid-19-pneumonia-14_85914_0-dcm_36\n",
      "/data/jwd/main/040/914/40914875/working/jupyter/covid_ct_segmentation/COVID-CT-Segmentation/Dataset2/LungInfection-train/Pseudo-label/GT/Data-1_coronacases_org_004_65\n",
      "/data/jwd/main/040/914/40914875/working/jupyter/covid_ct_segmentation/COVID-CT-Segmentation/Dataset2/LungInfection-train/Pseudo-label/GT/Data-1_coronacases_org_003_66\n",
      "/data/jwd/main/040/914/40914875/working/jupyter/covid_ct_segmentation/COVID-CT-Segmentation/Dataset2/LungInfection-train/Pseudo-label/GT/Data-1_radiopaedia_org_covid-19-pneumonia-14_85914_0-dcm_7\n",
      "/data/jwd/main/040/914/40914875/working/jupyter/covid_ct_segmentation/COVID-CT-Segmentation/Dataset2/LungInfection-train/Pseudo-label/GT/Data-1_radiopaedia_org_covid-19-pneumonia-4_85506_1-dcm_6\n"
     ]
    },
    {
     "name": "stderr",
     "output_type": "stream",
     "text": [
      " 49%|████▉     | 695/1405 [00:29<00:21, 32.81it/s]"
     ]
    },
    {
     "name": "stdout",
     "output_type": "stream",
     "text": [
      "/data/jwd/main/040/914/40914875/working/jupyter/covid_ct_segmentation/COVID-CT-Segmentation/Dataset2/LungInfection-train/Pseudo-label/GT/Data-1_coronacases_org_004_83\n",
      "/data/jwd/main/040/914/40914875/working/jupyter/covid_ct_segmentation/COVID-CT-Segmentation/Dataset2/LungInfection-train/Pseudo-label/GT/Data-1_coronacases_org_007_80\n",
      "/data/jwd/main/040/914/40914875/working/jupyter/covid_ct_segmentation/COVID-CT-Segmentation/Dataset2/LungInfection-train/Pseudo-label/GT/Data-1_coronacases_org_004_136\n",
      "/data/jwd/main/040/914/40914875/working/jupyter/covid_ct_segmentation/COVID-CT-Segmentation/Dataset2/LungInfection-train/Pseudo-label/GT/Data-1_radiopaedia_org_covid-19-pneumonia-14_85914_0-dcm_24\n",
      "/data/jwd/main/040/914/40914875/working/jupyter/covid_ct_segmentation/COVID-CT-Segmentation/Dataset2/LungInfection-train/Pseudo-label/GT/Data-1_coronacases_org_003_51\n",
      "/data/jwd/main/040/914/40914875/working/jupyter/covid_ct_segmentation/COVID-CT-Segmentation/Dataset2/LungInfection-train/Pseudo-label/GT/Data-1_coronacases_org_005_48\n",
      "/data/jwd/main/040/914/40914875/working/jupyter/covid_ct_segmentation/COVID-CT-Segmentation/Dataset2/LungInfection-train/Pseudo-label/GT/Data-1_coronacases_org_004_71\n"
     ]
    },
    {
     "name": "stderr",
     "output_type": "stream",
     "text": [
      " 50%|████▉     | 699/1405 [00:29<00:20, 33.68it/s]"
     ]
    },
    {
     "name": "stdout",
     "output_type": "stream",
     "text": [
      "/data/jwd/main/040/914/40914875/working/jupyter/covid_ct_segmentation/COVID-CT-Segmentation/Dataset2/LungInfection-train/Pseudo-label/GT/Data-1_radiopaedia_org_covid-19-pneumonia-10_85902_3-dcm_49\n",
      "/data/jwd/main/040/914/40914875/working/jupyter/covid_ct_segmentation/COVID-CT-Segmentation/Dataset2/LungInfection-train/Pseudo-label/GT/Data-1_coronacases_org_002_24\n",
      "/data/jwd/main/040/914/40914875/working/jupyter/covid_ct_segmentation/COVID-CT-Segmentation/Dataset2/LungInfection-train/Pseudo-label/GT/Data-1_radiopaedia_org_covid-19-pneumonia-4_85506_1-dcm_11\n",
      "/data/jwd/main/040/914/40914875/working/jupyter/covid_ct_segmentation/COVID-CT-Segmentation/Dataset2/LungInfection-train/Pseudo-label/GT/Data-1_radiopaedia_org_covid-19-pneumonia-14_85914_0-dcm_52\n",
      "/data/jwd/main/040/914/40914875/working/jupyter/covid_ct_segmentation/COVID-CT-Segmentation/Dataset2/LungInfection-train/Pseudo-label/GT/Data-1_coronacases_org_007_7\n"
     ]
    },
    {
     "name": "stderr",
     "output_type": "stream",
     "text": [
      " 50%|█████     | 706/1405 [00:30<00:28, 24.88it/s]"
     ]
    },
    {
     "name": "stdout",
     "output_type": "stream",
     "text": [
      "/data/jwd/main/040/914/40914875/working/jupyter/covid_ct_segmentation/COVID-CT-Segmentation/Dataset2/LungInfection-train/Pseudo-label/GT/Data-1_coronacases_org_004_58\n",
      "/data/jwd/main/040/914/40914875/working/jupyter/covid_ct_segmentation/COVID-CT-Segmentation/Dataset2/LungInfection-train/Pseudo-label/GT/Data-1_coronacases_org_010_65\n",
      "/data/jwd/main/040/914/40914875/working/jupyter/covid_ct_segmentation/COVID-CT-Segmentation/Dataset2/LungInfection-train/Pseudo-label/GT/Data-1_coronacases_org_004_36\n",
      "/data/jwd/main/040/914/40914875/working/jupyter/covid_ct_segmentation/COVID-CT-Segmentation/Dataset2/LungInfection-train/Pseudo-label/GT/Data-1_radiopaedia_org_covid-19-pneumonia-29_86490_1-dcm_11\n",
      "/data/jwd/main/040/914/40914875/working/jupyter/covid_ct_segmentation/COVID-CT-Segmentation/Dataset2/LungInfection-train/Pseudo-label/GT/Data-1_coronacases_org_006_52\n"
     ]
    },
    {
     "name": "stderr",
     "output_type": "stream",
     "text": [
      " 51%|█████     | 713/1405 [00:30<00:28, 24.59it/s]"
     ]
    },
    {
     "name": "stdout",
     "output_type": "stream",
     "text": [
      "/data/jwd/main/040/914/40914875/working/jupyter/covid_ct_segmentation/COVID-CT-Segmentation/Dataset2/LungInfection-train/Pseudo-label/GT/Data-1_coronacases_org_005_100\n",
      "/data/jwd/main/040/914/40914875/working/jupyter/covid_ct_segmentation/COVID-CT-Segmentation/Dataset2/LungInfection-train/Pseudo-label/GT/Data-1_coronacases_org_010_48\n",
      "/data/jwd/main/040/914/40914875/working/jupyter/covid_ct_segmentation/COVID-CT-Segmentation/Dataset2/LungInfection-train/Pseudo-label/GT/Data-1_coronacases_org_001_38\n",
      "/data/jwd/main/040/914/40914875/working/jupyter/covid_ct_segmentation/COVID-CT-Segmentation/Dataset2/LungInfection-train/Pseudo-label/GT/Data-1_radiopaedia_org_covid-19-pneumonia-27_86410_0-dcm_24\n",
      "/data/jwd/main/040/914/40914875/working/jupyter/covid_ct_segmentation/COVID-CT-Segmentation/Dataset2/LungInfection-train/Pseudo-label/GT/Data-1_coronacases_org_005_87\n",
      "/data/jwd/main/040/914/40914875/working/jupyter/covid_ct_segmentation/COVID-CT-Segmentation/Dataset2/LungInfection-train/Pseudo-label/GT/Data-1_radiopaedia_org_covid-19-pneumonia-29_86491_1-dcm_7\n",
      "/data/jwd/main/040/914/40914875/working/jupyter/covid_ct_segmentation/COVID-CT-Segmentation/Dataset2/LungInfection-train/Pseudo-label/GT/Data-1_radiopaedia_org_covid-19-pneumonia-36_86526_0-dcm_4\n"
     ]
    },
    {
     "name": "stderr",
     "output_type": "stream",
     "text": [
      " 51%|█████     | 719/1405 [00:30<00:26, 25.95it/s]"
     ]
    },
    {
     "name": "stdout",
     "output_type": "stream",
     "text": [
      "/data/jwd/main/040/914/40914875/working/jupyter/covid_ct_segmentation/COVID-CT-Segmentation/Dataset2/LungInfection-train/Pseudo-label/GT/Data-1_radiopaedia_org_covid-19-pneumonia-10_85902_3-dcm_13\n",
      "/data/jwd/main/040/914/40914875/working/jupyter/covid_ct_segmentation/COVID-CT-Segmentation/Dataset2/LungInfection-train/Pseudo-label/GT/Data-1_coronacases_org_007_85\n",
      "/data/jwd/main/040/914/40914875/working/jupyter/covid_ct_segmentation/COVID-CT-Segmentation/Dataset2/LungInfection-train/Pseudo-label/GT/Data-1_coronacases_org_008_22\n",
      "/data/jwd/main/040/914/40914875/working/jupyter/covid_ct_segmentation/COVID-CT-Segmentation/Dataset2/LungInfection-train/Pseudo-label/GT/Data-1_coronacases_org_008_122\n",
      "/data/jwd/main/040/914/40914875/working/jupyter/covid_ct_segmentation/COVID-CT-Segmentation/Dataset2/LungInfection-train/Pseudo-label/GT/Data-1_coronacases_org_001_39\n"
     ]
    },
    {
     "name": "stderr",
     "output_type": "stream",
     "text": [
      " 52%|█████▏    | 726/1405 [00:30<00:22, 30.04it/s]"
     ]
    },
    {
     "name": "stdout",
     "output_type": "stream",
     "text": [
      "/data/jwd/main/040/914/40914875/working/jupyter/covid_ct_segmentation/COVID-CT-Segmentation/Dataset2/LungInfection-train/Pseudo-label/GT/Data-1_coronacases_org_005_142\n",
      "/data/jwd/main/040/914/40914875/working/jupyter/covid_ct_segmentation/COVID-CT-Segmentation/Dataset2/LungInfection-train/Pseudo-label/GT/Data-1_coronacases_org_003_32\n",
      "/data/jwd/main/040/914/40914875/working/jupyter/covid_ct_segmentation/COVID-CT-Segmentation/Dataset2/LungInfection-train/Pseudo-label/GT/Data-1_coronacases_org_010_78\n",
      "/data/jwd/main/040/914/40914875/working/jupyter/covid_ct_segmentation/COVID-CT-Segmentation/Dataset2/LungInfection-train/Pseudo-label/GT/Data-1_coronacases_org_002_39\n",
      "/data/jwd/main/040/914/40914875/working/jupyter/covid_ct_segmentation/COVID-CT-Segmentation/Dataset2/LungInfection-train/Pseudo-label/GT/Data-1_coronacases_org_002_38\n",
      "/data/jwd/main/040/914/40914875/working/jupyter/covid_ct_segmentation/COVID-CT-Segmentation/Dataset2/LungInfection-train/Pseudo-label/GT/Data-1_coronacases_org_002_66\n",
      "/data/jwd/main/040/914/40914875/working/jupyter/covid_ct_segmentation/COVID-CT-Segmentation/Dataset2/LungInfection-train/Pseudo-label/GT/Data-1_radiopaedia_org_covid-19-pneumonia-36_86526_0-dcm_1\n",
      "/data/jwd/main/040/914/40914875/working/jupyter/covid_ct_segmentation/COVID-CT-Segmentation/Dataset2/LungInfection-train/Pseudo-label/GT/Data-1_coronacases_org_008_12\n",
      "/data/jwd/main/040/914/40914875/working/jupyter/covid_ct_segmentation/COVID-CT-Segmentation/Dataset2/LungInfection-train/Pseudo-label/GT/Data-1_coronacases_org_004_110\n",
      "/data/jwd/main/040/914/40914875/working/jupyter/covid_ct_segmentation/COVID-CT-Segmentation/Dataset2/LungInfection-train/Pseudo-label/GT/Data-1_coronacases_org_004_38\n",
      "/data/jwd/main/040/914/40914875/working/jupyter/covid_ct_segmentation/COVID-CT-Segmentation/Dataset2/LungInfection-train/Pseudo-label/GT/Data-1_coronacases_org_001_93\n"
     ]
    },
    {
     "name": "stderr",
     "output_type": "stream",
     "text": [
      " 52%|█████▏    | 734/1405 [00:31<00:27, 24.24it/s]"
     ]
    },
    {
     "name": "stdout",
     "output_type": "stream",
     "text": [
      "/data/jwd/main/040/914/40914875/working/jupyter/covid_ct_segmentation/COVID-CT-Segmentation/Dataset2/LungInfection-train/Pseudo-label/GT/Data-1_radiopaedia_org_covid-19-pneumonia-10_85902_3-dcm_16\n",
      "/data/jwd/main/040/914/40914875/working/jupyter/covid_ct_segmentation/COVID-CT-Segmentation/Dataset2/LungInfection-train/Pseudo-label/GT/Data-1_coronacases_org_005_64\n",
      "/data/jwd/main/040/914/40914875/working/jupyter/covid_ct_segmentation/COVID-CT-Segmentation/Dataset2/LungInfection-train/Pseudo-label/GT/Data-1_coronacases_org_005_153\n",
      "/data/jwd/main/040/914/40914875/working/jupyter/covid_ct_segmentation/COVID-CT-Segmentation/Dataset2/LungInfection-train/Pseudo-label/GT/Data-1_coronacases_org_010_3\n",
      "/data/jwd/main/040/914/40914875/working/jupyter/covid_ct_segmentation/COVID-CT-Segmentation/Dataset2/LungInfection-train/Pseudo-label/GT/Data-1_coronacases_org_004_135\n",
      "/data/jwd/main/040/914/40914875/working/jupyter/covid_ct_segmentation/COVID-CT-Segmentation/Dataset2/LungInfection-train/Pseudo-label/GT/Data-1_coronacases_org_009_72\n",
      "/data/jwd/main/040/914/40914875/working/jupyter/covid_ct_segmentation/COVID-CT-Segmentation/Dataset2/LungInfection-train/Pseudo-label/GT/Data-1_coronacases_org_005_31\n"
     ]
    },
    {
     "name": "stderr",
     "output_type": "stream",
     "text": [
      " 53%|█████▎    | 743/1405 [00:31<00:21, 31.38it/s]"
     ]
    },
    {
     "name": "stdout",
     "output_type": "stream",
     "text": [
      "/data/jwd/main/040/914/40914875/working/jupyter/covid_ct_segmentation/COVID-CT-Segmentation/Dataset2/LungInfection-train/Pseudo-label/GT/Data-1_coronacases_org_005_41\n",
      "/data/jwd/main/040/914/40914875/working/jupyter/covid_ct_segmentation/COVID-CT-Segmentation/Dataset2/LungInfection-train/Pseudo-label/GT/Data-1_coronacases_org_004_11\n",
      "/data/jwd/main/040/914/40914875/working/jupyter/covid_ct_segmentation/COVID-CT-Segmentation/Dataset2/LungInfection-train/Pseudo-label/GT/Data-1_coronacases_org_009_37\n",
      "/data/jwd/main/040/914/40914875/working/jupyter/covid_ct_segmentation/COVID-CT-Segmentation/Dataset2/LungInfection-train/Pseudo-label/GT/Data-1_coronacases_org_004_34\n",
      "/data/jwd/main/040/914/40914875/working/jupyter/covid_ct_segmentation/COVID-CT-Segmentation/Dataset2/LungInfection-train/Pseudo-label/GT/Data-1_radiopaedia_org_covid-19-pneumonia-10_85902_3-dcm_102\n",
      "/data/jwd/main/040/914/40914875/working/jupyter/covid_ct_segmentation/COVID-CT-Segmentation/Dataset2/LungInfection-train/Pseudo-label/GT/Data-1_coronacases_org_001_47\n",
      "/data/jwd/main/040/914/40914875/working/jupyter/covid_ct_segmentation/COVID-CT-Segmentation/Dataset2/LungInfection-train/Pseudo-label/GT/Data-1_radiopaedia_org_covid-19-pneumonia-10_85902_3-dcm_70\n"
     ]
    },
    {
     "name": "stderr",
     "output_type": "stream",
     "text": [
      " 53%|█████▎    | 751/1405 [00:31<00:22, 29.19it/s]"
     ]
    },
    {
     "name": "stdout",
     "output_type": "stream",
     "text": [
      "/data/jwd/main/040/914/40914875/working/jupyter/covid_ct_segmentation/COVID-CT-Segmentation/Dataset2/LungInfection-train/Pseudo-label/GT/Data-1_coronacases_org_007_44\n",
      "/data/jwd/main/040/914/40914875/working/jupyter/covid_ct_segmentation/COVID-CT-Segmentation/Dataset2/LungInfection-train/Pseudo-label/GT/Data-1_coronacases_org_005_44\n",
      "/data/jwd/main/040/914/40914875/working/jupyter/covid_ct_segmentation/COVID-CT-Segmentation/Dataset2/LungInfection-train/Pseudo-label/GT/Data-1_coronacases_org_009_60\n",
      "/data/jwd/main/040/914/40914875/working/jupyter/covid_ct_segmentation/COVID-CT-Segmentation/Dataset2/LungInfection-train/Pseudo-label/GT/Data-1_coronacases_org_006_57\n",
      "/data/jwd/main/040/914/40914875/working/jupyter/covid_ct_segmentation/COVID-CT-Segmentation/Dataset2/LungInfection-train/Pseudo-label/GT/Data-1_coronacases_org_009_29\n",
      "/data/jwd/main/040/914/40914875/working/jupyter/covid_ct_segmentation/COVID-CT-Segmentation/Dataset2/LungInfection-train/Pseudo-label/GT/Data-1_coronacases_org_004_8\n",
      "/data/jwd/main/040/914/40914875/working/jupyter/covid_ct_segmentation/COVID-CT-Segmentation/Dataset2/LungInfection-train/Pseudo-label/GT/Data-1_radiopaedia_org_covid-19-pneumonia-10_85902_3-dcm_89\n"
     ]
    },
    {
     "name": "stderr",
     "output_type": "stream",
     "text": [
      " 54%|█████▎    | 755/1405 [00:31<00:25, 25.90it/s]"
     ]
    },
    {
     "name": "stdout",
     "output_type": "stream",
     "text": [
      "/data/jwd/main/040/914/40914875/working/jupyter/covid_ct_segmentation/COVID-CT-Segmentation/Dataset2/LungInfection-train/Pseudo-label/GT/Data-1_radiopaedia_org_covid-19-pneumonia-27_86410_0-dcm_6\n",
      "/data/jwd/main/040/914/40914875/working/jupyter/covid_ct_segmentation/COVID-CT-Segmentation/Dataset2/LungInfection-train/Pseudo-label/GT/Data-1_coronacases_org_001_73\n",
      "/data/jwd/main/040/914/40914875/working/jupyter/covid_ct_segmentation/COVID-CT-Segmentation/Dataset2/LungInfection-train/Pseudo-label/GT/Data-1_coronacases_org_006_22\n",
      "/data/jwd/main/040/914/40914875/working/jupyter/covid_ct_segmentation/COVID-CT-Segmentation/Dataset2/LungInfection-train/Pseudo-label/GT/Data-1_coronacases_org_005_5\n"
     ]
    },
    {
     "name": "stderr",
     "output_type": "stream",
     "text": [
      " 54%|█████▍    | 758/1405 [00:31<00:25, 25.72it/s]"
     ]
    },
    {
     "name": "stdout",
     "output_type": "stream",
     "text": [
      "/data/jwd/main/040/914/40914875/working/jupyter/covid_ct_segmentation/COVID-CT-Segmentation/Dataset2/LungInfection-train/Pseudo-label/GT/Data-1_radiopaedia_org_covid-19-pneumonia-10_85902_3-dcm_114\n",
      "/data/jwd/main/040/914/40914875/working/jupyter/covid_ct_segmentation/COVID-CT-Segmentation/Dataset2/LungInfection-train/Pseudo-label/GT/Data-1_coronacases_org_005_163\n",
      "/data/jwd/main/040/914/40914875/working/jupyter/covid_ct_segmentation/COVID-CT-Segmentation/Dataset2/LungInfection-train/Pseudo-label/GT/Data-1_coronacases_org_005_135\n",
      "/data/jwd/main/040/914/40914875/working/jupyter/covid_ct_segmentation/COVID-CT-Segmentation/Dataset2/LungInfection-train/Pseudo-label/GT/Data-1_coronacases_org_005_109\n",
      "/data/jwd/main/040/914/40914875/working/jupyter/covid_ct_segmentation/COVID-CT-Segmentation/Dataset2/LungInfection-train/Pseudo-label/GT/Data-1_coronacases_org_002_32\n"
     ]
    },
    {
     "name": "stderr",
     "output_type": "stream",
     "text": [
      " 54%|█████▍    | 765/1405 [00:32<00:24, 25.69it/s]"
     ]
    },
    {
     "name": "stdout",
     "output_type": "stream",
     "text": [
      "/data/jwd/main/040/914/40914875/working/jupyter/covid_ct_segmentation/COVID-CT-Segmentation/Dataset2/LungInfection-train/Pseudo-label/GT/Data-1_radiopaedia_org_covid-19-pneumonia-14_85914_0-dcm_21\n",
      "/data/jwd/main/040/914/40914875/working/jupyter/covid_ct_segmentation/COVID-CT-Segmentation/Dataset2/LungInfection-train/Pseudo-label/GT/Data-1_coronacases_org_007_91\n",
      "/data/jwd/main/040/914/40914875/working/jupyter/covid_ct_segmentation/COVID-CT-Segmentation/Dataset2/LungInfection-train/Pseudo-label/GT/Data-1_coronacases_org_004_119\n",
      "/data/jwd/main/040/914/40914875/working/jupyter/covid_ct_segmentation/COVID-CT-Segmentation/Dataset2/LungInfection-train/Pseudo-label/GT/Data-1_radiopaedia_org_covid-19-pneumonia-10_85902_3-dcm_183\n",
      "/data/jwd/main/040/914/40914875/working/jupyter/covid_ct_segmentation/COVID-CT-Segmentation/Dataset2/LungInfection-train/Pseudo-label/GT/Data-1_coronacases_org_009_65\n",
      "/data/jwd/main/040/914/40914875/working/jupyter/covid_ct_segmentation/COVID-CT-Segmentation/Dataset2/LungInfection-train/Pseudo-label/GT/Data-1_coronacases_org_003_60\n",
      "/data/jwd/main/040/914/40914875/working/jupyter/covid_ct_segmentation/COVID-CT-Segmentation/Dataset2/LungInfection-train/Pseudo-label/GT/Data-1_coronacases_org_008_131\n"
     ]
    },
    {
     "name": "stderr",
     "output_type": "stream",
     "text": [
      " 55%|█████▍    | 771/1405 [00:32<00:23, 26.99it/s]"
     ]
    },
    {
     "name": "stdout",
     "output_type": "stream",
     "text": [
      "/data/jwd/main/040/914/40914875/working/jupyter/covid_ct_segmentation/COVID-CT-Segmentation/Dataset2/LungInfection-train/Pseudo-label/GT/Data-1_radiopaedia_org_covid-19-pneumonia-29_86491_1-dcm_5\n",
      "/data/jwd/main/040/914/40914875/working/jupyter/covid_ct_segmentation/COVID-CT-Segmentation/Dataset2/LungInfection-train/Pseudo-label/GT/Data-1_coronacases_org_005_166\n",
      "/data/jwd/main/040/914/40914875/working/jupyter/covid_ct_segmentation/COVID-CT-Segmentation/Dataset2/LungInfection-train/Pseudo-label/GT/Data-1_coronacases_org_002_46\n",
      "/data/jwd/main/040/914/40914875/working/jupyter/covid_ct_segmentation/COVID-CT-Segmentation/Dataset2/LungInfection-train/Pseudo-label/GT/Data-1_radiopaedia_org_covid-19-pneumonia-40_86625_0-dcm_31\n",
      "/data/jwd/main/040/914/40914875/working/jupyter/covid_ct_segmentation/COVID-CT-Segmentation/Dataset2/LungInfection-train/Pseudo-label/GT/Data-1_radiopaedia_org_covid-19-pneumonia-14_85914_0-dcm_37\n"
     ]
    },
    {
     "name": "stderr",
     "output_type": "stream",
     "text": [
      " 55%|█████▌    | 774/1405 [00:32<00:27, 23.16it/s]"
     ]
    },
    {
     "name": "stdout",
     "output_type": "stream",
     "text": [
      "/data/jwd/main/040/914/40914875/working/jupyter/covid_ct_segmentation/COVID-CT-Segmentation/Dataset2/LungInfection-train/Pseudo-label/GT/Data-1_coronacases_org_010_44\n",
      "/data/jwd/main/040/914/40914875/working/jupyter/covid_ct_segmentation/COVID-CT-Segmentation/Dataset2/LungInfection-train/Pseudo-label/GT/Data-1_coronacases_org_008_44\n",
      "/data/jwd/main/040/914/40914875/working/jupyter/covid_ct_segmentation/COVID-CT-Segmentation/Dataset2/LungInfection-train/Pseudo-label/GT/Data-1_coronacases_org_002_75\n",
      "/data/jwd/main/040/914/40914875/working/jupyter/covid_ct_segmentation/COVID-CT-Segmentation/Dataset2/LungInfection-train/Pseudo-label/GT/Data-1_coronacases_org_007_81\n",
      "/data/jwd/main/040/914/40914875/working/jupyter/covid_ct_segmentation/COVID-CT-Segmentation/Dataset2/LungInfection-train/Pseudo-label/GT/Data-1_coronacases_org_007_72\n",
      "/data/jwd/main/040/914/40914875/working/jupyter/covid_ct_segmentation/COVID-CT-Segmentation/Dataset2/LungInfection-train/Pseudo-label/GT/Data-1_coronacases_org_004_41\n"
     ]
    },
    {
     "name": "stderr",
     "output_type": "stream",
     "text": [
      " 56%|█████▌    | 781/1405 [00:32<00:29, 21.45it/s]"
     ]
    },
    {
     "name": "stdout",
     "output_type": "stream",
     "text": [
      "/data/jwd/main/040/914/40914875/working/jupyter/covid_ct_segmentation/COVID-CT-Segmentation/Dataset2/LungInfection-train/Pseudo-label/GT/Data-1_coronacases_org_004_105\n",
      "/data/jwd/main/040/914/40914875/working/jupyter/covid_ct_segmentation/COVID-CT-Segmentation/Dataset2/LungInfection-train/Pseudo-label/GT/Data-1_coronacases_org_007_32\n",
      "/data/jwd/main/040/914/40914875/working/jupyter/covid_ct_segmentation/COVID-CT-Segmentation/Dataset2/LungInfection-train/Pseudo-label/GT/Data-1_coronacases_org_002_26\n"
     ]
    },
    {
     "name": "stderr",
     "output_type": "stream",
     "text": [
      " 56%|█████▌    | 784/1405 [00:33<00:32, 19.12it/s]"
     ]
    },
    {
     "name": "stdout",
     "output_type": "stream",
     "text": [
      "/data/jwd/main/040/914/40914875/working/jupyter/covid_ct_segmentation/COVID-CT-Segmentation/Dataset2/LungInfection-train/Pseudo-label/GT/Data-1_coronacases_org_008_24\n",
      "/data/jwd/main/040/914/40914875/working/jupyter/covid_ct_segmentation/COVID-CT-Segmentation/Dataset2/LungInfection-train/Pseudo-label/GT/Data-1_coronacases_org_004_99\n",
      "/data/jwd/main/040/914/40914875/working/jupyter/covid_ct_segmentation/COVID-CT-Segmentation/Dataset2/LungInfection-train/Pseudo-label/GT/Data-1_coronacases_org_003_46\n"
     ]
    },
    {
     "name": "stderr",
     "output_type": "stream",
     "text": [
      " 56%|█████▌    | 787/1405 [00:33<00:34, 17.95it/s]"
     ]
    },
    {
     "name": "stdout",
     "output_type": "stream",
     "text": [
      "/data/jwd/main/040/914/40914875/working/jupyter/covid_ct_segmentation/COVID-CT-Segmentation/Dataset2/LungInfection-train/Pseudo-label/GT/Data-1_coronacases_org_005_111\n",
      "/data/jwd/main/040/914/40914875/working/jupyter/covid_ct_segmentation/COVID-CT-Segmentation/Dataset2/LungInfection-train/Pseudo-label/GT/Data-1_radiopaedia_org_covid-19-pneumonia-10_85902_3-dcm_142\n",
      "/data/jwd/main/040/914/40914875/working/jupyter/covid_ct_segmentation/COVID-CT-Segmentation/Dataset2/LungInfection-train/Pseudo-label/GT/Data-1_radiopaedia_org_covid-19-pneumonia-27_86410_0-dcm_23\n",
      "/data/jwd/main/040/914/40914875/working/jupyter/covid_ct_segmentation/COVID-CT-Segmentation/Dataset2/LungInfection-train/Pseudo-label/GT/Data-1_coronacases_org_007_76\n"
     ]
    },
    {
     "name": "stderr",
     "output_type": "stream",
     "text": [
      " 56%|█████▋    | 791/1405 [00:33<00:37, 16.57it/s]"
     ]
    },
    {
     "name": "stdout",
     "output_type": "stream",
     "text": [
      "/data/jwd/main/040/914/40914875/working/jupyter/covid_ct_segmentation/COVID-CT-Segmentation/Dataset2/LungInfection-train/Pseudo-label/GT/Data-1_coronacases_org_004_108\n",
      "/data/jwd/main/040/914/40914875/working/jupyter/covid_ct_segmentation/COVID-CT-Segmentation/Dataset2/LungInfection-train/Pseudo-label/GT/Data-1_coronacases_org_008_9\n",
      "/data/jwd/main/040/914/40914875/working/jupyter/covid_ct_segmentation/COVID-CT-Segmentation/Dataset2/LungInfection-train/Pseudo-label/GT/Data-1_radiopaedia_org_covid-19-pneumonia-10_85902_3-dcm_130\n",
      "/data/jwd/main/040/914/40914875/working/jupyter/covid_ct_segmentation/COVID-CT-Segmentation/Dataset2/LungInfection-train/Pseudo-label/GT/Data-1_coronacases_org_006_58\n"
     ]
    },
    {
     "name": "stderr",
     "output_type": "stream",
     "text": [
      " 57%|█████▋    | 794/1405 [00:33<00:31, 19.12it/s]"
     ]
    },
    {
     "name": "stdout",
     "output_type": "stream",
     "text": [
      "/data/jwd/main/040/914/40914875/working/jupyter/covid_ct_segmentation/COVID-CT-Segmentation/Dataset2/LungInfection-train/Pseudo-label/GT/Data-1_coronacases_org_006_48\n",
      "/data/jwd/main/040/914/40914875/working/jupyter/covid_ct_segmentation/COVID-CT-Segmentation/Dataset2/LungInfection-train/Pseudo-label/GT/Data-1_coronacases_org_006_34\n",
      "/data/jwd/main/040/914/40914875/working/jupyter/covid_ct_segmentation/COVID-CT-Segmentation/Dataset2/LungInfection-train/Pseudo-label/GT/Data-1_radiopaedia_org_covid-19-pneumonia-10_85902_3-dcm_141\n",
      "/data/jwd/main/040/914/40914875/working/jupyter/covid_ct_segmentation/COVID-CT-Segmentation/Dataset2/LungInfection-train/Pseudo-label/GT/Data-1_radiopaedia_org_covid-19-pneumonia-29_86490_1-dcm_7\n"
     ]
    },
    {
     "name": "stderr",
     "output_type": "stream",
     "text": [
      " 57%|█████▋    | 800/1405 [00:34<00:31, 19.10it/s]"
     ]
    },
    {
     "name": "stdout",
     "output_type": "stream",
     "text": [
      "/data/jwd/main/040/914/40914875/working/jupyter/covid_ct_segmentation/COVID-CT-Segmentation/Dataset2/LungInfection-train/Pseudo-label/GT/Data-1_coronacases_org_007_9\n",
      "/data/jwd/main/040/914/40914875/working/jupyter/covid_ct_segmentation/COVID-CT-Segmentation/Dataset2/LungInfection-train/Pseudo-label/GT/Data-1_coronacases_org_005_12\n",
      "/data/jwd/main/040/914/40914875/working/jupyter/covid_ct_segmentation/COVID-CT-Segmentation/Dataset2/LungInfection-train/Pseudo-label/GT/Data-1_coronacases_org_004_113\n",
      "/data/jwd/main/040/914/40914875/working/jupyter/covid_ct_segmentation/COVID-CT-Segmentation/Dataset2/LungInfection-train/Pseudo-label/GT/Data-1_radiopaedia_org_covid-19-pneumonia-10_85902_3-dcm_75\n"
     ]
    },
    {
     "name": "stderr",
     "output_type": "stream",
     "text": [
      " 57%|█████▋    | 803/1405 [00:34<00:33, 17.74it/s]"
     ]
    },
    {
     "name": "stdout",
     "output_type": "stream",
     "text": [
      "/data/jwd/main/040/914/40914875/working/jupyter/covid_ct_segmentation/COVID-CT-Segmentation/Dataset2/LungInfection-train/Pseudo-label/GT/Data-1_coronacases_org_010_18\n",
      "/data/jwd/main/040/914/40914875/working/jupyter/covid_ct_segmentation/COVID-CT-Segmentation/Dataset2/LungInfection-train/Pseudo-label/GT/Data-1_coronacases_org_001_67\n",
      "/data/jwd/main/040/914/40914875/working/jupyter/covid_ct_segmentation/COVID-CT-Segmentation/Dataset2/LungInfection-train/Pseudo-label/GT/Data-1_coronacases_org_006_50\n",
      "/data/jwd/main/040/914/40914875/working/jupyter/covid_ct_segmentation/COVID-CT-Segmentation/Dataset2/LungInfection-train/Pseudo-label/GT/Data-1_coronacases_org_010_80\n"
     ]
    },
    {
     "name": "stderr",
     "output_type": "stream",
     "text": [
      " 57%|█████▋    | 805/1405 [00:34<00:39, 15.36it/s]"
     ]
    },
    {
     "name": "stdout",
     "output_type": "stream",
     "text": [
      "/data/jwd/main/040/914/40914875/working/jupyter/covid_ct_segmentation/COVID-CT-Segmentation/Dataset2/LungInfection-train/Pseudo-label/GT/Data-1_radiopaedia_org_covid-19-pneumonia-10_85902_1-dcm_2\n",
      "/data/jwd/main/040/914/40914875/working/jupyter/covid_ct_segmentation/COVID-CT-Segmentation/Dataset2/LungInfection-train/Pseudo-label/GT/Data-1_radiopaedia_org_covid-19-pneumonia-10_85902_3-dcm_57\n"
     ]
    },
    {
     "name": "stderr",
     "output_type": "stream",
     "text": [
      " 57%|█████▋    | 807/1405 [00:34<00:44, 13.56it/s]"
     ]
    },
    {
     "name": "stdout",
     "output_type": "stream",
     "text": [
      "/data/jwd/main/040/914/40914875/working/jupyter/covid_ct_segmentation/COVID-CT-Segmentation/Dataset2/LungInfection-train/Pseudo-label/GT/Data-1_radiopaedia_org_covid-19-pneumonia-10_85902_3-dcm_203\n",
      "/data/jwd/main/040/914/40914875/working/jupyter/covid_ct_segmentation/COVID-CT-Segmentation/Dataset2/LungInfection-train/Pseudo-label/GT/Data-1_coronacases_org_010_82\n",
      "/data/jwd/main/040/914/40914875/working/jupyter/covid_ct_segmentation/COVID-CT-Segmentation/Dataset2/LungInfection-train/Pseudo-label/GT/Data-1_coronacases_org_004_57\n",
      "/data/jwd/main/040/914/40914875/working/jupyter/covid_ct_segmentation/COVID-CT-Segmentation/Dataset2/LungInfection-train/Pseudo-label/GT/Data-1_radiopaedia_org_covid-19-pneumonia-36_86526_0-dcm_37\n"
     ]
    },
    {
     "name": "stderr",
     "output_type": "stream",
     "text": [
      " 58%|█████▊    | 814/1405 [00:35<00:38, 15.54it/s]"
     ]
    },
    {
     "name": "stdout",
     "output_type": "stream",
     "text": [
      "/data/jwd/main/040/914/40914875/working/jupyter/covid_ct_segmentation/COVID-CT-Segmentation/Dataset2/LungInfection-train/Pseudo-label/GT/Data-1_radiopaedia_org_covid-19-pneumonia-40_86625_0-dcm_11\n",
      "/data/jwd/main/040/914/40914875/working/jupyter/covid_ct_segmentation/COVID-CT-Segmentation/Dataset2/LungInfection-train/Pseudo-label/GT/Data-1_radiopaedia_org_covid-19-pneumonia-14_85914_0-dcm_35\n",
      "/data/jwd/main/040/914/40914875/working/jupyter/covid_ct_segmentation/COVID-CT-Segmentation/Dataset2/LungInfection-train/Pseudo-label/GT/Data-1_coronacases_org_007_22\n",
      "/data/jwd/main/040/914/40914875/working/jupyter/covid_ct_segmentation/COVID-CT-Segmentation/Dataset2/LungInfection-train/Pseudo-label/GT/Data-1_coronacases_org_010_39\n"
     ]
    },
    {
     "name": "stderr",
     "output_type": "stream",
     "text": [
      " 58%|█████▊    | 816/1405 [00:35<00:36, 16.04it/s]"
     ]
    },
    {
     "name": "stdout",
     "output_type": "stream",
     "text": [
      "/data/jwd/main/040/914/40914875/working/jupyter/covid_ct_segmentation/COVID-CT-Segmentation/Dataset2/LungInfection-train/Pseudo-label/GT/Data-1_radiopaedia_org_covid-19-pneumonia-27_86410_0-dcm_29\n",
      "/data/jwd/main/040/914/40914875/working/jupyter/covid_ct_segmentation/COVID-CT-Segmentation/Dataset2/LungInfection-train/Pseudo-label/GT/Data-1_coronacases_org_005_15\n",
      "/data/jwd/main/040/914/40914875/working/jupyter/covid_ct_segmentation/COVID-CT-Segmentation/Dataset2/LungInfection-train/Pseudo-label/GT/Data-1_radiopaedia_org_covid-19-pneumonia-10_85902_3-dcm_11\n",
      "/data/jwd/main/040/914/40914875/working/jupyter/covid_ct_segmentation/COVID-CT-Segmentation/Dataset2/LungInfection-train/Pseudo-label/GT/Data-1_coronacases_org_009_68\n"
     ]
    },
    {
     "name": "stderr",
     "output_type": "stream",
     "text": [
      " 58%|█████▊    | 820/1405 [00:35<00:33, 17.47it/s]"
     ]
    },
    {
     "name": "stdout",
     "output_type": "stream",
     "text": [
      "/data/jwd/main/040/914/40914875/working/jupyter/covid_ct_segmentation/COVID-CT-Segmentation/Dataset2/LungInfection-train/Pseudo-label/GT/Data-1_coronacases_org_004_97\n",
      "/data/jwd/main/040/914/40914875/working/jupyter/covid_ct_segmentation/COVID-CT-Segmentation/Dataset2/LungInfection-train/Pseudo-label/GT/Data-1_coronacases_org_008_4\n",
      "/data/jwd/main/040/914/40914875/working/jupyter/covid_ct_segmentation/COVID-CT-Segmentation/Dataset2/LungInfection-train/Pseudo-label/GT/Data-1_coronacases_org_005_150\n",
      "/data/jwd/main/040/914/40914875/working/jupyter/covid_ct_segmentation/COVID-CT-Segmentation/Dataset2/LungInfection-train/Pseudo-label/GT/Data-1_coronacases_org_004_16\n",
      "/data/jwd/main/040/914/40914875/working/jupyter/covid_ct_segmentation/COVID-CT-Segmentation/Dataset2/LungInfection-train/Pseudo-label/GT/Data-1_coronacases_org_001_75\n"
     ]
    },
    {
     "name": "stderr",
     "output_type": "stream",
     "text": [
      " 59%|█████▉    | 826/1405 [00:35<00:29, 19.57it/s]"
     ]
    },
    {
     "name": "stdout",
     "output_type": "stream",
     "text": [
      "/data/jwd/main/040/914/40914875/working/jupyter/covid_ct_segmentation/COVID-CT-Segmentation/Dataset2/LungInfection-train/Pseudo-label/GT/Data-1_coronacases_org_001_49\n",
      "/data/jwd/main/040/914/40914875/working/jupyter/covid_ct_segmentation/COVID-CT-Segmentation/Dataset2/LungInfection-train/Pseudo-label/GT/Data-1_coronacases_org_007_94\n",
      "/data/jwd/main/040/914/40914875/working/jupyter/covid_ct_segmentation/COVID-CT-Segmentation/Dataset2/LungInfection-train/Pseudo-label/GT/Data-1_radiopaedia_org_covid-19-pneumonia-29_86491_1-dcm_10\n",
      "/data/jwd/main/040/914/40914875/working/jupyter/covid_ct_segmentation/COVID-CT-Segmentation/Dataset2/LungInfection-train/Pseudo-label/GT/Data-1_coronacases_org_007_37\n",
      "/data/jwd/main/040/914/40914875/working/jupyter/covid_ct_segmentation/COVID-CT-Segmentation/Dataset2/LungInfection-train/Pseudo-label/GT/Data-1_radiopaedia_org_covid-19-pneumonia-40_86625_0-dcm_7\n"
     ]
    },
    {
     "name": "stderr",
     "output_type": "stream",
     "text": [
      " 59%|█████▉    | 832/1405 [00:35<00:28, 20.30it/s]"
     ]
    },
    {
     "name": "stdout",
     "output_type": "stream",
     "text": [
      "/data/jwd/main/040/914/40914875/working/jupyter/covid_ct_segmentation/COVID-CT-Segmentation/Dataset2/LungInfection-train/Pseudo-label/GT/Data-1_coronacases_org_004_24\n",
      "/data/jwd/main/040/914/40914875/working/jupyter/covid_ct_segmentation/COVID-CT-Segmentation/Dataset2/LungInfection-train/Pseudo-label/GT/Data-1_coronacases_org_005_106\n",
      "/data/jwd/main/040/914/40914875/working/jupyter/covid_ct_segmentation/COVID-CT-Segmentation/Dataset2/LungInfection-train/Pseudo-label/GT/Data-1_radiopaedia_org_covid-19-pneumonia-40_86625_0-dcm_3\n",
      "/data/jwd/main/040/914/40914875/working/jupyter/covid_ct_segmentation/COVID-CT-Segmentation/Dataset2/LungInfection-train/Pseudo-label/GT/Data-1_radiopaedia_org_covid-19-pneumonia-10_85902_3-dcm_176\n"
     ]
    },
    {
     "name": "stderr",
     "output_type": "stream",
     "text": [
      " 59%|█████▉    | 835/1405 [00:36<00:30, 18.39it/s]"
     ]
    },
    {
     "name": "stdout",
     "output_type": "stream",
     "text": [
      "/data/jwd/main/040/914/40914875/working/jupyter/covid_ct_segmentation/COVID-CT-Segmentation/Dataset2/LungInfection-train/Pseudo-label/GT/Data-1_radiopaedia_org_covid-19-pneumonia-10_85902_3-dcm_63\n",
      "/data/jwd/main/040/914/40914875/working/jupyter/covid_ct_segmentation/COVID-CT-Segmentation/Dataset2/LungInfection-train/Pseudo-label/GT/Data-1_radiopaedia_org_covid-19-pneumonia-10_85902_3-dcm_25\n",
      "/data/jwd/main/040/914/40914875/working/jupyter/covid_ct_segmentation/COVID-CT-Segmentation/Dataset2/LungInfection-train/Pseudo-label/GT/Data-1_coronacases_org_001_85\n",
      "/data/jwd/main/040/914/40914875/working/jupyter/covid_ct_segmentation/COVID-CT-Segmentation/Dataset2/LungInfection-train/Pseudo-label/GT/Data-1_coronacases_org_005_8\n"
     ]
    },
    {
     "name": "stderr",
     "output_type": "stream",
     "text": [
      " 60%|█████▉    | 839/1405 [00:36<00:34, 16.45it/s]"
     ]
    },
    {
     "name": "stdout",
     "output_type": "stream",
     "text": [
      "/data/jwd/main/040/914/40914875/working/jupyter/covid_ct_segmentation/COVID-CT-Segmentation/Dataset2/LungInfection-train/Pseudo-label/GT/Data-1_coronacases_org_004_19\n",
      "/data/jwd/main/040/914/40914875/working/jupyter/covid_ct_segmentation/COVID-CT-Segmentation/Dataset2/LungInfection-train/Pseudo-label/GT/Data-1_coronacases_org_002_64\n",
      "/data/jwd/main/040/914/40914875/working/jupyter/covid_ct_segmentation/COVID-CT-Segmentation/Dataset2/LungInfection-train/Pseudo-label/GT/Data-1_coronacases_org_001_94\n"
     ]
    },
    {
     "name": "stderr",
     "output_type": "stream",
     "text": [
      " 60%|█████▉    | 841/1405 [00:36<00:33, 16.81it/s]"
     ]
    },
    {
     "name": "stdout",
     "output_type": "stream",
     "text": [
      "/data/jwd/main/040/914/40914875/working/jupyter/covid_ct_segmentation/COVID-CT-Segmentation/Dataset2/LungInfection-train/Pseudo-label/GT/Data-1_coronacases_org_010_4\n",
      "/data/jwd/main/040/914/40914875/working/jupyter/covid_ct_segmentation/COVID-CT-Segmentation/Dataset2/LungInfection-train/Pseudo-label/GT/Data-1_coronacases_org_008_36\n",
      "/data/jwd/main/040/914/40914875/working/jupyter/covid_ct_segmentation/COVID-CT-Segmentation/Dataset2/LungInfection-train/Pseudo-label/GT/Data-1_radiopaedia_org_covid-19-pneumonia-40_86625_0-dcm_30\n",
      "/data/jwd/main/040/914/40914875/working/jupyter/covid_ct_segmentation/COVID-CT-Segmentation/Dataset2/LungInfection-train/Pseudo-label/GT/Data-1_coronacases_org_010_111\n"
     ]
    },
    {
     "name": "stderr",
     "output_type": "stream",
     "text": [
      " 60%|██████    | 845/1405 [00:36<00:36, 15.19it/s]"
     ]
    },
    {
     "name": "stdout",
     "output_type": "stream",
     "text": [
      "/data/jwd/main/040/914/40914875/working/jupyter/covid_ct_segmentation/COVID-CT-Segmentation/Dataset2/LungInfection-train/Pseudo-label/GT/Data-1_radiopaedia_org_covid-19-pneumonia-10_85902_3-dcm_36\n",
      "/data/jwd/main/040/914/40914875/working/jupyter/covid_ct_segmentation/COVID-CT-Segmentation/Dataset2/LungInfection-train/Pseudo-label/GT/Data-1_radiopaedia_org_covid-19-pneumonia-10_85902_3-dcm_29\n",
      "/data/jwd/main/040/914/40914875/working/jupyter/covid_ct_segmentation/COVID-CT-Segmentation/Dataset2/LungInfection-train/Pseudo-label/GT/Data-1_coronacases_org_004_5\n",
      "/data/jwd/main/040/914/40914875/working/jupyter/covid_ct_segmentation/COVID-CT-Segmentation/Dataset2/LungInfection-train/Pseudo-label/GT/Data-1_coronacases_org_007_65\n"
     ]
    },
    {
     "name": "stderr",
     "output_type": "stream",
     "text": [
      " 60%|██████    | 849/1405 [00:37<00:33, 16.84it/s]"
     ]
    },
    {
     "name": "stdout",
     "output_type": "stream",
     "text": [
      "/data/jwd/main/040/914/40914875/working/jupyter/covid_ct_segmentation/COVID-CT-Segmentation/Dataset2/LungInfection-train/Pseudo-label/GT/Data-1_radiopaedia_org_covid-19-pneumonia-40_86625_0-dcm_27\n",
      "/data/jwd/main/040/914/40914875/working/jupyter/covid_ct_segmentation/COVID-CT-Segmentation/Dataset2/LungInfection-train/Pseudo-label/GT/Data-1_coronacases_org_009_111\n",
      "/data/jwd/main/040/914/40914875/working/jupyter/covid_ct_segmentation/COVID-CT-Segmentation/Dataset2/LungInfection-train/Pseudo-label/GT/Data-1_coronacases_org_010_87\n"
     ]
    },
    {
     "name": "stderr",
     "output_type": "stream",
     "text": [
      " 61%|██████    | 854/1405 [00:37<00:32, 16.99it/s]"
     ]
    },
    {
     "name": "stdout",
     "output_type": "stream",
     "text": [
      "/data/jwd/main/040/914/40914875/working/jupyter/covid_ct_segmentation/COVID-CT-Segmentation/Dataset2/LungInfection-train/Pseudo-label/GT/Data-1_radiopaedia_org_covid-19-pneumonia-40_86625_0-dcm_40\n",
      "/data/jwd/main/040/914/40914875/working/jupyter/covid_ct_segmentation/COVID-CT-Segmentation/Dataset2/LungInfection-train/Pseudo-label/GT/Data-1_radiopaedia_org_covid-19-pneumonia-14_85914_0-dcm_34\n",
      "/data/jwd/main/040/914/40914875/working/jupyter/covid_ct_segmentation/COVID-CT-Segmentation/Dataset2/LungInfection-train/Pseudo-label/GT/Data-1_coronacases_org_004_20\n",
      "/data/jwd/main/040/914/40914875/working/jupyter/covid_ct_segmentation/COVID-CT-Segmentation/Dataset2/LungInfection-train/Pseudo-label/GT/Data-1_radiopaedia_org_covid-19-pneumonia-10_85902_3-dcm_32\n",
      "/data/jwd/main/040/914/40914875/working/jupyter/covid_ct_segmentation/COVID-CT-Segmentation/Dataset2/LungInfection-train/Pseudo-label/GT/Data-1_coronacases_org_001_82\n"
     ]
    },
    {
     "name": "stderr",
     "output_type": "stream",
     "text": [
      " 61%|██████    | 858/1405 [00:37<00:33, 16.20it/s]"
     ]
    },
    {
     "name": "stdout",
     "output_type": "stream",
     "text": [
      "/data/jwd/main/040/914/40914875/working/jupyter/covid_ct_segmentation/COVID-CT-Segmentation/Dataset2/LungInfection-train/Pseudo-label/GT/Data-1_coronacases_org_004_86\n",
      "/data/jwd/main/040/914/40914875/working/jupyter/covid_ct_segmentation/COVID-CT-Segmentation/Dataset2/LungInfection-train/Pseudo-label/GT/Data-1_coronacases_org_001_23\n",
      "/data/jwd/main/040/914/40914875/working/jupyter/covid_ct_segmentation/COVID-CT-Segmentation/Dataset2/LungInfection-train/Pseudo-label/GT/Data-1_coronacases_org_009_53\n",
      "/data/jwd/main/040/914/40914875/working/jupyter/covid_ct_segmentation/COVID-CT-Segmentation/Dataset2/LungInfection-train/Pseudo-label/GT/Data-1_coronacases_org_008_10\n"
     ]
    },
    {
     "name": "stderr",
     "output_type": "stream",
     "text": [
      " 61%|██████▏   | 862/1405 [00:37<00:31, 17.35it/s]"
     ]
    },
    {
     "name": "stdout",
     "output_type": "stream",
     "text": [
      "/data/jwd/main/040/914/40914875/working/jupyter/covid_ct_segmentation/COVID-CT-Segmentation/Dataset2/LungInfection-train/Pseudo-label/GT/Data-1_coronacases_org_006_63\n",
      "/data/jwd/main/040/914/40914875/working/jupyter/covid_ct_segmentation/COVID-CT-Segmentation/Dataset2/LungInfection-train/Pseudo-label/GT/Data-1_radiopaedia_org_covid-19-pneumonia-27_86410_0-dcm_9\n",
      "/data/jwd/main/040/914/40914875/working/jupyter/covid_ct_segmentation/COVID-CT-Segmentation/Dataset2/LungInfection-train/Pseudo-label/GT/Data-1_radiopaedia_org_covid-19-pneumonia-10_85902_3-dcm_126\n",
      "/data/jwd/main/040/914/40914875/working/jupyter/covid_ct_segmentation/COVID-CT-Segmentation/Dataset2/LungInfection-train/Pseudo-label/GT/Data-1_radiopaedia_org_covid-19-pneumonia-27_86410_0-dcm_32\n"
     ]
    },
    {
     "name": "stderr",
     "output_type": "stream",
     "text": [
      " 62%|██████▏   | 868/1405 [00:38<00:28, 18.95it/s]"
     ]
    },
    {
     "name": "stdout",
     "output_type": "stream",
     "text": [
      "/data/jwd/main/040/914/40914875/working/jupyter/covid_ct_segmentation/COVID-CT-Segmentation/Dataset2/LungInfection-train/Pseudo-label/GT/Data-1_coronacases_org_009_67\n",
      "/data/jwd/main/040/914/40914875/working/jupyter/covid_ct_segmentation/COVID-CT-Segmentation/Dataset2/LungInfection-train/Pseudo-label/GT/Data-1_coronacases_org_008_42\n",
      "/data/jwd/main/040/914/40914875/working/jupyter/covid_ct_segmentation/COVID-CT-Segmentation/Dataset2/LungInfection-train/Pseudo-label/GT/Data-1_coronacases_org_010_13\n",
      "/data/jwd/main/040/914/40914875/working/jupyter/covid_ct_segmentation/COVID-CT-Segmentation/Dataset2/LungInfection-train/Pseudo-label/GT/Data-1_coronacases_org_008_121\n",
      "/data/jwd/main/040/914/40914875/working/jupyter/covid_ct_segmentation/COVID-CT-Segmentation/Dataset2/LungInfection-train/Pseudo-label/GT/Data-1_coronacases_org_008_79\n"
     ]
    },
    {
     "name": "stderr",
     "output_type": "stream",
     "text": [
      " 62%|██████▏   | 871/1405 [00:38<00:24, 21.58it/s]"
     ]
    },
    {
     "name": "stdout",
     "output_type": "stream",
     "text": [
      "/data/jwd/main/040/914/40914875/working/jupyter/covid_ct_segmentation/COVID-CT-Segmentation/Dataset2/LungInfection-train/Pseudo-label/GT/Data-1_coronacases_org_004_123\n",
      "/data/jwd/main/040/914/40914875/working/jupyter/covid_ct_segmentation/COVID-CT-Segmentation/Dataset2/LungInfection-train/Pseudo-label/GT/Data-1_coronacases_org_010_29\n",
      "/data/jwd/main/040/914/40914875/working/jupyter/covid_ct_segmentation/COVID-CT-Segmentation/Dataset2/LungInfection-train/Pseudo-label/GT/Data-1_coronacases_org_003_47\n",
      "/data/jwd/main/040/914/40914875/working/jupyter/covid_ct_segmentation/COVID-CT-Segmentation/Dataset2/LungInfection-train/Pseudo-label/GT/Data-1_radiopaedia_org_covid-19-pneumonia-14_85914_0-dcm_25\n",
      "/data/jwd/main/040/914/40914875/working/jupyter/covid_ct_segmentation/COVID-CT-Segmentation/Dataset2/LungInfection-train/Pseudo-label/GT/Data-1_radiopaedia_org_covid-19-pneumonia-29_86491_1-dcm_2\n"
     ]
    },
    {
     "name": "stderr",
     "output_type": "stream",
     "text": [
      " 62%|██████▏   | 874/1405 [00:38<00:23, 22.52it/s]"
     ]
    },
    {
     "name": "stdout",
     "output_type": "stream",
     "text": [
      "/data/jwd/main/040/914/40914875/working/jupyter/covid_ct_segmentation/COVID-CT-Segmentation/Dataset2/LungInfection-train/Pseudo-label/GT/Data-1_coronacases_org_010_53\n",
      "/data/jwd/main/040/914/40914875/working/jupyter/covid_ct_segmentation/COVID-CT-Segmentation/Dataset2/LungInfection-train/Pseudo-label/GT/Data-1_radiopaedia_org_covid-19-pneumonia-10_85902_3-dcm_99\n",
      "/data/jwd/main/040/914/40914875/working/jupyter/covid_ct_segmentation/COVID-CT-Segmentation/Dataset2/LungInfection-train/Pseudo-label/GT/Data-1_coronacases_org_009_51\n"
     ]
    },
    {
     "name": "stderr",
     "output_type": "stream",
     "text": [
      " 63%|██████▎   | 880/1405 [00:38<00:27, 18.90it/s]"
     ]
    },
    {
     "name": "stdout",
     "output_type": "stream",
     "text": [
      "/data/jwd/main/040/914/40914875/working/jupyter/covid_ct_segmentation/COVID-CT-Segmentation/Dataset2/LungInfection-train/Pseudo-label/GT/Data-1_radiopaedia_org_covid-19-pneumonia-7_85703_0-dcm_6\n",
      "/data/jwd/main/040/914/40914875/working/jupyter/covid_ct_segmentation/COVID-CT-Segmentation/Dataset2/LungInfection-train/Pseudo-label/GT/Data-1_coronacases_org_008_67\n",
      "/data/jwd/main/040/914/40914875/working/jupyter/covid_ct_segmentation/COVID-CT-Segmentation/Dataset2/LungInfection-train/Pseudo-label/GT/Data-1_radiopaedia_org_covid-19-pneumonia-10_85902_3-dcm_167\n",
      "/data/jwd/main/040/914/40914875/working/jupyter/covid_ct_segmentation/COVID-CT-Segmentation/Dataset2/LungInfection-train/Pseudo-label/GT/Data-1_coronacases_org_003_19\n",
      "/data/jwd/main/040/914/40914875/working/jupyter/covid_ct_segmentation/COVID-CT-Segmentation/Dataset2/LungInfection-train/Pseudo-label/GT/Data-1_coronacases_org_008_78\n"
     ]
    },
    {
     "name": "stderr",
     "output_type": "stream",
     "text": [
      " 63%|██████▎   | 883/1405 [00:38<00:25, 20.61it/s]"
     ]
    },
    {
     "name": "stdout",
     "output_type": "stream",
     "text": [
      "/data/jwd/main/040/914/40914875/working/jupyter/covid_ct_segmentation/COVID-CT-Segmentation/Dataset2/LungInfection-train/Pseudo-label/GT/Data-1_coronacases_org_008_56\n",
      "/data/jwd/main/040/914/40914875/working/jupyter/covid_ct_segmentation/COVID-CT-Segmentation/Dataset2/LungInfection-train/Pseudo-label/GT/Data-1_coronacases_org_004_94\n",
      "/data/jwd/main/040/914/40914875/working/jupyter/covid_ct_segmentation/COVID-CT-Segmentation/Dataset2/LungInfection-train/Pseudo-label/GT/Data-1_radiopaedia_org_covid-19-pneumonia-10_85902_3-dcm_86\n",
      "/data/jwd/main/040/914/40914875/working/jupyter/covid_ct_segmentation/COVID-CT-Segmentation/Dataset2/LungInfection-train/Pseudo-label/GT/Data-1_radiopaedia_org_covid-19-pneumonia-29_86490_1-dcm_2\n"
     ]
    },
    {
     "name": "stderr",
     "output_type": "stream",
     "text": [
      " 63%|██████▎   | 886/1405 [00:39<00:27, 18.74it/s]"
     ]
    },
    {
     "name": "stdout",
     "output_type": "stream",
     "text": [
      "/data/jwd/main/040/914/40914875/working/jupyter/covid_ct_segmentation/COVID-CT-Segmentation/Dataset2/LungInfection-train/Pseudo-label/GT/Data-1_radiopaedia_org_covid-19-pneumonia-10_85902_3-dcm_182\n",
      "/data/jwd/main/040/914/40914875/working/jupyter/covid_ct_segmentation/COVID-CT-Segmentation/Dataset2/LungInfection-train/Pseudo-label/GT/Data-1_coronacases_org_003_10\n",
      "/data/jwd/main/040/914/40914875/working/jupyter/covid_ct_segmentation/COVID-CT-Segmentation/Dataset2/LungInfection-train/Pseudo-label/GT/Data-1_coronacases_org_010_84\n"
     ]
    },
    {
     "name": "stderr",
     "output_type": "stream",
     "text": [
      " 63%|██████▎   | 891/1405 [00:39<00:32, 15.76it/s]"
     ]
    },
    {
     "name": "stdout",
     "output_type": "stream",
     "text": [
      "/data/jwd/main/040/914/40914875/working/jupyter/covid_ct_segmentation/COVID-CT-Segmentation/Dataset2/LungInfection-train/Pseudo-label/GT/Data-1_coronacases_org_001_16\n",
      "/data/jwd/main/040/914/40914875/working/jupyter/covid_ct_segmentation/COVID-CT-Segmentation/Dataset2/LungInfection-train/Pseudo-label/GT/Data-1_coronacases_org_007_24\n",
      "/data/jwd/main/040/914/40914875/working/jupyter/covid_ct_segmentation/COVID-CT-Segmentation/Dataset2/LungInfection-train/Pseudo-label/GT/Data-1_radiopaedia_org_covid-19-pneumonia-36_86526_0-dcm_17\n",
      "/data/jwd/main/040/914/40914875/working/jupyter/covid_ct_segmentation/COVID-CT-Segmentation/Dataset2/LungInfection-train/Pseudo-label/GT/Data-1_coronacases_org_006_59\n"
     ]
    },
    {
     "name": "stderr",
     "output_type": "stream",
     "text": [
      " 64%|██████▎   | 894/1405 [00:39<00:28, 18.17it/s]"
     ]
    },
    {
     "name": "stdout",
     "output_type": "stream",
     "text": [
      "/data/jwd/main/040/914/40914875/working/jupyter/covid_ct_segmentation/COVID-CT-Segmentation/Dataset2/LungInfection-train/Pseudo-label/GT/Data-1_coronacases_org_007_114\n",
      "/data/jwd/main/040/914/40914875/working/jupyter/covid_ct_segmentation/COVID-CT-Segmentation/Dataset2/LungInfection-train/Pseudo-label/GT/Data-1_coronacases_org_010_101\n",
      "/data/jwd/main/040/914/40914875/working/jupyter/covid_ct_segmentation/COVID-CT-Segmentation/Dataset2/LungInfection-train/Pseudo-label/GT/Data-1_coronacases_org_004_82\n",
      "/data/jwd/main/040/914/40914875/working/jupyter/covid_ct_segmentation/COVID-CT-Segmentation/Dataset2/LungInfection-train/Pseudo-label/GT/Data-1_coronacases_org_008_30\n",
      "/data/jwd/main/040/914/40914875/working/jupyter/covid_ct_segmentation/COVID-CT-Segmentation/Dataset2/LungInfection-train/Pseudo-label/GT/Data-1_coronacases_org_003_18\n"
     ]
    },
    {
     "name": "stderr",
     "output_type": "stream",
     "text": [
      " 64%|██████▍   | 900/1405 [00:39<00:25, 19.61it/s]"
     ]
    },
    {
     "name": "stdout",
     "output_type": "stream",
     "text": [
      "/data/jwd/main/040/914/40914875/working/jupyter/covid_ct_segmentation/COVID-CT-Segmentation/Dataset2/LungInfection-train/Pseudo-label/GT/Data-1_radiopaedia_org_covid-19-pneumonia-27_86410_0-dcm_20\n",
      "/data/jwd/main/040/914/40914875/working/jupyter/covid_ct_segmentation/COVID-CT-Segmentation/Dataset2/LungInfection-train/Pseudo-label/GT/Data-1_coronacases_org_009_97\n",
      "/data/jwd/main/040/914/40914875/working/jupyter/covid_ct_segmentation/COVID-CT-Segmentation/Dataset2/LungInfection-train/Pseudo-label/GT/Data-1_coronacases_org_009_19\n",
      "/data/jwd/main/040/914/40914875/working/jupyter/covid_ct_segmentation/COVID-CT-Segmentation/Dataset2/LungInfection-train/Pseudo-label/GT/Data-1_radiopaedia_org_covid-19-pneumonia-36_86526_0-dcm_18\n",
      "/data/jwd/main/040/914/40914875/working/jupyter/covid_ct_segmentation/COVID-CT-Segmentation/Dataset2/LungInfection-train/Pseudo-label/GT/Data-1_coronacases_org_008_108\n"
     ]
    },
    {
     "name": "stderr",
     "output_type": "stream",
     "text": [
      " 64%|██████▍   | 905/1405 [00:40<00:26, 18.73it/s]"
     ]
    },
    {
     "name": "stdout",
     "output_type": "stream",
     "text": [
      "/data/jwd/main/040/914/40914875/working/jupyter/covid_ct_segmentation/COVID-CT-Segmentation/Dataset2/LungInfection-train/Pseudo-label/GT/Data-1_coronacases_org_005_37\n",
      "/data/jwd/main/040/914/40914875/working/jupyter/covid_ct_segmentation/COVID-CT-Segmentation/Dataset2/LungInfection-train/Pseudo-label/GT/Data-1_coronacases_org_001_27\n",
      "/data/jwd/main/040/914/40914875/working/jupyter/covid_ct_segmentation/COVID-CT-Segmentation/Dataset2/LungInfection-train/Pseudo-label/GT/Data-1_radiopaedia_org_covid-19-pneumonia-29_86490_1-dcm_13\n",
      "/data/jwd/main/040/914/40914875/working/jupyter/covid_ct_segmentation/COVID-CT-Segmentation/Dataset2/LungInfection-train/Pseudo-label/GT/Data-1_coronacases_org_005_53\n"
     ]
    },
    {
     "name": "stderr",
     "output_type": "stream",
     "text": [
      " 65%|██████▍   | 909/1405 [00:40<00:25, 19.08it/s]"
     ]
    },
    {
     "name": "stdout",
     "output_type": "stream",
     "text": [
      "/data/jwd/main/040/914/40914875/working/jupyter/covid_ct_segmentation/COVID-CT-Segmentation/Dataset2/LungInfection-train/Pseudo-label/GT/Data-1_coronacases_org_005_140\n",
      "/data/jwd/main/040/914/40914875/working/jupyter/covid_ct_segmentation/COVID-CT-Segmentation/Dataset2/LungInfection-train/Pseudo-label/GT/Data-1_coronacases_org_004_120\n",
      "/data/jwd/main/040/914/40914875/working/jupyter/covid_ct_segmentation/COVID-CT-Segmentation/Dataset2/LungInfection-train/Pseudo-label/GT/Data-1_radiopaedia_org_covid-19-pneumonia-7_85703_0-dcm_2\n",
      "/data/jwd/main/040/914/40914875/working/jupyter/covid_ct_segmentation/COVID-CT-Segmentation/Dataset2/LungInfection-train/Pseudo-label/GT/Data-1_coronacases_org_003_69\n",
      "/data/jwd/main/040/914/40914875/working/jupyter/covid_ct_segmentation/COVID-CT-Segmentation/Dataset2/LungInfection-train/Pseudo-label/GT/Data-1_radiopaedia_org_covid-19-pneumonia-14_85914_0-dcm_54\n"
     ]
    },
    {
     "name": "stderr",
     "output_type": "stream",
     "text": [
      " 65%|██████▌   | 915/1405 [00:40<00:25, 19.02it/s]"
     ]
    },
    {
     "name": "stdout",
     "output_type": "stream",
     "text": [
      "/data/jwd/main/040/914/40914875/working/jupyter/covid_ct_segmentation/COVID-CT-Segmentation/Dataset2/LungInfection-train/Pseudo-label/GT/Data-1_coronacases_org_007_89\n",
      "/data/jwd/main/040/914/40914875/working/jupyter/covid_ct_segmentation/COVID-CT-Segmentation/Dataset2/LungInfection-train/Pseudo-label/GT/Data-1_radiopaedia_org_covid-19-pneumonia-10_85902_3-dcm_150\n",
      "/data/jwd/main/040/914/40914875/working/jupyter/covid_ct_segmentation/COVID-CT-Segmentation/Dataset2/LungInfection-train/Pseudo-label/GT/Data-1_coronacases_org_004_93\n",
      "/data/jwd/main/040/914/40914875/working/jupyter/covid_ct_segmentation/COVID-CT-Segmentation/Dataset2/LungInfection-train/Pseudo-label/GT/Data-1_coronacases_org_010_57\n"
     ]
    },
    {
     "name": "stderr",
     "output_type": "stream",
     "text": [
      " 65%|██████▌   | 918/1405 [00:40<00:23, 20.73it/s]"
     ]
    },
    {
     "name": "stdout",
     "output_type": "stream",
     "text": [
      "/data/jwd/main/040/914/40914875/working/jupyter/covid_ct_segmentation/COVID-CT-Segmentation/Dataset2/LungInfection-train/Pseudo-label/GT/Data-1_radiopaedia_org_covid-19-pneumonia-40_86625_0-dcm_10\n",
      "/data/jwd/main/040/914/40914875/working/jupyter/covid_ct_segmentation/COVID-CT-Segmentation/Dataset2/LungInfection-train/Pseudo-label/GT/Data-1_coronacases_org_008_34\n",
      "/data/jwd/main/040/914/40914875/working/jupyter/covid_ct_segmentation/COVID-CT-Segmentation/Dataset2/LungInfection-train/Pseudo-label/GT/Data-1_coronacases_org_007_55\n",
      "/data/jwd/main/040/914/40914875/working/jupyter/covid_ct_segmentation/COVID-CT-Segmentation/Dataset2/LungInfection-train/Pseudo-label/GT/Data-1_coronacases_org_006_9\n",
      "/data/jwd/main/040/914/40914875/working/jupyter/covid_ct_segmentation/COVID-CT-Segmentation/Dataset2/LungInfection-train/Pseudo-label/GT/Data-1_coronacases_org_007_4\n"
     ]
    },
    {
     "name": "stderr",
     "output_type": "stream",
     "text": [
      " 66%|██████▌   | 924/1405 [00:41<00:22, 21.52it/s]"
     ]
    },
    {
     "name": "stdout",
     "output_type": "stream",
     "text": [
      "/data/jwd/main/040/914/40914875/working/jupyter/covid_ct_segmentation/COVID-CT-Segmentation/Dataset2/LungInfection-train/Pseudo-label/GT/Data-1_coronacases_org_004_51\n",
      "/data/jwd/main/040/914/40914875/working/jupyter/covid_ct_segmentation/COVID-CT-Segmentation/Dataset2/LungInfection-train/Pseudo-label/GT/Data-1_coronacases_org_007_52\n",
      "/data/jwd/main/040/914/40914875/working/jupyter/covid_ct_segmentation/COVID-CT-Segmentation/Dataset2/LungInfection-train/Pseudo-label/GT/Data-1_coronacases_org_010_21\n",
      "/data/jwd/main/040/914/40914875/working/jupyter/covid_ct_segmentation/COVID-CT-Segmentation/Dataset2/LungInfection-train/Pseudo-label/GT/Data-1_coronacases_org_008_26\n",
      "/data/jwd/main/040/914/40914875/working/jupyter/covid_ct_segmentation/COVID-CT-Segmentation/Dataset2/LungInfection-train/Pseudo-label/GT/Data-1_coronacases_org_006_71\n"
     ]
    },
    {
     "name": "stderr",
     "output_type": "stream",
     "text": [
      " 66%|██████▌   | 927/1405 [00:41<00:25, 18.71it/s]"
     ]
    },
    {
     "name": "stdout",
     "output_type": "stream",
     "text": [
      "/data/jwd/main/040/914/40914875/working/jupyter/covid_ct_segmentation/COVID-CT-Segmentation/Dataset2/LungInfection-train/Pseudo-label/GT/Data-1_coronacases_org_002_62\n",
      "/data/jwd/main/040/914/40914875/working/jupyter/covid_ct_segmentation/COVID-CT-Segmentation/Dataset2/LungInfection-train/Pseudo-label/GT/Data-1_radiopaedia_org_covid-19-pneumonia-10_85902_3-dcm_66\n",
      "/data/jwd/main/040/914/40914875/working/jupyter/covid_ct_segmentation/COVID-CT-Segmentation/Dataset2/LungInfection-train/Pseudo-label/GT/Data-1_coronacases_org_005_49\n"
     ]
    },
    {
     "name": "stderr",
     "output_type": "stream",
     "text": [
      " 66%|██████▌   | 930/1405 [00:41<00:26, 17.69it/s]"
     ]
    },
    {
     "name": "stdout",
     "output_type": "stream",
     "text": [
      "/data/jwd/main/040/914/40914875/working/jupyter/covid_ct_segmentation/COVID-CT-Segmentation/Dataset2/LungInfection-train/Pseudo-label/GT/Data-1_coronacases_org_003_5\n",
      "/data/jwd/main/040/914/40914875/working/jupyter/covid_ct_segmentation/COVID-CT-Segmentation/Dataset2/LungInfection-train/Pseudo-label/GT/Data-1_coronacases_org_010_2\n",
      "/data/jwd/main/040/914/40914875/working/jupyter/covid_ct_segmentation/COVID-CT-Segmentation/Dataset2/LungInfection-train/Pseudo-label/GT/Data-1_coronacases_org_009_77\n",
      "/data/jwd/main/040/914/40914875/working/jupyter/covid_ct_segmentation/COVID-CT-Segmentation/Dataset2/LungInfection-train/Pseudo-label/GT/Data-1_radiopaedia_org_covid-19-pneumonia-10_85902_3-dcm_134\n"
     ]
    },
    {
     "name": "stderr",
     "output_type": "stream",
     "text": [
      " 67%|██████▋   | 936/1405 [00:41<00:25, 18.46it/s]"
     ]
    },
    {
     "name": "stdout",
     "output_type": "stream",
     "text": [
      "/data/jwd/main/040/914/40914875/working/jupyter/covid_ct_segmentation/COVID-CT-Segmentation/Dataset2/LungInfection-train/Pseudo-label/GT/Data-1_coronacases_org_009_26\n",
      "/data/jwd/main/040/914/40914875/working/jupyter/covid_ct_segmentation/COVID-CT-Segmentation/Dataset2/LungInfection-train/Pseudo-label/GT/Data-1_coronacases_org_005_82\n",
      "/data/jwd/main/040/914/40914875/working/jupyter/covid_ct_segmentation/COVID-CT-Segmentation/Dataset2/LungInfection-train/Pseudo-label/GT/Data-1_coronacases_org_010_6\n",
      "/data/jwd/main/040/914/40914875/working/jupyter/covid_ct_segmentation/COVID-CT-Segmentation/Dataset2/LungInfection-train/Pseudo-label/GT/Data-1_coronacases_org_009_4\n"
     ]
    },
    {
     "name": "stderr",
     "output_type": "stream",
     "text": [
      " 67%|██████▋   | 939/1405 [00:41<00:26, 17.74it/s]"
     ]
    },
    {
     "name": "stdout",
     "output_type": "stream",
     "text": [
      "/data/jwd/main/040/914/40914875/working/jupyter/covid_ct_segmentation/COVID-CT-Segmentation/Dataset2/LungInfection-train/Pseudo-label/GT/Data-1_coronacases_org_009_35\n",
      "/data/jwd/main/040/914/40914875/working/jupyter/covid_ct_segmentation/COVID-CT-Segmentation/Dataset2/LungInfection-train/Pseudo-label/GT/Data-1_coronacases_org_003_67\n",
      "/data/jwd/main/040/914/40914875/working/jupyter/covid_ct_segmentation/COVID-CT-Segmentation/Dataset2/LungInfection-train/Pseudo-label/GT/Data-1_coronacases_org_002_48\n",
      "/data/jwd/main/040/914/40914875/working/jupyter/covid_ct_segmentation/COVID-CT-Segmentation/Dataset2/LungInfection-train/Pseudo-label/GT/Data-1_coronacases_org_007_42\n",
      "/data/jwd/main/040/914/40914875/working/jupyter/covid_ct_segmentation/COVID-CT-Segmentation/Dataset2/LungInfection-train/Pseudo-label/GT/Data-1_radiopaedia_org_covid-19-pneumonia-40_86625_0-dcm_25\n"
     ]
    },
    {
     "name": "stderr",
     "output_type": "stream",
     "text": [
      " 67%|██████▋   | 944/1405 [00:42<00:27, 17.03it/s]"
     ]
    },
    {
     "name": "stdout",
     "output_type": "stream",
     "text": [
      "/data/jwd/main/040/914/40914875/working/jupyter/covid_ct_segmentation/COVID-CT-Segmentation/Dataset2/LungInfection-train/Pseudo-label/GT/Data-1_radiopaedia_org_covid-19-pneumonia-10_85902_3-dcm_105\n",
      "/data/jwd/main/040/914/40914875/working/jupyter/covid_ct_segmentation/COVID-CT-Segmentation/Dataset2/LungInfection-train/Pseudo-label/GT/Data-1_coronacases_org_010_60\n",
      "/data/jwd/main/040/914/40914875/working/jupyter/covid_ct_segmentation/COVID-CT-Segmentation/Dataset2/LungInfection-train/Pseudo-label/GT/Data-1_coronacases_org_008_1\n",
      "/data/jwd/main/040/914/40914875/working/jupyter/covid_ct_segmentation/COVID-CT-Segmentation/Dataset2/LungInfection-train/Pseudo-label/GT/Data-1_coronacases_org_010_51\n"
     ]
    },
    {
     "name": "stderr",
     "output_type": "stream",
     "text": [
      " 67%|██████▋   | 946/1405 [00:42<00:36, 12.55it/s]"
     ]
    },
    {
     "name": "stdout",
     "output_type": "stream",
     "text": [
      "/data/jwd/main/040/914/40914875/working/jupyter/covid_ct_segmentation/COVID-CT-Segmentation/Dataset2/LungInfection-train/Pseudo-label/GT/Data-1_radiopaedia_org_covid-19-pneumonia-40_86625_0-dcm_9\n",
      "/data/jwd/main/040/914/40914875/working/jupyter/covid_ct_segmentation/COVID-CT-Segmentation/Dataset2/LungInfection-train/Pseudo-label/GT/Data-1_coronacases_org_008_138\n",
      "/data/jwd/main/040/914/40914875/working/jupyter/covid_ct_segmentation/COVID-CT-Segmentation/Dataset2/LungInfection-train/Pseudo-label/GT/Data-1_coronacases_org_003_40\n"
     ]
    },
    {
     "name": "stderr",
     "output_type": "stream",
     "text": [
      " 68%|██████▊   | 950/1405 [00:42<00:36, 12.53it/s]"
     ]
    },
    {
     "name": "stdout",
     "output_type": "stream",
     "text": [
      "/data/jwd/main/040/914/40914875/working/jupyter/covid_ct_segmentation/COVID-CT-Segmentation/Dataset2/LungInfection-train/Pseudo-label/GT/Data-1_coronacases_org_002_18\n",
      "/data/jwd/main/040/914/40914875/working/jupyter/covid_ct_segmentation/COVID-CT-Segmentation/Dataset2/LungInfection-train/Pseudo-label/GT/Data-1_radiopaedia_org_covid-19-pneumonia-10_85902_3-dcm_143\n",
      "/data/jwd/main/040/914/40914875/working/jupyter/covid_ct_segmentation/COVID-CT-Segmentation/Dataset2/LungInfection-train/Pseudo-label/GT/Data-1_coronacases_org_010_69\n",
      "/data/jwd/main/040/914/40914875/working/jupyter/covid_ct_segmentation/COVID-CT-Segmentation/Dataset2/LungInfection-train/Pseudo-label/GT/Data-1_coronacases_org_007_112\n"
     ]
    },
    {
     "name": "stderr",
     "output_type": "stream",
     "text": [
      " 68%|██████▊   | 956/1405 [00:43<00:28, 15.78it/s]"
     ]
    },
    {
     "name": "stdout",
     "output_type": "stream",
     "text": [
      "/data/jwd/main/040/914/40914875/working/jupyter/covid_ct_segmentation/COVID-CT-Segmentation/Dataset2/LungInfection-train/Pseudo-label/GT/Data-1_coronacases_org_008_112\n",
      "/data/jwd/main/040/914/40914875/working/jupyter/covid_ct_segmentation/COVID-CT-Segmentation/Dataset2/LungInfection-train/Pseudo-label/GT/Data-1_coronacases_org_009_90\n",
      "/data/jwd/main/040/914/40914875/working/jupyter/covid_ct_segmentation/COVID-CT-Segmentation/Dataset2/LungInfection-train/Pseudo-label/GT/Data-1_coronacases_org_006_70\n",
      "/data/jwd/main/040/914/40914875/working/jupyter/covid_ct_segmentation/COVID-CT-Segmentation/Dataset2/LungInfection-train/Pseudo-label/GT/Data-1_radiopaedia_org_covid-19-pneumonia-27_86410_0-dcm_8\n"
     ]
    },
    {
     "name": "stderr",
     "output_type": "stream",
     "text": [
      " 68%|██████▊   | 958/1405 [00:43<00:27, 16.24it/s]"
     ]
    },
    {
     "name": "stdout",
     "output_type": "stream",
     "text": [
      "/data/jwd/main/040/914/40914875/working/jupyter/covid_ct_segmentation/COVID-CT-Segmentation/Dataset2/LungInfection-train/Pseudo-label/GT/Data-1_coronacases_org_003_59\n",
      "/data/jwd/main/040/914/40914875/working/jupyter/covid_ct_segmentation/COVID-CT-Segmentation/Dataset2/LungInfection-train/Pseudo-label/GT/Data-1_coronacases_org_001_90\n",
      "/data/jwd/main/040/914/40914875/working/jupyter/covid_ct_segmentation/COVID-CT-Segmentation/Dataset2/LungInfection-train/Pseudo-label/GT/Data-1_radiopaedia_org_covid-19-pneumonia-10_85902_3-dcm_22\n"
     ]
    },
    {
     "name": "stderr",
     "output_type": "stream",
     "text": [
      " 68%|██████▊   | 962/1405 [00:43<00:29, 15.22it/s]"
     ]
    },
    {
     "name": "stdout",
     "output_type": "stream",
     "text": [
      "/data/jwd/main/040/914/40914875/working/jupyter/covid_ct_segmentation/COVID-CT-Segmentation/Dataset2/LungInfection-train/Pseudo-label/GT/Data-1_radiopaedia_org_covid-19-pneumonia-4_85506_1-dcm_12\n",
      "/data/jwd/main/040/914/40914875/working/jupyter/covid_ct_segmentation/COVID-CT-Segmentation/Dataset2/LungInfection-train/Pseudo-label/GT/Data-1_coronacases_org_006_38\n",
      "/data/jwd/main/040/914/40914875/working/jupyter/covid_ct_segmentation/COVID-CT-Segmentation/Dataset2/LungInfection-train/Pseudo-label/GT/Data-1_radiopaedia_org_covid-19-pneumonia-7_85703_0-dcm_15\n"
     ]
    },
    {
     "name": "stderr",
     "output_type": "stream",
     "text": [
      " 69%|██████▊   | 964/1405 [00:43<00:32, 13.70it/s]"
     ]
    },
    {
     "name": "stdout",
     "output_type": "stream",
     "text": [
      "/data/jwd/main/040/914/40914875/working/jupyter/covid_ct_segmentation/COVID-CT-Segmentation/Dataset2/LungInfection-train/Pseudo-label/GT/Data-1_radiopaedia_org_covid-19-pneumonia-10_85902_3-dcm_27\n",
      "/data/jwd/main/040/914/40914875/working/jupyter/covid_ct_segmentation/COVID-CT-Segmentation/Dataset2/LungInfection-train/Pseudo-label/GT/Data-1_coronacases_org_008_68\n",
      "/data/jwd/main/040/914/40914875/working/jupyter/covid_ct_segmentation/COVID-CT-Segmentation/Dataset2/LungInfection-train/Pseudo-label/GT/Data-1_radiopaedia_org_covid-19-pneumonia-36_86526_0-dcm_5\n"
     ]
    },
    {
     "name": "stderr",
     "output_type": "stream",
     "text": [
      " 69%|██████▉   | 968/1405 [00:43<00:28, 15.51it/s]"
     ]
    },
    {
     "name": "stdout",
     "output_type": "stream",
     "text": [
      "/data/jwd/main/040/914/40914875/working/jupyter/covid_ct_segmentation/COVID-CT-Segmentation/Dataset2/LungInfection-train/Pseudo-label/GT/Data-1_coronacases_org_008_49\n",
      "/data/jwd/main/040/914/40914875/working/jupyter/covid_ct_segmentation/COVID-CT-Segmentation/Dataset2/LungInfection-train/Pseudo-label/GT/Data-1_radiopaedia_org_covid-19-pneumonia-10_85902_1-dcm_16\n",
      "/data/jwd/main/040/914/40914875/working/jupyter/covid_ct_segmentation/COVID-CT-Segmentation/Dataset2/LungInfection-train/Pseudo-label/GT/Data-1_coronacases_org_002_3\n",
      "/data/jwd/main/040/914/40914875/working/jupyter/covid_ct_segmentation/COVID-CT-Segmentation/Dataset2/LungInfection-train/Pseudo-label/GT/Data-1_coronacases_org_005_69\n"
     ]
    },
    {
     "name": "stderr",
     "output_type": "stream",
     "text": [
      " 69%|██████▉   | 971/1405 [00:44<00:28, 15.35it/s]"
     ]
    },
    {
     "name": "stdout",
     "output_type": "stream",
     "text": [
      "/data/jwd/main/040/914/40914875/working/jupyter/covid_ct_segmentation/COVID-CT-Segmentation/Dataset2/LungInfection-train/Pseudo-label/GT/Data-1_coronacases_org_005_155\n",
      "/data/jwd/main/040/914/40914875/working/jupyter/covid_ct_segmentation/COVID-CT-Segmentation/Dataset2/LungInfection-train/Pseudo-label/GT/Data-1_radiopaedia_org_covid-19-pneumonia-10_85902_3-dcm_92\n",
      "/data/jwd/main/040/914/40914875/working/jupyter/covid_ct_segmentation/COVID-CT-Segmentation/Dataset2/LungInfection-train/Pseudo-label/GT/Data-1_coronacases_org_005_102\n"
     ]
    },
    {
     "name": "stderr",
     "output_type": "stream",
     "text": [
      " 69%|██████▉   | 976/1405 [00:44<00:26, 16.11it/s]"
     ]
    },
    {
     "name": "stdout",
     "output_type": "stream",
     "text": [
      "/data/jwd/main/040/914/40914875/working/jupyter/covid_ct_segmentation/COVID-CT-Segmentation/Dataset2/LungInfection-train/Pseudo-label/GT/Data-1_coronacases_org_010_8\n",
      "/data/jwd/main/040/914/40914875/working/jupyter/covid_ct_segmentation/COVID-CT-Segmentation/Dataset2/LungInfection-train/Pseudo-label/GT/Data-1_coronacases_org_008_127\n",
      "/data/jwd/main/040/914/40914875/working/jupyter/covid_ct_segmentation/COVID-CT-Segmentation/Dataset2/LungInfection-train/Pseudo-label/GT/Data-1_radiopaedia_org_covid-19-pneumonia-10_85902_3-dcm_190\n",
      "/data/jwd/main/040/914/40914875/working/jupyter/covid_ct_segmentation/COVID-CT-Segmentation/Dataset2/LungInfection-train/Pseudo-label/GT/Data-1_radiopaedia_org_covid-19-pneumonia-29_86491_1-dcm_8\n"
     ]
    },
    {
     "name": "stderr",
     "output_type": "stream",
     "text": [
      " 70%|██████▉   | 980/1405 [00:44<00:24, 17.37it/s]"
     ]
    },
    {
     "name": "stdout",
     "output_type": "stream",
     "text": [
      "/data/jwd/main/040/914/40914875/working/jupyter/covid_ct_segmentation/COVID-CT-Segmentation/Dataset2/LungInfection-train/Pseudo-label/GT/Data-1_coronacases_org_002_31\n",
      "/data/jwd/main/040/914/40914875/working/jupyter/covid_ct_segmentation/COVID-CT-Segmentation/Dataset2/LungInfection-train/Pseudo-label/GT/Data-1_coronacases_org_001_72\n",
      "/data/jwd/main/040/914/40914875/working/jupyter/covid_ct_segmentation/COVID-CT-Segmentation/Dataset2/LungInfection-train/Pseudo-label/GT/Data-1_radiopaedia_org_covid-19-pneumonia-40_86625_0-dcm_21\n",
      "/data/jwd/main/040/914/40914875/working/jupyter/covid_ct_segmentation/COVID-CT-Segmentation/Dataset2/LungInfection-train/Pseudo-label/GT/Data-1_radiopaedia_org_covid-19-pneumonia-27_86410_0-dcm_26\n"
     ]
    },
    {
     "name": "stderr",
     "output_type": "stream",
     "text": [
      " 70%|██████▉   | 983/1405 [00:44<00:21, 20.06it/s]"
     ]
    },
    {
     "name": "stdout",
     "output_type": "stream",
     "text": [
      "/data/jwd/main/040/914/40914875/working/jupyter/covid_ct_segmentation/COVID-CT-Segmentation/Dataset2/LungInfection-train/Pseudo-label/GT/Data-1_coronacases_org_008_99\n",
      "/data/jwd/main/040/914/40914875/working/jupyter/covid_ct_segmentation/COVID-CT-Segmentation/Dataset2/LungInfection-train/Pseudo-label/GT/Data-1_coronacases_org_005_27\n",
      "/data/jwd/main/040/914/40914875/working/jupyter/covid_ct_segmentation/COVID-CT-Segmentation/Dataset2/LungInfection-train/Pseudo-label/GT/Data-1_coronacases_org_005_20\n",
      "/data/jwd/main/040/914/40914875/working/jupyter/covid_ct_segmentation/COVID-CT-Segmentation/Dataset2/LungInfection-train/Pseudo-label/GT/Data-1_coronacases_org_003_17\n",
      "/data/jwd/main/040/914/40914875/working/jupyter/covid_ct_segmentation/COVID-CT-Segmentation/Dataset2/LungInfection-train/Pseudo-label/GT/Data-1_coronacases_org_006_75\n"
     ]
    },
    {
     "name": "stderr",
     "output_type": "stream",
     "text": [
      " 70%|███████   | 988/1405 [00:45<00:22, 18.89it/s]"
     ]
    },
    {
     "name": "stdout",
     "output_type": "stream",
     "text": [
      "/data/jwd/main/040/914/40914875/working/jupyter/covid_ct_segmentation/COVID-CT-Segmentation/Dataset2/LungInfection-train/Pseudo-label/GT/Data-1_coronacases_org_002_47\n",
      "/data/jwd/main/040/914/40914875/working/jupyter/covid_ct_segmentation/COVID-CT-Segmentation/Dataset2/LungInfection-train/Pseudo-label/GT/Data-1_coronacases_org_002_1\n",
      "/data/jwd/main/040/914/40914875/working/jupyter/covid_ct_segmentation/COVID-CT-Segmentation/Dataset2/LungInfection-train/Pseudo-label/GT/Data-1_radiopaedia_org_covid-19-pneumonia-29_86491_1-dcm_21\n",
      "/data/jwd/main/040/914/40914875/working/jupyter/covid_ct_segmentation/COVID-CT-Segmentation/Dataset2/LungInfection-train/Pseudo-label/GT/Data-1_radiopaedia_org_covid-19-pneumonia-10_85902_3-dcm_30\n"
     ]
    },
    {
     "name": "stderr",
     "output_type": "stream",
     "text": [
      " 71%|███████   | 992/1405 [00:45<00:25, 16.04it/s]"
     ]
    },
    {
     "name": "stdout",
     "output_type": "stream",
     "text": [
      "/data/jwd/main/040/914/40914875/working/jupyter/covid_ct_segmentation/COVID-CT-Segmentation/Dataset2/LungInfection-train/Pseudo-label/GT/Data-1_coronacases_org_005_154\n",
      "/data/jwd/main/040/914/40914875/working/jupyter/covid_ct_segmentation/COVID-CT-Segmentation/Dataset2/LungInfection-train/Pseudo-label/GT/Data-1_coronacases_org_009_71\n",
      "/data/jwd/main/040/914/40914875/working/jupyter/covid_ct_segmentation/COVID-CT-Segmentation/Dataset2/LungInfection-train/Pseudo-label/GT/Data-1_coronacases_org_001_58\n",
      "/data/jwd/main/040/914/40914875/working/jupyter/covid_ct_segmentation/COVID-CT-Segmentation/Dataset2/LungInfection-train/Pseudo-label/GT/Data-1_coronacases_org_010_36\n"
     ]
    },
    {
     "name": "stderr",
     "output_type": "stream",
     "text": [
      " 71%|███████   | 997/1405 [00:45<00:20, 19.43it/s]"
     ]
    },
    {
     "name": "stdout",
     "output_type": "stream",
     "text": [
      "/data/jwd/main/040/914/40914875/working/jupyter/covid_ct_segmentation/COVID-CT-Segmentation/Dataset2/LungInfection-train/Pseudo-label/GT/Data-1_coronacases_org_001_30\n",
      "/data/jwd/main/040/914/40914875/working/jupyter/covid_ct_segmentation/COVID-CT-Segmentation/Dataset2/LungInfection-train/Pseudo-label/GT/Data-1_radiopaedia_org_covid-19-pneumonia-27_86410_0-dcm_30\n",
      "/data/jwd/main/040/914/40914875/working/jupyter/covid_ct_segmentation/COVID-CT-Segmentation/Dataset2/LungInfection-train/Pseudo-label/GT/Data-1_radiopaedia_org_covid-19-pneumonia-10_85902_3-dcm_131\n",
      "/data/jwd/main/040/914/40914875/working/jupyter/covid_ct_segmentation/COVID-CT-Segmentation/Dataset2/LungInfection-train/Pseudo-label/GT/Data-1_coronacases_org_007_2\n"
     ]
    },
    {
     "name": "stderr",
     "output_type": "stream",
     "text": [
      " 71%|███████   | 1000/1405 [00:45<00:18, 21.60it/s]"
     ]
    },
    {
     "name": "stdout",
     "output_type": "stream",
     "text": [
      "/data/jwd/main/040/914/40914875/working/jupyter/covid_ct_segmentation/COVID-CT-Segmentation/Dataset2/LungInfection-train/Pseudo-label/GT/Data-1_coronacases_org_005_85\n",
      "/data/jwd/main/040/914/40914875/working/jupyter/covid_ct_segmentation/COVID-CT-Segmentation/Dataset2/LungInfection-train/Pseudo-label/GT/Data-1_coronacases_org_004_30\n",
      "/data/jwd/main/040/914/40914875/working/jupyter/covid_ct_segmentation/COVID-CT-Segmentation/Dataset2/LungInfection-train/Pseudo-label/GT/Data-1_coronacases_org_006_46\n",
      "/data/jwd/main/040/914/40914875/working/jupyter/covid_ct_segmentation/COVID-CT-Segmentation/Dataset2/LungInfection-train/Pseudo-label/GT/Data-1_coronacases_org_009_55\n",
      "/data/jwd/main/040/914/40914875/working/jupyter/covid_ct_segmentation/COVID-CT-Segmentation/Dataset2/LungInfection-train/Pseudo-label/GT/Data-1_coronacases_org_007_36\n",
      "/data/jwd/main/040/914/40914875/working/jupyter/covid_ct_segmentation/COVID-CT-Segmentation/Dataset2/LungInfection-train/Pseudo-label/GT/Data-1_coronacases_org_007_106\n"
     ]
    },
    {
     "name": "stderr",
     "output_type": "stream",
     "text": [
      " 72%|███████▏  | 1006/1405 [00:45<00:18, 21.77it/s]"
     ]
    },
    {
     "name": "stdout",
     "output_type": "stream",
     "text": [
      "/data/jwd/main/040/914/40914875/working/jupyter/covid_ct_segmentation/COVID-CT-Segmentation/Dataset2/LungInfection-train/Pseudo-label/GT/Data-1_radiopaedia_org_covid-19-pneumonia-10_85902_3-dcm_154\n",
      "/data/jwd/main/040/914/40914875/working/jupyter/covid_ct_segmentation/COVID-CT-Segmentation/Dataset2/LungInfection-train/Pseudo-label/GT/Data-1_coronacases_org_005_50\n",
      "/data/jwd/main/040/914/40914875/working/jupyter/covid_ct_segmentation/COVID-CT-Segmentation/Dataset2/LungInfection-train/Pseudo-label/GT/Data-1_coronacases_org_010_98\n",
      "/data/jwd/main/040/914/40914875/working/jupyter/covid_ct_segmentation/COVID-CT-Segmentation/Dataset2/LungInfection-train/Pseudo-label/GT/Data-1_radiopaedia_org_covid-19-pneumonia-10_85902_3-dcm_72\n"
     ]
    },
    {
     "name": "stderr",
     "output_type": "stream",
     "text": [
      " 72%|███████▏  | 1012/1405 [00:46<00:18, 21.29it/s]"
     ]
    },
    {
     "name": "stdout",
     "output_type": "stream",
     "text": [
      "/data/jwd/main/040/914/40914875/working/jupyter/covid_ct_segmentation/COVID-CT-Segmentation/Dataset2/LungInfection-train/Pseudo-label/GT/Data-1_coronacases_org_008_55\n",
      "/data/jwd/main/040/914/40914875/working/jupyter/covid_ct_segmentation/COVID-CT-Segmentation/Dataset2/LungInfection-train/Pseudo-label/GT/Data-1_coronacases_org_001_60\n",
      "/data/jwd/main/040/914/40914875/working/jupyter/covid_ct_segmentation/COVID-CT-Segmentation/Dataset2/LungInfection-train/Pseudo-label/GT/Data-1_radiopaedia_org_covid-19-pneumonia-29_86490_1-dcm_16\n",
      "/data/jwd/main/040/914/40914875/working/jupyter/covid_ct_segmentation/COVID-CT-Segmentation/Dataset2/LungInfection-train/Pseudo-label/GT/Data-1_coronacases_org_008_62\n",
      "/data/jwd/main/040/914/40914875/working/jupyter/covid_ct_segmentation/COVID-CT-Segmentation/Dataset2/LungInfection-train/Pseudo-label/GT/Data-1_coronacases_org_008_90\n"
     ]
    },
    {
     "name": "stderr",
     "output_type": "stream",
     "text": [
      " 72%|███████▏  | 1015/1405 [00:46<00:24, 16.11it/s]"
     ]
    },
    {
     "name": "stdout",
     "output_type": "stream",
     "text": [
      "/data/jwd/main/040/914/40914875/working/jupyter/covid_ct_segmentation/COVID-CT-Segmentation/Dataset2/LungInfection-train/Pseudo-label/GT/Data-1_radiopaedia_org_covid-19-pneumonia-10_85902_3-dcm_12\n",
      "/data/jwd/main/040/914/40914875/working/jupyter/covid_ct_segmentation/COVID-CT-Segmentation/Dataset2/LungInfection-train/Pseudo-label/GT/Data-1_coronacases_org_007_105\n",
      "/data/jwd/main/040/914/40914875/working/jupyter/covid_ct_segmentation/COVID-CT-Segmentation/Dataset2/LungInfection-train/Pseudo-label/GT/Data-1_radiopaedia_org_covid-19-pneumonia-7_85703_0-dcm_3\n",
      "/data/jwd/main/040/914/40914875/working/jupyter/covid_ct_segmentation/COVID-CT-Segmentation/Dataset2/LungInfection-train/Pseudo-label/GT/Data-1_coronacases_org_008_126\n",
      "/data/jwd/main/040/914/40914875/working/jupyter/covid_ct_segmentation/COVID-CT-Segmentation/Dataset2/LungInfection-train/Pseudo-label/GT/Data-1_radiopaedia_org_covid-19-pneumonia-14_85914_0-dcm_42\n"
     ]
    },
    {
     "name": "stderr",
     "output_type": "stream",
     "text": [
      " 73%|███████▎  | 1019/1405 [00:46<00:26, 14.80it/s]"
     ]
    },
    {
     "name": "stdout",
     "output_type": "stream",
     "text": [
      "/data/jwd/main/040/914/40914875/working/jupyter/covid_ct_segmentation/COVID-CT-Segmentation/Dataset2/LungInfection-train/Pseudo-label/GT/Data-1_coronacases_org_005_159\n",
      "/data/jwd/main/040/914/40914875/working/jupyter/covid_ct_segmentation/COVID-CT-Segmentation/Dataset2/LungInfection-train/Pseudo-label/GT/Data-1_coronacases_org_009_42\n",
      "/data/jwd/main/040/914/40914875/working/jupyter/covid_ct_segmentation/COVID-CT-Segmentation/Dataset2/LungInfection-train/Pseudo-label/GT/Data-1_coronacases_org_001_54\n"
     ]
    },
    {
     "name": "stderr",
     "output_type": "stream",
     "text": [
      " 73%|███████▎  | 1024/1405 [00:47<00:23, 16.55it/s]"
     ]
    },
    {
     "name": "stdout",
     "output_type": "stream",
     "text": [
      "/data/jwd/main/040/914/40914875/working/jupyter/covid_ct_segmentation/COVID-CT-Segmentation/Dataset2/LungInfection-train/Pseudo-label/GT/Data-1_coronacases_org_003_37\n",
      "/data/jwd/main/040/914/40914875/working/jupyter/covid_ct_segmentation/COVID-CT-Segmentation/Dataset2/LungInfection-train/Pseudo-label/GT/Data-1_coronacases_org_004_6\n",
      "/data/jwd/main/040/914/40914875/working/jupyter/covid_ct_segmentation/COVID-CT-Segmentation/Dataset2/LungInfection-train/Pseudo-label/GT/Data-1_coronacases_org_004_18\n",
      "/data/jwd/main/040/914/40914875/working/jupyter/covid_ct_segmentation/COVID-CT-Segmentation/Dataset2/LungInfection-train/Pseudo-label/GT/Data-1_coronacases_org_009_24\n",
      "/data/jwd/main/040/914/40914875/working/jupyter/covid_ct_segmentation/COVID-CT-Segmentation/Dataset2/LungInfection-train/Pseudo-label/GT/Data-1_coronacases_org_009_20\n"
     ]
    },
    {
     "name": "stderr",
     "output_type": "stream",
     "text": [
      " 73%|███████▎  | 1030/1405 [00:47<00:19, 19.16it/s]"
     ]
    },
    {
     "name": "stdout",
     "output_type": "stream",
     "text": [
      "/data/jwd/main/040/914/40914875/working/jupyter/covid_ct_segmentation/COVID-CT-Segmentation/Dataset2/LungInfection-train/Pseudo-label/GT/Data-1_coronacases_org_008_77\n",
      "/data/jwd/main/040/914/40914875/working/jupyter/covid_ct_segmentation/COVID-CT-Segmentation/Dataset2/LungInfection-train/Pseudo-label/GT/Data-1_coronacases_org_008_110\n",
      "/data/jwd/main/040/914/40914875/working/jupyter/covid_ct_segmentation/COVID-CT-Segmentation/Dataset2/LungInfection-train/Pseudo-label/GT/Data-1_coronacases_org_006_23\n",
      "/data/jwd/main/040/914/40914875/working/jupyter/covid_ct_segmentation/COVID-CT-Segmentation/Dataset2/LungInfection-train/Pseudo-label/GT/Data-1_coronacases_org_005_43\n",
      "/data/jwd/main/040/914/40914875/working/jupyter/covid_ct_segmentation/COVID-CT-Segmentation/Dataset2/LungInfection-train/Pseudo-label/GT/Data-1_radiopaedia_org_covid-19-pneumonia-7_85703_0-dcm_18\n"
     ]
    },
    {
     "name": "stderr",
     "output_type": "stream",
     "text": [
      " 74%|███████▎  | 1033/1405 [00:47<00:17, 21.37it/s]"
     ]
    },
    {
     "name": "stdout",
     "output_type": "stream",
     "text": [
      "/data/jwd/main/040/914/40914875/working/jupyter/covid_ct_segmentation/COVID-CT-Segmentation/Dataset2/LungInfection-train/Pseudo-label/GT/Data-1_radiopaedia_org_covid-19-pneumonia-36_86526_0-dcm_8\n",
      "/data/jwd/main/040/914/40914875/working/jupyter/covid_ct_segmentation/COVID-CT-Segmentation/Dataset2/LungInfection-train/Pseudo-label/GT/Data-1_coronacases_org_005_62\n",
      "/data/jwd/main/040/914/40914875/working/jupyter/covid_ct_segmentation/COVID-CT-Segmentation/Dataset2/LungInfection-train/Pseudo-label/GT/Data-1_radiopaedia_org_covid-19-pneumonia-10_85902_3-dcm_152\n",
      "/data/jwd/main/040/914/40914875/working/jupyter/covid_ct_segmentation/COVID-CT-Segmentation/Dataset2/LungInfection-train/Pseudo-label/GT/Data-1_radiopaedia_org_covid-19-pneumonia-29_86490_1-dcm_4\n",
      "/data/jwd/main/040/914/40914875/working/jupyter/covid_ct_segmentation/COVID-CT-Segmentation/Dataset2/LungInfection-train/Pseudo-label/GT/Data-1_coronacases_org_007_41\n"
     ]
    },
    {
     "name": "stderr",
     "output_type": "stream",
     "text": [
      " 74%|███████▍  | 1039/1405 [00:47<00:15, 23.95it/s]"
     ]
    },
    {
     "name": "stdout",
     "output_type": "stream",
     "text": [
      "/data/jwd/main/040/914/40914875/working/jupyter/covid_ct_segmentation/COVID-CT-Segmentation/Dataset2/LungInfection-train/Pseudo-label/GT/Data-1_radiopaedia_org_covid-19-pneumonia-14_85914_0-dcm_14\n",
      "/data/jwd/main/040/914/40914875/working/jupyter/covid_ct_segmentation/COVID-CT-Segmentation/Dataset2/LungInfection-train/Pseudo-label/GT/Data-1_coronacases_org_005_90\n",
      "/data/jwd/main/040/914/40914875/working/jupyter/covid_ct_segmentation/COVID-CT-Segmentation/Dataset2/LungInfection-train/Pseudo-label/GT/Data-1_coronacases_org_005_65\n",
      "/data/jwd/main/040/914/40914875/working/jupyter/covid_ct_segmentation/COVID-CT-Segmentation/Dataset2/LungInfection-train/Pseudo-label/GT/Data-1_radiopaedia_org_covid-19-pneumonia-14_85914_0-dcm_46\n",
      "/data/jwd/main/040/914/40914875/working/jupyter/covid_ct_segmentation/COVID-CT-Segmentation/Dataset2/LungInfection-train/Pseudo-label/GT/Data-1_radiopaedia_org_covid-19-pneumonia-10_85902_3-dcm_177\n",
      "/data/jwd/main/040/914/40914875/working/jupyter/covid_ct_segmentation/COVID-CT-Segmentation/Dataset2/LungInfection-train/Pseudo-label/GT/Data-1_coronacases_org_008_72\n"
     ]
    },
    {
     "name": "stderr",
     "output_type": "stream",
     "text": [
      " 75%|███████▍  | 1047/1405 [00:48<00:13, 27.36it/s]"
     ]
    },
    {
     "name": "stdout",
     "output_type": "stream",
     "text": [
      "/data/jwd/main/040/914/40914875/working/jupyter/covid_ct_segmentation/COVID-CT-Segmentation/Dataset2/LungInfection-train/Pseudo-label/GT/Data-1_coronacases_org_005_42\n",
      "/data/jwd/main/040/914/40914875/working/jupyter/covid_ct_segmentation/COVID-CT-Segmentation/Dataset2/LungInfection-train/Pseudo-label/GT/Data-1_coronacases_org_004_106\n",
      "/data/jwd/main/040/914/40914875/working/jupyter/covid_ct_segmentation/COVID-CT-Segmentation/Dataset2/LungInfection-train/Pseudo-label/GT/Data-1_coronacases_org_003_33\n",
      "/data/jwd/main/040/914/40914875/working/jupyter/covid_ct_segmentation/COVID-CT-Segmentation/Dataset2/LungInfection-train/Pseudo-label/GT/Data-1_coronacases_org_002_52\n",
      "/data/jwd/main/040/914/40914875/working/jupyter/covid_ct_segmentation/COVID-CT-Segmentation/Dataset2/LungInfection-train/Pseudo-label/GT/Data-1_coronacases_org_010_47\n",
      "/data/jwd/main/040/914/40914875/working/jupyter/covid_ct_segmentation/COVID-CT-Segmentation/Dataset2/LungInfection-train/Pseudo-label/GT/Data-1_radiopaedia_org_covid-19-pneumonia-14_85914_0-dcm_26\n",
      "/data/jwd/main/040/914/40914875/working/jupyter/covid_ct_segmentation/COVID-CT-Segmentation/Dataset2/LungInfection-train/Pseudo-label/GT/Data-1_radiopaedia_org_covid-19-pneumonia-27_86410_0-dcm_5\n"
     ]
    },
    {
     "name": "stderr",
     "output_type": "stream",
     "text": [
      " 75%|███████▍  | 1053/1405 [00:48<00:15, 23.20it/s]"
     ]
    },
    {
     "name": "stdout",
     "output_type": "stream",
     "text": [
      "/data/jwd/main/040/914/40914875/working/jupyter/covid_ct_segmentation/COVID-CT-Segmentation/Dataset2/LungInfection-train/Pseudo-label/GT/Data-1_radiopaedia_org_covid-19-pneumonia-27_86410_0-dcm_4\n",
      "/data/jwd/main/040/914/40914875/working/jupyter/covid_ct_segmentation/COVID-CT-Segmentation/Dataset2/LungInfection-train/Pseudo-label/GT/Data-1_coronacases_org_003_64\n",
      "/data/jwd/main/040/914/40914875/working/jupyter/covid_ct_segmentation/COVID-CT-Segmentation/Dataset2/LungInfection-train/Pseudo-label/GT/Data-1_coronacases_org_008_128\n",
      "/data/jwd/main/040/914/40914875/working/jupyter/covid_ct_segmentation/COVID-CT-Segmentation/Dataset2/LungInfection-train/Pseudo-label/GT/Data-1_coronacases_org_001_50\n",
      "/data/jwd/main/040/914/40914875/working/jupyter/covid_ct_segmentation/COVID-CT-Segmentation/Dataset2/LungInfection-train/Pseudo-label/GT/Data-1_coronacases_org_004_39\n",
      "/data/jwd/main/040/914/40914875/working/jupyter/covid_ct_segmentation/COVID-CT-Segmentation/Dataset2/LungInfection-train/Pseudo-label/GT/Data-1_coronacases_org_008_33\n"
     ]
    },
    {
     "name": "stderr",
     "output_type": "stream",
     "text": [
      " 75%|███████▌  | 1060/1405 [00:48<00:12, 27.43it/s]"
     ]
    },
    {
     "name": "stdout",
     "output_type": "stream",
     "text": [
      "/data/jwd/main/040/914/40914875/working/jupyter/covid_ct_segmentation/COVID-CT-Segmentation/Dataset2/LungInfection-train/Pseudo-label/GT/Data-1_coronacases_org_005_58\n",
      "/data/jwd/main/040/914/40914875/working/jupyter/covid_ct_segmentation/COVID-CT-Segmentation/Dataset2/LungInfection-train/Pseudo-label/GT/Data-1_coronacases_org_005_116\n",
      "/data/jwd/main/040/914/40914875/working/jupyter/covid_ct_segmentation/COVID-CT-Segmentation/Dataset2/LungInfection-train/Pseudo-label/GT/Data-1_coronacases_org_007_79\n",
      "/data/jwd/main/040/914/40914875/working/jupyter/covid_ct_segmentation/COVID-CT-Segmentation/Dataset2/LungInfection-train/Pseudo-label/GT/Data-1_coronacases_org_004_64\n",
      "/data/jwd/main/040/914/40914875/working/jupyter/covid_ct_segmentation/COVID-CT-Segmentation/Dataset2/LungInfection-train/Pseudo-label/GT/Data-1_coronacases_org_001_18\n",
      "/data/jwd/main/040/914/40914875/working/jupyter/covid_ct_segmentation/COVID-CT-Segmentation/Dataset2/LungInfection-train/Pseudo-label/GT/Data-1_radiopaedia_org_covid-19-pneumonia-10_85902_3-dcm_69\n"
     ]
    },
    {
     "name": "stderr",
     "output_type": "stream",
     "text": [
      " 76%|███████▌  | 1063/1405 [00:48<00:12, 27.90it/s]"
     ]
    },
    {
     "name": "stdout",
     "output_type": "stream",
     "text": [
      "/data/jwd/main/040/914/40914875/working/jupyter/covid_ct_segmentation/COVID-CT-Segmentation/Dataset2/LungInfection-train/Pseudo-label/GT/Data-1_coronacases_org_001_11\n",
      "/data/jwd/main/040/914/40914875/working/jupyter/covid_ct_segmentation/COVID-CT-Segmentation/Dataset2/LungInfection-train/Pseudo-label/GT/Data-1_coronacases_org_005_22\n",
      "/data/jwd/main/040/914/40914875/working/jupyter/covid_ct_segmentation/COVID-CT-Segmentation/Dataset2/LungInfection-train/Pseudo-label/GT/Data-1_radiopaedia_org_covid-19-pneumonia-10_85902_1-dcm_17\n",
      "/data/jwd/main/040/914/40914875/working/jupyter/covid_ct_segmentation/COVID-CT-Segmentation/Dataset2/LungInfection-train/Pseudo-label/GT/Data-1_coronacases_org_001_15\n",
      "/data/jwd/main/040/914/40914875/working/jupyter/covid_ct_segmentation/COVID-CT-Segmentation/Dataset2/LungInfection-train/Pseudo-label/GT/Data-1_radiopaedia_org_covid-19-pneumonia-27_86410_0-dcm_33\n"
     ]
    },
    {
     "name": "stderr",
     "output_type": "stream",
     "text": [
      " 76%|███████▌  | 1066/1405 [00:48<00:14, 23.40it/s]"
     ]
    },
    {
     "name": "stdout",
     "output_type": "stream",
     "text": [
      "/data/jwd/main/040/914/40914875/working/jupyter/covid_ct_segmentation/COVID-CT-Segmentation/Dataset2/LungInfection-train/Pseudo-label/GT/Data-1_coronacases_org_010_12\n",
      "/data/jwd/main/040/914/40914875/working/jupyter/covid_ct_segmentation/COVID-CT-Segmentation/Dataset2/LungInfection-train/Pseudo-label/GT/Data-1_coronacases_org_004_118\n",
      "/data/jwd/main/040/914/40914875/working/jupyter/covid_ct_segmentation/COVID-CT-Segmentation/Dataset2/LungInfection-train/Pseudo-label/GT/Data-1_radiopaedia_org_covid-19-pneumonia-40_86625_0-dcm_24\n",
      "/data/jwd/main/040/914/40914875/working/jupyter/covid_ct_segmentation/COVID-CT-Segmentation/Dataset2/LungInfection-train/Pseudo-label/GT/Data-1_coronacases_org_002_61\n",
      "/data/jwd/main/040/914/40914875/working/jupyter/covid_ct_segmentation/COVID-CT-Segmentation/Dataset2/LungInfection-train/Pseudo-label/GT/Data-1_coronacases_org_004_134\n"
     ]
    },
    {
     "name": "stderr",
     "output_type": "stream",
     "text": [
      " 76%|███████▋  | 1073/1405 [00:49<00:16, 20.04it/s]"
     ]
    },
    {
     "name": "stdout",
     "output_type": "stream",
     "text": [
      "/data/jwd/main/040/914/40914875/working/jupyter/covid_ct_segmentation/COVID-CT-Segmentation/Dataset2/LungInfection-train/Pseudo-label/GT/Data-1_coronacases_org_010_68\n",
      "/data/jwd/main/040/914/40914875/working/jupyter/covid_ct_segmentation/COVID-CT-Segmentation/Dataset2/LungInfection-train/Pseudo-label/GT/Data-1_coronacases_org_006_1\n",
      "/data/jwd/main/040/914/40914875/working/jupyter/covid_ct_segmentation/COVID-CT-Segmentation/Dataset2/LungInfection-train/Pseudo-label/GT/Data-1_radiopaedia_org_covid-19-pneumonia-10_85902_3-dcm_153\n",
      "/data/jwd/main/040/914/40914875/working/jupyter/covid_ct_segmentation/COVID-CT-Segmentation/Dataset2/LungInfection-train/Pseudo-label/GT/Data-1_coronacases_org_007_39\n",
      "/data/jwd/main/040/914/40914875/working/jupyter/covid_ct_segmentation/COVID-CT-Segmentation/Dataset2/LungInfection-train/Pseudo-label/GT/Data-1_coronacases_org_003_28\n",
      "/data/jwd/main/040/914/40914875/working/jupyter/covid_ct_segmentation/COVID-CT-Segmentation/Dataset2/LungInfection-train/Pseudo-label/GT/Data-1_radiopaedia_org_covid-19-pneumonia-10_85902_3-dcm_198\n",
      "/data/jwd/main/040/914/40914875/working/jupyter/covid_ct_segmentation/COVID-CT-Segmentation/Dataset2/LungInfection-train/Pseudo-label/GT/Data-1_radiopaedia_org_covid-19-pneumonia-10_85902_3-dcm_84\n"
     ]
    },
    {
     "name": "stderr",
     "output_type": "stream",
     "text": [
      " 77%|███████▋  | 1080/1405 [00:49<00:13, 24.18it/s]"
     ]
    },
    {
     "name": "stdout",
     "output_type": "stream",
     "text": [
      "/data/jwd/main/040/914/40914875/working/jupyter/covid_ct_segmentation/COVID-CT-Segmentation/Dataset2/LungInfection-train/Pseudo-label/GT/Data-1_radiopaedia_org_covid-19-pneumonia-10_85902_3-dcm_74\n",
      "/data/jwd/main/040/914/40914875/working/jupyter/covid_ct_segmentation/COVID-CT-Segmentation/Dataset2/LungInfection-train/Pseudo-label/GT/Data-1_coronacases_org_010_42\n",
      "/data/jwd/main/040/914/40914875/working/jupyter/covid_ct_segmentation/COVID-CT-Segmentation/Dataset2/LungInfection-train/Pseudo-label/GT/Data-1_coronacases_org_001_35\n",
      "/data/jwd/main/040/914/40914875/working/jupyter/covid_ct_segmentation/COVID-CT-Segmentation/Dataset2/LungInfection-train/Pseudo-label/GT/Data-1_coronacases_org_004_7\n"
     ]
    },
    {
     "name": "stderr",
     "output_type": "stream",
     "text": [
      " 77%|███████▋  | 1083/1405 [00:49<00:15, 21.11it/s]"
     ]
    },
    {
     "name": "stdout",
     "output_type": "stream",
     "text": [
      "/data/jwd/main/040/914/40914875/working/jupyter/covid_ct_segmentation/COVID-CT-Segmentation/Dataset2/LungInfection-train/Pseudo-label/GT/Data-1_coronacases_org_007_75\n",
      "/data/jwd/main/040/914/40914875/working/jupyter/covid_ct_segmentation/COVID-CT-Segmentation/Dataset2/LungInfection-train/Pseudo-label/GT/Data-1_coronacases_org_001_68\n",
      "/data/jwd/main/040/914/40914875/working/jupyter/covid_ct_segmentation/COVID-CT-Segmentation/Dataset2/LungInfection-train/Pseudo-label/GT/Data-1_radiopaedia_org_covid-19-pneumonia-10_85902_3-dcm_178\n",
      "/data/jwd/main/040/914/40914875/working/jupyter/covid_ct_segmentation/COVID-CT-Segmentation/Dataset2/LungInfection-train/Pseudo-label/GT/Data-1_radiopaedia_org_covid-19-pneumonia-10_85902_3-dcm_56\n",
      "/data/jwd/main/040/914/40914875/working/jupyter/covid_ct_segmentation/COVID-CT-Segmentation/Dataset2/LungInfection-train/Pseudo-label/GT/Data-1_coronacases_org_006_14\n"
     ]
    },
    {
     "name": "stderr",
     "output_type": "stream",
     "text": [
      " 78%|███████▊  | 1089/1405 [00:49<00:15, 20.36it/s]"
     ]
    },
    {
     "name": "stdout",
     "output_type": "stream",
     "text": [
      "/data/jwd/main/040/914/40914875/working/jupyter/covid_ct_segmentation/COVID-CT-Segmentation/Dataset2/LungInfection-train/Pseudo-label/GT/Data-1_coronacases_org_009_87\n",
      "/data/jwd/main/040/914/40914875/working/jupyter/covid_ct_segmentation/COVID-CT-Segmentation/Dataset2/LungInfection-train/Pseudo-label/GT/Data-1_coronacases_org_007_34\n",
      "/data/jwd/main/040/914/40914875/working/jupyter/covid_ct_segmentation/COVID-CT-Segmentation/Dataset2/LungInfection-train/Pseudo-label/GT/Data-1_coronacases_org_002_33\n",
      "/data/jwd/main/040/914/40914875/working/jupyter/covid_ct_segmentation/COVID-CT-Segmentation/Dataset2/LungInfection-train/Pseudo-label/GT/Data-1_coronacases_org_001_32\n"
     ]
    },
    {
     "name": "stderr",
     "output_type": "stream",
     "text": [
      " 78%|███████▊  | 1092/1405 [00:50<00:16, 18.72it/s]"
     ]
    },
    {
     "name": "stdout",
     "output_type": "stream",
     "text": [
      "/data/jwd/main/040/914/40914875/working/jupyter/covid_ct_segmentation/COVID-CT-Segmentation/Dataset2/LungInfection-train/Pseudo-label/GT/Data-1_coronacases_org_004_130\n",
      "/data/jwd/main/040/914/40914875/working/jupyter/covid_ct_segmentation/COVID-CT-Segmentation/Dataset2/LungInfection-train/Pseudo-label/GT/Data-1_coronacases_org_004_117\n",
      "/data/jwd/main/040/914/40914875/working/jupyter/covid_ct_segmentation/COVID-CT-Segmentation/Dataset2/LungInfection-train/Pseudo-label/GT/Data-1_radiopaedia_org_covid-19-pneumonia-10_85902_3-dcm_104\n",
      "/data/jwd/main/040/914/40914875/working/jupyter/covid_ct_segmentation/COVID-CT-Segmentation/Dataset2/LungInfection-train/Pseudo-label/GT/Data-1_coronacases_org_004_116\n"
     ]
    },
    {
     "name": "stderr",
     "output_type": "stream",
     "text": [
      " 78%|███████▊  | 1098/1405 [00:50<00:14, 21.86it/s]"
     ]
    },
    {
     "name": "stdout",
     "output_type": "stream",
     "text": [
      "/data/jwd/main/040/914/40914875/working/jupyter/covid_ct_segmentation/COVID-CT-Segmentation/Dataset2/LungInfection-train/Pseudo-label/GT/Data-1_radiopaedia_org_covid-19-pneumonia-7_85703_0-dcm_8\n",
      "/data/jwd/main/040/914/40914875/working/jupyter/covid_ct_segmentation/COVID-CT-Segmentation/Dataset2/LungInfection-train/Pseudo-label/GT/Data-1_coronacases_org_001_46\n",
      "/data/jwd/main/040/914/40914875/working/jupyter/covid_ct_segmentation/COVID-CT-Segmentation/Dataset2/LungInfection-train/Pseudo-label/GT/Data-1_coronacases_org_010_92\n",
      "/data/jwd/main/040/914/40914875/working/jupyter/covid_ct_segmentation/COVID-CT-Segmentation/Dataset2/LungInfection-train/Pseudo-label/GT/Data-1_coronacases_org_003_3\n",
      "/data/jwd/main/040/914/40914875/working/jupyter/covid_ct_segmentation/COVID-CT-Segmentation/Dataset2/LungInfection-train/Pseudo-label/GT/Data-1_coronacases_org_009_109\n"
     ]
    },
    {
     "name": "stderr",
     "output_type": "stream",
     "text": [
      " 78%|███████▊  | 1101/1405 [00:50<00:15, 20.26it/s]"
     ]
    },
    {
     "name": "stdout",
     "output_type": "stream",
     "text": [
      "/data/jwd/main/040/914/40914875/working/jupyter/covid_ct_segmentation/COVID-CT-Segmentation/Dataset2/LungInfection-train/Pseudo-label/GT/Data-1_radiopaedia_org_covid-19-pneumonia-14_85914_0-dcm_47\n",
      "/data/jwd/main/040/914/40914875/working/jupyter/covid_ct_segmentation/COVID-CT-Segmentation/Dataset2/LungInfection-train/Pseudo-label/GT/Data-1_coronacases_org_009_81\n",
      "/data/jwd/main/040/914/40914875/working/jupyter/covid_ct_segmentation/COVID-CT-Segmentation/Dataset2/LungInfection-train/Pseudo-label/GT/Data-1_coronacases_org_008_48\n",
      "/data/jwd/main/040/914/40914875/working/jupyter/covid_ct_segmentation/COVID-CT-Segmentation/Dataset2/LungInfection-train/Pseudo-label/GT/Data-1_coronacases_org_005_35\n"
     ]
    },
    {
     "name": "stderr",
     "output_type": "stream",
     "text": [
      " 79%|███████▉  | 1107/1405 [00:50<00:14, 20.47it/s]"
     ]
    },
    {
     "name": "stdout",
     "output_type": "stream",
     "text": [
      "/data/jwd/main/040/914/40914875/working/jupyter/covid_ct_segmentation/COVID-CT-Segmentation/Dataset2/LungInfection-train/Pseudo-label/GT/Data-1_coronacases_org_004_109\n",
      "/data/jwd/main/040/914/40914875/working/jupyter/covid_ct_segmentation/COVID-CT-Segmentation/Dataset2/LungInfection-train/Pseudo-label/GT/Data-1_coronacases_org_002_74\n",
      "/data/jwd/main/040/914/40914875/working/jupyter/covid_ct_segmentation/COVID-CT-Segmentation/Dataset2/LungInfection-train/Pseudo-label/GT/Data-1_radiopaedia_org_covid-19-pneumonia-40_86625_0-dcm_36\n",
      "/data/jwd/main/040/914/40914875/working/jupyter/covid_ct_segmentation/COVID-CT-Segmentation/Dataset2/LungInfection-train/Pseudo-label/GT/Data-1_coronacases_org_010_76\n",
      "/data/jwd/main/040/914/40914875/working/jupyter/covid_ct_segmentation/COVID-CT-Segmentation/Dataset2/LungInfection-train/Pseudo-label/GT/Data-1_coronacases_org_005_17\n"
     ]
    },
    {
     "name": "stderr",
     "output_type": "stream",
     "text": [
      " 79%|███████▉  | 1110/1405 [00:51<00:15, 18.63it/s]"
     ]
    },
    {
     "name": "stdout",
     "output_type": "stream",
     "text": [
      "/data/jwd/main/040/914/40914875/working/jupyter/covid_ct_segmentation/COVID-CT-Segmentation/Dataset2/LungInfection-train/Pseudo-label/GT/Data-1_radiopaedia_org_covid-19-pneumonia-40_86625_0-dcm_12\n",
      "/data/jwd/main/040/914/40914875/working/jupyter/covid_ct_segmentation/COVID-CT-Segmentation/Dataset2/LungInfection-train/Pseudo-label/GT/Data-1_coronacases_org_005_144\n",
      "/data/jwd/main/040/914/40914875/working/jupyter/covid_ct_segmentation/COVID-CT-Segmentation/Dataset2/LungInfection-train/Pseudo-label/GT/Data-1_radiopaedia_org_covid-19-pneumonia-36_86526_0-dcm_28\n",
      "/data/jwd/main/040/914/40914875/working/jupyter/covid_ct_segmentation/COVID-CT-Segmentation/Dataset2/LungInfection-train/Pseudo-label/GT/Data-1_coronacases_org_006_5\n",
      "/data/jwd/main/040/914/40914875/working/jupyter/covid_ct_segmentation/COVID-CT-Segmentation/Dataset2/LungInfection-train/Pseudo-label/GT/Data-1_radiopaedia_org_covid-19-pneumonia-27_86410_0-dcm_1\n"
     ]
    },
    {
     "name": "stderr",
     "output_type": "stream",
     "text": [
      " 79%|███████▉  | 1116/1405 [00:51<00:17, 16.08it/s]"
     ]
    },
    {
     "name": "stdout",
     "output_type": "stream",
     "text": [
      "/data/jwd/main/040/914/40914875/working/jupyter/covid_ct_segmentation/COVID-CT-Segmentation/Dataset2/LungInfection-train/Pseudo-label/GT/Data-1_coronacases_org_002_42\n",
      "/data/jwd/main/040/914/40914875/working/jupyter/covid_ct_segmentation/COVID-CT-Segmentation/Dataset2/LungInfection-train/Pseudo-label/GT/Data-1_coronacases_org_002_13\n",
      "/data/jwd/main/040/914/40914875/working/jupyter/covid_ct_segmentation/COVID-CT-Segmentation/Dataset2/LungInfection-train/Pseudo-label/GT/Data-1_coronacases_org_005_81\n"
     ]
    },
    {
     "name": "stderr",
     "output_type": "stream",
     "text": [
      " 80%|███████▉  | 1120/1405 [00:51<00:16, 17.08it/s]"
     ]
    },
    {
     "name": "stdout",
     "output_type": "stream",
     "text": [
      "/data/jwd/main/040/914/40914875/working/jupyter/covid_ct_segmentation/COVID-CT-Segmentation/Dataset2/LungInfection-train/Pseudo-label/GT/Data-1_radiopaedia_org_covid-19-pneumonia-4_85506_1-dcm_10\n",
      "/data/jwd/main/040/914/40914875/working/jupyter/covid_ct_segmentation/COVID-CT-Segmentation/Dataset2/LungInfection-train/Pseudo-label/GT/Data-1_coronacases_org_010_25\n",
      "/data/jwd/main/040/914/40914875/working/jupyter/covid_ct_segmentation/COVID-CT-Segmentation/Dataset2/LungInfection-train/Pseudo-label/GT/Data-1_coronacases_org_005_19\n",
      "/data/jwd/main/040/914/40914875/working/jupyter/covid_ct_segmentation/COVID-CT-Segmentation/Dataset2/LungInfection-train/Pseudo-label/GT/Data-1_coronacases_org_003_26\n"
     ]
    },
    {
     "name": "stderr",
     "output_type": "stream",
     "text": [
      " 80%|███████▉  | 1122/1405 [00:51<00:15, 17.74it/s]"
     ]
    },
    {
     "name": "stdout",
     "output_type": "stream",
     "text": [
      "/data/jwd/main/040/914/40914875/working/jupyter/covid_ct_segmentation/COVID-CT-Segmentation/Dataset2/LungInfection-train/Pseudo-label/GT/Data-1_radiopaedia_org_covid-19-pneumonia-10_85902_3-dcm_65\n",
      "/data/jwd/main/040/914/40914875/working/jupyter/covid_ct_segmentation/COVID-CT-Segmentation/Dataset2/LungInfection-train/Pseudo-label/GT/Data-1_coronacases_org_005_74\n",
      "/data/jwd/main/040/914/40914875/working/jupyter/covid_ct_segmentation/COVID-CT-Segmentation/Dataset2/LungInfection-train/Pseudo-label/GT/Data-1_coronacases_org_005_60\n",
      "/data/jwd/main/040/914/40914875/working/jupyter/covid_ct_segmentation/COVID-CT-Segmentation/Dataset2/LungInfection-train/Pseudo-label/GT/Data-1_radiopaedia_org_covid-19-pneumonia-29_86490_1-dcm_15\n",
      "/data/jwd/main/040/914/40914875/working/jupyter/covid_ct_segmentation/COVID-CT-Segmentation/Dataset2/LungInfection-train/Pseudo-label/GT/Data-1_coronacases_org_009_75\n"
     ]
    },
    {
     "name": "stderr",
     "output_type": "stream",
     "text": [
      " 80%|████████  | 1128/1405 [00:51<00:12, 22.30it/s]"
     ]
    },
    {
     "name": "stdout",
     "output_type": "stream",
     "text": [
      "/data/jwd/main/040/914/40914875/working/jupyter/covid_ct_segmentation/COVID-CT-Segmentation/Dataset2/LungInfection-train/Pseudo-label/GT/Data-1_radiopaedia_org_covid-19-pneumonia-40_86625_0-dcm_4\n",
      "/data/jwd/main/040/914/40914875/working/jupyter/covid_ct_segmentation/COVID-CT-Segmentation/Dataset2/LungInfection-train/Pseudo-label/GT/Data-1_coronacases_org_009_103\n",
      "/data/jwd/main/040/914/40914875/working/jupyter/covid_ct_segmentation/COVID-CT-Segmentation/Dataset2/LungInfection-train/Pseudo-label/GT/Data-1_radiopaedia_org_covid-19-pneumonia-10_85902_3-dcm_111\n",
      "/data/jwd/main/040/914/40914875/working/jupyter/covid_ct_segmentation/COVID-CT-Segmentation/Dataset2/LungInfection-train/Pseudo-label/GT/Data-1_coronacases_org_006_40\n",
      "/data/jwd/main/040/914/40914875/working/jupyter/covid_ct_segmentation/COVID-CT-Segmentation/Dataset2/LungInfection-train/Pseudo-label/GT/Data-1_coronacases_org_005_55\n",
      "/data/jwd/main/040/914/40914875/working/jupyter/covid_ct_segmentation/COVID-CT-Segmentation/Dataset2/LungInfection-train/Pseudo-label/GT/Data-1_coronacases_org_002_17\n",
      "/data/jwd/main/040/914/40914875/working/jupyter/covid_ct_segmentation/COVID-CT-Segmentation/Dataset2/LungInfection-train/Pseudo-label/GT/Data-1_radiopaedia_org_covid-19-pneumonia-10_85902_3-dcm_205\n"
     ]
    },
    {
     "name": "stderr",
     "output_type": "stream",
     "text": [
      " 81%|████████  | 1135/1405 [00:52<00:11, 24.18it/s]"
     ]
    },
    {
     "name": "stdout",
     "output_type": "stream",
     "text": [
      "/data/jwd/main/040/914/40914875/working/jupyter/covid_ct_segmentation/COVID-CT-Segmentation/Dataset2/LungInfection-train/Pseudo-label/GT/Data-1_radiopaedia_org_covid-19-pneumonia-10_85902_3-dcm_106\n",
      "/data/jwd/main/040/914/40914875/working/jupyter/covid_ct_segmentation/COVID-CT-Segmentation/Dataset2/LungInfection-train/Pseudo-label/GT/Data-1_coronacases_org_009_94\n",
      "/data/jwd/main/040/914/40914875/working/jupyter/covid_ct_segmentation/COVID-CT-Segmentation/Dataset2/LungInfection-train/Pseudo-label/GT/Data-1_radiopaedia_org_covid-19-pneumonia-36_86526_0-dcm_2\n",
      "/data/jwd/main/040/914/40914875/working/jupyter/covid_ct_segmentation/COVID-CT-Segmentation/Dataset2/LungInfection-train/Pseudo-label/GT/Data-1_coronacases_org_010_88\n",
      "/data/jwd/main/040/914/40914875/working/jupyter/covid_ct_segmentation/COVID-CT-Segmentation/Dataset2/LungInfection-train/Pseudo-label/GT/Data-1_coronacases_org_002_5\n"
     ]
    },
    {
     "name": "stderr",
     "output_type": "stream",
     "text": [
      " 81%|████████  | 1141/1405 [00:52<00:12, 21.18it/s]"
     ]
    },
    {
     "name": "stdout",
     "output_type": "stream",
     "text": [
      "/data/jwd/main/040/914/40914875/working/jupyter/covid_ct_segmentation/COVID-CT-Segmentation/Dataset2/LungInfection-train/Pseudo-label/GT/Data-1_coronacases_org_002_43\n",
      "/data/jwd/main/040/914/40914875/working/jupyter/covid_ct_segmentation/COVID-CT-Segmentation/Dataset2/LungInfection-train/Pseudo-label/GT/Data-1_coronacases_org_001_52\n",
      "/data/jwd/main/040/914/40914875/working/jupyter/covid_ct_segmentation/COVID-CT-Segmentation/Dataset2/LungInfection-train/Pseudo-label/GT/Data-1_coronacases_org_004_2\n",
      "/data/jwd/main/040/914/40914875/working/jupyter/covid_ct_segmentation/COVID-CT-Segmentation/Dataset2/LungInfection-train/Pseudo-label/GT/Data-1_coronacases_org_002_4\n"
     ]
    },
    {
     "name": "stderr",
     "output_type": "stream",
     "text": [
      " 81%|████████▏ | 1144/1405 [00:52<00:11, 22.06it/s]"
     ]
    },
    {
     "name": "stdout",
     "output_type": "stream",
     "text": [
      "/data/jwd/main/040/914/40914875/working/jupyter/covid_ct_segmentation/COVID-CT-Segmentation/Dataset2/LungInfection-train/Pseudo-label/GT/Data-1_coronacases_org_010_54\n",
      "/data/jwd/main/040/914/40914875/working/jupyter/covid_ct_segmentation/COVID-CT-Segmentation/Dataset2/LungInfection-train/Pseudo-label/GT/Data-1_radiopaedia_org_covid-19-pneumonia-14_85914_0-dcm_50\n",
      "/data/jwd/main/040/914/40914875/working/jupyter/covid_ct_segmentation/COVID-CT-Segmentation/Dataset2/LungInfection-train/Pseudo-label/GT/Data-1_coronacases_org_003_53\n",
      "/data/jwd/main/040/914/40914875/working/jupyter/covid_ct_segmentation/COVID-CT-Segmentation/Dataset2/LungInfection-train/Pseudo-label/GT/Data-1_radiopaedia_org_covid-19-pneumonia-29_86491_1-dcm_12\n",
      "/data/jwd/main/040/914/40914875/working/jupyter/covid_ct_segmentation/COVID-CT-Segmentation/Dataset2/LungInfection-train/Pseudo-label/GT/Data-1_radiopaedia_org_covid-19-pneumonia-27_86410_0-dcm_22\n",
      "/data/jwd/main/040/914/40914875/working/jupyter/covid_ct_segmentation/COVID-CT-Segmentation/Dataset2/LungInfection-train/Pseudo-label/GT/Data-1_coronacases_org_007_109\n"
     ]
    },
    {
     "name": "stderr",
     "output_type": "stream",
     "text": [
      " 82%|████████▏ | 1150/1405 [00:52<00:11, 22.50it/s]"
     ]
    },
    {
     "name": "stdout",
     "output_type": "stream",
     "text": [
      "/data/jwd/main/040/914/40914875/working/jupyter/covid_ct_segmentation/COVID-CT-Segmentation/Dataset2/LungInfection-train/Pseudo-label/GT/Data-1_coronacases_org_005_122\n",
      "/data/jwd/main/040/914/40914875/working/jupyter/covid_ct_segmentation/COVID-CT-Segmentation/Dataset2/LungInfection-train/Pseudo-label/GT/Data-1_radiopaedia_org_covid-19-pneumonia-10_85902_3-dcm_147\n",
      "/data/jwd/main/040/914/40914875/working/jupyter/covid_ct_segmentation/COVID-CT-Segmentation/Dataset2/LungInfection-train/Pseudo-label/GT/Data-1_radiopaedia_org_covid-19-pneumonia-10_85902_3-dcm_115\n",
      "/data/jwd/main/040/914/40914875/working/jupyter/covid_ct_segmentation/COVID-CT-Segmentation/Dataset2/LungInfection-train/Pseudo-label/GT/Data-1_coronacases_org_008_114\n",
      "/data/jwd/main/040/914/40914875/working/jupyter/covid_ct_segmentation/COVID-CT-Segmentation/Dataset2/LungInfection-train/Pseudo-label/GT/Data-1_coronacases_org_008_27\n"
     ]
    },
    {
     "name": "stderr",
     "output_type": "stream",
     "text": [
      " 82%|████████▏ | 1156/1405 [00:53<00:11, 21.18it/s]"
     ]
    },
    {
     "name": "stdout",
     "output_type": "stream",
     "text": [
      "/data/jwd/main/040/914/40914875/working/jupyter/covid_ct_segmentation/COVID-CT-Segmentation/Dataset2/LungInfection-train/Pseudo-label/GT/Data-1_coronacases_org_007_101\n",
      "/data/jwd/main/040/914/40914875/working/jupyter/covid_ct_segmentation/COVID-CT-Segmentation/Dataset2/LungInfection-train/Pseudo-label/GT/Data-1_radiopaedia_org_covid-19-pneumonia-14_85914_0-dcm_18\n",
      "/data/jwd/main/040/914/40914875/working/jupyter/covid_ct_segmentation/COVID-CT-Segmentation/Dataset2/LungInfection-train/Pseudo-label/GT/Data-1_coronacases_org_008_50\n",
      "/data/jwd/main/040/914/40914875/working/jupyter/covid_ct_segmentation/COVID-CT-Segmentation/Dataset2/LungInfection-train/Pseudo-label/GT/Data-1_coronacases_org_007_12\n",
      "/data/jwd/main/040/914/40914875/working/jupyter/covid_ct_segmentation/COVID-CT-Segmentation/Dataset2/LungInfection-train/Pseudo-label/GT/Data-1_radiopaedia_org_covid-19-pneumonia-10_85902_3-dcm_109\n"
     ]
    },
    {
     "name": "stderr",
     "output_type": "stream",
     "text": [
      " 82%|████████▏ | 1159/1405 [00:53<00:12, 19.13it/s]"
     ]
    },
    {
     "name": "stdout",
     "output_type": "stream",
     "text": [
      "/data/jwd/main/040/914/40914875/working/jupyter/covid_ct_segmentation/COVID-CT-Segmentation/Dataset2/LungInfection-train/Pseudo-label/GT/Data-1_coronacases_org_001_40\n",
      "/data/jwd/main/040/914/40914875/working/jupyter/covid_ct_segmentation/COVID-CT-Segmentation/Dataset2/LungInfection-train/Pseudo-label/GT/Data-1_radiopaedia_org_covid-19-pneumonia-14_85914_0-dcm_31\n",
      "/data/jwd/main/040/914/40914875/working/jupyter/covid_ct_segmentation/COVID-CT-Segmentation/Dataset2/LungInfection-train/Pseudo-label/GT/Data-1_coronacases_org_003_42\n",
      "/data/jwd/main/040/914/40914875/working/jupyter/covid_ct_segmentation/COVID-CT-Segmentation/Dataset2/LungInfection-train/Pseudo-label/GT/Data-1_coronacases_org_010_10\n"
     ]
    },
    {
     "name": "stderr",
     "output_type": "stream",
     "text": [
      " 83%|████████▎ | 1165/1405 [00:53<00:11, 20.03it/s]"
     ]
    },
    {
     "name": "stdout",
     "output_type": "stream",
     "text": [
      "/data/jwd/main/040/914/40914875/working/jupyter/covid_ct_segmentation/COVID-CT-Segmentation/Dataset2/LungInfection-train/Pseudo-label/GT/Data-1_coronacases_org_008_29\n",
      "/data/jwd/main/040/914/40914875/working/jupyter/covid_ct_segmentation/COVID-CT-Segmentation/Dataset2/LungInfection-train/Pseudo-label/GT/Data-1_coronacases_org_005_71\n",
      "/data/jwd/main/040/914/40914875/working/jupyter/covid_ct_segmentation/COVID-CT-Segmentation/Dataset2/LungInfection-train/Pseudo-label/GT/Data-1_coronacases_org_001_99\n",
      "/data/jwd/main/040/914/40914875/working/jupyter/covid_ct_segmentation/COVID-CT-Segmentation/Dataset2/LungInfection-train/Pseudo-label/GT/Data-1_coronacases_org_004_31\n",
      "/data/jwd/main/040/914/40914875/working/jupyter/covid_ct_segmentation/COVID-CT-Segmentation/Dataset2/LungInfection-train/Pseudo-label/GT/Data-1_coronacases_org_004_112\n"
     ]
    },
    {
     "name": "stderr",
     "output_type": "stream",
     "text": [
      " 83%|████████▎ | 1171/1405 [00:53<00:09, 23.83it/s]"
     ]
    },
    {
     "name": "stdout",
     "output_type": "stream",
     "text": [
      "/data/jwd/main/040/914/40914875/working/jupyter/covid_ct_segmentation/COVID-CT-Segmentation/Dataset2/LungInfection-train/Pseudo-label/GT/Data-1_coronacases_org_001_13\n",
      "/data/jwd/main/040/914/40914875/working/jupyter/covid_ct_segmentation/COVID-CT-Segmentation/Dataset2/LungInfection-train/Pseudo-label/GT/Data-1_radiopaedia_org_covid-19-pneumonia-27_86410_0-dcm_11\n",
      "/data/jwd/main/040/914/40914875/working/jupyter/covid_ct_segmentation/COVID-CT-Segmentation/Dataset2/LungInfection-train/Pseudo-label/GT/Data-1_radiopaedia_org_covid-19-pneumonia-10_85902_3-dcm_128\n",
      "/data/jwd/main/040/914/40914875/working/jupyter/covid_ct_segmentation/COVID-CT-Segmentation/Dataset2/LungInfection-train/Pseudo-label/GT/Data-1_coronacases_org_009_47\n",
      "/data/jwd/main/040/914/40914875/working/jupyter/covid_ct_segmentation/COVID-CT-Segmentation/Dataset2/LungInfection-train/Pseudo-label/GT/Data-1_coronacases_org_009_85\n",
      "/data/jwd/main/040/914/40914875/working/jupyter/covid_ct_segmentation/COVID-CT-Segmentation/Dataset2/LungInfection-train/Pseudo-label/GT/Data-1_coronacases_org_008_45\n"
     ]
    },
    {
     "name": "stderr",
     "output_type": "stream",
     "text": [
      " 84%|████████▍ | 1178/1405 [00:54<00:09, 24.97it/s]"
     ]
    },
    {
     "name": "stdout",
     "output_type": "stream",
     "text": [
      "/data/jwd/main/040/914/40914875/working/jupyter/covid_ct_segmentation/COVID-CT-Segmentation/Dataset2/LungInfection-train/Pseudo-label/GT/Data-1_coronacases_org_003_1\n",
      "/data/jwd/main/040/914/40914875/working/jupyter/covid_ct_segmentation/COVID-CT-Segmentation/Dataset2/LungInfection-train/Pseudo-label/GT/Data-1_coronacases_org_002_53\n",
      "/data/jwd/main/040/914/40914875/working/jupyter/covid_ct_segmentation/COVID-CT-Segmentation/Dataset2/LungInfection-train/Pseudo-label/GT/Data-1_coronacases_org_001_9\n",
      "/data/jwd/main/040/914/40914875/working/jupyter/covid_ct_segmentation/COVID-CT-Segmentation/Dataset2/LungInfection-train/Pseudo-label/GT/Data-1_coronacases_org_008_85\n",
      "/data/jwd/main/040/914/40914875/working/jupyter/covid_ct_segmentation/COVID-CT-Segmentation/Dataset2/LungInfection-train/Pseudo-label/GT/Data-1_coronacases_org_005_2\n",
      "/data/jwd/main/040/914/40914875/working/jupyter/covid_ct_segmentation/COVID-CT-Segmentation/Dataset2/LungInfection-train/Pseudo-label/GT/Data-1_radiopaedia_org_covid-19-pneumonia-10_85902_3-dcm_94\n",
      "/data/jwd/main/040/914/40914875/working/jupyter/covid_ct_segmentation/COVID-CT-Segmentation/Dataset2/LungInfection-train/Pseudo-label/GT/Data-1_coronacases_org_004_145\n"
     ]
    },
    {
     "name": "stderr",
     "output_type": "stream",
     "text": [
      " 84%|████████▍ | 1186/1405 [00:54<00:07, 30.90it/s]"
     ]
    },
    {
     "name": "stdout",
     "output_type": "stream",
     "text": [
      "/data/jwd/main/040/914/40914875/working/jupyter/covid_ct_segmentation/COVID-CT-Segmentation/Dataset2/LungInfection-train/Pseudo-label/GT/Data-1_radiopaedia_org_covid-19-pneumonia-36_86526_0-dcm_12\n",
      "/data/jwd/main/040/914/40914875/working/jupyter/covid_ct_segmentation/COVID-CT-Segmentation/Dataset2/LungInfection-train/Pseudo-label/GT/Data-1_coronacases_org_010_27\n",
      "/data/jwd/main/040/914/40914875/working/jupyter/covid_ct_segmentation/COVID-CT-Segmentation/Dataset2/LungInfection-train/Pseudo-label/GT/Data-1_coronacases_org_001_95\n",
      "/data/jwd/main/040/914/40914875/working/jupyter/covid_ct_segmentation/COVID-CT-Segmentation/Dataset2/LungInfection-train/Pseudo-label/GT/Data-1_coronacases_org_008_88\n",
      "/data/jwd/main/040/914/40914875/working/jupyter/covid_ct_segmentation/COVID-CT-Segmentation/Dataset2/LungInfection-train/Pseudo-label/GT/Data-1_coronacases_org_010_100\n",
      "/data/jwd/main/040/914/40914875/working/jupyter/covid_ct_segmentation/COVID-CT-Segmentation/Dataset2/LungInfection-train/Pseudo-label/GT/Data-1_radiopaedia_org_covid-19-pneumonia-10_85902_1-dcm_7\n",
      "/data/jwd/main/040/914/40914875/working/jupyter/covid_ct_segmentation/COVID-CT-Segmentation/Dataset2/LungInfection-train/Pseudo-label/GT/Data-1_coronacases_org_009_32\n",
      "/data/jwd/main/040/914/40914875/working/jupyter/covid_ct_segmentation/COVID-CT-Segmentation/Dataset2/LungInfection-train/Pseudo-label/GT/Data-1_coronacases_org_002_10\n"
     ]
    },
    {
     "name": "stderr",
     "output_type": "stream",
     "text": [
      " 85%|████████▍ | 1190/1405 [00:54<00:06, 32.78it/s]"
     ]
    },
    {
     "name": "stdout",
     "output_type": "stream",
     "text": [
      "/data/jwd/main/040/914/40914875/working/jupyter/covid_ct_segmentation/COVID-CT-Segmentation/Dataset2/LungInfection-train/Pseudo-label/GT/Data-1_coronacases_org_008_5\n",
      "/data/jwd/main/040/914/40914875/working/jupyter/covid_ct_segmentation/COVID-CT-Segmentation/Dataset2/LungInfection-train/Pseudo-label/GT/Data-1_coronacases_org_008_15\n",
      "/data/jwd/main/040/914/40914875/working/jupyter/covid_ct_segmentation/COVID-CT-Segmentation/Dataset2/LungInfection-train/Pseudo-label/GT/Data-1_coronacases_org_006_51\n",
      "/data/jwd/main/040/914/40914875/working/jupyter/covid_ct_segmentation/COVID-CT-Segmentation/Dataset2/LungInfection-train/Pseudo-label/GT/Data-1_coronacases_org_003_12\n",
      "/data/jwd/main/040/914/40914875/working/jupyter/covid_ct_segmentation/COVID-CT-Segmentation/Dataset2/LungInfection-train/Pseudo-label/GT/Data-1_coronacases_org_004_133\n",
      "/data/jwd/main/040/914/40914875/working/jupyter/covid_ct_segmentation/COVID-CT-Segmentation/Dataset2/LungInfection-train/Pseudo-label/GT/Data-1_coronacases_org_003_4\n"
     ]
    },
    {
     "name": "stderr",
     "output_type": "stream",
     "text": [
      " 85%|████████▍ | 1194/1405 [00:54<00:07, 28.09it/s]"
     ]
    },
    {
     "name": "stdout",
     "output_type": "stream",
     "text": [
      "/data/jwd/main/040/914/40914875/working/jupyter/covid_ct_segmentation/COVID-CT-Segmentation/Dataset2/LungInfection-train/Pseudo-label/GT/Data-1_coronacases_org_001_2\n",
      "/data/jwd/main/040/914/40914875/working/jupyter/covid_ct_segmentation/COVID-CT-Segmentation/Dataset2/LungInfection-train/Pseudo-label/GT/Data-1_coronacases_org_007_70\n",
      "/data/jwd/main/040/914/40914875/working/jupyter/covid_ct_segmentation/COVID-CT-Segmentation/Dataset2/LungInfection-train/Pseudo-label/GT/Data-1_coronacases_org_006_35\n",
      "/data/jwd/main/040/914/40914875/working/jupyter/covid_ct_segmentation/COVID-CT-Segmentation/Dataset2/LungInfection-train/Pseudo-label/GT/Data-1_coronacases_org_008_14\n"
     ]
    },
    {
     "name": "stderr",
     "output_type": "stream",
     "text": [
      " 85%|████████▌ | 1198/1405 [00:54<00:08, 24.60it/s]"
     ]
    },
    {
     "name": "stdout",
     "output_type": "stream",
     "text": [
      "/data/jwd/main/040/914/40914875/working/jupyter/covid_ct_segmentation/COVID-CT-Segmentation/Dataset2/LungInfection-train/Pseudo-label/GT/Data-1_radiopaedia_org_covid-19-pneumonia-10_85902_3-dcm_161\n",
      "/data/jwd/main/040/914/40914875/working/jupyter/covid_ct_segmentation/COVID-CT-Segmentation/Dataset2/LungInfection-train/Pseudo-label/GT/Data-1_coronacases_org_004_32\n",
      "/data/jwd/main/040/914/40914875/working/jupyter/covid_ct_segmentation/COVID-CT-Segmentation/Dataset2/LungInfection-train/Pseudo-label/GT/Data-1_radiopaedia_org_covid-19-pneumonia-40_86625_0-dcm_20\n"
     ]
    },
    {
     "name": "stderr",
     "output_type": "stream",
     "text": [
      " 86%|████████▌ | 1204/1405 [00:55<00:11, 17.65it/s]"
     ]
    },
    {
     "name": "stdout",
     "output_type": "stream",
     "text": [
      "/data/jwd/main/040/914/40914875/working/jupyter/covid_ct_segmentation/COVID-CT-Segmentation/Dataset2/LungInfection-train/Pseudo-label/GT/Data-1_radiopaedia_org_covid-19-pneumonia-10_85902_3-dcm_10\n",
      "/data/jwd/main/040/914/40914875/working/jupyter/covid_ct_segmentation/COVID-CT-Segmentation/Dataset2/LungInfection-train/Pseudo-label/GT/Data-1_coronacases_org_009_8\n",
      "/data/jwd/main/040/914/40914875/working/jupyter/covid_ct_segmentation/COVID-CT-Segmentation/Dataset2/LungInfection-train/Pseudo-label/GT/Data-1_coronacases_org_008_129\n",
      "/data/jwd/main/040/914/40914875/working/jupyter/covid_ct_segmentation/COVID-CT-Segmentation/Dataset2/LungInfection-train/Pseudo-label/GT/Data-1_coronacases_org_009_43\n"
     ]
    },
    {
     "name": "stderr",
     "output_type": "stream",
     "text": [
      " 86%|████████▌ | 1207/1405 [00:55<00:10, 19.09it/s]"
     ]
    },
    {
     "name": "stdout",
     "output_type": "stream",
     "text": [
      "/data/jwd/main/040/914/40914875/working/jupyter/covid_ct_segmentation/COVID-CT-Segmentation/Dataset2/LungInfection-train/Pseudo-label/GT/Data-1_coronacases_org_005_137\n",
      "/data/jwd/main/040/914/40914875/working/jupyter/covid_ct_segmentation/COVID-CT-Segmentation/Dataset2/LungInfection-train/Pseudo-label/GT/Data-1_radiopaedia_org_covid-19-pneumonia-10_85902_3-dcm_60\n",
      "/data/jwd/main/040/914/40914875/working/jupyter/covid_ct_segmentation/COVID-CT-Segmentation/Dataset2/LungInfection-train/Pseudo-label/GT/Data-1_radiopaedia_org_covid-19-pneumonia-10_85902_3-dcm_59\n",
      "/data/jwd/main/040/914/40914875/working/jupyter/covid_ct_segmentation/COVID-CT-Segmentation/Dataset2/LungInfection-train/Pseudo-label/GT/Data-1_coronacases_org_010_59\n",
      "/data/jwd/main/040/914/40914875/working/jupyter/covid_ct_segmentation/COVID-CT-Segmentation/Dataset2/LungInfection-train/Pseudo-label/GT/Data-1_coronacases_org_008_130\n"
     ]
    },
    {
     "name": "stderr",
     "output_type": "stream",
     "text": [
      " 86%|████████▋ | 1214/1405 [00:55<00:08, 21.24it/s]"
     ]
    },
    {
     "name": "stdout",
     "output_type": "stream",
     "text": [
      "/data/jwd/main/040/914/40914875/working/jupyter/covid_ct_segmentation/COVID-CT-Segmentation/Dataset2/LungInfection-train/Pseudo-label/GT/Data-1_radiopaedia_org_covid-19-pneumonia-10_85902_3-dcm_155\n",
      "/data/jwd/main/040/914/40914875/working/jupyter/covid_ct_segmentation/COVID-CT-Segmentation/Dataset2/LungInfection-train/Pseudo-label/GT/Data-1_coronacases_org_006_29\n",
      "/data/jwd/main/040/914/40914875/working/jupyter/covid_ct_segmentation/COVID-CT-Segmentation/Dataset2/LungInfection-train/Pseudo-label/GT/Data-1_coronacases_org_005_129\n",
      "/data/jwd/main/040/914/40914875/working/jupyter/covid_ct_segmentation/COVID-CT-Segmentation/Dataset2/LungInfection-train/Pseudo-label/GT/Data-1_coronacases_org_004_141\n",
      "/data/jwd/main/040/914/40914875/working/jupyter/covid_ct_segmentation/COVID-CT-Segmentation/Dataset2/LungInfection-train/Pseudo-label/GT/Data-1_radiopaedia_org_covid-19-pneumonia-10_85902_3-dcm_28\n",
      "/data/jwd/main/040/914/40914875/working/jupyter/covid_ct_segmentation/COVID-CT-Segmentation/Dataset2/LungInfection-train/Pseudo-label/GT/Data-1_radiopaedia_org_covid-19-pneumonia-7_85703_0-dcm_1\n"
     ]
    },
    {
     "name": "stderr",
     "output_type": "stream",
     "text": [
      " 87%|████████▋ | 1220/1405 [00:56<00:07, 24.40it/s]"
     ]
    },
    {
     "name": "stdout",
     "output_type": "stream",
     "text": [
      "/data/jwd/main/040/914/40914875/working/jupyter/covid_ct_segmentation/COVID-CT-Segmentation/Dataset2/LungInfection-train/Pseudo-label/GT/Data-1_radiopaedia_org_covid-19-pneumonia-36_86526_0-dcm_26\n",
      "/data/jwd/main/040/914/40914875/working/jupyter/covid_ct_segmentation/COVID-CT-Segmentation/Dataset2/LungInfection-train/Pseudo-label/GT/Data-1_coronacases_org_006_12\n",
      "/data/jwd/main/040/914/40914875/working/jupyter/covid_ct_segmentation/COVID-CT-Segmentation/Dataset2/LungInfection-train/Pseudo-label/GT/Data-1_coronacases_org_005_128\n",
      "/data/jwd/main/040/914/40914875/working/jupyter/covid_ct_segmentation/COVID-CT-Segmentation/Dataset2/LungInfection-train/Pseudo-label/GT/Data-1_coronacases_org_004_100\n",
      "/data/jwd/main/040/914/40914875/working/jupyter/covid_ct_segmentation/COVID-CT-Segmentation/Dataset2/LungInfection-train/Pseudo-label/GT/Data-1_coronacases_org_002_9\n",
      "/data/jwd/main/040/914/40914875/working/jupyter/covid_ct_segmentation/COVID-CT-Segmentation/Dataset2/LungInfection-train/Pseudo-label/GT/Data-1_coronacases_org_004_10\n"
     ]
    },
    {
     "name": "stderr",
     "output_type": "stream",
     "text": [
      " 87%|████████▋ | 1223/1405 [00:56<00:07, 24.77it/s]"
     ]
    },
    {
     "name": "stdout",
     "output_type": "stream",
     "text": [
      "/data/jwd/main/040/914/40914875/working/jupyter/covid_ct_segmentation/COVID-CT-Segmentation/Dataset2/LungInfection-train/Pseudo-label/GT/Data-1_coronacases_org_003_35\n",
      "/data/jwd/main/040/914/40914875/working/jupyter/covid_ct_segmentation/COVID-CT-Segmentation/Dataset2/LungInfection-train/Pseudo-label/GT/Data-1_coronacases_org_008_58\n",
      "/data/jwd/main/040/914/40914875/working/jupyter/covid_ct_segmentation/COVID-CT-Segmentation/Dataset2/LungInfection-train/Pseudo-label/GT/Data-1_radiopaedia_org_covid-19-pneumonia-10_85902_3-dcm_192\n",
      "/data/jwd/main/040/914/40914875/working/jupyter/covid_ct_segmentation/COVID-CT-Segmentation/Dataset2/LungInfection-train/Pseudo-label/GT/Data-1_coronacases_org_005_120\n",
      "/data/jwd/main/040/914/40914875/working/jupyter/covid_ct_segmentation/COVID-CT-Segmentation/Dataset2/LungInfection-train/Pseudo-label/GT/Data-1_coronacases_org_005_104\n",
      "/data/jwd/main/040/914/40914875/working/jupyter/covid_ct_segmentation/COVID-CT-Segmentation/Dataset2/LungInfection-train/Pseudo-label/GT/Data-1_coronacases_org_004_81\n",
      "/data/jwd/main/040/914/40914875/working/jupyter/covid_ct_segmentation/COVID-CT-Segmentation/Dataset2/LungInfection-train/Pseudo-label/GT/Data-1_coronacases_org_001_77\n"
     ]
    },
    {
     "name": "stderr",
     "output_type": "stream",
     "text": [
      " 88%|████████▊ | 1231/1405 [00:56<00:06, 26.63it/s]"
     ]
    },
    {
     "name": "stdout",
     "output_type": "stream",
     "text": [
      "/data/jwd/main/040/914/40914875/working/jupyter/covid_ct_segmentation/COVID-CT-Segmentation/Dataset2/LungInfection-train/Pseudo-label/GT/Data-1_radiopaedia_org_covid-19-pneumonia-40_86625_0-dcm_5\n",
      "/data/jwd/main/040/914/40914875/working/jupyter/covid_ct_segmentation/COVID-CT-Segmentation/Dataset2/LungInfection-train/Pseudo-label/GT/Data-1_radiopaedia_org_covid-19-pneumonia-36_86526_0-dcm_20\n",
      "/data/jwd/main/040/914/40914875/working/jupyter/covid_ct_segmentation/COVID-CT-Segmentation/Dataset2/LungInfection-train/Pseudo-label/GT/Data-1_radiopaedia_org_covid-19-pneumonia-14_85914_0-dcm_11\n",
      "/data/jwd/main/040/914/40914875/working/jupyter/covid_ct_segmentation/COVID-CT-Segmentation/Dataset2/LungInfection-train/Pseudo-label/GT/Data-1_radiopaedia_org_covid-19-pneumonia-10_85902_3-dcm_58\n",
      "/data/jwd/main/040/914/40914875/working/jupyter/covid_ct_segmentation/COVID-CT-Segmentation/Dataset2/LungInfection-train/Pseudo-label/GT/Data-1_coronacases_org_003_7\n",
      "/data/jwd/main/040/914/40914875/working/jupyter/covid_ct_segmentation/COVID-CT-Segmentation/Dataset2/LungInfection-train/Pseudo-label/GT/Data-1_coronacases_org_001_45\n"
     ]
    },
    {
     "name": "stderr",
     "output_type": "stream",
     "text": [
      " 88%|████████▊ | 1237/1405 [00:56<00:06, 26.68it/s]"
     ]
    },
    {
     "name": "stdout",
     "output_type": "stream",
     "text": [
      "/data/jwd/main/040/914/40914875/working/jupyter/covid_ct_segmentation/COVID-CT-Segmentation/Dataset2/LungInfection-train/Pseudo-label/GT/Data-1_coronacases_org_006_2\n",
      "/data/jwd/main/040/914/40914875/working/jupyter/covid_ct_segmentation/COVID-CT-Segmentation/Dataset2/LungInfection-train/Pseudo-label/GT/Data-1_coronacases_org_005_141\n",
      "/data/jwd/main/040/914/40914875/working/jupyter/covid_ct_segmentation/COVID-CT-Segmentation/Dataset2/LungInfection-train/Pseudo-label/GT/Data-1_radiopaedia_org_covid-19-pneumonia-10_85902_3-dcm_123\n",
      "/data/jwd/main/040/914/40914875/working/jupyter/covid_ct_segmentation/COVID-CT-Segmentation/Dataset2/LungInfection-train/Pseudo-label/GT/Data-1_coronacases_org_004_142\n",
      "/data/jwd/main/040/914/40914875/working/jupyter/covid_ct_segmentation/COVID-CT-Segmentation/Dataset2/LungInfection-train/Pseudo-label/GT/Data-1_coronacases_org_002_59\n",
      "/data/jwd/main/040/914/40914875/working/jupyter/covid_ct_segmentation/COVID-CT-Segmentation/Dataset2/LungInfection-train/Pseudo-label/GT/Data-1_coronacases_org_006_68\n"
     ]
    },
    {
     "name": "stderr",
     "output_type": "stream",
     "text": [
      " 88%|████████▊ | 1241/1405 [00:56<00:06, 25.04it/s]"
     ]
    },
    {
     "name": "stdout",
     "output_type": "stream",
     "text": [
      "/data/jwd/main/040/914/40914875/working/jupyter/covid_ct_segmentation/COVID-CT-Segmentation/Dataset2/LungInfection-train/Pseudo-label/GT/Data-1_radiopaedia_org_covid-19-pneumonia-14_85914_0-dcm_38\n",
      "/data/jwd/main/040/914/40914875/working/jupyter/covid_ct_segmentation/COVID-CT-Segmentation/Dataset2/LungInfection-train/Pseudo-label/GT/Data-1_radiopaedia_org_covid-19-pneumonia-10_85902_1-dcm_3\n",
      "/data/jwd/main/040/914/40914875/working/jupyter/covid_ct_segmentation/COVID-CT-Segmentation/Dataset2/LungInfection-train/Pseudo-label/GT/Data-1_coronacases_org_008_73\n",
      "/data/jwd/main/040/914/40914875/working/jupyter/covid_ct_segmentation/COVID-CT-Segmentation/Dataset2/LungInfection-train/Pseudo-label/GT/Data-1_coronacases_org_009_21\n"
     ]
    },
    {
     "name": "stderr",
     "output_type": "stream",
     "text": [
      " 89%|████████▉ | 1247/1405 [00:57<00:07, 22.38it/s]"
     ]
    },
    {
     "name": "stdout",
     "output_type": "stream",
     "text": [
      "/data/jwd/main/040/914/40914875/working/jupyter/covid_ct_segmentation/COVID-CT-Segmentation/Dataset2/LungInfection-train/Pseudo-label/GT/Data-1_coronacases_org_005_7\n",
      "/data/jwd/main/040/914/40914875/working/jupyter/covid_ct_segmentation/COVID-CT-Segmentation/Dataset2/LungInfection-train/Pseudo-label/GT/Data-1_coronacases_org_010_22\n",
      "/data/jwd/main/040/914/40914875/working/jupyter/covid_ct_segmentation/COVID-CT-Segmentation/Dataset2/LungInfection-train/Pseudo-label/GT/Data-1_coronacases_org_003_6\n",
      "/data/jwd/main/040/914/40914875/working/jupyter/covid_ct_segmentation/COVID-CT-Segmentation/Dataset2/LungInfection-train/Pseudo-label/GT/Data-1_coronacases_org_007_69\n",
      "/data/jwd/main/040/914/40914875/working/jupyter/covid_ct_segmentation/COVID-CT-Segmentation/Dataset2/LungInfection-train/Pseudo-label/GT/Data-1_coronacases_org_004_14\n"
     ]
    },
    {
     "name": "stderr",
     "output_type": "stream",
     "text": [
      " 89%|████████▉ | 1250/1405 [00:57<00:07, 20.30it/s]"
     ]
    },
    {
     "name": "stdout",
     "output_type": "stream",
     "text": [
      "/data/jwd/main/040/914/40914875/working/jupyter/covid_ct_segmentation/COVID-CT-Segmentation/Dataset2/LungInfection-train/Pseudo-label/GT/Data-1_coronacases_org_006_4\n",
      "/data/jwd/main/040/914/40914875/working/jupyter/covid_ct_segmentation/COVID-CT-Segmentation/Dataset2/LungInfection-train/Pseudo-label/GT/Data-1_coronacases_org_004_131\n",
      "/data/jwd/main/040/914/40914875/working/jupyter/covid_ct_segmentation/COVID-CT-Segmentation/Dataset2/LungInfection-train/Pseudo-label/GT/Data-1_coronacases_org_001_97\n",
      "/data/jwd/main/040/914/40914875/working/jupyter/covid_ct_segmentation/COVID-CT-Segmentation/Dataset2/LungInfection-train/Pseudo-label/GT/Data-1_coronacases_org_004_3\n"
     ]
    },
    {
     "name": "stderr",
     "output_type": "stream",
     "text": [
      " 89%|████████▉ | 1255/1405 [00:57<00:08, 18.51it/s]"
     ]
    },
    {
     "name": "stdout",
     "output_type": "stream",
     "text": [
      "/data/jwd/main/040/914/40914875/working/jupyter/covid_ct_segmentation/COVID-CT-Segmentation/Dataset2/LungInfection-train/Pseudo-label/GT/Data-1_coronacases_org_001_62\n",
      "/data/jwd/main/040/914/40914875/working/jupyter/covid_ct_segmentation/COVID-CT-Segmentation/Dataset2/LungInfection-train/Pseudo-label/GT/Data-1_coronacases_org_001_55\n",
      "/data/jwd/main/040/914/40914875/working/jupyter/covid_ct_segmentation/COVID-CT-Segmentation/Dataset2/LungInfection-train/Pseudo-label/GT/Data-1_radiopaedia_org_covid-19-pneumonia-40_86625_0-dcm_32\n"
     ]
    },
    {
     "name": "stderr",
     "output_type": "stream",
     "text": [
      " 90%|████████▉ | 1259/1405 [00:57<00:08, 16.62it/s]"
     ]
    },
    {
     "name": "stdout",
     "output_type": "stream",
     "text": [
      "/data/jwd/main/040/914/40914875/working/jupyter/covid_ct_segmentation/COVID-CT-Segmentation/Dataset2/LungInfection-train/Pseudo-label/GT/Data-1_radiopaedia_org_covid-19-pneumonia-14_85914_0-dcm_3\n",
      "/data/jwd/main/040/914/40914875/working/jupyter/covid_ct_segmentation/COVID-CT-Segmentation/Dataset2/LungInfection-train/Pseudo-label/GT/Data-1_coronacases_org_003_36\n",
      "/data/jwd/main/040/914/40914875/working/jupyter/covid_ct_segmentation/COVID-CT-Segmentation/Dataset2/LungInfection-train/Pseudo-label/GT/Data-1_radiopaedia_org_covid-19-pneumonia-14_85914_0-dcm_33\n",
      "/data/jwd/main/040/914/40914875/working/jupyter/covid_ct_segmentation/COVID-CT-Segmentation/Dataset2/LungInfection-train/Pseudo-label/GT/Data-1_radiopaedia_org_covid-19-pneumonia-10_85902_3-dcm_34\n"
     ]
    },
    {
     "name": "stderr",
     "output_type": "stream",
     "text": [
      " 90%|████████▉ | 1262/1405 [00:58<00:07, 19.12it/s]"
     ]
    },
    {
     "name": "stdout",
     "output_type": "stream",
     "text": [
      "/data/jwd/main/040/914/40914875/working/jupyter/covid_ct_segmentation/COVID-CT-Segmentation/Dataset2/LungInfection-train/Pseudo-label/GT/Data-1_coronacases_org_007_61\n",
      "/data/jwd/main/040/914/40914875/working/jupyter/covid_ct_segmentation/COVID-CT-Segmentation/Dataset2/LungInfection-train/Pseudo-label/GT/Data-1_coronacases_org_009_70\n",
      "/data/jwd/main/040/914/40914875/working/jupyter/covid_ct_segmentation/COVID-CT-Segmentation/Dataset2/LungInfection-train/Pseudo-label/GT/Data-1_coronacases_org_008_13\n",
      "/data/jwd/main/040/914/40914875/working/jupyter/covid_ct_segmentation/COVID-CT-Segmentation/Dataset2/LungInfection-train/Pseudo-label/GT/Data-1_coronacases_org_002_20\n"
     ]
    },
    {
     "name": "stderr",
     "output_type": "stream",
     "text": [
      " 90%|█████████ | 1268/1405 [00:58<00:06, 19.97it/s]"
     ]
    },
    {
     "name": "stdout",
     "output_type": "stream",
     "text": [
      "/data/jwd/main/040/914/40914875/working/jupyter/covid_ct_segmentation/COVID-CT-Segmentation/Dataset2/LungInfection-train/Pseudo-label/GT/Data-1_radiopaedia_org_covid-19-pneumonia-14_85914_0-dcm_58\n",
      "/data/jwd/main/040/914/40914875/working/jupyter/covid_ct_segmentation/COVID-CT-Segmentation/Dataset2/LungInfection-train/Pseudo-label/GT/Data-1_radiopaedia_org_covid-19-pneumonia-10_85902_3-dcm_117\n",
      "/data/jwd/main/040/914/40914875/working/jupyter/covid_ct_segmentation/COVID-CT-Segmentation/Dataset2/LungInfection-train/Pseudo-label/GT/Data-1_coronacases_org_002_21\n",
      "/data/jwd/main/040/914/40914875/working/jupyter/covid_ct_segmentation/COVID-CT-Segmentation/Dataset2/LungInfection-train/Pseudo-label/GT/Data-1_radiopaedia_org_covid-19-pneumonia-36_86526_0-dcm_10\n",
      "/data/jwd/main/040/914/40914875/working/jupyter/covid_ct_segmentation/COVID-CT-Segmentation/Dataset2/LungInfection-train/Pseudo-label/GT/Data-1_coronacases_org_005_70\n",
      "/data/jwd/main/040/914/40914875/working/jupyter/covid_ct_segmentation/COVID-CT-Segmentation/Dataset2/LungInfection-train/Pseudo-label/GT/Data-1_radiopaedia_org_covid-19-pneumonia-40_86625_0-dcm_6\n"
     ]
    },
    {
     "name": "stderr",
     "output_type": "stream",
     "text": [
      " 91%|█████████ | 1275/1405 [00:58<00:05, 25.98it/s]"
     ]
    },
    {
     "name": "stdout",
     "output_type": "stream",
     "text": [
      "/data/jwd/main/040/914/40914875/working/jupyter/covid_ct_segmentation/COVID-CT-Segmentation/Dataset2/LungInfection-train/Pseudo-label/GT/Data-1_radiopaedia_org_covid-19-pneumonia-40_86625_0-dcm_35\n",
      "/data/jwd/main/040/914/40914875/working/jupyter/covid_ct_segmentation/COVID-CT-Segmentation/Dataset2/LungInfection-train/Pseudo-label/GT/Data-1_radiopaedia_org_covid-19-pneumonia-27_86410_0-dcm_28\n",
      "/data/jwd/main/040/914/40914875/working/jupyter/covid_ct_segmentation/COVID-CT-Segmentation/Dataset2/LungInfection-train/Pseudo-label/GT/Data-1_radiopaedia_org_covid-19-pneumonia-10_85902_3-dcm_201\n",
      "/data/jwd/main/040/914/40914875/working/jupyter/covid_ct_segmentation/COVID-CT-Segmentation/Dataset2/LungInfection-train/Pseudo-label/GT/Data-1_coronacases_org_006_54\n",
      "/data/jwd/main/040/914/40914875/working/jupyter/covid_ct_segmentation/COVID-CT-Segmentation/Dataset2/LungInfection-train/Pseudo-label/GT/Data-1_coronacases_org_001_37\n",
      "/data/jwd/main/040/914/40914875/working/jupyter/covid_ct_segmentation/COVID-CT-Segmentation/Dataset2/LungInfection-train/Pseudo-label/GT/Data-1_coronacases_org_005_130\n",
      "/data/jwd/main/040/914/40914875/working/jupyter/covid_ct_segmentation/COVID-CT-Segmentation/Dataset2/LungInfection-train/Pseudo-label/GT/Data-1_coronacases_org_004_147\n"
     ]
    },
    {
     "name": "stderr",
     "output_type": "stream",
     "text": [
      " 91%|█████████ | 1278/1405 [00:58<00:05, 22.92it/s]"
     ]
    },
    {
     "name": "stdout",
     "output_type": "stream",
     "text": [
      "/data/jwd/main/040/914/40914875/working/jupyter/covid_ct_segmentation/COVID-CT-Segmentation/Dataset2/LungInfection-train/Pseudo-label/GT/Data-1_coronacases_org_007_14\n",
      "/data/jwd/main/040/914/40914875/working/jupyter/covid_ct_segmentation/COVID-CT-Segmentation/Dataset2/LungInfection-train/Pseudo-label/GT/Data-1_coronacases_org_007_13\n",
      "/data/jwd/main/040/914/40914875/working/jupyter/covid_ct_segmentation/COVID-CT-Segmentation/Dataset2/LungInfection-train/Pseudo-label/GT/Data-1_coronacases_org_001_87\n"
     ]
    },
    {
     "name": "stderr",
     "output_type": "stream",
     "text": [
      " 91%|█████████ | 1281/1405 [00:58<00:06, 19.57it/s]"
     ]
    },
    {
     "name": "stdout",
     "output_type": "stream",
     "text": [
      "/data/jwd/main/040/914/40914875/working/jupyter/covid_ct_segmentation/COVID-CT-Segmentation/Dataset2/LungInfection-train/Pseudo-label/GT/Data-1_coronacases_org_008_64\n",
      "/data/jwd/main/040/914/40914875/working/jupyter/covid_ct_segmentation/COVID-CT-Segmentation/Dataset2/LungInfection-train/Pseudo-label/GT/Data-1_radiopaedia_org_covid-19-pneumonia-29_86491_1-dcm_19\n",
      "/data/jwd/main/040/914/40914875/working/jupyter/covid_ct_segmentation/COVID-CT-Segmentation/Dataset2/LungInfection-train/Pseudo-label/GT/Data-1_radiopaedia_org_covid-19-pneumonia-14_85914_0-dcm_17\n",
      "/data/jwd/main/040/914/40914875/working/jupyter/covid_ct_segmentation/COVID-CT-Segmentation/Dataset2/LungInfection-train/Pseudo-label/GT/Data-1_radiopaedia_org_covid-19-pneumonia-10_85902_3-dcm_173\n"
     ]
    },
    {
     "name": "stderr",
     "output_type": "stream",
     "text": [
      " 92%|█████████▏| 1286/1405 [00:59<00:07, 15.32it/s]"
     ]
    },
    {
     "name": "stdout",
     "output_type": "stream",
     "text": [
      "/data/jwd/main/040/914/40914875/working/jupyter/covid_ct_segmentation/COVID-CT-Segmentation/Dataset2/LungInfection-train/Pseudo-label/GT/Data-1_coronacases_org_008_101\n",
      "/data/jwd/main/040/914/40914875/working/jupyter/covid_ct_segmentation/COVID-CT-Segmentation/Dataset2/LungInfection-train/Pseudo-label/GT/Data-1_radiopaedia_org_covid-19-pneumonia-36_86526_0-dcm_3\n"
     ]
    },
    {
     "name": "stderr",
     "output_type": "stream",
     "text": [
      " 92%|█████████▏| 1291/1405 [00:59<00:06, 18.45it/s]"
     ]
    },
    {
     "name": "stdout",
     "output_type": "stream",
     "text": [
      "/data/jwd/main/040/914/40914875/working/jupyter/covid_ct_segmentation/COVID-CT-Segmentation/Dataset2/LungInfection-train/Pseudo-label/GT/Data-1_coronacases_org_010_11\n",
      "/data/jwd/main/040/914/40914875/working/jupyter/covid_ct_segmentation/COVID-CT-Segmentation/Dataset2/LungInfection-train/Pseudo-label/GT/Data-1_radiopaedia_org_covid-19-pneumonia-4_85506_1-dcm_3\n",
      "/data/jwd/main/040/914/40914875/working/jupyter/covid_ct_segmentation/COVID-CT-Segmentation/Dataset2/LungInfection-train/Pseudo-label/GT/Data-1_coronacases_org_005_47\n",
      "/data/jwd/main/040/914/40914875/working/jupyter/covid_ct_segmentation/COVID-CT-Segmentation/Dataset2/LungInfection-train/Pseudo-label/GT/Data-1_coronacases_org_002_11\n",
      "/data/jwd/main/040/914/40914875/working/jupyter/covid_ct_segmentation/COVID-CT-Segmentation/Dataset2/LungInfection-train/Pseudo-label/GT/Data-1_radiopaedia_org_covid-19-pneumonia-10_85902_3-dcm_118\n"
     ]
    },
    {
     "name": "stderr",
     "output_type": "stream",
     "text": [
      " 92%|█████████▏| 1294/1405 [00:59<00:05, 20.96it/s]"
     ]
    },
    {
     "name": "stdout",
     "output_type": "stream",
     "text": [
      "/data/jwd/main/040/914/40914875/working/jupyter/covid_ct_segmentation/COVID-CT-Segmentation/Dataset2/LungInfection-train/Pseudo-label/GT/Data-1_coronacases_org_005_67\n",
      "/data/jwd/main/040/914/40914875/working/jupyter/covid_ct_segmentation/COVID-CT-Segmentation/Dataset2/LungInfection-train/Pseudo-label/GT/Data-1_coronacases_org_005_115\n",
      "/data/jwd/main/040/914/40914875/working/jupyter/covid_ct_segmentation/COVID-CT-Segmentation/Dataset2/LungInfection-train/Pseudo-label/GT/Data-1_coronacases_org_008_132\n",
      "/data/jwd/main/040/914/40914875/working/jupyter/covid_ct_segmentation/COVID-CT-Segmentation/Dataset2/LungInfection-train/Pseudo-label/GT/Data-1_coronacases_org_004_45\n",
      "/data/jwd/main/040/914/40914875/working/jupyter/covid_ct_segmentation/COVID-CT-Segmentation/Dataset2/LungInfection-train/Pseudo-label/GT/Data-1_coronacases_org_003_21\n",
      "/data/jwd/main/040/914/40914875/working/jupyter/covid_ct_segmentation/COVID-CT-Segmentation/Dataset2/LungInfection-train/Pseudo-label/GT/Data-1_coronacases_org_003_20\n"
     ]
    },
    {
     "name": "stderr",
     "output_type": "stream",
     "text": [
      " 93%|█████████▎| 1301/1405 [00:59<00:04, 23.93it/s]"
     ]
    },
    {
     "name": "stdout",
     "output_type": "stream",
     "text": [
      "/data/jwd/main/040/914/40914875/working/jupyter/covid_ct_segmentation/COVID-CT-Segmentation/Dataset2/LungInfection-train/Pseudo-label/GT/Data-1_coronacases_org_010_97\n",
      "/data/jwd/main/040/914/40914875/working/jupyter/covid_ct_segmentation/COVID-CT-Segmentation/Dataset2/LungInfection-train/Pseudo-label/GT/Data-1_coronacases_org_010_112\n",
      "/data/jwd/main/040/914/40914875/working/jupyter/covid_ct_segmentation/COVID-CT-Segmentation/Dataset2/LungInfection-train/Pseudo-label/GT/Data-1_coronacases_org_001_65\n",
      "/data/jwd/main/040/914/40914875/working/jupyter/covid_ct_segmentation/COVID-CT-Segmentation/Dataset2/LungInfection-train/Pseudo-label/GT/Data-1_coronacases_org_010_93\n",
      "/data/jwd/main/040/914/40914875/working/jupyter/covid_ct_segmentation/COVID-CT-Segmentation/Dataset2/LungInfection-train/Pseudo-label/GT/Data-1_coronacases_org_007_47\n",
      "/data/jwd/main/040/914/40914875/working/jupyter/covid_ct_segmentation/COVID-CT-Segmentation/Dataset2/LungInfection-train/Pseudo-label/GT/Data-1_radiopaedia_org_covid-19-pneumonia-10_85902_3-dcm_71\n",
      "/data/jwd/main/040/914/40914875/working/jupyter/covid_ct_segmentation/COVID-CT-Segmentation/Dataset2/LungInfection-train/Pseudo-label/GT/Data-1_coronacases_org_006_53\n"
     ]
    },
    {
     "name": "stderr",
     "output_type": "stream",
     "text": [
      " 93%|█████████▎| 1310/1405 [01:00<00:04, 22.61it/s]"
     ]
    },
    {
     "name": "stdout",
     "output_type": "stream",
     "text": [
      "/data/jwd/main/040/914/40914875/working/jupyter/covid_ct_segmentation/COVID-CT-Segmentation/Dataset2/LungInfection-train/Pseudo-label/GT/Data-1_coronacases_org_001_21\n",
      "/data/jwd/main/040/914/40914875/working/jupyter/covid_ct_segmentation/COVID-CT-Segmentation/Dataset2/LungInfection-train/Pseudo-label/GT/Data-1_radiopaedia_org_covid-19-pneumonia-14_85914_0-dcm_10\n",
      "/data/jwd/main/040/914/40914875/working/jupyter/covid_ct_segmentation/COVID-CT-Segmentation/Dataset2/LungInfection-train/Pseudo-label/GT/Data-1_coronacases_org_004_140\n",
      "/data/jwd/main/040/914/40914875/working/jupyter/covid_ct_segmentation/COVID-CT-Segmentation/Dataset2/LungInfection-train/Pseudo-label/GT/Data-1_coronacases_org_009_98\n",
      "/data/jwd/main/040/914/40914875/working/jupyter/covid_ct_segmentation/COVID-CT-Segmentation/Dataset2/LungInfection-train/Pseudo-label/GT/Data-1_coronacases_org_009_36\n",
      "/data/jwd/main/040/914/40914875/working/jupyter/covid_ct_segmentation/COVID-CT-Segmentation/Dataset2/LungInfection-train/Pseudo-label/GT/Data-1_coronacases_org_002_40\n"
     ]
    },
    {
     "name": "stderr",
     "output_type": "stream",
     "text": [
      " 93%|█████████▎| 1313/1405 [01:00<00:03, 24.03it/s]"
     ]
    },
    {
     "name": "stdout",
     "output_type": "stream",
     "text": [
      "/data/jwd/main/040/914/40914875/working/jupyter/covid_ct_segmentation/COVID-CT-Segmentation/Dataset2/LungInfection-train/Pseudo-label/GT/Data-1_radiopaedia_org_covid-19-pneumonia-27_86410_0-dcm_31\n",
      "/data/jwd/main/040/914/40914875/working/jupyter/covid_ct_segmentation/COVID-CT-Segmentation/Dataset2/LungInfection-train/Pseudo-label/GT/Data-1_radiopaedia_org_covid-19-pneumonia-14_85914_0-dcm_2\n",
      "/data/jwd/main/040/914/40914875/working/jupyter/covid_ct_segmentation/COVID-CT-Segmentation/Dataset2/LungInfection-train/Pseudo-label/GT/Data-1_coronacases_org_009_80\n",
      "/data/jwd/main/040/914/40914875/working/jupyter/covid_ct_segmentation/COVID-CT-Segmentation/Dataset2/LungInfection-train/Pseudo-label/GT/Data-1_coronacases_org_007_54\n",
      "/data/jwd/main/040/914/40914875/working/jupyter/covid_ct_segmentation/COVID-CT-Segmentation/Dataset2/LungInfection-train/Pseudo-label/GT/Data-1_coronacases_org_008_91\n",
      "/data/jwd/main/040/914/40914875/working/jupyter/covid_ct_segmentation/COVID-CT-Segmentation/Dataset2/LungInfection-train/Pseudo-label/GT/Data-1_coronacases_org_008_134\n",
      "/data/jwd/main/040/914/40914875/working/jupyter/covid_ct_segmentation/COVID-CT-Segmentation/Dataset2/LungInfection-train/Pseudo-label/GT/Data-1_coronacases_org_008_60\n"
     ]
    },
    {
     "name": "stderr",
     "output_type": "stream",
     "text": [
      " 94%|█████████▍| 1320/1405 [01:00<00:03, 28.06it/s]"
     ]
    },
    {
     "name": "stdout",
     "output_type": "stream",
     "text": [
      "/data/jwd/main/040/914/40914875/working/jupyter/covid_ct_segmentation/COVID-CT-Segmentation/Dataset2/LungInfection-train/Pseudo-label/GT/Data-1_coronacases_org_006_80\n",
      "/data/jwd/main/040/914/40914875/working/jupyter/covid_ct_segmentation/COVID-CT-Segmentation/Dataset2/LungInfection-train/Pseudo-label/GT/Data-1_coronacases_org_002_45\n",
      "/data/jwd/main/040/914/40914875/working/jupyter/covid_ct_segmentation/COVID-CT-Segmentation/Dataset2/LungInfection-train/Pseudo-label/GT/Data-1_coronacases_org_005_32\n",
      "/data/jwd/main/040/914/40914875/working/jupyter/covid_ct_segmentation/COVID-CT-Segmentation/Dataset2/LungInfection-train/Pseudo-label/GT/Data-1_coronacases_org_002_67\n",
      "/data/jwd/main/040/914/40914875/working/jupyter/covid_ct_segmentation/COVID-CT-Segmentation/Dataset2/LungInfection-train/Pseudo-label/GT/Data-1_radiopaedia_org_covid-19-pneumonia-36_86526_0-dcm_34\n",
      "/data/jwd/main/040/914/40914875/working/jupyter/covid_ct_segmentation/COVID-CT-Segmentation/Dataset2/LungInfection-train/Pseudo-label/GT/Data-1_coronacases_org_010_103\n"
     ]
    },
    {
     "name": "stderr",
     "output_type": "stream",
     "text": [
      " 94%|█████████▍| 1326/1405 [01:00<00:03, 23.51it/s]"
     ]
    },
    {
     "name": "stdout",
     "output_type": "stream",
     "text": [
      "/data/jwd/main/040/914/40914875/working/jupyter/covid_ct_segmentation/COVID-CT-Segmentation/Dataset2/LungInfection-train/Pseudo-label/GT/Data-1_coronacases_org_001_36\n",
      "/data/jwd/main/040/914/40914875/working/jupyter/covid_ct_segmentation/COVID-CT-Segmentation/Dataset2/LungInfection-train/Pseudo-label/GT/Data-1_coronacases_org_001_74\n",
      "/data/jwd/main/040/914/40914875/working/jupyter/covid_ct_segmentation/COVID-CT-Segmentation/Dataset2/LungInfection-train/Pseudo-label/GT/Data-1_coronacases_org_001_29\n",
      "/data/jwd/main/040/914/40914875/working/jupyter/covid_ct_segmentation/COVID-CT-Segmentation/Dataset2/LungInfection-train/Pseudo-label/GT/Data-1_radiopaedia_org_covid-19-pneumonia-10_85902_3-dcm_207\n",
      "/data/jwd/main/040/914/40914875/working/jupyter/covid_ct_segmentation/COVID-CT-Segmentation/Dataset2/LungInfection-train/Pseudo-label/GT/Data-1_coronacases_org_008_35\n"
     ]
    },
    {
     "name": "stderr",
     "output_type": "stream",
     "text": [
      " 95%|█████████▍| 1329/1405 [01:01<00:03, 24.71it/s]"
     ]
    },
    {
     "name": "stdout",
     "output_type": "stream",
     "text": [
      "/data/jwd/main/040/914/40914875/working/jupyter/covid_ct_segmentation/COVID-CT-Segmentation/Dataset2/LungInfection-train/Pseudo-label/GT/Data-1_coronacases_org_001_96\n",
      "/data/jwd/main/040/914/40914875/working/jupyter/covid_ct_segmentation/COVID-CT-Segmentation/Dataset2/LungInfection-train/Pseudo-label/GT/Data-1_radiopaedia_org_covid-19-pneumonia-14_85914_0-dcm_5\n",
      "/data/jwd/main/040/914/40914875/working/jupyter/covid_ct_segmentation/COVID-CT-Segmentation/Dataset2/LungInfection-train/Pseudo-label/GT/Data-1_coronacases_org_001_3\n",
      "/data/jwd/main/040/914/40914875/working/jupyter/covid_ct_segmentation/COVID-CT-Segmentation/Dataset2/LungInfection-train/Pseudo-label/GT/Data-1_coronacases_org_007_58\n"
     ]
    },
    {
     "name": "stderr",
     "output_type": "stream",
     "text": [
      " 95%|█████████▌| 1335/1405 [01:01<00:03, 19.59it/s]"
     ]
    },
    {
     "name": "stdout",
     "output_type": "stream",
     "text": [
      "/data/jwd/main/040/914/40914875/working/jupyter/covid_ct_segmentation/COVID-CT-Segmentation/Dataset2/LungInfection-train/Pseudo-label/GT/Data-1_coronacases_org_007_57\n",
      "/data/jwd/main/040/914/40914875/working/jupyter/covid_ct_segmentation/COVID-CT-Segmentation/Dataset2/LungInfection-train/Pseudo-label/GT/Data-1_radiopaedia_org_covid-19-pneumonia-10_85902_3-dcm_35\n",
      "/data/jwd/main/040/914/40914875/working/jupyter/covid_ct_segmentation/COVID-CT-Segmentation/Dataset2/LungInfection-train/Pseudo-label/GT/Data-1_radiopaedia_org_covid-19-pneumonia-29_86491_1-dcm_9\n",
      "/data/jwd/main/040/914/40914875/working/jupyter/covid_ct_segmentation/COVID-CT-Segmentation/Dataset2/LungInfection-train/Pseudo-label/GT/Data-1_coronacases_org_009_107\n",
      "/data/jwd/main/040/914/40914875/working/jupyter/covid_ct_segmentation/COVID-CT-Segmentation/Dataset2/LungInfection-train/Pseudo-label/GT/Data-1_coronacases_org_004_146\n"
     ]
    },
    {
     "name": "stderr",
     "output_type": "stream",
     "text": [
      " 95%|█████████▌| 1338/1405 [01:01<00:03, 21.77it/s]"
     ]
    },
    {
     "name": "stdout",
     "output_type": "stream",
     "text": [
      "/data/jwd/main/040/914/40914875/working/jupyter/covid_ct_segmentation/COVID-CT-Segmentation/Dataset2/LungInfection-train/Pseudo-label/GT/Data-1_radiopaedia_org_covid-19-pneumonia-36_86526_0-dcm_25\n",
      "/data/jwd/main/040/914/40914875/working/jupyter/covid_ct_segmentation/COVID-CT-Segmentation/Dataset2/LungInfection-train/Pseudo-label/GT/Data-1_coronacases_org_008_107\n",
      "/data/jwd/main/040/914/40914875/working/jupyter/covid_ct_segmentation/COVID-CT-Segmentation/Dataset2/LungInfection-train/Pseudo-label/GT/Data-1_coronacases_org_008_71\n",
      "/data/jwd/main/040/914/40914875/working/jupyter/covid_ct_segmentation/COVID-CT-Segmentation/Dataset2/LungInfection-train/Pseudo-label/GT/Data-1_coronacases_org_010_37\n"
     ]
    },
    {
     "name": "stderr",
     "output_type": "stream",
     "text": [
      " 96%|█████████▌| 1344/1405 [01:01<00:03, 18.25it/s]"
     ]
    },
    {
     "name": "stdout",
     "output_type": "stream",
     "text": [
      "/data/jwd/main/040/914/40914875/working/jupyter/covid_ct_segmentation/COVID-CT-Segmentation/Dataset2/LungInfection-train/Pseudo-label/GT/Data-1_radiopaedia_org_covid-19-pneumonia-14_85914_0-dcm_4\n",
      "/data/jwd/main/040/914/40914875/working/jupyter/covid_ct_segmentation/COVID-CT-Segmentation/Dataset2/LungInfection-train/Pseudo-label/GT/Data-1_radiopaedia_org_covid-19-pneumonia-14_85914_0-dcm_63\n",
      "/data/jwd/main/040/914/40914875/working/jupyter/covid_ct_segmentation/COVID-CT-Segmentation/Dataset2/LungInfection-train/Pseudo-label/GT/Data-1_coronacases_org_001_79\n",
      "/data/jwd/main/040/914/40914875/working/jupyter/covid_ct_segmentation/COVID-CT-Segmentation/Dataset2/LungInfection-train/Pseudo-label/GT/Data-1_coronacases_org_005_46\n",
      "/data/jwd/main/040/914/40914875/working/jupyter/covid_ct_segmentation/COVID-CT-Segmentation/Dataset2/LungInfection-train/Pseudo-label/GT/Data-1_coronacases_org_002_36\n"
     ]
    },
    {
     "name": "stderr",
     "output_type": "stream",
     "text": [
      " 96%|█████████▌| 1350/1405 [01:02<00:02, 18.95it/s]"
     ]
    },
    {
     "name": "stdout",
     "output_type": "stream",
     "text": [
      "/data/jwd/main/040/914/40914875/working/jupyter/covid_ct_segmentation/COVID-CT-Segmentation/Dataset2/LungInfection-train/Pseudo-label/GT/Data-1_coronacases_org_006_24\n",
      "/data/jwd/main/040/914/40914875/working/jupyter/covid_ct_segmentation/COVID-CT-Segmentation/Dataset2/LungInfection-train/Pseudo-label/GT/Data-1_radiopaedia_org_covid-19-pneumonia-27_86410_0-dcm_16\n",
      "/data/jwd/main/040/914/40914875/working/jupyter/covid_ct_segmentation/COVID-CT-Segmentation/Dataset2/LungInfection-train/Pseudo-label/GT/Data-1_radiopaedia_org_covid-19-pneumonia-10_85902_3-dcm_33\n",
      "/data/jwd/main/040/914/40914875/working/jupyter/covid_ct_segmentation/COVID-CT-Segmentation/Dataset2/LungInfection-train/Pseudo-label/GT/Data-1_radiopaedia_org_covid-19-pneumonia-10_85902_3-dcm_2\n"
     ]
    },
    {
     "name": "stderr",
     "output_type": "stream",
     "text": [
      " 96%|█████████▋| 1353/1405 [01:02<00:02, 20.56it/s]"
     ]
    },
    {
     "name": "stdout",
     "output_type": "stream",
     "text": [
      "/data/jwd/main/040/914/40914875/working/jupyter/covid_ct_segmentation/COVID-CT-Segmentation/Dataset2/LungInfection-train/Pseudo-label/GT/Data-1_radiopaedia_org_covid-19-pneumonia-40_86625_0-dcm_14\n",
      "/data/jwd/main/040/914/40914875/working/jupyter/covid_ct_segmentation/COVID-CT-Segmentation/Dataset2/LungInfection-train/Pseudo-label/GT/Data-1_coronacases_org_009_61\n",
      "/data/jwd/main/040/914/40914875/working/jupyter/covid_ct_segmentation/COVID-CT-Segmentation/Dataset2/LungInfection-train/Pseudo-label/GT/Data-1_coronacases_org_008_118\n",
      "/data/jwd/main/040/914/40914875/working/jupyter/covid_ct_segmentation/COVID-CT-Segmentation/Dataset2/LungInfection-train/Pseudo-label/GT/Data-1_radiopaedia_org_covid-19-pneumonia-10_85902_3-dcm_156\n",
      "/data/jwd/main/040/914/40914875/working/jupyter/covid_ct_segmentation/COVID-CT-Segmentation/Dataset2/LungInfection-train/Pseudo-label/GT/Data-1_coronacases_org_008_117\n"
     ]
    },
    {
     "name": "stderr",
     "output_type": "stream",
     "text": [
      " 97%|█████████▋| 1356/1405 [01:02<00:02, 19.12it/s]"
     ]
    },
    {
     "name": "stdout",
     "output_type": "stream",
     "text": [
      "/data/jwd/main/040/914/40914875/working/jupyter/covid_ct_segmentation/COVID-CT-Segmentation/Dataset2/LungInfection-train/Pseudo-label/GT/Data-1_coronacases_org_004_111\n",
      "/data/jwd/main/040/914/40914875/working/jupyter/covid_ct_segmentation/COVID-CT-Segmentation/Dataset2/LungInfection-train/Pseudo-label/GT/Data-1_radiopaedia_org_covid-19-pneumonia-36_86526_0-dcm_21\n",
      "/data/jwd/main/040/914/40914875/working/jupyter/covid_ct_segmentation/COVID-CT-Segmentation/Dataset2/LungInfection-train/Pseudo-label/GT/Data-1_coronacases_org_010_43\n",
      "/data/jwd/main/040/914/40914875/working/jupyter/covid_ct_segmentation/COVID-CT-Segmentation/Dataset2/LungInfection-train/Pseudo-label/GT/Data-1_radiopaedia_org_covid-19-pneumonia-10_85902_3-dcm_82\n"
     ]
    },
    {
     "name": "stderr",
     "output_type": "stream",
     "text": [
      " 97%|█████████▋| 1365/1405 [01:02<00:01, 23.80it/s]"
     ]
    },
    {
     "name": "stdout",
     "output_type": "stream",
     "text": [
      "/data/jwd/main/040/914/40914875/working/jupyter/covid_ct_segmentation/COVID-CT-Segmentation/Dataset2/LungInfection-train/Pseudo-label/GT/Data-1_coronacases_org_009_62\n",
      "/data/jwd/main/040/914/40914875/working/jupyter/covid_ct_segmentation/COVID-CT-Segmentation/Dataset2/LungInfection-train/Pseudo-label/GT/Data-1_coronacases_org_007_77\n",
      "/data/jwd/main/040/914/40914875/working/jupyter/covid_ct_segmentation/COVID-CT-Segmentation/Dataset2/LungInfection-train/Pseudo-label/GT/Data-1_coronacases_org_009_27\n",
      "/data/jwd/main/040/914/40914875/working/jupyter/covid_ct_segmentation/COVID-CT-Segmentation/Dataset2/LungInfection-train/Pseudo-label/GT/Data-1_coronacases_org_007_71\n",
      "/data/jwd/main/040/914/40914875/working/jupyter/covid_ct_segmentation/COVID-CT-Segmentation/Dataset2/LungInfection-train/Pseudo-label/GT/Data-1_coronacases_org_005_89\n",
      "/data/jwd/main/040/914/40914875/working/jupyter/covid_ct_segmentation/COVID-CT-Segmentation/Dataset2/LungInfection-train/Pseudo-label/GT/Data-1_coronacases_org_009_33\n",
      "/data/jwd/main/040/914/40914875/working/jupyter/covid_ct_segmentation/COVID-CT-Segmentation/Dataset2/LungInfection-train/Pseudo-label/GT/Data-1_coronacases_org_005_94\n"
     ]
    },
    {
     "name": "stderr",
     "output_type": "stream",
     "text": [
      " 98%|█████████▊| 1371/1405 [01:03<00:01, 23.60it/s]"
     ]
    },
    {
     "name": "stdout",
     "output_type": "stream",
     "text": [
      "/data/jwd/main/040/914/40914875/working/jupyter/covid_ct_segmentation/COVID-CT-Segmentation/Dataset2/LungInfection-train/Pseudo-label/GT/Data-1_radiopaedia_org_covid-19-pneumonia-40_86625_0-dcm_16\n",
      "/data/jwd/main/040/914/40914875/working/jupyter/covid_ct_segmentation/COVID-CT-Segmentation/Dataset2/LungInfection-train/Pseudo-label/GT/Data-1_radiopaedia_org_covid-19-pneumonia-10_85902_3-dcm_171\n",
      "/data/jwd/main/040/914/40914875/working/jupyter/covid_ct_segmentation/COVID-CT-Segmentation/Dataset2/LungInfection-train/Pseudo-label/GT/Data-1_coronacases_org_005_16\n",
      "/data/jwd/main/040/914/40914875/working/jupyter/covid_ct_segmentation/COVID-CT-Segmentation/Dataset2/LungInfection-train/Pseudo-label/GT/Data-1_radiopaedia_org_covid-19-pneumonia-10_85902_3-dcm_9\n",
      "/data/jwd/main/040/914/40914875/working/jupyter/covid_ct_segmentation/COVID-CT-Segmentation/Dataset2/LungInfection-train/Pseudo-label/GT/Data-1_coronacases_org_009_34\n"
     ]
    },
    {
     "name": "stderr",
     "output_type": "stream",
     "text": [
      " 98%|█████████▊| 1374/1405 [01:03<00:01, 20.23it/s]"
     ]
    },
    {
     "name": "stdout",
     "output_type": "stream",
     "text": [
      "/data/jwd/main/040/914/40914875/working/jupyter/covid_ct_segmentation/COVID-CT-Segmentation/Dataset2/LungInfection-train/Pseudo-label/GT/Data-1_radiopaedia_org_covid-19-pneumonia-27_86410_0-dcm_3\n",
      "/data/jwd/main/040/914/40914875/working/jupyter/covid_ct_segmentation/COVID-CT-Segmentation/Dataset2/LungInfection-train/Pseudo-label/GT/Data-1_coronacases_org_008_135\n",
      "/data/jwd/main/040/914/40914875/working/jupyter/covid_ct_segmentation/COVID-CT-Segmentation/Dataset2/LungInfection-train/Pseudo-label/GT/Data-1_coronacases_org_008_109\n",
      "/data/jwd/main/040/914/40914875/working/jupyter/covid_ct_segmentation/COVID-CT-Segmentation/Dataset2/LungInfection-train/Pseudo-label/GT/Data-1_coronacases_org_006_76\n",
      "/data/jwd/main/040/914/40914875/working/jupyter/covid_ct_segmentation/COVID-CT-Segmentation/Dataset2/LungInfection-train/Pseudo-label/GT/Data-1_coronacases_org_007_99\n"
     ]
    },
    {
     "name": "stderr",
     "output_type": "stream",
     "text": [
      " 98%|█████████▊| 1380/1405 [01:03<00:01, 23.52it/s]"
     ]
    },
    {
     "name": "stdout",
     "output_type": "stream",
     "text": [
      "/data/jwd/main/040/914/40914875/working/jupyter/covid_ct_segmentation/COVID-CT-Segmentation/Dataset2/LungInfection-train/Pseudo-label/GT/Data-1_radiopaedia_org_covid-19-pneumonia-10_85902_3-dcm_140\n",
      "/data/jwd/main/040/914/40914875/working/jupyter/covid_ct_segmentation/COVID-CT-Segmentation/Dataset2/LungInfection-train/Pseudo-label/GT/Data-1_coronacases_org_010_9\n",
      "/data/jwd/main/040/914/40914875/working/jupyter/covid_ct_segmentation/COVID-CT-Segmentation/Dataset2/LungInfection-train/Pseudo-label/GT/Data-1_coronacases_org_007_86\n",
      "/data/jwd/main/040/914/40914875/working/jupyter/covid_ct_segmentation/COVID-CT-Segmentation/Dataset2/LungInfection-train/Pseudo-label/GT/Data-1_coronacases_org_005_101\n",
      "/data/jwd/main/040/914/40914875/working/jupyter/covid_ct_segmentation/COVID-CT-Segmentation/Dataset2/LungInfection-train/Pseudo-label/GT/Data-1_coronacases_org_004_42\n",
      "/data/jwd/main/040/914/40914875/working/jupyter/covid_ct_segmentation/COVID-CT-Segmentation/Dataset2/LungInfection-train/Pseudo-label/GT/Data-1_radiopaedia_org_covid-19-pneumonia-14_85914_0-dcm_65\n"
     ]
    },
    {
     "name": "stderr",
     "output_type": "stream",
     "text": [
      " 99%|█████████▊| 1386/1405 [01:04<00:01, 16.77it/s]"
     ]
    },
    {
     "name": "stdout",
     "output_type": "stream",
     "text": [
      "/data/jwd/main/040/914/40914875/working/jupyter/covid_ct_segmentation/COVID-CT-Segmentation/Dataset2/LungInfection-train/Pseudo-label/GT/Data-1_radiopaedia_org_covid-19-pneumonia-29_86491_1-dcm_22\n",
      "/data/jwd/main/040/914/40914875/working/jupyter/covid_ct_segmentation/COVID-CT-Segmentation/Dataset2/LungInfection-train/Pseudo-label/GT/Data-1_radiopaedia_org_covid-19-pneumonia-10_85902_1-dcm_14\n",
      "/data/jwd/main/040/914/40914875/working/jupyter/covid_ct_segmentation/COVID-CT-Segmentation/Dataset2/LungInfection-train/Pseudo-label/GT/Data-1_coronacases_org_003_34\n",
      "/data/jwd/main/040/914/40914875/working/jupyter/covid_ct_segmentation/COVID-CT-Segmentation/Dataset2/LungInfection-train/Pseudo-label/GT/Data-1_coronacases_org_010_38\n",
      "/data/jwd/main/040/914/40914875/working/jupyter/covid_ct_segmentation/COVID-CT-Segmentation/Dataset2/LungInfection-train/Pseudo-label/GT/Data-1_radiopaedia_org_covid-19-pneumonia-10_85902_1-dcm_15\n"
     ]
    },
    {
     "name": "stderr",
     "output_type": "stream",
     "text": [
      " 99%|█████████▉| 1389/1405 [01:04<00:00, 18.83it/s]"
     ]
    },
    {
     "name": "stdout",
     "output_type": "stream",
     "text": [
      "/data/jwd/main/040/914/40914875/working/jupyter/covid_ct_segmentation/COVID-CT-Segmentation/Dataset2/LungInfection-train/Pseudo-label/GT/Data-1_coronacases_org_009_6\n",
      "/data/jwd/main/040/914/40914875/working/jupyter/covid_ct_segmentation/COVID-CT-Segmentation/Dataset2/LungInfection-train/Pseudo-label/GT/Data-1_radiopaedia_org_covid-19-pneumonia-14_85914_0-dcm_66\n",
      "/data/jwd/main/040/914/40914875/working/jupyter/covid_ct_segmentation/COVID-CT-Segmentation/Dataset2/LungInfection-train/Pseudo-label/GT/Data-1_coronacases_org_008_94\n",
      "/data/jwd/main/040/914/40914875/working/jupyter/covid_ct_segmentation/COVID-CT-Segmentation/Dataset2/LungInfection-train/Pseudo-label/GT/Data-1_coronacases_org_007_107\n"
     ]
    },
    {
     "name": "stderr",
     "output_type": "stream",
     "text": [
      " 99%|█████████▉| 1395/1405 [01:04<00:00, 16.97it/s]"
     ]
    },
    {
     "name": "stdout",
     "output_type": "stream",
     "text": [
      "/data/jwd/main/040/914/40914875/working/jupyter/covid_ct_segmentation/COVID-CT-Segmentation/Dataset2/LungInfection-train/Pseudo-label/GT/Data-1_radiopaedia_org_covid-19-pneumonia-14_85914_0-dcm_49\n",
      "/data/jwd/main/040/914/40914875/working/jupyter/covid_ct_segmentation/COVID-CT-Segmentation/Dataset2/LungInfection-train/Pseudo-label/GT/Data-1_coronacases_org_007_98\n",
      "/data/jwd/main/040/914/40914875/working/jupyter/covid_ct_segmentation/COVID-CT-Segmentation/Dataset2/LungInfection-train/Pseudo-label/GT/Data-1_coronacases_org_001_100\n",
      "/data/jwd/main/040/914/40914875/working/jupyter/covid_ct_segmentation/COVID-CT-Segmentation/Dataset2/LungInfection-train/Pseudo-label/GT/Data-1_coronacases_org_005_54\n"
     ]
    },
    {
     "name": "stderr",
     "output_type": "stream",
     "text": [
      " 99%|█████████▉| 1397/1405 [01:04<00:00, 17.24it/s]"
     ]
    },
    {
     "name": "stdout",
     "output_type": "stream",
     "text": [
      "/data/jwd/main/040/914/40914875/working/jupyter/covid_ct_segmentation/COVID-CT-Segmentation/Dataset2/LungInfection-train/Pseudo-label/GT/Data-1_radiopaedia_org_covid-19-pneumonia-40_86625_0-dcm_15\n",
      "/data/jwd/main/040/914/40914875/working/jupyter/covid_ct_segmentation/COVID-CT-Segmentation/Dataset2/LungInfection-train/Pseudo-label/GT/Data-1_radiopaedia_org_covid-19-pneumonia-27_86410_0-dcm_19\n",
      "/data/jwd/main/040/914/40914875/working/jupyter/covid_ct_segmentation/COVID-CT-Segmentation/Dataset2/LungInfection-train/Pseudo-label/GT/Data-1_coronacases_org_003_41\n",
      "/data/jwd/main/040/914/40914875/working/jupyter/covid_ct_segmentation/COVID-CT-Segmentation/Dataset2/LungInfection-train/Pseudo-label/GT/Data-1_coronacases_org_004_138\n"
     ]
    },
    {
     "name": "stderr",
     "output_type": "stream",
     "text": [
      "100%|█████████▉| 1403/1405 [01:05<00:00, 14.30it/s]"
     ]
    },
    {
     "name": "stdout",
     "output_type": "stream",
     "text": [
      "/data/jwd/main/040/914/40914875/working/jupyter/covid_ct_segmentation/COVID-CT-Segmentation/Dataset2/LungInfection-train/Pseudo-label/GT/Data-1_radiopaedia_org_covid-19-pneumonia-10_85902_3-dcm_54\n",
      "/data/jwd/main/040/914/40914875/working/jupyter/covid_ct_segmentation/COVID-CT-Segmentation/Dataset2/LungInfection-train/Pseudo-label/GT/Data-1_coronacases_org_005_51\n",
      "/data/jwd/main/040/914/40914875/working/jupyter/covid_ct_segmentation/COVID-CT-Segmentation/Dataset2/LungInfection-train/Pseudo-label/GT/Data-1_coronacases_org_004_77\n",
      "/data/jwd/main/040/914/40914875/working/jupyter/covid_ct_segmentation/COVID-CT-Segmentation/Dataset2/LungInfection-train/Pseudo-label/GT/Data-1_coronacases_org_005_121\n",
      "/data/jwd/main/040/914/40914875/working/jupyter/covid_ct_segmentation/COVID-CT-Segmentation/Dataset2/LungInfection-train/Pseudo-label/GT/Data-1_coronacases_org_004_40\n"
     ]
    },
    {
     "name": "stderr",
     "output_type": "stream",
     "text": [
      "100%|██████████| 1405/1405 [01:05<00:00, 21.53it/s]"
     ]
    },
    {
     "name": "stdout",
     "output_type": "stream",
     "text": [
      "/data/jwd/main/040/914/40914875/working/jupyter/covid_ct_segmentation/COVID-CT-Segmentation/Dataset2/LungInfection-train/Pseudo-label/GT/Data-1_coronacases_org_008_103\n",
      "No. of Images =  50\n"
     ]
    },
    {
     "name": "stderr",
     "output_type": "stream",
     "text": [
      "\n",
      "100%|██████████| 50/50 [00:02<00:00, 17.20it/s]\n"
     ]
    }
   ],
   "source": [
    "'''#########################################################################'''\n",
    "\n",
    "im_width = 128\n",
    "im_height = 128\n",
    "EpoachesNo=100\n",
    "BatcheSZE=32\n",
    "num_class=2\n",
    "\n",
    "'''#########################################################################'''\n",
    "\n",
    "#loading Masks & images then save & labeling loop\n",
    "\n",
    "path = os.path.join(os.getcwd(), 'Dataset2/')\n",
    "print(path)\n",
    "\n",
    "ids1 = next(os.walk(path + 'LungInfection-train/Pseudo-label/Imgs/'))[2]\n",
    "\n",
    "train = np.zeros((len(ids1), im_width, im_height,1), dtype=np.float32)\n",
    "\n",
    "mask = np.zeros((len(ids1), im_height, im_width,num_class), dtype=np.float32)\n",
    "\n",
    "print(\"No. of Images = \", len(ids1))\n",
    "\n",
    "sys.stdout.flush()\n",
    "\n",
    "for n, id_ in tqdm(enumerate(ids1), total=len(ids1)): \n",
    "    img = imread(path+'LungInfection-train/Pseudo-label/Imgs/'+id_)\n",
    "    x_img = img_to_array(img)\n",
    "    x_img = resize(x_img, (im_width, im_height, 1), mode = 'constant', preserve_range = True)\n",
    "    train[n,:,:] =  x_img\n",
    "\n",
    "    mask_ID, ext = os.path.splitext(path+'LungInfection-train/Pseudo-label/GT/'+id_)\n",
    "    msk= imread(mask_ID+'.png')\n",
    "    msk = resize(msk, (im_width, im_height), mode = 'constant',preserve_range = True, anti_aliasing=False)\n",
    "    msk=np.round(msk/255)\n",
    "\n",
    "    for i in range(0, num_class):\n",
    "        mask[n,:,:,i] = np.where(msk ==i,1,0)\n",
    "            \n",
    "'''#########################################################################'''\n",
    "#loading Masks & images then save & labeling loop\n",
    "ids2 = next(os.walk(path + 'LungInfection-train/Doctor-label/Imgs/'))[2]\n",
    "\n",
    "X_train = np.zeros((len(ids2), im_width, im_height,1), dtype=np.float32)\n",
    "\n",
    "X_mask = np.zeros((len(ids2), im_height, im_width,num_class), dtype=np.float32)\n",
    "\n",
    "print(\"No. of Images = \", len(ids2))\n",
    "\n",
    "sys.stdout.flush()\n",
    "\n",
    "for n, id_ in tqdm(enumerate(ids2), total=len(ids2)): \n",
    "    img = imread(path+'LungInfection-train/Doctor-label/Imgs/'+id_)\n",
    "    x_img = img_to_array(img)\n",
    "    x_img = resize(x_img, (im_width, im_height, 1), mode = 'constant', preserve_range = True)\n",
    "    X_train[n,:,:] =  x_img\n",
    "\n",
    "\n",
    "    mask_ID, ext = os.path.splitext(path+'LungInfection-train/Doctor-label/GT/'+id_)\n",
    "    msk= imread(mask_ID+'.png')\n",
    "    msk = resize(msk, (im_width, im_height), mode = 'constant',preserve_range = True, anti_aliasing=False)\n",
    "    msk=np.round(msk/255)\n",
    "\n",
    "    for i in range(0, num_class):\n",
    "        X_mask[n,:,:,i] = np.where(msk ==i,1,0)\n",
    "\n",
    "train=np.vstack((train,X_train))\n",
    "\n",
    "mask=np.vstack((mask,X_mask))\n",
    "\n",
    "'''#########################################################################'''\n",
    "\n",
    "def dice_coef(y_pred, y_true):\n",
    "    \n",
    "    y_true_f = K.flatten(y_true)\n",
    "    y_pred_f = K.flatten(y_pred)\n",
    "    intersection = K.sum(y_true_f * y_pred_f)\n",
    "    return (2. * intersection + 0.0001) / (K.sum(y_true_f) + K.sum(y_pred_f) + 0.0001)\n",
    "\n",
    "\n",
    "def dice_loss(y_true, y_pred):\n",
    "    return 1-dice_coef(y_true, y_pred)\n",
    "\n",
    "def my_loss(y_true, y_pred):\n",
    "    layer_names=[layer.name for layer in model.layers]\n",
    "    for l in layer_names:\n",
    "        if l==layer_names[-1]:\n",
    "            value = TV_bin_loss(y_true, y_pred)\n",
    "        else:\n",
    "            value = binary_crossentropy(K.flatten(y_true),K.flatten(y_pred))\n",
    "    return value\n"
   ]
  },
  {
   "cell_type": "code",
   "execution_count": 3,
   "id": "a9e7015d-2a9c-45be-aaec-d4662927e70a",
   "metadata": {},
   "outputs": [
    {
     "name": "stderr",
     "output_type": "stream",
     "text": [
      "2022-02-10 15:00:23.749283: I tensorflow/stream_executor/cuda/cuda_gpu_executor.cc:939] successful NUMA node read from SysFS had negative value (-1), but there must be at least one NUMA node, so returning NUMA node zero\n",
      "2022-02-10 15:00:24.522021: I tensorflow/stream_executor/cuda/cuda_gpu_executor.cc:939] successful NUMA node read from SysFS had negative value (-1), but there must be at least one NUMA node, so returning NUMA node zero\n",
      "2022-02-10 15:00:24.522557: I tensorflow/stream_executor/cuda/cuda_gpu_executor.cc:939] successful NUMA node read from SysFS had negative value (-1), but there must be at least one NUMA node, so returning NUMA node zero\n",
      "2022-02-10 15:00:24.524381: I tensorflow/core/platform/cpu_feature_guard.cc:151] This TensorFlow binary is optimized with oneAPI Deep Neural Network Library (oneDNN) to use the following CPU instructions in performance-critical operations:  AVX2 FMA\n",
      "To enable them in other operations, rebuild TensorFlow with the appropriate compiler flags.\n",
      "2022-02-10 15:00:24.526148: I tensorflow/stream_executor/cuda/cuda_gpu_executor.cc:939] successful NUMA node read from SysFS had negative value (-1), but there must be at least one NUMA node, so returning NUMA node zero\n",
      "2022-02-10 15:00:24.526577: I tensorflow/stream_executor/cuda/cuda_gpu_executor.cc:939] successful NUMA node read from SysFS had negative value (-1), but there must be at least one NUMA node, so returning NUMA node zero\n",
      "2022-02-10 15:00:24.526966: I tensorflow/stream_executor/cuda/cuda_gpu_executor.cc:939] successful NUMA node read from SysFS had negative value (-1), but there must be at least one NUMA node, so returning NUMA node zero\n",
      "2022-02-10 15:00:27.401458: I tensorflow/stream_executor/cuda/cuda_gpu_executor.cc:939] successful NUMA node read from SysFS had negative value (-1), but there must be at least one NUMA node, so returning NUMA node zero\n",
      "2022-02-10 15:00:27.401826: I tensorflow/stream_executor/cuda/cuda_gpu_executor.cc:939] successful NUMA node read from SysFS had negative value (-1), but there must be at least one NUMA node, so returning NUMA node zero\n",
      "2022-02-10 15:00:27.402089: I tensorflow/stream_executor/cuda/cuda_gpu_executor.cc:939] successful NUMA node read from SysFS had negative value (-1), but there must be at least one NUMA node, so returning NUMA node zero\n",
      "2022-02-10 15:00:27.402399: I tensorflow/core/common_runtime/gpu/gpu_device.cc:1525] Created device /job:localhost/replica:0/task:0/device:GPU:0 with 13793 MB memory:  -> device: 0, name: Tesla T4, pci bus id: 0000:00:05.0, compute capability: 7.5\n"
     ]
    },
    {
     "name": "stdout",
     "output_type": "stream",
     "text": [
      "Model: \"model\"\n",
      "__________________________________________________________________________________________________\n",
      " Layer (type)                   Output Shape         Param #     Connected to                     \n",
      "==================================================================================================\n",
      " img (InputLayer)               [(None, 128, 128, 1  0           []                               \n",
      "                                )]                                                                \n",
      "                                                                                                  \n",
      " conv2d (Conv2D)                (None, 128, 128, 64  640         ['img[0][0]']                    \n",
      "                                )                                                                 \n",
      "                                                                                                  \n",
      " batch_normalization (BatchNorm  (None, 128, 128, 64  256        ['conv2d[0][0]']                 \n",
      " alization)                     )                                                                 \n",
      "                                                                                                  \n",
      " activation (Activation)        (None, 128, 128, 64  0           ['batch_normalization[0][0]']    \n",
      "                                )                                                                 \n",
      "                                                                                                  \n",
      " conv2d_1 (Conv2D)              (None, 128, 128, 64  36928       ['activation[0][0]']             \n",
      "                                )                                                                 \n",
      "                                                                                                  \n",
      " batch_normalization_1 (BatchNo  (None, 128, 128, 64  256        ['conv2d_1[0][0]']               \n",
      " rmalization)                   )                                                                 \n",
      "                                                                                                  \n",
      " activation_1 (Activation)      (None, 128, 128, 64  0           ['batch_normalization_1[0][0]']  \n",
      "                                )                                                                 \n",
      "                                                                                                  \n",
      " max_pooling2d (MaxPooling2D)   (None, 64, 64, 64)   0           ['activation_1[0][0]']           \n",
      "                                                                                                  \n",
      " dropout (Dropout)              (None, 64, 64, 64)   0           ['max_pooling2d[0][0]']          \n",
      "                                                                                                  \n",
      " conv2d_2 (Conv2D)              (None, 64, 64, 128)  73856       ['dropout[0][0]']                \n",
      "                                                                                                  \n",
      " batch_normalization_2 (BatchNo  (None, 64, 64, 128)  512        ['conv2d_2[0][0]']               \n",
      " rmalization)                                                                                     \n",
      "                                                                                                  \n",
      " activation_2 (Activation)      (None, 64, 64, 128)  0           ['batch_normalization_2[0][0]']  \n",
      "                                                                                                  \n",
      " conv2d_3 (Conv2D)              (None, 64, 64, 128)  147584      ['activation_2[0][0]']           \n",
      "                                                                                                  \n",
      " batch_normalization_3 (BatchNo  (None, 64, 64, 128)  512        ['conv2d_3[0][0]']               \n",
      " rmalization)                                                                                     \n",
      "                                                                                                  \n",
      " activation_3 (Activation)      (None, 64, 64, 128)  0           ['batch_normalization_3[0][0]']  \n",
      "                                                                                                  \n",
      " max_pooling2d_1 (MaxPooling2D)  (None, 32, 32, 128)  0          ['activation_3[0][0]']           \n",
      "                                                                                                  \n",
      " dropout_1 (Dropout)            (None, 32, 32, 128)  0           ['max_pooling2d_1[0][0]']        \n",
      "                                                                                                  \n",
      " conv2d_4 (Conv2D)              (None, 32, 32, 256)  295168      ['dropout_1[0][0]']              \n",
      "                                                                                                  \n",
      " batch_normalization_4 (BatchNo  (None, 32, 32, 256)  1024       ['conv2d_4[0][0]']               \n",
      " rmalization)                                                                                     \n",
      "                                                                                                  \n",
      " activation_4 (Activation)      (None, 32, 32, 256)  0           ['batch_normalization_4[0][0]']  \n",
      "                                                                                                  \n",
      " conv2d_5 (Conv2D)              (None, 32, 32, 256)  590080      ['activation_4[0][0]']           \n",
      "                                                                                                  \n",
      " batch_normalization_5 (BatchNo  (None, 32, 32, 256)  1024       ['conv2d_5[0][0]']               \n",
      " rmalization)                                                                                     \n",
      "                                                                                                  \n",
      " activation_5 (Activation)      (None, 32, 32, 256)  0           ['batch_normalization_5[0][0]']  \n",
      "                                                                                                  \n",
      " max_pooling2d_2 (MaxPooling2D)  (None, 16, 16, 256)  0          ['activation_5[0][0]']           \n",
      "                                                                                                  \n",
      " dropout_2 (Dropout)            (None, 16, 16, 256)  0           ['max_pooling2d_2[0][0]']        \n",
      "                                                                                                  \n",
      " conv2d_6 (Conv2D)              (None, 16, 16, 512)  1180160     ['dropout_2[0][0]']              \n",
      "                                                                                                  \n",
      " batch_normalization_6 (BatchNo  (None, 16, 16, 512)  2048       ['conv2d_6[0][0]']               \n",
      " rmalization)                                                                                     \n",
      "                                                                                                  \n",
      " activation_6 (Activation)      (None, 16, 16, 512)  0           ['batch_normalization_6[0][0]']  \n",
      "                                                                                                  \n",
      " conv2d_7 (Conv2D)              (None, 16, 16, 512)  2359808     ['activation_6[0][0]']           \n",
      "                                                                                                  \n",
      " batch_normalization_7 (BatchNo  (None, 16, 16, 512)  2048       ['conv2d_7[0][0]']               \n",
      " rmalization)                                                                                     \n",
      "                                                                                                  \n",
      " activation_7 (Activation)      (None, 16, 16, 512)  0           ['batch_normalization_7[0][0]']  \n",
      "                                                                                                  \n",
      " max_pooling2d_3 (MaxPooling2D)  (None, 8, 8, 512)   0           ['activation_7[0][0]']           \n",
      "                                                                                                  \n",
      " dropout_3 (Dropout)            (None, 8, 8, 512)    0           ['max_pooling2d_3[0][0]']        \n",
      "                                                                                                  \n",
      " conv2d_8 (Conv2D)              (None, 8, 8, 1024)   4719616     ['dropout_3[0][0]']              \n",
      "                                                                                                  \n",
      " batch_normalization_8 (BatchNo  (None, 8, 8, 1024)  4096        ['conv2d_8[0][0]']               \n",
      " rmalization)                                                                                     \n",
      "                                                                                                  \n",
      " activation_8 (Activation)      (None, 8, 8, 1024)   0           ['batch_normalization_8[0][0]']  \n",
      "                                                                                                  \n",
      " conv2d_9 (Conv2D)              (None, 8, 8, 1024)   9438208     ['activation_8[0][0]']           \n",
      "                                                                                                  \n",
      " batch_normalization_9 (BatchNo  (None, 8, 8, 1024)  4096        ['conv2d_9[0][0]']               \n",
      " rmalization)                                                                                     \n",
      "                                                                                                  \n",
      " activation_9 (Activation)      (None, 8, 8, 1024)   0           ['batch_normalization_9[0][0]']  \n",
      "                                                                                                  \n",
      " conv2d_transpose (Conv2DTransp  (None, 16, 16, 512)  4719104    ['activation_9[0][0]']           \n",
      " ose)                                                                                             \n",
      "                                                                                                  \n",
      " concatenate (Concatenate)      (None, 16, 16, 1024  0           ['conv2d_transpose[0][0]',       \n",
      "                                )                                 'activation_7[0][0]']           \n",
      "                                                                                                  \n",
      " dropout_4 (Dropout)            (None, 16, 16, 1024  0           ['concatenate[0][0]']            \n",
      "                                )                                                                 \n",
      "                                                                                                  \n",
      " conv2d_10 (Conv2D)             (None, 16, 16, 512)  4719104     ['dropout_4[0][0]']              \n",
      "                                                                                                  \n",
      " batch_normalization_10 (BatchN  (None, 16, 16, 512)  2048       ['conv2d_10[0][0]']              \n",
      " ormalization)                                                                                    \n",
      "                                                                                                  \n",
      " activation_10 (Activation)     (None, 16, 16, 512)  0           ['batch_normalization_10[0][0]'] \n",
      "                                                                                                  \n",
      " conv2d_11 (Conv2D)             (None, 16, 16, 512)  2359808     ['activation_10[0][0]']          \n",
      "                                                                                                  \n",
      " batch_normalization_11 (BatchN  (None, 16, 16, 512)  2048       ['conv2d_11[0][0]']              \n",
      " ormalization)                                                                                    \n",
      "                                                                                                  \n",
      " activation_11 (Activation)     (None, 16, 16, 512)  0           ['batch_normalization_11[0][0]'] \n",
      "                                                                                                  \n",
      " conv2d_transpose_1 (Conv2DTran  (None, 32, 32, 256)  1179904    ['activation_11[0][0]']          \n",
      " spose)                                                                                           \n",
      "                                                                                                  \n",
      " concatenate_1 (Concatenate)    (None, 32, 32, 512)  0           ['conv2d_transpose_1[0][0]',     \n",
      "                                                                  'activation_5[0][0]']           \n",
      "                                                                                                  \n",
      " dropout_5 (Dropout)            (None, 32, 32, 512)  0           ['concatenate_1[0][0]']          \n",
      "                                                                                                  \n",
      " conv2d_12 (Conv2D)             (None, 32, 32, 256)  1179904     ['dropout_5[0][0]']              \n",
      "                                                                                                  \n",
      " batch_normalization_12 (BatchN  (None, 32, 32, 256)  1024       ['conv2d_12[0][0]']              \n",
      " ormalization)                                                                                    \n",
      "                                                                                                  \n",
      " activation_12 (Activation)     (None, 32, 32, 256)  0           ['batch_normalization_12[0][0]'] \n",
      "                                                                                                  \n",
      " conv2d_13 (Conv2D)             (None, 32, 32, 256)  590080      ['activation_12[0][0]']          \n",
      "                                                                                                  \n",
      " batch_normalization_13 (BatchN  (None, 32, 32, 256)  1024       ['conv2d_13[0][0]']              \n",
      " ormalization)                                                                                    \n",
      "                                                                                                  \n",
      " activation_13 (Activation)     (None, 32, 32, 256)  0           ['batch_normalization_13[0][0]'] \n",
      "                                                                                                  \n",
      " conv2d_transpose_2 (Conv2DTran  (None, 64, 64, 128)  295040     ['activation_13[0][0]']          \n",
      " spose)                                                                                           \n",
      "                                                                                                  \n",
      " concatenate_2 (Concatenate)    (None, 64, 64, 256)  0           ['conv2d_transpose_2[0][0]',     \n",
      "                                                                  'activation_3[0][0]']           \n",
      "                                                                                                  \n",
      " dropout_6 (Dropout)            (None, 64, 64, 256)  0           ['concatenate_2[0][0]']          \n",
      "                                                                                                  \n",
      " conv2d_14 (Conv2D)             (None, 64, 64, 128)  295040      ['dropout_6[0][0]']              \n",
      "                                                                                                  \n",
      " batch_normalization_14 (BatchN  (None, 64, 64, 128)  512        ['conv2d_14[0][0]']              \n",
      " ormalization)                                                                                    \n",
      "                                                                                                  \n",
      " activation_14 (Activation)     (None, 64, 64, 128)  0           ['batch_normalization_14[0][0]'] \n",
      "                                                                                                  \n",
      " conv2d_15 (Conv2D)             (None, 64, 64, 128)  147584      ['activation_14[0][0]']          \n",
      "                                                                                                  \n",
      " batch_normalization_15 (BatchN  (None, 64, 64, 128)  512        ['conv2d_15[0][0]']              \n",
      " ormalization)                                                                                    \n",
      "                                                                                                  \n",
      " activation_15 (Activation)     (None, 64, 64, 128)  0           ['batch_normalization_15[0][0]'] \n",
      "                                                                                                  \n",
      " conv2d_transpose_3 (Conv2DTran  (None, 128, 128, 64  73792      ['activation_15[0][0]']          \n",
      " spose)                         )                                                                 \n",
      "                                                                                                  \n",
      " concatenate_3 (Concatenate)    (None, 128, 128, 12  0           ['conv2d_transpose_3[0][0]',     \n",
      "                                8)                                'activation_1[0][0]']           \n",
      "                                                                                                  \n",
      " dropout_7 (Dropout)            (None, 128, 128, 12  0           ['concatenate_3[0][0]']          \n",
      "                                8)                                                                \n",
      "                                                                                                  \n",
      " conv2d_16 (Conv2D)             (None, 128, 128, 64  73792       ['dropout_7[0][0]']              \n",
      "                                )                                                                 \n",
      "                                                                                                  \n",
      " batch_normalization_16 (BatchN  (None, 128, 128, 64  256        ['conv2d_16[0][0]']              \n",
      " ormalization)                  )                                                                 \n",
      "                                                                                                  \n",
      " activation_16 (Activation)     (None, 128, 128, 64  0           ['batch_normalization_16[0][0]'] \n",
      "                                )                                                                 \n",
      "                                                                                                  \n",
      " conv2d_17 (Conv2D)             (None, 128, 128, 64  36928       ['activation_16[0][0]']          \n",
      "                                )                                                                 \n",
      "                                                                                                  \n",
      " batch_normalization_17 (BatchN  (None, 128, 128, 64  256        ['conv2d_17[0][0]']              \n",
      " ormalization)                  )                                                                 \n",
      "                                                                                                  \n",
      " activation_17 (Activation)     (None, 128, 128, 64  0           ['batch_normalization_17[0][0]'] \n",
      "                                )                                                                 \n",
      "                                                                                                  \n",
      " conv2d_18 (Conv2D)             (None, 128, 128, 2)  130         ['activation_17[0][0]']          \n",
      "                                                                                                  \n",
      "==================================================================================================\n",
      "Total params: 34,535,810\n",
      "Trainable params: 34,524,034\n",
      "Non-trainable params: 11,776\n",
      "__________________________________________________________________________________________________\n",
      "Epoch 1/10\n"
     ]
    },
    {
     "name": "stderr",
     "output_type": "stream",
     "text": [
      "2022-02-10 15:00:36.617213: I tensorflow/stream_executor/cuda/cuda_dnn.cc:366] Loaded cuDNN version 8201\n",
      "2022-02-10 15:00:41.371909: I tensorflow/core/platform/default/subprocess.cc:304] Start cannot spawn child process: No such file or directory\n"
     ]
    },
    {
     "name": "stdout",
     "output_type": "stream",
     "text": [
      "41/41 [==============================] - ETA: 0s - loss: 0.2448 - accuracy: 0.9550 - dice_loss: 0.1975 - recall_1: 0.9190 - pre_1: 0.9581\n",
      "Epoch 00001: val_loss improved from inf to 7.80206, saving model to model-TV-UNet1.h5\n",
      "41/41 [==============================] - 60s 821ms/step - loss: 0.2448 - accuracy: 0.9550 - dice_loss: 0.1975 - recall_1: 0.9190 - pre_1: 0.9581 - val_loss: 7.8021 - val_accuracy: 0.8156 - val_dice_loss: 0.3776 - val_recall_1: 0.8434 - val_pre_1: 0.4932 - lr: 0.0010\n",
      "Epoch 2/10\n",
      "41/41 [==============================] - ETA: 0s - loss: 0.1172 - accuracy: 0.9700 - dice_loss: 0.0886 - recall_1: 0.9690 - pre_1: 0.9706\n",
      "Epoch 00002: val_loss improved from 7.80206 to 1.96404, saving model to model-TV-UNet1.h5\n",
      "41/41 [==============================] - 22s 537ms/step - loss: 0.1172 - accuracy: 0.9700 - dice_loss: 0.0886 - recall_1: 0.9690 - pre_1: 0.9706 - val_loss: 1.9640 - val_accuracy: 0.9592 - val_dice_loss: 0.1427 - val_recall_1: 0.7721 - val_pre_1: 0.9597 - lr: 0.0010\n",
      "Epoch 3/10\n",
      "41/41 [==============================] - ETA: 0s - loss: 0.0837 - accuracy: 0.9776 - dice_loss: 0.0597 - recall_1: 0.9778 - pre_1: 0.9775\n",
      "Epoch 00003: val_loss improved from 1.96404 to 0.38541, saving model to model-TV-UNet1.h5\n",
      "41/41 [==============================] - 22s 536ms/step - loss: 0.0837 - accuracy: 0.9776 - dice_loss: 0.0597 - recall_1: 0.9778 - pre_1: 0.9775 - val_loss: 0.3854 - val_accuracy: 0.9596 - val_dice_loss: 0.0694 - val_recall_1: 0.9392 - val_pre_1: 0.9594 - lr: 0.0010\n",
      "Epoch 4/10\n",
      "41/41 [==============================] - ETA: 0s - loss: 0.0691 - accuracy: 0.9800 - dice_loss: 0.0464 - recall_1: 0.9800 - pre_1: 0.9800\n",
      "Epoch 00004: val_loss did not improve from 0.38541\n",
      "41/41 [==============================] - 22s 530ms/step - loss: 0.0691 - accuracy: 0.9800 - dice_loss: 0.0464 - recall_1: 0.9800 - pre_1: 0.9800 - val_loss: 3.6917 - val_accuracy: 0.6049 - val_dice_loss: 0.4021 - val_recall_1: 0.6067 - val_pre_1: 0.6053 - lr: 0.0010\n",
      "Epoch 5/10\n",
      "41/41 [==============================] - ETA: 0s - loss: 0.0564 - accuracy: 0.9830 - dice_loss: 0.0368 - recall_1: 0.9831 - pre_1: 0.9829\n",
      "Epoch 00005: val_loss improved from 0.38541 to 0.11255, saving model to model-TV-UNet1.h5\n",
      "41/41 [==============================] - 22s 544ms/step - loss: 0.0564 - accuracy: 0.9830 - dice_loss: 0.0368 - recall_1: 0.9831 - pre_1: 0.9829 - val_loss: 0.1126 - val_accuracy: 0.9624 - val_dice_loss: 0.0679 - val_recall_1: 0.9621 - val_pre_1: 0.9622 - lr: 0.0010\n",
      "Epoch 6/10\n",
      "41/41 [==============================] - ETA: 0s - loss: 0.0478 - accuracy: 0.9852 - dice_loss: 0.0311 - recall_1: 0.9850 - pre_1: 0.9853\n",
      "Epoch 00006: val_loss improved from 0.11255 to 0.06491, saving model to model-TV-UNet1.h5\n",
      "41/41 [==============================] - 22s 549ms/step - loss: 0.0478 - accuracy: 0.9852 - dice_loss: 0.0311 - recall_1: 0.9850 - pre_1: 0.9853 - val_loss: 0.0649 - val_accuracy: 0.9812 - val_dice_loss: 0.0304 - val_recall_1: 0.9809 - val_pre_1: 0.9815 - lr: 0.0010\n",
      "Epoch 7/10\n",
      "41/41 [==============================] - ETA: 0s - loss: 0.0435 - accuracy: 0.9859 - dice_loss: 0.0277 - recall_1: 0.9859 - pre_1: 0.9859\n",
      "Epoch 00007: val_loss improved from 0.06491 to 0.05147, saving model to model-TV-UNet1.h5\n",
      "41/41 [==============================] - 22s 550ms/step - loss: 0.0435 - accuracy: 0.9859 - dice_loss: 0.0277 - recall_1: 0.9859 - pre_1: 0.9859 - val_loss: 0.0515 - val_accuracy: 0.9811 - val_dice_loss: 0.0289 - val_recall_1: 0.9803 - val_pre_1: 0.9818 - lr: 0.0010\n",
      "Epoch 8/10\n",
      "41/41 [==============================] - ETA: 0s - loss: 0.0399 - accuracy: 0.9866 - dice_loss: 0.0246 - recall_1: 0.9867 - pre_1: 0.9866\n",
      "Epoch 00008: val_loss did not improve from 0.05147\n",
      "41/41 [==============================] - 22s 540ms/step - loss: 0.0399 - accuracy: 0.9866 - dice_loss: 0.0246 - recall_1: 0.9867 - pre_1: 0.9866 - val_loss: 0.0546 - val_accuracy: 0.9777 - val_dice_loss: 0.0314 - val_recall_1: 0.9767 - val_pre_1: 0.9787 - lr: 0.0010\n",
      "Epoch 9/10\n",
      "41/41 [==============================] - ETA: 0s - loss: 0.0390 - accuracy: 0.9868 - dice_loss: 0.0241 - recall_1: 0.9867 - pre_1: 0.9868\n",
      "Epoch 00009: val_loss improved from 0.05147 to 0.03307, saving model to model-TV-UNet1.h5\n",
      "41/41 [==============================] - 23s 558ms/step - loss: 0.0390 - accuracy: 0.9868 - dice_loss: 0.0241 - recall_1: 0.9867 - pre_1: 0.9868 - val_loss: 0.0331 - val_accuracy: 0.9887 - val_dice_loss: 0.0176 - val_recall_1: 0.9884 - val_pre_1: 0.9889 - lr: 0.0010\n",
      "Epoch 10/10\n",
      "41/41 [==============================] - ETA: 0s - loss: 0.0356 - accuracy: 0.9878 - dice_loss: 0.0212 - recall_1: 0.9877 - pre_1: 0.9878\n",
      "Epoch 00010: val_loss improved from 0.03307 to 0.03196, saving model to model-TV-UNet1.h5\n",
      "41/41 [==============================] - 23s 556ms/step - loss: 0.0356 - accuracy: 0.9878 - dice_loss: 0.0212 - recall_1: 0.9877 - pre_1: 0.9878 - val_loss: 0.0320 - val_accuracy: 0.9884 - val_dice_loss: 0.0189 - val_recall_1: 0.9884 - val_pre_1: 0.9883 - lr: 0.0010\n",
      "No. of Images =  48\n"
     ]
    },
    {
     "name": "stderr",
     "output_type": "stream",
     "text": [
      "100%|██████████| 48/48 [00:02<00:00, 23.80it/s]\n"
     ]
    },
    {
     "data": {
      "text/plain": [
       "'#########################################################################'"
      ]
     },
     "execution_count": 3,
     "metadata": {},
     "output_type": "execute_result"
    }
   ],
   "source": [
    "'''#########################################################################'''\n",
    "############ Applying TV_UNET Model\n",
    "\n",
    "input_img = Input((im_height, im_width,1), name='img')\n",
    "\n",
    "model = get_unet(input_img, n_filters=64, dropout=0.2, batchnorm=True)\n",
    "\n",
    "model.compile(optimizer=Adam(learning_rate=0.001) , loss = [my_loss], metrics=['accuracy',dice_loss,Recall(name='recall_1'),\n",
    "                                                            Precision(name='pre_1')])\n",
    "model.summary()\n",
    "\n",
    "'''#########################################################################'''\n",
    "############ Split train and validation\n",
    "X_train, X_valid, y_train, y_valid = train_test_split(train, mask, test_size=0.1, random_state=42)\n",
    "\n",
    "callbacks = [\n",
    "    EarlyStopping(patience=50, verbose=1),\n",
    "    ReduceLROnPlateau(factor=0.1, patience=5, min_lr=0.00001, verbose=1),\n",
    "    ModelCheckpoint('model-TV-UNet1.h5', verbose=1, save_best_only=True, save_weights_only=True)\n",
    "]\n",
    "\n",
    "results = model.fit(X_train, y_train, batch_size=32, epochs=10, callbacks=callbacks,\\\n",
    "                    validation_data=(X_valid, y_valid))\n",
    "\n",
    "'''#########################################################################'''\n",
    "'''Test'''\n",
    "#loading Masks & image-test then save & labeling loop\n",
    "ids3 = next(os.walk(path + 'LungInfection-test/Imgs/'))[2]\n",
    "\n",
    "y = np.zeros((len(ids3), im_width, im_height,1), dtype=np.float32)\n",
    "\n",
    "label_test = np.zeros((len(ids3), im_height, im_width,num_class), dtype=np.float32)\n",
    "\n",
    "print(\"No. of Images = \", len(ids3))\n",
    "\n",
    "sys.stdout.flush()\n",
    "\n",
    "for n, id_ in tqdm(enumerate(ids3), total=len(ids3)): \n",
    "            img = imread(path+'LungInfection-test/Imgs/'+id_)\n",
    "            x_img = img_to_array(img)\n",
    "            x_img = resize(x_img, (im_width, im_height, 1), mode = 'constant', preserve_range = True)\n",
    "            y[n,:,:] =  x_img\n",
    "\n",
    "\n",
    "            mask_ID, ext = os.path.splitext(path+'LungInfection-test/GT/'+id_)\n",
    "            msk= imread(mask_ID+'.png')\n",
    "            msk = resize(msk, (im_width, im_height), mode = 'constant',preserve_range = True)\n",
    "            msk=np.round(msk/255)\n",
    "            \n",
    "            for i in range(0, num_class):\n",
    "              label_test[n,:,:,i] = np.where(msk ==i,1,0)\n",
    "'''#########################################################################'''           \n"
   ]
  },
  {
   "cell_type": "code",
   "execution_count": 4,
   "id": "a21450fe-57bf-4415-9194-fe6ad29e649a",
   "metadata": {},
   "outputs": [
    {
     "name": "stdout",
     "output_type": "stream",
     "text": [
      "2/2 [==============================] - 3s 2s/step\n",
      "Sensitivity_TV_unet= [0.8589769  0.81379455 0.7777733  0.7429033  0.7068741  0.66592056\n",
      " 0.6161656  0.54976696 0.42766583]\n",
      "Specificity_TV_unet= 0.9248947967683745 \n",
      "\n",
      "Specificity_TV_unet= 0.944408238437473 \n",
      "\n",
      "Specificity_TV_unet= 0.9555764895159669 \n",
      "\n",
      "Specificity_TV_unet= 0.9638506121671336 \n",
      "\n",
      "Specificity_TV_unet= 0.9705551918153927 \n",
      "\n",
      "Specificity_TV_unet= 0.976500705387101 \n",
      "\n",
      "Specificity_TV_unet= 0.9819245500416579 \n",
      "\n",
      "Specificity_TV_unet= 0.9873846847078427 \n",
      "\n",
      "Specificity_TV_unet= 0.9933831212131751 \n",
      "\n",
      "0.7614903530995872\n",
      "0.772212487388966\n",
      "0.7728922888714124\n",
      "0.7682489294512508\n",
      "0.7590421947628878\n",
      "0.7439804229779937\n",
      "0.7199346176298891\n",
      "0.6802104763411932\n",
      "0.584783048309258\n",
      "DSC_TV_unet= None\n"
     ]
    },
    {
     "data": {
      "text/plain": [
       "'#########################################################################'"
      ]
     },
     "execution_count": 4,
     "metadata": {},
     "output_type": "execute_result"
    }
   ],
   "source": [
    "########## load the best model\n",
    "\n",
    "\n",
    "model.load_weights('model-TV-UNet1.h5')\n",
    "\n",
    "preds_test1 = model.predict(y, verbose=1)\n",
    "\n",
    "'''#########################################################################'''\n",
    "############ calculate  recall or Sensitivity\n",
    "tre=np.arange(0.1,1,0.1).tolist()\n",
    "\n",
    "y_test_f=K.flatten(label_test[:,:,:,1])\n",
    "\n",
    "preds_test_f=K.flatten(preds_test1[:,:,:,1])\n",
    "\n",
    "m = tf.keras.metrics.Recall(thresholds=tre)\n",
    "\n",
    "m.update_state(y_test_f, preds_test_f)\n",
    "\n",
    "Recal_TV_unet=m.result().numpy()\n",
    "\n",
    "print('Sensitivity_TV_unet=',Recal_TV_unet)\n",
    "\n",
    "'''#########################################################################'''\n",
    "############ calculate  Specificity\n",
    "from sklearn.metrics import confusion_matrix\n",
    "\n",
    "for i in tre:\n",
    "  y_test_f=K.flatten(label_test[:,:,:,1]>i)\n",
    "  preds_test_f=K.flatten(preds_test1[:,:,:,1]>i)\n",
    "\n",
    "  tn, fp, fn, tp=confusion_matrix(y_test_f.numpy(), preds_test_f.numpy()).ravel()\n",
    "  specificity = tn / (tn+fp)\n",
    "  \n",
    "  print('Specificity_TV_unet=', specificity,'\\n')\n",
    "\n",
    "'''#########################################################################'''\n",
    "#calculate  Dice Score\n",
    "def dice_coef(y_pred, y_true):\n",
    "  for tr in np.arange(0.1,1,.1):\n",
    "    y_pred_t = (y_pred[:,:,:,1] > tr).astype(np.uint8)\n",
    "    y_true_f = np.array(y_true[:,:,:,1])\n",
    "    y_pred_f = np.array(y_pred_t)\n",
    "    intersection = np.sum(y_true_f * y_pred_f)\n",
    "    sum_ = np.sum(np.abs(y_true_f) + np.abs(y_pred_f))\n",
    "    print( 2*(intersection) /sum_ )\n",
    "\n",
    "dice=dice_coef(preds_test1,label_test)\n",
    "\n",
    "print('DSC_TV_unet=',dice)\n",
    "'''#########################################################################'''\n"
   ]
  },
  {
   "cell_type": "code",
   "execution_count": 6,
   "id": "cd223bc6-a66c-4b27-a45b-8e98260a1c01",
   "metadata": {},
   "outputs": [
    {
     "name": "stdout",
     "output_type": "stream",
     "text": [
      "2/2 [==============================] - 0s 185ms/step\n",
      "2/2 [==============================] - 0s 140ms/step\n",
      "[20 34 28 41 12]\n"
     ]
    },
    {
     "data": {
      "image/png": "[encoded data removed]",
      "text/plain": [
       "<Figure size 3600x3600 with 20 Axes>"
      ]
     },
     "metadata": {},
     "output_type": "display_data"
    }
   ],
   "source": [
    "#loaded_model.load_weights(\"model-TV-UNet2.h5\")\n",
    "\n",
    "preds_test1 = model.predict(y, verbose=1)\n",
    "preds_test_t1 = (preds_test1 > 0.1).astype(np.uint8)\n",
    "\n",
    "#model.load_weights('weight-TV-UNet.h5')\n",
    "preds_test2 = model.predict(y, verbose=1)\n",
    "preds_test_t2 = (preds_test2 > 0.3).astype(np.uint8)\n",
    "\n",
    "no_pred = 5\n",
    "rand_indx = np.random.randint(1, y.shape[0], no_pred)\n",
    "print(rand_indx)\n",
    "\n",
    "def plot_sample(X, y, binary_preds1, binary_preds2):\n",
    "    fig, axs = plt.subplots(5, 4, figsize=(50, 50),sharex='all')\n",
    "    i = 0\n",
    "\n",
    "    for ix in rand_indx:\n",
    "      l = 1\n",
    "\n",
    "      axs[i,0].imshow(X[ix, ..., 0], cmap='gray')\n",
    "      axs[0,0].set_title('Original CT Images',fontweight=\"bold\", size=40)\n",
    "\n",
    "      axs[i,1].imshow(y[ix,:,:,l].squeeze(),cmap='gray')\n",
    "      axs[0,1].set_title('Ground-Truth Mask',fontweight=\"bold\", size=40)\n",
    "\n",
    "      axs[i,2].imshow(binary_preds1[ix,:,:,l].squeeze(),cmap='gray', vmin=0, vmax=1)\n",
    "      axs[0,2].set_title('Predicted Mask \\n with BCE loss',fontweight=\"bold\", size=40)\n",
    "      \n",
    "      axs[i,3].imshow(binary_preds2[ix,:,:,l].squeeze(),cmap='gray', vmin=0, vmax=1)\n",
    "      axs[0,3].set_title('Predicted Masks \\n with BCE+TV Loss',fontweight=\"bold\", size=40);\n",
    "      \n",
    "      i += 1\n",
    "      \n",
    "      plt.rcParams[\"axes.grid\"] = False\n",
    "      plt.subplots_adjust(wspace=-0.5, hspace=0.1)\n",
    "    plt.savefig(\"true_pred_dataset2.png\")\n",
    "\n",
    "plot_sample(y, label_test, preds_test_t1, preds_test_t2)\n",
    "plt.rcParams[\"axes.grid\"] = False"
   ]
  },
  {
   "cell_type": "code",
   "execution_count": null,
   "id": "bcc7d09f-0ecd-45b8-8d25-7fda02bf1fb7",
   "metadata": {},
   "outputs": [],
   "source": []
  }
 ],
 "metadata": {
  "kernelspec": {
   "display_name": "Python 3 (ipykernel)",
   "language": "python",
   "name": "python3"
  },
  "language_info": {
   "codemirror_mode": {
    "name": "ipython",
    "version": 3
   },
   "file_extension": ".py",
   "mimetype": "text/x-python",
   "name": "python",
   "nbconvert_exporter": "python",
   "pygments_lexer": "ipython3",
   "version": "3.9.6"
  }
 },
 "nbformat": 4,
 "nbformat_minor": 5
}
