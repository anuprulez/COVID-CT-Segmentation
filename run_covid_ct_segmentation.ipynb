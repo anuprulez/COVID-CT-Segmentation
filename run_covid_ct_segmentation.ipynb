{
 "cells": [
  {
   "cell_type": "code",
   "execution_count": 9,
   "id": "bdd4a1fb-2462-42a3-ae90-0db104e4612b",
   "metadata": {},
   "outputs": [
    {
     "data": {
      "text/plain": [
       "('d8d3093807d14482f880347aa6dc8583', 'https://usegalaxy.eu')"
      ]
     },
     "execution_count": 9,
     "metadata": {},
     "output_type": "execute_result"
    }
   ],
   "source": [
    "import os\n",
    "API_KEY = os.environ.get('API_KEY', None)\n",
    "GALAXY_URL = os.environ.get('GALAXY_URL', None)\n",
    "API_KEY, GALAXY_URL"
   ]
  },
  {
   "cell_type": "code",
   "execution_count": 10,
   "id": "fdd4336b-2bd1-44df-a373-1ceae6b72882",
   "metadata": {},
   "outputs": [],
   "source": [
    "script_path = \"runnable_script_ct_segmentation.ipynb\""
   ]
  },
  {
   "cell_type": "code",
   "execution_count": 11,
   "id": "b7d0c86c-2a70-4078-b8d3-15dd1d070cbe",
   "metadata": {},
   "outputs": [
    {
     "name": "stdout",
     "output_type": "stream",
     "text": [
      "Data file uploaded\n",
      "Uploaded code\n"
     ]
    },
    {
     "ename": "ConnectionError",
     "evalue": "Unexpected HTTP status code: 400: {\"err_msg\": \"Tool not found.\", \"err_code\": 400014}",
     "output_type": "error",
     "traceback": [
      "\u001b[0;31m---------------------------------------------------------------------------\u001b[0m",
      "\u001b[0;31mConnectionError\u001b[0m                           Traceback (most recent call last)",
      "\u001b[0;32m/data/jwd/main/040/914/40914875/tmp/ipykernel_18839/1698586687.py\u001b[0m in \u001b[0;36m<module>\u001b[0;34m\u001b[0m\n\u001b[1;32m      1\u001b[0m \u001b[0mdata_list\u001b[0m \u001b[0;34m=\u001b[0m \u001b[0;34m[\u001b[0m\u001b[0;34m\"h5_datasets/combined_CT_datasets.h5\"\u001b[0m\u001b[0;34m]\u001b[0m\u001b[0;34m\u001b[0m\u001b[0;34m\u001b[0m\u001b[0m\n\u001b[0;32m----> 2\u001b[0;31m \u001b[0mtool_output\u001b[0m \u001b[0;34m=\u001b[0m \u001b[0mrun_script_job\u001b[0m\u001b[0;34m(\u001b[0m\u001b[0mscript_path\u001b[0m\u001b[0;34m,\u001b[0m \u001b[0mdata_dict\u001b[0m\u001b[0;34m=\u001b[0m\u001b[0mdata_list\u001b[0m\u001b[0;34m,\u001b[0m \u001b[0mserver\u001b[0m\u001b[0;34m=\u001b[0m\u001b[0mGALAXY_URL\u001b[0m\u001b[0;34m,\u001b[0m \u001b[0mkey\u001b[0m\u001b[0;34m=\u001b[0m\u001b[0mAPI_KEY\u001b[0m\u001b[0;34m,\u001b[0m \u001b[0mnew_history_name\u001b[0m\u001b[0;34m=\u001b[0m\u001b[0;34m\"CT_segmentation\"\u001b[0m\u001b[0;34m)\u001b[0m\u001b[0;34m\u001b[0m\u001b[0;34m\u001b[0m\u001b[0m\n\u001b[0m",
      "\u001b[0;32m~/.ipython/profile_default/startup/00-load.py\u001b[0m in \u001b[0;36mrun_script_job\u001b[0;34m(script_path, data_dict, server, key, new_history_name, tool_name)\u001b[0m\n\u001b[1;32m     90\u001b[0m \u001b[0;34m\u001b[0m\u001b[0m\n\u001b[1;32m     91\u001b[0m     \u001b[0;31m# run script\u001b[0m\u001b[0;34m\u001b[0m\u001b[0;34m\u001b[0m\u001b[0;34m\u001b[0m\u001b[0m\n\u001b[0;32m---> 92\u001b[0;31m     \u001b[0mcode_execute_job\u001b[0m \u001b[0;34m=\u001b[0m \u001b[0mgi\u001b[0m\u001b[0;34m.\u001b[0m\u001b[0mtools\u001b[0m\u001b[0;34m.\u001b[0m\u001b[0mrun_tool\u001b[0m\u001b[0;34m(\u001b[0m\u001b[0mhist_id\u001b[0m\u001b[0;34m,\u001b[0m \u001b[0mtool_name\u001b[0m\u001b[0;34m,\u001b[0m \u001b[0mcode_exe_inputs\u001b[0m\u001b[0;34m)\u001b[0m\u001b[0;34m\u001b[0m\u001b[0;34m\u001b[0m\u001b[0m\n\u001b[0m\u001b[1;32m     93\u001b[0m     \u001b[0mcode_execute_id\u001b[0m \u001b[0;34m=\u001b[0m \u001b[0mcode_execute_job\u001b[0m\u001b[0;34m[\u001b[0m\u001b[0;34m\"jobs\"\u001b[0m\u001b[0;34m]\u001b[0m\u001b[0;34m[\u001b[0m\u001b[0;36m0\u001b[0m\u001b[0;34m]\u001b[0m\u001b[0;34m[\u001b[0m\u001b[0;34m\"id\"\u001b[0m\u001b[0;34m]\u001b[0m\u001b[0;34m\u001b[0m\u001b[0;34m\u001b[0m\u001b[0m\n\u001b[1;32m     94\u001b[0m     \u001b[0mcode_execute_status\u001b[0m \u001b[0;34m=\u001b[0m \u001b[0mjob_client\u001b[0m\u001b[0;34m.\u001b[0m\u001b[0mget_state\u001b[0m\u001b[0;34m(\u001b[0m\u001b[0mcode_execute_id\u001b[0m\u001b[0;34m)\u001b[0m\u001b[0;34m\u001b[0m\u001b[0;34m\u001b[0m\u001b[0m\n",
      "\u001b[0;32m/opt/conda/lib/python3.9/site-packages/bioblend/galaxy/tools/__init__.py\u001b[0m in \u001b[0;36mrun_tool\u001b[0;34m(self, history_id, tool_id, tool_inputs, input_format)\u001b[0m\n\u001b[1;32m    248\u001b[0m         \u001b[0;32mexcept\u001b[0m \u001b[0mAttributeError\u001b[0m\u001b[0;34m:\u001b[0m\u001b[0;34m\u001b[0m\u001b[0;34m\u001b[0m\u001b[0m\n\u001b[1;32m    249\u001b[0m             \u001b[0mpayload\u001b[0m\u001b[0;34m[\u001b[0m\u001b[0;34m\"inputs\"\u001b[0m\u001b[0;34m]\u001b[0m \u001b[0;34m=\u001b[0m \u001b[0mtool_inputs\u001b[0m\u001b[0;34m\u001b[0m\u001b[0;34m\u001b[0m\u001b[0m\n\u001b[0;32m--> 250\u001b[0;31m         \u001b[0;32mreturn\u001b[0m \u001b[0mself\u001b[0m\u001b[0;34m.\u001b[0m\u001b[0m_post\u001b[0m\u001b[0;34m(\u001b[0m\u001b[0mpayload\u001b[0m\u001b[0;34m)\u001b[0m\u001b[0;34m\u001b[0m\u001b[0;34m\u001b[0m\u001b[0m\n\u001b[0m\u001b[1;32m    251\u001b[0m \u001b[0;34m\u001b[0m\u001b[0m\n\u001b[1;32m    252\u001b[0m     \u001b[0;32mdef\u001b[0m \u001b[0mupload_file\u001b[0m\u001b[0;34m(\u001b[0m\u001b[0mself\u001b[0m\u001b[0;34m,\u001b[0m \u001b[0mpath\u001b[0m\u001b[0;34m,\u001b[0m \u001b[0mhistory_id\u001b[0m\u001b[0;34m,\u001b[0m \u001b[0;34m**\u001b[0m\u001b[0mkeywords\u001b[0m\u001b[0;34m)\u001b[0m\u001b[0;34m:\u001b[0m\u001b[0;34m\u001b[0m\u001b[0;34m\u001b[0m\u001b[0m\n",
      "\u001b[0;32m/opt/conda/lib/python3.9/site-packages/bioblend/galaxy/client.py\u001b[0m in \u001b[0;36m_post\u001b[0;34m(self, payload, id, deleted, contents, url, files_attached)\u001b[0m\n\u001b[1;32m    174\u001b[0m         \u001b[0;32mif\u001b[0m \u001b[0;32mnot\u001b[0m \u001b[0murl\u001b[0m\u001b[0;34m:\u001b[0m\u001b[0;34m\u001b[0m\u001b[0;34m\u001b[0m\u001b[0m\n\u001b[1;32m    175\u001b[0m             \u001b[0murl\u001b[0m \u001b[0;34m=\u001b[0m \u001b[0mself\u001b[0m\u001b[0;34m.\u001b[0m\u001b[0m_make_url\u001b[0m\u001b[0;34m(\u001b[0m\u001b[0mmodule_id\u001b[0m\u001b[0;34m=\u001b[0m\u001b[0mid\u001b[0m\u001b[0;34m,\u001b[0m \u001b[0mdeleted\u001b[0m\u001b[0;34m=\u001b[0m\u001b[0mdeleted\u001b[0m\u001b[0;34m,\u001b[0m \u001b[0mcontents\u001b[0m\u001b[0;34m=\u001b[0m\u001b[0mcontents\u001b[0m\u001b[0;34m)\u001b[0m\u001b[0;34m\u001b[0m\u001b[0;34m\u001b[0m\u001b[0m\n\u001b[0;32m--> 176\u001b[0;31m         return self.gi.make_post_request(url, payload=payload,\n\u001b[0m\u001b[1;32m    177\u001b[0m                                          files_attached=files_attached)\n\u001b[1;32m    178\u001b[0m \u001b[0;34m\u001b[0m\u001b[0m\n",
      "\u001b[0;32m/opt/conda/lib/python3.9/site-packages/bioblend/galaxyclient.py\u001b[0m in \u001b[0;36mmake_post_request\u001b[0;34m(self, url, payload, params, files_attached)\u001b[0m\n\u001b[1;32m    151\u001b[0m                 )\n\u001b[1;32m    152\u001b[0m         \u001b[0;31m# @see self.body for HTTP response body\u001b[0m\u001b[0;34m\u001b[0m\u001b[0;34m\u001b[0m\u001b[0;34m\u001b[0m\u001b[0m\n\u001b[0;32m--> 153\u001b[0;31m         raise ConnectionError(\n\u001b[0m\u001b[1;32m    154\u001b[0m             \u001b[0;34mf\"Unexpected HTTP status code: {r.status_code}\"\u001b[0m\u001b[0;34m,\u001b[0m\u001b[0;34m\u001b[0m\u001b[0;34m\u001b[0m\u001b[0m\n\u001b[1;32m    155\u001b[0m             \u001b[0mbody\u001b[0m\u001b[0;34m=\u001b[0m\u001b[0mr\u001b[0m\u001b[0;34m.\u001b[0m\u001b[0mtext\u001b[0m\u001b[0;34m,\u001b[0m\u001b[0;34m\u001b[0m\u001b[0;34m\u001b[0m\u001b[0m\n",
      "\u001b[0;31mConnectionError\u001b[0m: Unexpected HTTP status code: 400: {\"err_msg\": \"Tool not found.\", \"err_code\": 400014}"
     ]
    }
   ],
   "source": [
    "data_list = [\"h5_datasets/combined_CT_datasets.h5\"]\n",
    "tool_output = run_script_job(script_path, data_dict=data_list, server=GALAXY_URL, key=API_KEY, new_history_name=\"CT_segmentation\")"
   ]
  },
  {
   "cell_type": "code",
   "execution_count": null,
   "id": "957e10f4-bfb8-49dc-a5c4-22fe0defa424",
   "metadata": {},
   "outputs": [],
   "source": []
  }
 ],
 "metadata": {
  "kernelspec": {
   "display_name": "Python 3 (ipykernel)",
   "language": "python",
   "name": "python3"
  },
  "language_info": {
   "codemirror_mode": {
    "name": "ipython",
    "version": 3
   },
   "file_extension": ".py",
   "mimetype": "text/x-python",
   "name": "python",
   "nbconvert_exporter": "python",
   "pygments_lexer": "ipython3",
   "version": "3.9.6"
  }
 },
 "nbformat": 4,
 "nbformat_minor": 5
}
