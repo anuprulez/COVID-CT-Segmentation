{
 "cells": [
  {
   "cell_type": "code",
   "execution_count": 1,
   "id": "fdd4336b-2bd1-44df-a373-1ceae6b72882",
   "metadata": {},
   "outputs": [
    {
     "data": {
      "text/plain": [
       "<function __main__.run_script_job(script_path, data_dict=[], server=None, key=None, new_history_name='ml_analysis', tool_name='run_jupyter_job')>"
      ]
     },
     "execution_count": 1,
     "metadata": {},
     "output_type": "execute_result"
    }
   ],
   "source": [
    "script_path = \"runnable_script_ct_segmentation.ipynb\"\n",
    "\n",
    "run_script_job"
   ]
  },
  {
   "cell_type": "code",
   "execution_count": null,
   "id": "b7d0c86c-2a70-4078-b8d3-15dd1d070cbe",
   "metadata": {},
   "outputs": [],
   "source": []
  }
 ],
 "metadata": {
  "kernelspec": {
   "display_name": "Python 3 (ipykernel)",
   "language": "python",
   "name": "python3"
  },
  "language_info": {
   "codemirror_mode": {
    "name": "ipython",
    "version": 3
   },
   "file_extension": ".py",
   "mimetype": "text/x-python",
   "name": "python",
   "nbconvert_exporter": "python",
   "pygments_lexer": "ipython3",
   "version": "3.9.6"
  }
 },
 "nbformat": 4,
 "nbformat_minor": 5
}
